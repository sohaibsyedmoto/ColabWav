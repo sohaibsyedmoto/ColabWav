{
  "nbformat": 4,
  "nbformat_minor": 0,
  "metadata": {
    "accelerator": "GPU",
    "colab": {
      "name": "Sohaib Syed Copy of Fine-Tune XLS-R on Common Voice.ipynb",
      "provenance": [],
      "collapsed_sections": [],
      "machine_shape": "hm",
      "include_colab_link": true
    },
    "kernelspec": {
      "display_name": "Python 3",
      "name": "python3"
    },
    "widgets": {
      "application/vnd.jupyter.widget-state+json": {
        "ad630a71d60749d3941cd7a31f76e38a": {
          "model_module": "@jupyter-widgets/controls",
          "model_name": "VBoxModel",
          "model_module_version": "1.5.0",
          "state": {
            "_dom_classes": [],
            "_model_module": "@jupyter-widgets/controls",
            "_model_module_version": "1.5.0",
            "_model_name": "VBoxModel",
            "_view_count": null,
            "_view_module": "@jupyter-widgets/controls",
            "_view_module_version": "1.5.0",
            "_view_name": "VBoxView",
            "box_style": "",
            "children": [
              "IPY_MODEL_de3133297cba4495a3380c86177419c3",
              "IPY_MODEL_9462b6e1167540e1afc8fb16ed99e80e",
              "IPY_MODEL_77657a74e7784237aff9786cb767d5d2",
              "IPY_MODEL_cec77a7c30ef44658d998592385fea8e",
              "IPY_MODEL_acdc4e6b77a94522a0778dd54ac43c51"
            ],
            "layout": "IPY_MODEL_eee0740d97544ff6be798e6bcfc1c57f"
          }
        },
        "de3133297cba4495a3380c86177419c3": {
          "model_module": "@jupyter-widgets/controls",
          "model_name": "HTMLModel",
          "model_module_version": "1.5.0",
          "state": {
            "_dom_classes": [],
            "_model_module": "@jupyter-widgets/controls",
            "_model_module_version": "1.5.0",
            "_model_name": "HTMLModel",
            "_view_count": null,
            "_view_module": "@jupyter-widgets/controls",
            "_view_module_version": "1.5.0",
            "_view_name": "HTMLView",
            "description": "",
            "description_tooltip": null,
            "layout": "IPY_MODEL_b799c3e8b25e44afb46f7d6ff16a2e13",
            "placeholder": "​",
            "style": "IPY_MODEL_afb42add48a84cb8a188ee34d308b00d",
            "value": "<center> <img\nsrc=https://huggingface.co/front/assets/huggingface_logo-noborder.svg\nalt='Hugging Face'> <br> Copy a token from <a\nhref=\"https://huggingface.co/settings/tokens\" target=\"_blank\">your Hugging Face\ntokens page</a> and paste it below. <br> Immediately click login after copying\nyour token or it might be stored in plain text in this notebook file. </center>"
          }
        },
        "9462b6e1167540e1afc8fb16ed99e80e": {
          "model_module": "@jupyter-widgets/controls",
          "model_name": "PasswordModel",
          "model_module_version": "1.5.0",
          "state": {
            "_dom_classes": [],
            "_model_module": "@jupyter-widgets/controls",
            "_model_module_version": "1.5.0",
            "_model_name": "PasswordModel",
            "_view_count": null,
            "_view_module": "@jupyter-widgets/controls",
            "_view_module_version": "1.5.0",
            "_view_name": "PasswordView",
            "continuous_update": true,
            "description": "Token:",
            "description_tooltip": null,
            "disabled": false,
            "layout": "IPY_MODEL_f19347eb5f0a46da81e6de0311fc5c54",
            "placeholder": "​",
            "style": "IPY_MODEL_d8782e67efbc4b878f4533b73f4d391d",
            "value": ""
          }
        },
        "77657a74e7784237aff9786cb767d5d2": {
          "model_module": "@jupyter-widgets/controls",
          "model_name": "ButtonModel",
          "model_module_version": "1.5.0",
          "state": {
            "_dom_classes": [],
            "_model_module": "@jupyter-widgets/controls",
            "_model_module_version": "1.5.0",
            "_model_name": "ButtonModel",
            "_view_count": null,
            "_view_module": "@jupyter-widgets/controls",
            "_view_module_version": "1.5.0",
            "_view_name": "ButtonView",
            "button_style": "",
            "description": "Login",
            "disabled": false,
            "icon": "",
            "layout": "IPY_MODEL_693bab2426504372bfe61d85636e7669",
            "style": "IPY_MODEL_92e4465c9d634eb4813aa00f8164f082",
            "tooltip": ""
          }
        },
        "cec77a7c30ef44658d998592385fea8e": {
          "model_module": "@jupyter-widgets/controls",
          "model_name": "HTMLModel",
          "model_module_version": "1.5.0",
          "state": {
            "_dom_classes": [],
            "_model_module": "@jupyter-widgets/controls",
            "_model_module_version": "1.5.0",
            "_model_name": "HTMLModel",
            "_view_count": null,
            "_view_module": "@jupyter-widgets/controls",
            "_view_module_version": "1.5.0",
            "_view_name": "HTMLView",
            "description": "",
            "description_tooltip": null,
            "layout": "IPY_MODEL_ca32339ea6bf4abfa2f660bf767d3f7f",
            "placeholder": "​",
            "style": "IPY_MODEL_bd6ddb2aefd748b2b3100c149e70c759",
            "value": "\n<b>Pro Tip:</b> If you don't already have one, you can create a dedicated\n'notebooks' token with 'write' access, that you can then easily reuse for all\nnotebooks. <br> <i>Logging in with your username and password is deprecated and\nwon't be possible anymore in the near future. You can still use them for now by\nclicking below.</i> </center>"
          }
        },
        "acdc4e6b77a94522a0778dd54ac43c51": {
          "model_module": "@jupyter-widgets/controls",
          "model_name": "ButtonModel",
          "model_module_version": "1.5.0",
          "state": {
            "_dom_classes": [],
            "_model_module": "@jupyter-widgets/controls",
            "_model_module_version": "1.5.0",
            "_model_name": "ButtonModel",
            "_view_count": null,
            "_view_module": "@jupyter-widgets/controls",
            "_view_module_version": "1.5.0",
            "_view_name": "ButtonView",
            "button_style": "",
            "description": "Use password",
            "disabled": false,
            "icon": "",
            "layout": "IPY_MODEL_2ff523f0f9b84809af39ee3aa179d2f2",
            "style": "IPY_MODEL_f93e8dba4d2f4663a409224e1f09381e",
            "tooltip": ""
          }
        },
        "eee0740d97544ff6be798e6bcfc1c57f": {
          "model_module": "@jupyter-widgets/base",
          "model_name": "LayoutModel",
          "model_module_version": "1.2.0",
          "state": {
            "_model_module": "@jupyter-widgets/base",
            "_model_module_version": "1.2.0",
            "_model_name": "LayoutModel",
            "_view_count": null,
            "_view_module": "@jupyter-widgets/base",
            "_view_module_version": "1.2.0",
            "_view_name": "LayoutView",
            "align_content": null,
            "align_items": "center",
            "align_self": null,
            "border": null,
            "bottom": null,
            "display": "flex",
            "flex": null,
            "flex_flow": "column",
            "grid_area": null,
            "grid_auto_columns": null,
            "grid_auto_flow": null,
            "grid_auto_rows": null,
            "grid_column": null,
            "grid_gap": null,
            "grid_row": null,
            "grid_template_areas": null,
            "grid_template_columns": null,
            "grid_template_rows": null,
            "height": null,
            "justify_content": null,
            "justify_items": null,
            "left": null,
            "margin": null,
            "max_height": null,
            "max_width": null,
            "min_height": null,
            "min_width": null,
            "object_fit": null,
            "object_position": null,
            "order": null,
            "overflow": null,
            "overflow_x": null,
            "overflow_y": null,
            "padding": null,
            "right": null,
            "top": null,
            "visibility": null,
            "width": "50%"
          }
        },
        "b799c3e8b25e44afb46f7d6ff16a2e13": {
          "model_module": "@jupyter-widgets/base",
          "model_name": "LayoutModel",
          "model_module_version": "1.2.0",
          "state": {
            "_model_module": "@jupyter-widgets/base",
            "_model_module_version": "1.2.0",
            "_model_name": "LayoutModel",
            "_view_count": null,
            "_view_module": "@jupyter-widgets/base",
            "_view_module_version": "1.2.0",
            "_view_name": "LayoutView",
            "align_content": null,
            "align_items": null,
            "align_self": null,
            "border": null,
            "bottom": null,
            "display": null,
            "flex": null,
            "flex_flow": null,
            "grid_area": null,
            "grid_auto_columns": null,
            "grid_auto_flow": null,
            "grid_auto_rows": null,
            "grid_column": null,
            "grid_gap": null,
            "grid_row": null,
            "grid_template_areas": null,
            "grid_template_columns": null,
            "grid_template_rows": null,
            "height": null,
            "justify_content": null,
            "justify_items": null,
            "left": null,
            "margin": null,
            "max_height": null,
            "max_width": null,
            "min_height": null,
            "min_width": null,
            "object_fit": null,
            "object_position": null,
            "order": null,
            "overflow": null,
            "overflow_x": null,
            "overflow_y": null,
            "padding": null,
            "right": null,
            "top": null,
            "visibility": null,
            "width": null
          }
        },
        "afb42add48a84cb8a188ee34d308b00d": {
          "model_module": "@jupyter-widgets/controls",
          "model_name": "DescriptionStyleModel",
          "model_module_version": "1.5.0",
          "state": {
            "_model_module": "@jupyter-widgets/controls",
            "_model_module_version": "1.5.0",
            "_model_name": "DescriptionStyleModel",
            "_view_count": null,
            "_view_module": "@jupyter-widgets/base",
            "_view_module_version": "1.2.0",
            "_view_name": "StyleView",
            "description_width": ""
          }
        },
        "f19347eb5f0a46da81e6de0311fc5c54": {
          "model_module": "@jupyter-widgets/base",
          "model_name": "LayoutModel",
          "model_module_version": "1.2.0",
          "state": {
            "_model_module": "@jupyter-widgets/base",
            "_model_module_version": "1.2.0",
            "_model_name": "LayoutModel",
            "_view_count": null,
            "_view_module": "@jupyter-widgets/base",
            "_view_module_version": "1.2.0",
            "_view_name": "LayoutView",
            "align_content": null,
            "align_items": null,
            "align_self": null,
            "border": null,
            "bottom": null,
            "display": null,
            "flex": null,
            "flex_flow": null,
            "grid_area": null,
            "grid_auto_columns": null,
            "grid_auto_flow": null,
            "grid_auto_rows": null,
            "grid_column": null,
            "grid_gap": null,
            "grid_row": null,
            "grid_template_areas": null,
            "grid_template_columns": null,
            "grid_template_rows": null,
            "height": null,
            "justify_content": null,
            "justify_items": null,
            "left": null,
            "margin": null,
            "max_height": null,
            "max_width": null,
            "min_height": null,
            "min_width": null,
            "object_fit": null,
            "object_position": null,
            "order": null,
            "overflow": null,
            "overflow_x": null,
            "overflow_y": null,
            "padding": null,
            "right": null,
            "top": null,
            "visibility": null,
            "width": null
          }
        },
        "d8782e67efbc4b878f4533b73f4d391d": {
          "model_module": "@jupyter-widgets/controls",
          "model_name": "DescriptionStyleModel",
          "model_module_version": "1.5.0",
          "state": {
            "_model_module": "@jupyter-widgets/controls",
            "_model_module_version": "1.5.0",
            "_model_name": "DescriptionStyleModel",
            "_view_count": null,
            "_view_module": "@jupyter-widgets/base",
            "_view_module_version": "1.2.0",
            "_view_name": "StyleView",
            "description_width": ""
          }
        },
        "693bab2426504372bfe61d85636e7669": {
          "model_module": "@jupyter-widgets/base",
          "model_name": "LayoutModel",
          "model_module_version": "1.2.0",
          "state": {
            "_model_module": "@jupyter-widgets/base",
            "_model_module_version": "1.2.0",
            "_model_name": "LayoutModel",
            "_view_count": null,
            "_view_module": "@jupyter-widgets/base",
            "_view_module_version": "1.2.0",
            "_view_name": "LayoutView",
            "align_content": null,
            "align_items": null,
            "align_self": null,
            "border": null,
            "bottom": null,
            "display": null,
            "flex": null,
            "flex_flow": null,
            "grid_area": null,
            "grid_auto_columns": null,
            "grid_auto_flow": null,
            "grid_auto_rows": null,
            "grid_column": null,
            "grid_gap": null,
            "grid_row": null,
            "grid_template_areas": null,
            "grid_template_columns": null,
            "grid_template_rows": null,
            "height": null,
            "justify_content": null,
            "justify_items": null,
            "left": null,
            "margin": null,
            "max_height": null,
            "max_width": null,
            "min_height": null,
            "min_width": null,
            "object_fit": null,
            "object_position": null,
            "order": null,
            "overflow": null,
            "overflow_x": null,
            "overflow_y": null,
            "padding": null,
            "right": null,
            "top": null,
            "visibility": null,
            "width": null
          }
        },
        "92e4465c9d634eb4813aa00f8164f082": {
          "model_module": "@jupyter-widgets/controls",
          "model_name": "ButtonStyleModel",
          "model_module_version": "1.5.0",
          "state": {
            "_model_module": "@jupyter-widgets/controls",
            "_model_module_version": "1.5.0",
            "_model_name": "ButtonStyleModel",
            "_view_count": null,
            "_view_module": "@jupyter-widgets/base",
            "_view_module_version": "1.2.0",
            "_view_name": "StyleView",
            "button_color": null,
            "font_weight": ""
          }
        },
        "ca32339ea6bf4abfa2f660bf767d3f7f": {
          "model_module": "@jupyter-widgets/base",
          "model_name": "LayoutModel",
          "model_module_version": "1.2.0",
          "state": {
            "_model_module": "@jupyter-widgets/base",
            "_model_module_version": "1.2.0",
            "_model_name": "LayoutModel",
            "_view_count": null,
            "_view_module": "@jupyter-widgets/base",
            "_view_module_version": "1.2.0",
            "_view_name": "LayoutView",
            "align_content": null,
            "align_items": null,
            "align_self": null,
            "border": null,
            "bottom": null,
            "display": null,
            "flex": null,
            "flex_flow": null,
            "grid_area": null,
            "grid_auto_columns": null,
            "grid_auto_flow": null,
            "grid_auto_rows": null,
            "grid_column": null,
            "grid_gap": null,
            "grid_row": null,
            "grid_template_areas": null,
            "grid_template_columns": null,
            "grid_template_rows": null,
            "height": null,
            "justify_content": null,
            "justify_items": null,
            "left": null,
            "margin": null,
            "max_height": null,
            "max_width": null,
            "min_height": null,
            "min_width": null,
            "object_fit": null,
            "object_position": null,
            "order": null,
            "overflow": null,
            "overflow_x": null,
            "overflow_y": null,
            "padding": null,
            "right": null,
            "top": null,
            "visibility": null,
            "width": null
          }
        },
        "bd6ddb2aefd748b2b3100c149e70c759": {
          "model_module": "@jupyter-widgets/controls",
          "model_name": "DescriptionStyleModel",
          "model_module_version": "1.5.0",
          "state": {
            "_model_module": "@jupyter-widgets/controls",
            "_model_module_version": "1.5.0",
            "_model_name": "DescriptionStyleModel",
            "_view_count": null,
            "_view_module": "@jupyter-widgets/base",
            "_view_module_version": "1.2.0",
            "_view_name": "StyleView",
            "description_width": ""
          }
        },
        "2ff523f0f9b84809af39ee3aa179d2f2": {
          "model_module": "@jupyter-widgets/base",
          "model_name": "LayoutModel",
          "model_module_version": "1.2.0",
          "state": {
            "_model_module": "@jupyter-widgets/base",
            "_model_module_version": "1.2.0",
            "_model_name": "LayoutModel",
            "_view_count": null,
            "_view_module": "@jupyter-widgets/base",
            "_view_module_version": "1.2.0",
            "_view_name": "LayoutView",
            "align_content": null,
            "align_items": null,
            "align_self": null,
            "border": null,
            "bottom": null,
            "display": null,
            "flex": null,
            "flex_flow": null,
            "grid_area": null,
            "grid_auto_columns": null,
            "grid_auto_flow": null,
            "grid_auto_rows": null,
            "grid_column": null,
            "grid_gap": null,
            "grid_row": null,
            "grid_template_areas": null,
            "grid_template_columns": null,
            "grid_template_rows": null,
            "height": null,
            "justify_content": null,
            "justify_items": null,
            "left": null,
            "margin": null,
            "max_height": null,
            "max_width": null,
            "min_height": null,
            "min_width": null,
            "object_fit": null,
            "object_position": null,
            "order": null,
            "overflow": null,
            "overflow_x": null,
            "overflow_y": null,
            "padding": null,
            "right": null,
            "top": null,
            "visibility": null,
            "width": null
          }
        },
        "f93e8dba4d2f4663a409224e1f09381e": {
          "model_module": "@jupyter-widgets/controls",
          "model_name": "ButtonStyleModel",
          "model_module_version": "1.5.0",
          "state": {
            "_model_module": "@jupyter-widgets/controls",
            "_model_module_version": "1.5.0",
            "_model_name": "ButtonStyleModel",
            "_view_count": null,
            "_view_module": "@jupyter-widgets/base",
            "_view_module_version": "1.2.0",
            "_view_name": "StyleView",
            "button_color": null,
            "font_weight": ""
          }
        },
        "5ab171dff1f14328a096bad41693d324": {
          "model_module": "@jupyter-widgets/controls",
          "model_name": "HBoxModel",
          "model_module_version": "1.5.0",
          "state": {
            "_dom_classes": [],
            "_model_module": "@jupyter-widgets/controls",
            "_model_module_version": "1.5.0",
            "_model_name": "HBoxModel",
            "_view_count": null,
            "_view_module": "@jupyter-widgets/controls",
            "_view_module_version": "1.5.0",
            "_view_name": "HBoxView",
            "box_style": "",
            "children": [
              "IPY_MODEL_3a709dc0e8be4fa4b98e874d721445d5",
              "IPY_MODEL_9e97adc080dc47fbae723f5ff6e2e3b1",
              "IPY_MODEL_9a1217661ff541c4b3f6f06d23a550a1"
            ],
            "layout": "IPY_MODEL_93d49c9ef5b44ac5b3d8e004170e384f"
          }
        },
        "3a709dc0e8be4fa4b98e874d721445d5": {
          "model_module": "@jupyter-widgets/controls",
          "model_name": "HTMLModel",
          "model_module_version": "1.5.0",
          "state": {
            "_dom_classes": [],
            "_model_module": "@jupyter-widgets/controls",
            "_model_module_version": "1.5.0",
            "_model_name": "HTMLModel",
            "_view_count": null,
            "_view_module": "@jupyter-widgets/controls",
            "_view_module_version": "1.5.0",
            "_view_name": "HTMLView",
            "description": "",
            "description_tooltip": null,
            "layout": "IPY_MODEL_7da800d590d74963b95f0beaace75753",
            "placeholder": "​",
            "style": "IPY_MODEL_e7816bfce6d04a7f9261719112231a85",
            "value": ""
          }
        },
        "9e97adc080dc47fbae723f5ff6e2e3b1": {
          "model_module": "@jupyter-widgets/controls",
          "model_name": "FloatProgressModel",
          "model_module_version": "1.5.0",
          "state": {
            "_dom_classes": [],
            "_model_module": "@jupyter-widgets/controls",
            "_model_module_version": "1.5.0",
            "_model_name": "FloatProgressModel",
            "_view_count": null,
            "_view_module": "@jupyter-widgets/controls",
            "_view_module_version": "1.5.0",
            "_view_name": "ProgressView",
            "bar_style": "success",
            "description": "",
            "description_tooltip": null,
            "layout": "IPY_MODEL_7510e24d8388486ebe003d7b0e6aeb8d",
            "max": 1,
            "min": 0,
            "orientation": "horizontal",
            "style": "IPY_MODEL_15f0add6801245d6bc74ede6147f1652",
            "value": 1
          }
        },
        "9a1217661ff541c4b3f6f06d23a550a1": {
          "model_module": "@jupyter-widgets/controls",
          "model_name": "HTMLModel",
          "model_module_version": "1.5.0",
          "state": {
            "_dom_classes": [],
            "_model_module": "@jupyter-widgets/controls",
            "_model_module_version": "1.5.0",
            "_model_name": "HTMLModel",
            "_view_count": null,
            "_view_module": "@jupyter-widgets/controls",
            "_view_module_version": "1.5.0",
            "_view_name": "HTMLView",
            "description": "",
            "description_tooltip": null,
            "layout": "IPY_MODEL_eac72bf1531a4d39b72af42df0d4da5a",
            "placeholder": "​",
            "style": "IPY_MODEL_d855cebb952944dcb25eba5c3c2b1220",
            "value": " 3478/? [00:01&lt;00:00, 2968.80ex/s]"
          }
        },
        "93d49c9ef5b44ac5b3d8e004170e384f": {
          "model_module": "@jupyter-widgets/base",
          "model_name": "LayoutModel",
          "model_module_version": "1.2.0",
          "state": {
            "_model_module": "@jupyter-widgets/base",
            "_model_module_version": "1.2.0",
            "_model_name": "LayoutModel",
            "_view_count": null,
            "_view_module": "@jupyter-widgets/base",
            "_view_module_version": "1.2.0",
            "_view_name": "LayoutView",
            "align_content": null,
            "align_items": null,
            "align_self": null,
            "border": null,
            "bottom": null,
            "display": null,
            "flex": null,
            "flex_flow": null,
            "grid_area": null,
            "grid_auto_columns": null,
            "grid_auto_flow": null,
            "grid_auto_rows": null,
            "grid_column": null,
            "grid_gap": null,
            "grid_row": null,
            "grid_template_areas": null,
            "grid_template_columns": null,
            "grid_template_rows": null,
            "height": null,
            "justify_content": null,
            "justify_items": null,
            "left": null,
            "margin": null,
            "max_height": null,
            "max_width": null,
            "min_height": null,
            "min_width": null,
            "object_fit": null,
            "object_position": null,
            "order": null,
            "overflow": null,
            "overflow_x": null,
            "overflow_y": null,
            "padding": null,
            "right": null,
            "top": null,
            "visibility": null,
            "width": null
          }
        },
        "7da800d590d74963b95f0beaace75753": {
          "model_module": "@jupyter-widgets/base",
          "model_name": "LayoutModel",
          "model_module_version": "1.2.0",
          "state": {
            "_model_module": "@jupyter-widgets/base",
            "_model_module_version": "1.2.0",
            "_model_name": "LayoutModel",
            "_view_count": null,
            "_view_module": "@jupyter-widgets/base",
            "_view_module_version": "1.2.0",
            "_view_name": "LayoutView",
            "align_content": null,
            "align_items": null,
            "align_self": null,
            "border": null,
            "bottom": null,
            "display": null,
            "flex": null,
            "flex_flow": null,
            "grid_area": null,
            "grid_auto_columns": null,
            "grid_auto_flow": null,
            "grid_auto_rows": null,
            "grid_column": null,
            "grid_gap": null,
            "grid_row": null,
            "grid_template_areas": null,
            "grid_template_columns": null,
            "grid_template_rows": null,
            "height": null,
            "justify_content": null,
            "justify_items": null,
            "left": null,
            "margin": null,
            "max_height": null,
            "max_width": null,
            "min_height": null,
            "min_width": null,
            "object_fit": null,
            "object_position": null,
            "order": null,
            "overflow": null,
            "overflow_x": null,
            "overflow_y": null,
            "padding": null,
            "right": null,
            "top": null,
            "visibility": null,
            "width": null
          }
        },
        "e7816bfce6d04a7f9261719112231a85": {
          "model_module": "@jupyter-widgets/controls",
          "model_name": "DescriptionStyleModel",
          "model_module_version": "1.5.0",
          "state": {
            "_model_module": "@jupyter-widgets/controls",
            "_model_module_version": "1.5.0",
            "_model_name": "DescriptionStyleModel",
            "_view_count": null,
            "_view_module": "@jupyter-widgets/base",
            "_view_module_version": "1.2.0",
            "_view_name": "StyleView",
            "description_width": ""
          }
        },
        "7510e24d8388486ebe003d7b0e6aeb8d": {
          "model_module": "@jupyter-widgets/base",
          "model_name": "LayoutModel",
          "model_module_version": "1.2.0",
          "state": {
            "_model_module": "@jupyter-widgets/base",
            "_model_module_version": "1.2.0",
            "_model_name": "LayoutModel",
            "_view_count": null,
            "_view_module": "@jupyter-widgets/base",
            "_view_module_version": "1.2.0",
            "_view_name": "LayoutView",
            "align_content": null,
            "align_items": null,
            "align_self": null,
            "border": null,
            "bottom": null,
            "display": null,
            "flex": null,
            "flex_flow": null,
            "grid_area": null,
            "grid_auto_columns": null,
            "grid_auto_flow": null,
            "grid_auto_rows": null,
            "grid_column": null,
            "grid_gap": null,
            "grid_row": null,
            "grid_template_areas": null,
            "grid_template_columns": null,
            "grid_template_rows": null,
            "height": null,
            "justify_content": null,
            "justify_items": null,
            "left": null,
            "margin": null,
            "max_height": null,
            "max_width": null,
            "min_height": null,
            "min_width": null,
            "object_fit": null,
            "object_position": null,
            "order": null,
            "overflow": null,
            "overflow_x": null,
            "overflow_y": null,
            "padding": null,
            "right": null,
            "top": null,
            "visibility": null,
            "width": "20px"
          }
        },
        "15f0add6801245d6bc74ede6147f1652": {
          "model_module": "@jupyter-widgets/controls",
          "model_name": "ProgressStyleModel",
          "model_module_version": "1.5.0",
          "state": {
            "_model_module": "@jupyter-widgets/controls",
            "_model_module_version": "1.5.0",
            "_model_name": "ProgressStyleModel",
            "_view_count": null,
            "_view_module": "@jupyter-widgets/base",
            "_view_module_version": "1.2.0",
            "_view_name": "StyleView",
            "bar_color": null,
            "description_width": ""
          }
        },
        "eac72bf1531a4d39b72af42df0d4da5a": {
          "model_module": "@jupyter-widgets/base",
          "model_name": "LayoutModel",
          "model_module_version": "1.2.0",
          "state": {
            "_model_module": "@jupyter-widgets/base",
            "_model_module_version": "1.2.0",
            "_model_name": "LayoutModel",
            "_view_count": null,
            "_view_module": "@jupyter-widgets/base",
            "_view_module_version": "1.2.0",
            "_view_name": "LayoutView",
            "align_content": null,
            "align_items": null,
            "align_self": null,
            "border": null,
            "bottom": null,
            "display": null,
            "flex": null,
            "flex_flow": null,
            "grid_area": null,
            "grid_auto_columns": null,
            "grid_auto_flow": null,
            "grid_auto_rows": null,
            "grid_column": null,
            "grid_gap": null,
            "grid_row": null,
            "grid_template_areas": null,
            "grid_template_columns": null,
            "grid_template_rows": null,
            "height": null,
            "justify_content": null,
            "justify_items": null,
            "left": null,
            "margin": null,
            "max_height": null,
            "max_width": null,
            "min_height": null,
            "min_width": null,
            "object_fit": null,
            "object_position": null,
            "order": null,
            "overflow": null,
            "overflow_x": null,
            "overflow_y": null,
            "padding": null,
            "right": null,
            "top": null,
            "visibility": null,
            "width": null
          }
        },
        "d855cebb952944dcb25eba5c3c2b1220": {
          "model_module": "@jupyter-widgets/controls",
          "model_name": "DescriptionStyleModel",
          "model_module_version": "1.5.0",
          "state": {
            "_model_module": "@jupyter-widgets/controls",
            "_model_module_version": "1.5.0",
            "_model_name": "DescriptionStyleModel",
            "_view_count": null,
            "_view_module": "@jupyter-widgets/base",
            "_view_module_version": "1.2.0",
            "_view_name": "StyleView",
            "description_width": ""
          }
        },
        "7a6192e163ed43f5840950026fd9e0d3": {
          "model_module": "@jupyter-widgets/controls",
          "model_name": "HBoxModel",
          "model_module_version": "1.5.0",
          "state": {
            "_dom_classes": [],
            "_model_module": "@jupyter-widgets/controls",
            "_model_module_version": "1.5.0",
            "_model_name": "HBoxModel",
            "_view_count": null,
            "_view_module": "@jupyter-widgets/controls",
            "_view_module_version": "1.5.0",
            "_view_name": "HBoxView",
            "box_style": "",
            "children": [
              "IPY_MODEL_d2d05f7deb694bd7a1aece096fec090b",
              "IPY_MODEL_d072876ce533458ca46dab649dc91eea",
              "IPY_MODEL_ded3b2b1c3454697928909a7165ed327"
            ],
            "layout": "IPY_MODEL_a063412b80a048f6a5ad02e56d1e9c2b"
          }
        },
        "d2d05f7deb694bd7a1aece096fec090b": {
          "model_module": "@jupyter-widgets/controls",
          "model_name": "HTMLModel",
          "model_module_version": "1.5.0",
          "state": {
            "_dom_classes": [],
            "_model_module": "@jupyter-widgets/controls",
            "_model_module_version": "1.5.0",
            "_model_name": "HTMLModel",
            "_view_count": null,
            "_view_module": "@jupyter-widgets/controls",
            "_view_module_version": "1.5.0",
            "_view_name": "HTMLView",
            "description": "",
            "description_tooltip": null,
            "layout": "IPY_MODEL_df76eeb782f84102b1427f718e30ed00",
            "placeholder": "​",
            "style": "IPY_MODEL_4e26dfec542a44ad88d7d1fb4507924a",
            "value": ""
          }
        },
        "d072876ce533458ca46dab649dc91eea": {
          "model_module": "@jupyter-widgets/controls",
          "model_name": "FloatProgressModel",
          "model_module_version": "1.5.0",
          "state": {
            "_dom_classes": [],
            "_model_module": "@jupyter-widgets/controls",
            "_model_module_version": "1.5.0",
            "_model_name": "FloatProgressModel",
            "_view_count": null,
            "_view_module": "@jupyter-widgets/controls",
            "_view_module_version": "1.5.0",
            "_view_name": "ProgressView",
            "bar_style": "success",
            "description": "",
            "description_tooltip": null,
            "layout": "IPY_MODEL_1725e1142cc546b38b76964be891bcb0",
            "max": 1,
            "min": 0,
            "orientation": "horizontal",
            "style": "IPY_MODEL_21a3f152fa4140eebdbf381a9ab53b5f",
            "value": 1
          }
        },
        "ded3b2b1c3454697928909a7165ed327": {
          "model_module": "@jupyter-widgets/controls",
          "model_name": "HTMLModel",
          "model_module_version": "1.5.0",
          "state": {
            "_dom_classes": [],
            "_model_module": "@jupyter-widgets/controls",
            "_model_module_version": "1.5.0",
            "_model_name": "HTMLModel",
            "_view_count": null,
            "_view_module": "@jupyter-widgets/controls",
            "_view_module_version": "1.5.0",
            "_view_name": "HTMLView",
            "description": "",
            "description_tooltip": null,
            "layout": "IPY_MODEL_250d5f48f9a846d8ba1d4c57d5a164ac",
            "placeholder": "​",
            "style": "IPY_MODEL_7528c929818d4b90b4812cec90addd08",
            "value": " 1647/? [00:00&lt;00:00, 2729.55ex/s]"
          }
        },
        "a063412b80a048f6a5ad02e56d1e9c2b": {
          "model_module": "@jupyter-widgets/base",
          "model_name": "LayoutModel",
          "model_module_version": "1.2.0",
          "state": {
            "_model_module": "@jupyter-widgets/base",
            "_model_module_version": "1.2.0",
            "_model_name": "LayoutModel",
            "_view_count": null,
            "_view_module": "@jupyter-widgets/base",
            "_view_module_version": "1.2.0",
            "_view_name": "LayoutView",
            "align_content": null,
            "align_items": null,
            "align_self": null,
            "border": null,
            "bottom": null,
            "display": null,
            "flex": null,
            "flex_flow": null,
            "grid_area": null,
            "grid_auto_columns": null,
            "grid_auto_flow": null,
            "grid_auto_rows": null,
            "grid_column": null,
            "grid_gap": null,
            "grid_row": null,
            "grid_template_areas": null,
            "grid_template_columns": null,
            "grid_template_rows": null,
            "height": null,
            "justify_content": null,
            "justify_items": null,
            "left": null,
            "margin": null,
            "max_height": null,
            "max_width": null,
            "min_height": null,
            "min_width": null,
            "object_fit": null,
            "object_position": null,
            "order": null,
            "overflow": null,
            "overflow_x": null,
            "overflow_y": null,
            "padding": null,
            "right": null,
            "top": null,
            "visibility": null,
            "width": null
          }
        },
        "df76eeb782f84102b1427f718e30ed00": {
          "model_module": "@jupyter-widgets/base",
          "model_name": "LayoutModel",
          "model_module_version": "1.2.0",
          "state": {
            "_model_module": "@jupyter-widgets/base",
            "_model_module_version": "1.2.0",
            "_model_name": "LayoutModel",
            "_view_count": null,
            "_view_module": "@jupyter-widgets/base",
            "_view_module_version": "1.2.0",
            "_view_name": "LayoutView",
            "align_content": null,
            "align_items": null,
            "align_self": null,
            "border": null,
            "bottom": null,
            "display": null,
            "flex": null,
            "flex_flow": null,
            "grid_area": null,
            "grid_auto_columns": null,
            "grid_auto_flow": null,
            "grid_auto_rows": null,
            "grid_column": null,
            "grid_gap": null,
            "grid_row": null,
            "grid_template_areas": null,
            "grid_template_columns": null,
            "grid_template_rows": null,
            "height": null,
            "justify_content": null,
            "justify_items": null,
            "left": null,
            "margin": null,
            "max_height": null,
            "max_width": null,
            "min_height": null,
            "min_width": null,
            "object_fit": null,
            "object_position": null,
            "order": null,
            "overflow": null,
            "overflow_x": null,
            "overflow_y": null,
            "padding": null,
            "right": null,
            "top": null,
            "visibility": null,
            "width": null
          }
        },
        "4e26dfec542a44ad88d7d1fb4507924a": {
          "model_module": "@jupyter-widgets/controls",
          "model_name": "DescriptionStyleModel",
          "model_module_version": "1.5.0",
          "state": {
            "_model_module": "@jupyter-widgets/controls",
            "_model_module_version": "1.5.0",
            "_model_name": "DescriptionStyleModel",
            "_view_count": null,
            "_view_module": "@jupyter-widgets/base",
            "_view_module_version": "1.2.0",
            "_view_name": "StyleView",
            "description_width": ""
          }
        },
        "1725e1142cc546b38b76964be891bcb0": {
          "model_module": "@jupyter-widgets/base",
          "model_name": "LayoutModel",
          "model_module_version": "1.2.0",
          "state": {
            "_model_module": "@jupyter-widgets/base",
            "_model_module_version": "1.2.0",
            "_model_name": "LayoutModel",
            "_view_count": null,
            "_view_module": "@jupyter-widgets/base",
            "_view_module_version": "1.2.0",
            "_view_name": "LayoutView",
            "align_content": null,
            "align_items": null,
            "align_self": null,
            "border": null,
            "bottom": null,
            "display": null,
            "flex": null,
            "flex_flow": null,
            "grid_area": null,
            "grid_auto_columns": null,
            "grid_auto_flow": null,
            "grid_auto_rows": null,
            "grid_column": null,
            "grid_gap": null,
            "grid_row": null,
            "grid_template_areas": null,
            "grid_template_columns": null,
            "grid_template_rows": null,
            "height": null,
            "justify_content": null,
            "justify_items": null,
            "left": null,
            "margin": null,
            "max_height": null,
            "max_width": null,
            "min_height": null,
            "min_width": null,
            "object_fit": null,
            "object_position": null,
            "order": null,
            "overflow": null,
            "overflow_x": null,
            "overflow_y": null,
            "padding": null,
            "right": null,
            "top": null,
            "visibility": null,
            "width": "20px"
          }
        },
        "21a3f152fa4140eebdbf381a9ab53b5f": {
          "model_module": "@jupyter-widgets/controls",
          "model_name": "ProgressStyleModel",
          "model_module_version": "1.5.0",
          "state": {
            "_model_module": "@jupyter-widgets/controls",
            "_model_module_version": "1.5.0",
            "_model_name": "ProgressStyleModel",
            "_view_count": null,
            "_view_module": "@jupyter-widgets/base",
            "_view_module_version": "1.2.0",
            "_view_name": "StyleView",
            "bar_color": null,
            "description_width": ""
          }
        },
        "250d5f48f9a846d8ba1d4c57d5a164ac": {
          "model_module": "@jupyter-widgets/base",
          "model_name": "LayoutModel",
          "model_module_version": "1.2.0",
          "state": {
            "_model_module": "@jupyter-widgets/base",
            "_model_module_version": "1.2.0",
            "_model_name": "LayoutModel",
            "_view_count": null,
            "_view_module": "@jupyter-widgets/base",
            "_view_module_version": "1.2.0",
            "_view_name": "LayoutView",
            "align_content": null,
            "align_items": null,
            "align_self": null,
            "border": null,
            "bottom": null,
            "display": null,
            "flex": null,
            "flex_flow": null,
            "grid_area": null,
            "grid_auto_columns": null,
            "grid_auto_flow": null,
            "grid_auto_rows": null,
            "grid_column": null,
            "grid_gap": null,
            "grid_row": null,
            "grid_template_areas": null,
            "grid_template_columns": null,
            "grid_template_rows": null,
            "height": null,
            "justify_content": null,
            "justify_items": null,
            "left": null,
            "margin": null,
            "max_height": null,
            "max_width": null,
            "min_height": null,
            "min_width": null,
            "object_fit": null,
            "object_position": null,
            "order": null,
            "overflow": null,
            "overflow_x": null,
            "overflow_y": null,
            "padding": null,
            "right": null,
            "top": null,
            "visibility": null,
            "width": null
          }
        },
        "7528c929818d4b90b4812cec90addd08": {
          "model_module": "@jupyter-widgets/controls",
          "model_name": "DescriptionStyleModel",
          "model_module_version": "1.5.0",
          "state": {
            "_model_module": "@jupyter-widgets/controls",
            "_model_module_version": "1.5.0",
            "_model_name": "DescriptionStyleModel",
            "_view_count": null,
            "_view_module": "@jupyter-widgets/base",
            "_view_module_version": "1.2.0",
            "_view_name": "StyleView",
            "description_width": ""
          }
        },
        "4dcbd57d2b4a4907871f942f37c01066": {
          "model_module": "@jupyter-widgets/controls",
          "model_name": "HBoxModel",
          "model_module_version": "1.5.0",
          "state": {
            "_dom_classes": [],
            "_model_module": "@jupyter-widgets/controls",
            "_model_module_version": "1.5.0",
            "_model_name": "HBoxModel",
            "_view_count": null,
            "_view_module": "@jupyter-widgets/controls",
            "_view_module_version": "1.5.0",
            "_view_name": "HBoxView",
            "box_style": "",
            "children": [
              "IPY_MODEL_aac95d702d274178b634460486d837ff",
              "IPY_MODEL_c41d8247ccf147d195ec4e132c88b552",
              "IPY_MODEL_d7429285fbc34d879799898302431497"
            ],
            "layout": "IPY_MODEL_ab22f61158744d8d82ecae10a5aed4e5"
          }
        },
        "aac95d702d274178b634460486d837ff": {
          "model_module": "@jupyter-widgets/controls",
          "model_name": "HTMLModel",
          "model_module_version": "1.5.0",
          "state": {
            "_dom_classes": [],
            "_model_module": "@jupyter-widgets/controls",
            "_model_module_version": "1.5.0",
            "_model_name": "HTMLModel",
            "_view_count": null,
            "_view_module": "@jupyter-widgets/controls",
            "_view_module_version": "1.5.0",
            "_view_name": "HTMLView",
            "description": "",
            "description_tooltip": null,
            "layout": "IPY_MODEL_d4b7d316f24343d6a4763bc49c5d0674",
            "placeholder": "​",
            "style": "IPY_MODEL_b9696420d0e4430b87dec12c068bdc2b",
            "value": ""
          }
        },
        "c41d8247ccf147d195ec4e132c88b552": {
          "model_module": "@jupyter-widgets/controls",
          "model_name": "FloatProgressModel",
          "model_module_version": "1.5.0",
          "state": {
            "_dom_classes": [],
            "_model_module": "@jupyter-widgets/controls",
            "_model_module_version": "1.5.0",
            "_model_name": "FloatProgressModel",
            "_view_count": null,
            "_view_module": "@jupyter-widgets/controls",
            "_view_module_version": "1.5.0",
            "_view_name": "ProgressView",
            "bar_style": "success",
            "description": "",
            "description_tooltip": null,
            "layout": "IPY_MODEL_729a89cd69d94d33a00d654bccbb307b",
            "max": 1,
            "min": 0,
            "orientation": "horizontal",
            "style": "IPY_MODEL_f92084e0cf164197b94975d1430ce235",
            "value": 1
          }
        },
        "d7429285fbc34d879799898302431497": {
          "model_module": "@jupyter-widgets/controls",
          "model_name": "HTMLModel",
          "model_module_version": "1.5.0",
          "state": {
            "_dom_classes": [],
            "_model_module": "@jupyter-widgets/controls",
            "_model_module_version": "1.5.0",
            "_model_name": "HTMLModel",
            "_view_count": null,
            "_view_module": "@jupyter-widgets/controls",
            "_view_module_version": "1.5.0",
            "_view_name": "HTMLView",
            "description": "",
            "description_tooltip": null,
            "layout": "IPY_MODEL_3ce6c5329a09414fa143c4d2ccb9be27",
            "placeholder": "​",
            "style": "IPY_MODEL_8dac34256aa144b09a0386e292e0af2f",
            "value": " 3478/? [00:01&lt;00:00, 3016.06ex/s]"
          }
        },
        "ab22f61158744d8d82ecae10a5aed4e5": {
          "model_module": "@jupyter-widgets/base",
          "model_name": "LayoutModel",
          "model_module_version": "1.2.0",
          "state": {
            "_model_module": "@jupyter-widgets/base",
            "_model_module_version": "1.2.0",
            "_model_name": "LayoutModel",
            "_view_count": null,
            "_view_module": "@jupyter-widgets/base",
            "_view_module_version": "1.2.0",
            "_view_name": "LayoutView",
            "align_content": null,
            "align_items": null,
            "align_self": null,
            "border": null,
            "bottom": null,
            "display": null,
            "flex": null,
            "flex_flow": null,
            "grid_area": null,
            "grid_auto_columns": null,
            "grid_auto_flow": null,
            "grid_auto_rows": null,
            "grid_column": null,
            "grid_gap": null,
            "grid_row": null,
            "grid_template_areas": null,
            "grid_template_columns": null,
            "grid_template_rows": null,
            "height": null,
            "justify_content": null,
            "justify_items": null,
            "left": null,
            "margin": null,
            "max_height": null,
            "max_width": null,
            "min_height": null,
            "min_width": null,
            "object_fit": null,
            "object_position": null,
            "order": null,
            "overflow": null,
            "overflow_x": null,
            "overflow_y": null,
            "padding": null,
            "right": null,
            "top": null,
            "visibility": null,
            "width": null
          }
        },
        "d4b7d316f24343d6a4763bc49c5d0674": {
          "model_module": "@jupyter-widgets/base",
          "model_name": "LayoutModel",
          "model_module_version": "1.2.0",
          "state": {
            "_model_module": "@jupyter-widgets/base",
            "_model_module_version": "1.2.0",
            "_model_name": "LayoutModel",
            "_view_count": null,
            "_view_module": "@jupyter-widgets/base",
            "_view_module_version": "1.2.0",
            "_view_name": "LayoutView",
            "align_content": null,
            "align_items": null,
            "align_self": null,
            "border": null,
            "bottom": null,
            "display": null,
            "flex": null,
            "flex_flow": null,
            "grid_area": null,
            "grid_auto_columns": null,
            "grid_auto_flow": null,
            "grid_auto_rows": null,
            "grid_column": null,
            "grid_gap": null,
            "grid_row": null,
            "grid_template_areas": null,
            "grid_template_columns": null,
            "grid_template_rows": null,
            "height": null,
            "justify_content": null,
            "justify_items": null,
            "left": null,
            "margin": null,
            "max_height": null,
            "max_width": null,
            "min_height": null,
            "min_width": null,
            "object_fit": null,
            "object_position": null,
            "order": null,
            "overflow": null,
            "overflow_x": null,
            "overflow_y": null,
            "padding": null,
            "right": null,
            "top": null,
            "visibility": null,
            "width": null
          }
        },
        "b9696420d0e4430b87dec12c068bdc2b": {
          "model_module": "@jupyter-widgets/controls",
          "model_name": "DescriptionStyleModel",
          "model_module_version": "1.5.0",
          "state": {
            "_model_module": "@jupyter-widgets/controls",
            "_model_module_version": "1.5.0",
            "_model_name": "DescriptionStyleModel",
            "_view_count": null,
            "_view_module": "@jupyter-widgets/base",
            "_view_module_version": "1.2.0",
            "_view_name": "StyleView",
            "description_width": ""
          }
        },
        "729a89cd69d94d33a00d654bccbb307b": {
          "model_module": "@jupyter-widgets/base",
          "model_name": "LayoutModel",
          "model_module_version": "1.2.0",
          "state": {
            "_model_module": "@jupyter-widgets/base",
            "_model_module_version": "1.2.0",
            "_model_name": "LayoutModel",
            "_view_count": null,
            "_view_module": "@jupyter-widgets/base",
            "_view_module_version": "1.2.0",
            "_view_name": "LayoutView",
            "align_content": null,
            "align_items": null,
            "align_self": null,
            "border": null,
            "bottom": null,
            "display": null,
            "flex": null,
            "flex_flow": null,
            "grid_area": null,
            "grid_auto_columns": null,
            "grid_auto_flow": null,
            "grid_auto_rows": null,
            "grid_column": null,
            "grid_gap": null,
            "grid_row": null,
            "grid_template_areas": null,
            "grid_template_columns": null,
            "grid_template_rows": null,
            "height": null,
            "justify_content": null,
            "justify_items": null,
            "left": null,
            "margin": null,
            "max_height": null,
            "max_width": null,
            "min_height": null,
            "min_width": null,
            "object_fit": null,
            "object_position": null,
            "order": null,
            "overflow": null,
            "overflow_x": null,
            "overflow_y": null,
            "padding": null,
            "right": null,
            "top": null,
            "visibility": null,
            "width": "20px"
          }
        },
        "f92084e0cf164197b94975d1430ce235": {
          "model_module": "@jupyter-widgets/controls",
          "model_name": "ProgressStyleModel",
          "model_module_version": "1.5.0",
          "state": {
            "_model_module": "@jupyter-widgets/controls",
            "_model_module_version": "1.5.0",
            "_model_name": "ProgressStyleModel",
            "_view_count": null,
            "_view_module": "@jupyter-widgets/base",
            "_view_module_version": "1.2.0",
            "_view_name": "StyleView",
            "bar_color": null,
            "description_width": ""
          }
        },
        "3ce6c5329a09414fa143c4d2ccb9be27": {
          "model_module": "@jupyter-widgets/base",
          "model_name": "LayoutModel",
          "model_module_version": "1.2.0",
          "state": {
            "_model_module": "@jupyter-widgets/base",
            "_model_module_version": "1.2.0",
            "_model_name": "LayoutModel",
            "_view_count": null,
            "_view_module": "@jupyter-widgets/base",
            "_view_module_version": "1.2.0",
            "_view_name": "LayoutView",
            "align_content": null,
            "align_items": null,
            "align_self": null,
            "border": null,
            "bottom": null,
            "display": null,
            "flex": null,
            "flex_flow": null,
            "grid_area": null,
            "grid_auto_columns": null,
            "grid_auto_flow": null,
            "grid_auto_rows": null,
            "grid_column": null,
            "grid_gap": null,
            "grid_row": null,
            "grid_template_areas": null,
            "grid_template_columns": null,
            "grid_template_rows": null,
            "height": null,
            "justify_content": null,
            "justify_items": null,
            "left": null,
            "margin": null,
            "max_height": null,
            "max_width": null,
            "min_height": null,
            "min_width": null,
            "object_fit": null,
            "object_position": null,
            "order": null,
            "overflow": null,
            "overflow_x": null,
            "overflow_y": null,
            "padding": null,
            "right": null,
            "top": null,
            "visibility": null,
            "width": null
          }
        },
        "8dac34256aa144b09a0386e292e0af2f": {
          "model_module": "@jupyter-widgets/controls",
          "model_name": "DescriptionStyleModel",
          "model_module_version": "1.5.0",
          "state": {
            "_model_module": "@jupyter-widgets/controls",
            "_model_module_version": "1.5.0",
            "_model_name": "DescriptionStyleModel",
            "_view_count": null,
            "_view_module": "@jupyter-widgets/base",
            "_view_module_version": "1.2.0",
            "_view_name": "StyleView",
            "description_width": ""
          }
        },
        "40b3d563fb274f029f55ccb1fd8006f1": {
          "model_module": "@jupyter-widgets/controls",
          "model_name": "HBoxModel",
          "model_module_version": "1.5.0",
          "state": {
            "_dom_classes": [],
            "_model_module": "@jupyter-widgets/controls",
            "_model_module_version": "1.5.0",
            "_model_name": "HBoxModel",
            "_view_count": null,
            "_view_module": "@jupyter-widgets/controls",
            "_view_module_version": "1.5.0",
            "_view_name": "HBoxView",
            "box_style": "",
            "children": [
              "IPY_MODEL_3dd019544f5e42ee9b1cd8b23672f179",
              "IPY_MODEL_05889ab85a234526aa56c8fad22b8f48",
              "IPY_MODEL_7d4c942809634e9fa9c7a64ee1421cbf"
            ],
            "layout": "IPY_MODEL_ceb93a554fd646b09f149adc7a0ac529"
          }
        },
        "3dd019544f5e42ee9b1cd8b23672f179": {
          "model_module": "@jupyter-widgets/controls",
          "model_name": "HTMLModel",
          "model_module_version": "1.5.0",
          "state": {
            "_dom_classes": [],
            "_model_module": "@jupyter-widgets/controls",
            "_model_module_version": "1.5.0",
            "_model_name": "HTMLModel",
            "_view_count": null,
            "_view_module": "@jupyter-widgets/controls",
            "_view_module_version": "1.5.0",
            "_view_name": "HTMLView",
            "description": "",
            "description_tooltip": null,
            "layout": "IPY_MODEL_bb225357222449eb9c6a89f4f8ca2421",
            "placeholder": "​",
            "style": "IPY_MODEL_36c1644cb30040ada0d9a5d18a377747",
            "value": ""
          }
        },
        "05889ab85a234526aa56c8fad22b8f48": {
          "model_module": "@jupyter-widgets/controls",
          "model_name": "FloatProgressModel",
          "model_module_version": "1.5.0",
          "state": {
            "_dom_classes": [],
            "_model_module": "@jupyter-widgets/controls",
            "_model_module_version": "1.5.0",
            "_model_name": "FloatProgressModel",
            "_view_count": null,
            "_view_module": "@jupyter-widgets/controls",
            "_view_module_version": "1.5.0",
            "_view_name": "ProgressView",
            "bar_style": "success",
            "description": "",
            "description_tooltip": null,
            "layout": "IPY_MODEL_d204f8c4b9c2445ba35a53fd004798dd",
            "max": 1,
            "min": 0,
            "orientation": "horizontal",
            "style": "IPY_MODEL_8085910b811a43858e446f9d4e645f46",
            "value": 1
          }
        },
        "7d4c942809634e9fa9c7a64ee1421cbf": {
          "model_module": "@jupyter-widgets/controls",
          "model_name": "HTMLModel",
          "model_module_version": "1.5.0",
          "state": {
            "_dom_classes": [],
            "_model_module": "@jupyter-widgets/controls",
            "_model_module_version": "1.5.0",
            "_model_name": "HTMLModel",
            "_view_count": null,
            "_view_module": "@jupyter-widgets/controls",
            "_view_module_version": "1.5.0",
            "_view_name": "HTMLView",
            "description": "",
            "description_tooltip": null,
            "layout": "IPY_MODEL_1befc3dd444a4c6592250e440fb4f8b6",
            "placeholder": "​",
            "style": "IPY_MODEL_33974c32f6be4c42ae4ae51d6db3902f",
            "value": " 1647/? [00:00&lt;00:00, 1797.92ex/s]"
          }
        },
        "ceb93a554fd646b09f149adc7a0ac529": {
          "model_module": "@jupyter-widgets/base",
          "model_name": "LayoutModel",
          "model_module_version": "1.2.0",
          "state": {
            "_model_module": "@jupyter-widgets/base",
            "_model_module_version": "1.2.0",
            "_model_name": "LayoutModel",
            "_view_count": null,
            "_view_module": "@jupyter-widgets/base",
            "_view_module_version": "1.2.0",
            "_view_name": "LayoutView",
            "align_content": null,
            "align_items": null,
            "align_self": null,
            "border": null,
            "bottom": null,
            "display": null,
            "flex": null,
            "flex_flow": null,
            "grid_area": null,
            "grid_auto_columns": null,
            "grid_auto_flow": null,
            "grid_auto_rows": null,
            "grid_column": null,
            "grid_gap": null,
            "grid_row": null,
            "grid_template_areas": null,
            "grid_template_columns": null,
            "grid_template_rows": null,
            "height": null,
            "justify_content": null,
            "justify_items": null,
            "left": null,
            "margin": null,
            "max_height": null,
            "max_width": null,
            "min_height": null,
            "min_width": null,
            "object_fit": null,
            "object_position": null,
            "order": null,
            "overflow": null,
            "overflow_x": null,
            "overflow_y": null,
            "padding": null,
            "right": null,
            "top": null,
            "visibility": null,
            "width": null
          }
        },
        "bb225357222449eb9c6a89f4f8ca2421": {
          "model_module": "@jupyter-widgets/base",
          "model_name": "LayoutModel",
          "model_module_version": "1.2.0",
          "state": {
            "_model_module": "@jupyter-widgets/base",
            "_model_module_version": "1.2.0",
            "_model_name": "LayoutModel",
            "_view_count": null,
            "_view_module": "@jupyter-widgets/base",
            "_view_module_version": "1.2.0",
            "_view_name": "LayoutView",
            "align_content": null,
            "align_items": null,
            "align_self": null,
            "border": null,
            "bottom": null,
            "display": null,
            "flex": null,
            "flex_flow": null,
            "grid_area": null,
            "grid_auto_columns": null,
            "grid_auto_flow": null,
            "grid_auto_rows": null,
            "grid_column": null,
            "grid_gap": null,
            "grid_row": null,
            "grid_template_areas": null,
            "grid_template_columns": null,
            "grid_template_rows": null,
            "height": null,
            "justify_content": null,
            "justify_items": null,
            "left": null,
            "margin": null,
            "max_height": null,
            "max_width": null,
            "min_height": null,
            "min_width": null,
            "object_fit": null,
            "object_position": null,
            "order": null,
            "overflow": null,
            "overflow_x": null,
            "overflow_y": null,
            "padding": null,
            "right": null,
            "top": null,
            "visibility": null,
            "width": null
          }
        },
        "36c1644cb30040ada0d9a5d18a377747": {
          "model_module": "@jupyter-widgets/controls",
          "model_name": "DescriptionStyleModel",
          "model_module_version": "1.5.0",
          "state": {
            "_model_module": "@jupyter-widgets/controls",
            "_model_module_version": "1.5.0",
            "_model_name": "DescriptionStyleModel",
            "_view_count": null,
            "_view_module": "@jupyter-widgets/base",
            "_view_module_version": "1.2.0",
            "_view_name": "StyleView",
            "description_width": ""
          }
        },
        "d204f8c4b9c2445ba35a53fd004798dd": {
          "model_module": "@jupyter-widgets/base",
          "model_name": "LayoutModel",
          "model_module_version": "1.2.0",
          "state": {
            "_model_module": "@jupyter-widgets/base",
            "_model_module_version": "1.2.0",
            "_model_name": "LayoutModel",
            "_view_count": null,
            "_view_module": "@jupyter-widgets/base",
            "_view_module_version": "1.2.0",
            "_view_name": "LayoutView",
            "align_content": null,
            "align_items": null,
            "align_self": null,
            "border": null,
            "bottom": null,
            "display": null,
            "flex": null,
            "flex_flow": null,
            "grid_area": null,
            "grid_auto_columns": null,
            "grid_auto_flow": null,
            "grid_auto_rows": null,
            "grid_column": null,
            "grid_gap": null,
            "grid_row": null,
            "grid_template_areas": null,
            "grid_template_columns": null,
            "grid_template_rows": null,
            "height": null,
            "justify_content": null,
            "justify_items": null,
            "left": null,
            "margin": null,
            "max_height": null,
            "max_width": null,
            "min_height": null,
            "min_width": null,
            "object_fit": null,
            "object_position": null,
            "order": null,
            "overflow": null,
            "overflow_x": null,
            "overflow_y": null,
            "padding": null,
            "right": null,
            "top": null,
            "visibility": null,
            "width": "20px"
          }
        },
        "8085910b811a43858e446f9d4e645f46": {
          "model_module": "@jupyter-widgets/controls",
          "model_name": "ProgressStyleModel",
          "model_module_version": "1.5.0",
          "state": {
            "_model_module": "@jupyter-widgets/controls",
            "_model_module_version": "1.5.0",
            "_model_name": "ProgressStyleModel",
            "_view_count": null,
            "_view_module": "@jupyter-widgets/base",
            "_view_module_version": "1.2.0",
            "_view_name": "StyleView",
            "bar_color": null,
            "description_width": ""
          }
        },
        "1befc3dd444a4c6592250e440fb4f8b6": {
          "model_module": "@jupyter-widgets/base",
          "model_name": "LayoutModel",
          "model_module_version": "1.2.0",
          "state": {
            "_model_module": "@jupyter-widgets/base",
            "_model_module_version": "1.2.0",
            "_model_name": "LayoutModel",
            "_view_count": null,
            "_view_module": "@jupyter-widgets/base",
            "_view_module_version": "1.2.0",
            "_view_name": "LayoutView",
            "align_content": null,
            "align_items": null,
            "align_self": null,
            "border": null,
            "bottom": null,
            "display": null,
            "flex": null,
            "flex_flow": null,
            "grid_area": null,
            "grid_auto_columns": null,
            "grid_auto_flow": null,
            "grid_auto_rows": null,
            "grid_column": null,
            "grid_gap": null,
            "grid_row": null,
            "grid_template_areas": null,
            "grid_template_columns": null,
            "grid_template_rows": null,
            "height": null,
            "justify_content": null,
            "justify_items": null,
            "left": null,
            "margin": null,
            "max_height": null,
            "max_width": null,
            "min_height": null,
            "min_width": null,
            "object_fit": null,
            "object_position": null,
            "order": null,
            "overflow": null,
            "overflow_x": null,
            "overflow_y": null,
            "padding": null,
            "right": null,
            "top": null,
            "visibility": null,
            "width": null
          }
        },
        "33974c32f6be4c42ae4ae51d6db3902f": {
          "model_module": "@jupyter-widgets/controls",
          "model_name": "DescriptionStyleModel",
          "model_module_version": "1.5.0",
          "state": {
            "_model_module": "@jupyter-widgets/controls",
            "_model_module_version": "1.5.0",
            "_model_name": "DescriptionStyleModel",
            "_view_count": null,
            "_view_module": "@jupyter-widgets/base",
            "_view_module_version": "1.2.0",
            "_view_name": "StyleView",
            "description_width": ""
          }
        },
        "ea4232d3821b4257a2350b8bc4926bec": {
          "model_module": "@jupyter-widgets/controls",
          "model_name": "HBoxModel",
          "model_module_version": "1.5.0",
          "state": {
            "_dom_classes": [],
            "_model_module": "@jupyter-widgets/controls",
            "_model_module_version": "1.5.0",
            "_model_name": "HBoxModel",
            "_view_count": null,
            "_view_module": "@jupyter-widgets/controls",
            "_view_module_version": "1.5.0",
            "_view_name": "HBoxView",
            "box_style": "",
            "children": [
              "IPY_MODEL_e892b3a0eb4044fd93fc6084e10f3c4a",
              "IPY_MODEL_0e633e232e32443797c47fbf26918bc4",
              "IPY_MODEL_4f214478819f40b297bb91d00d28f5e1"
            ],
            "layout": "IPY_MODEL_5e3fd9bc041341bab1c74ecab0082c9a"
          }
        },
        "e892b3a0eb4044fd93fc6084e10f3c4a": {
          "model_module": "@jupyter-widgets/controls",
          "model_name": "HTMLModel",
          "model_module_version": "1.5.0",
          "state": {
            "_dom_classes": [],
            "_model_module": "@jupyter-widgets/controls",
            "_model_module_version": "1.5.0",
            "_model_name": "HTMLModel",
            "_view_count": null,
            "_view_module": "@jupyter-widgets/controls",
            "_view_module_version": "1.5.0",
            "_view_name": "HTMLView",
            "description": "",
            "description_tooltip": null,
            "layout": "IPY_MODEL_78976642fca94312988b4273f2955cf5",
            "placeholder": "​",
            "style": "IPY_MODEL_8bde577056ca4896ab024c6b19336abf",
            "value": "100%"
          }
        },
        "0e633e232e32443797c47fbf26918bc4": {
          "model_module": "@jupyter-widgets/controls",
          "model_name": "FloatProgressModel",
          "model_module_version": "1.5.0",
          "state": {
            "_dom_classes": [],
            "_model_module": "@jupyter-widgets/controls",
            "_model_module_version": "1.5.0",
            "_model_name": "FloatProgressModel",
            "_view_count": null,
            "_view_module": "@jupyter-widgets/controls",
            "_view_module_version": "1.5.0",
            "_view_name": "ProgressView",
            "bar_style": "success",
            "description": "",
            "description_tooltip": null,
            "layout": "IPY_MODEL_193fac3191744cde891c1b88c6bf75ae",
            "max": 1,
            "min": 0,
            "orientation": "horizontal",
            "style": "IPY_MODEL_161b9b893c9e41b282ecc34bdaa11f1f",
            "value": 1
          }
        },
        "4f214478819f40b297bb91d00d28f5e1": {
          "model_module": "@jupyter-widgets/controls",
          "model_name": "HTMLModel",
          "model_module_version": "1.5.0",
          "state": {
            "_dom_classes": [],
            "_model_module": "@jupyter-widgets/controls",
            "_model_module_version": "1.5.0",
            "_model_name": "HTMLModel",
            "_view_count": null,
            "_view_module": "@jupyter-widgets/controls",
            "_view_module_version": "1.5.0",
            "_view_name": "HTMLView",
            "description": "",
            "description_tooltip": null,
            "layout": "IPY_MODEL_5369ea684a004668a75b6c2dd0318647",
            "placeholder": "​",
            "style": "IPY_MODEL_079f2fb0ecac4091845238e6288c38cd",
            "value": " 1/1 [00:00&lt;00:00,  4.25ba/s]"
          }
        },
        "5e3fd9bc041341bab1c74ecab0082c9a": {
          "model_module": "@jupyter-widgets/base",
          "model_name": "LayoutModel",
          "model_module_version": "1.2.0",
          "state": {
            "_model_module": "@jupyter-widgets/base",
            "_model_module_version": "1.2.0",
            "_model_name": "LayoutModel",
            "_view_count": null,
            "_view_module": "@jupyter-widgets/base",
            "_view_module_version": "1.2.0",
            "_view_name": "LayoutView",
            "align_content": null,
            "align_items": null,
            "align_self": null,
            "border": null,
            "bottom": null,
            "display": null,
            "flex": null,
            "flex_flow": null,
            "grid_area": null,
            "grid_auto_columns": null,
            "grid_auto_flow": null,
            "grid_auto_rows": null,
            "grid_column": null,
            "grid_gap": null,
            "grid_row": null,
            "grid_template_areas": null,
            "grid_template_columns": null,
            "grid_template_rows": null,
            "height": null,
            "justify_content": null,
            "justify_items": null,
            "left": null,
            "margin": null,
            "max_height": null,
            "max_width": null,
            "min_height": null,
            "min_width": null,
            "object_fit": null,
            "object_position": null,
            "order": null,
            "overflow": null,
            "overflow_x": null,
            "overflow_y": null,
            "padding": null,
            "right": null,
            "top": null,
            "visibility": null,
            "width": null
          }
        },
        "78976642fca94312988b4273f2955cf5": {
          "model_module": "@jupyter-widgets/base",
          "model_name": "LayoutModel",
          "model_module_version": "1.2.0",
          "state": {
            "_model_module": "@jupyter-widgets/base",
            "_model_module_version": "1.2.0",
            "_model_name": "LayoutModel",
            "_view_count": null,
            "_view_module": "@jupyter-widgets/base",
            "_view_module_version": "1.2.0",
            "_view_name": "LayoutView",
            "align_content": null,
            "align_items": null,
            "align_self": null,
            "border": null,
            "bottom": null,
            "display": null,
            "flex": null,
            "flex_flow": null,
            "grid_area": null,
            "grid_auto_columns": null,
            "grid_auto_flow": null,
            "grid_auto_rows": null,
            "grid_column": null,
            "grid_gap": null,
            "grid_row": null,
            "grid_template_areas": null,
            "grid_template_columns": null,
            "grid_template_rows": null,
            "height": null,
            "justify_content": null,
            "justify_items": null,
            "left": null,
            "margin": null,
            "max_height": null,
            "max_width": null,
            "min_height": null,
            "min_width": null,
            "object_fit": null,
            "object_position": null,
            "order": null,
            "overflow": null,
            "overflow_x": null,
            "overflow_y": null,
            "padding": null,
            "right": null,
            "top": null,
            "visibility": null,
            "width": null
          }
        },
        "8bde577056ca4896ab024c6b19336abf": {
          "model_module": "@jupyter-widgets/controls",
          "model_name": "DescriptionStyleModel",
          "model_module_version": "1.5.0",
          "state": {
            "_model_module": "@jupyter-widgets/controls",
            "_model_module_version": "1.5.0",
            "_model_name": "DescriptionStyleModel",
            "_view_count": null,
            "_view_module": "@jupyter-widgets/base",
            "_view_module_version": "1.2.0",
            "_view_name": "StyleView",
            "description_width": ""
          }
        },
        "193fac3191744cde891c1b88c6bf75ae": {
          "model_module": "@jupyter-widgets/base",
          "model_name": "LayoutModel",
          "model_module_version": "1.2.0",
          "state": {
            "_model_module": "@jupyter-widgets/base",
            "_model_module_version": "1.2.0",
            "_model_name": "LayoutModel",
            "_view_count": null,
            "_view_module": "@jupyter-widgets/base",
            "_view_module_version": "1.2.0",
            "_view_name": "LayoutView",
            "align_content": null,
            "align_items": null,
            "align_self": null,
            "border": null,
            "bottom": null,
            "display": null,
            "flex": null,
            "flex_flow": null,
            "grid_area": null,
            "grid_auto_columns": null,
            "grid_auto_flow": null,
            "grid_auto_rows": null,
            "grid_column": null,
            "grid_gap": null,
            "grid_row": null,
            "grid_template_areas": null,
            "grid_template_columns": null,
            "grid_template_rows": null,
            "height": null,
            "justify_content": null,
            "justify_items": null,
            "left": null,
            "margin": null,
            "max_height": null,
            "max_width": null,
            "min_height": null,
            "min_width": null,
            "object_fit": null,
            "object_position": null,
            "order": null,
            "overflow": null,
            "overflow_x": null,
            "overflow_y": null,
            "padding": null,
            "right": null,
            "top": null,
            "visibility": null,
            "width": null
          }
        },
        "161b9b893c9e41b282ecc34bdaa11f1f": {
          "model_module": "@jupyter-widgets/controls",
          "model_name": "ProgressStyleModel",
          "model_module_version": "1.5.0",
          "state": {
            "_model_module": "@jupyter-widgets/controls",
            "_model_module_version": "1.5.0",
            "_model_name": "ProgressStyleModel",
            "_view_count": null,
            "_view_module": "@jupyter-widgets/base",
            "_view_module_version": "1.2.0",
            "_view_name": "StyleView",
            "bar_color": null,
            "description_width": ""
          }
        },
        "5369ea684a004668a75b6c2dd0318647": {
          "model_module": "@jupyter-widgets/base",
          "model_name": "LayoutModel",
          "model_module_version": "1.2.0",
          "state": {
            "_model_module": "@jupyter-widgets/base",
            "_model_module_version": "1.2.0",
            "_model_name": "LayoutModel",
            "_view_count": null,
            "_view_module": "@jupyter-widgets/base",
            "_view_module_version": "1.2.0",
            "_view_name": "LayoutView",
            "align_content": null,
            "align_items": null,
            "align_self": null,
            "border": null,
            "bottom": null,
            "display": null,
            "flex": null,
            "flex_flow": null,
            "grid_area": null,
            "grid_auto_columns": null,
            "grid_auto_flow": null,
            "grid_auto_rows": null,
            "grid_column": null,
            "grid_gap": null,
            "grid_row": null,
            "grid_template_areas": null,
            "grid_template_columns": null,
            "grid_template_rows": null,
            "height": null,
            "justify_content": null,
            "justify_items": null,
            "left": null,
            "margin": null,
            "max_height": null,
            "max_width": null,
            "min_height": null,
            "min_width": null,
            "object_fit": null,
            "object_position": null,
            "order": null,
            "overflow": null,
            "overflow_x": null,
            "overflow_y": null,
            "padding": null,
            "right": null,
            "top": null,
            "visibility": null,
            "width": null
          }
        },
        "079f2fb0ecac4091845238e6288c38cd": {
          "model_module": "@jupyter-widgets/controls",
          "model_name": "DescriptionStyleModel",
          "model_module_version": "1.5.0",
          "state": {
            "_model_module": "@jupyter-widgets/controls",
            "_model_module_version": "1.5.0",
            "_model_name": "DescriptionStyleModel",
            "_view_count": null,
            "_view_module": "@jupyter-widgets/base",
            "_view_module_version": "1.2.0",
            "_view_name": "StyleView",
            "description_width": ""
          }
        },
        "ab16052f83d74ec5a89acc4b7d839dd9": {
          "model_module": "@jupyter-widgets/controls",
          "model_name": "HBoxModel",
          "model_module_version": "1.5.0",
          "state": {
            "_dom_classes": [],
            "_model_module": "@jupyter-widgets/controls",
            "_model_module_version": "1.5.0",
            "_model_name": "HBoxModel",
            "_view_count": null,
            "_view_module": "@jupyter-widgets/controls",
            "_view_module_version": "1.5.0",
            "_view_name": "HBoxView",
            "box_style": "",
            "children": [
              "IPY_MODEL_1c2d2f02fdff4346a40fbd9d65abbcb2",
              "IPY_MODEL_7ae51b03cd0b4e3db6fb226c71964762",
              "IPY_MODEL_23a69deef5d94006b8df7f5d7cbe9be3"
            ],
            "layout": "IPY_MODEL_0f6f8f70988d444ab1f1c4e46c4ac780"
          }
        },
        "1c2d2f02fdff4346a40fbd9d65abbcb2": {
          "model_module": "@jupyter-widgets/controls",
          "model_name": "HTMLModel",
          "model_module_version": "1.5.0",
          "state": {
            "_dom_classes": [],
            "_model_module": "@jupyter-widgets/controls",
            "_model_module_version": "1.5.0",
            "_model_name": "HTMLModel",
            "_view_count": null,
            "_view_module": "@jupyter-widgets/controls",
            "_view_module_version": "1.5.0",
            "_view_name": "HTMLView",
            "description": "",
            "description_tooltip": null,
            "layout": "IPY_MODEL_8a8837d872b948ecbc3005f3d2937a74",
            "placeholder": "​",
            "style": "IPY_MODEL_6569daaaa6a442e191f5b1dc1f73fa98",
            "value": "100%"
          }
        },
        "7ae51b03cd0b4e3db6fb226c71964762": {
          "model_module": "@jupyter-widgets/controls",
          "model_name": "FloatProgressModel",
          "model_module_version": "1.5.0",
          "state": {
            "_dom_classes": [],
            "_model_module": "@jupyter-widgets/controls",
            "_model_module_version": "1.5.0",
            "_model_name": "FloatProgressModel",
            "_view_count": null,
            "_view_module": "@jupyter-widgets/controls",
            "_view_module_version": "1.5.0",
            "_view_name": "ProgressView",
            "bar_style": "success",
            "description": "",
            "description_tooltip": null,
            "layout": "IPY_MODEL_6070597fe97d4848b586cc73d31e138c",
            "max": 1,
            "min": 0,
            "orientation": "horizontal",
            "style": "IPY_MODEL_46dec023332a420ead8dadcb20e7171a",
            "value": 1
          }
        },
        "23a69deef5d94006b8df7f5d7cbe9be3": {
          "model_module": "@jupyter-widgets/controls",
          "model_name": "HTMLModel",
          "model_module_version": "1.5.0",
          "state": {
            "_dom_classes": [],
            "_model_module": "@jupyter-widgets/controls",
            "_model_module_version": "1.5.0",
            "_model_name": "HTMLModel",
            "_view_count": null,
            "_view_module": "@jupyter-widgets/controls",
            "_view_module_version": "1.5.0",
            "_view_name": "HTMLView",
            "description": "",
            "description_tooltip": null,
            "layout": "IPY_MODEL_344adb150bcd4656b7f00e2f3cb973bd",
            "placeholder": "​",
            "style": "IPY_MODEL_3dbab76c453b456a9ca0f88f3fe37ba8",
            "value": " 1/1 [00:00&lt;00:00,  7.41ba/s]"
          }
        },
        "0f6f8f70988d444ab1f1c4e46c4ac780": {
          "model_module": "@jupyter-widgets/base",
          "model_name": "LayoutModel",
          "model_module_version": "1.2.0",
          "state": {
            "_model_module": "@jupyter-widgets/base",
            "_model_module_version": "1.2.0",
            "_model_name": "LayoutModel",
            "_view_count": null,
            "_view_module": "@jupyter-widgets/base",
            "_view_module_version": "1.2.0",
            "_view_name": "LayoutView",
            "align_content": null,
            "align_items": null,
            "align_self": null,
            "border": null,
            "bottom": null,
            "display": null,
            "flex": null,
            "flex_flow": null,
            "grid_area": null,
            "grid_auto_columns": null,
            "grid_auto_flow": null,
            "grid_auto_rows": null,
            "grid_column": null,
            "grid_gap": null,
            "grid_row": null,
            "grid_template_areas": null,
            "grid_template_columns": null,
            "grid_template_rows": null,
            "height": null,
            "justify_content": null,
            "justify_items": null,
            "left": null,
            "margin": null,
            "max_height": null,
            "max_width": null,
            "min_height": null,
            "min_width": null,
            "object_fit": null,
            "object_position": null,
            "order": null,
            "overflow": null,
            "overflow_x": null,
            "overflow_y": null,
            "padding": null,
            "right": null,
            "top": null,
            "visibility": null,
            "width": null
          }
        },
        "8a8837d872b948ecbc3005f3d2937a74": {
          "model_module": "@jupyter-widgets/base",
          "model_name": "LayoutModel",
          "model_module_version": "1.2.0",
          "state": {
            "_model_module": "@jupyter-widgets/base",
            "_model_module_version": "1.2.0",
            "_model_name": "LayoutModel",
            "_view_count": null,
            "_view_module": "@jupyter-widgets/base",
            "_view_module_version": "1.2.0",
            "_view_name": "LayoutView",
            "align_content": null,
            "align_items": null,
            "align_self": null,
            "border": null,
            "bottom": null,
            "display": null,
            "flex": null,
            "flex_flow": null,
            "grid_area": null,
            "grid_auto_columns": null,
            "grid_auto_flow": null,
            "grid_auto_rows": null,
            "grid_column": null,
            "grid_gap": null,
            "grid_row": null,
            "grid_template_areas": null,
            "grid_template_columns": null,
            "grid_template_rows": null,
            "height": null,
            "justify_content": null,
            "justify_items": null,
            "left": null,
            "margin": null,
            "max_height": null,
            "max_width": null,
            "min_height": null,
            "min_width": null,
            "object_fit": null,
            "object_position": null,
            "order": null,
            "overflow": null,
            "overflow_x": null,
            "overflow_y": null,
            "padding": null,
            "right": null,
            "top": null,
            "visibility": null,
            "width": null
          }
        },
        "6569daaaa6a442e191f5b1dc1f73fa98": {
          "model_module": "@jupyter-widgets/controls",
          "model_name": "DescriptionStyleModel",
          "model_module_version": "1.5.0",
          "state": {
            "_model_module": "@jupyter-widgets/controls",
            "_model_module_version": "1.5.0",
            "_model_name": "DescriptionStyleModel",
            "_view_count": null,
            "_view_module": "@jupyter-widgets/base",
            "_view_module_version": "1.2.0",
            "_view_name": "StyleView",
            "description_width": ""
          }
        },
        "6070597fe97d4848b586cc73d31e138c": {
          "model_module": "@jupyter-widgets/base",
          "model_name": "LayoutModel",
          "model_module_version": "1.2.0",
          "state": {
            "_model_module": "@jupyter-widgets/base",
            "_model_module_version": "1.2.0",
            "_model_name": "LayoutModel",
            "_view_count": null,
            "_view_module": "@jupyter-widgets/base",
            "_view_module_version": "1.2.0",
            "_view_name": "LayoutView",
            "align_content": null,
            "align_items": null,
            "align_self": null,
            "border": null,
            "bottom": null,
            "display": null,
            "flex": null,
            "flex_flow": null,
            "grid_area": null,
            "grid_auto_columns": null,
            "grid_auto_flow": null,
            "grid_auto_rows": null,
            "grid_column": null,
            "grid_gap": null,
            "grid_row": null,
            "grid_template_areas": null,
            "grid_template_columns": null,
            "grid_template_rows": null,
            "height": null,
            "justify_content": null,
            "justify_items": null,
            "left": null,
            "margin": null,
            "max_height": null,
            "max_width": null,
            "min_height": null,
            "min_width": null,
            "object_fit": null,
            "object_position": null,
            "order": null,
            "overflow": null,
            "overflow_x": null,
            "overflow_y": null,
            "padding": null,
            "right": null,
            "top": null,
            "visibility": null,
            "width": null
          }
        },
        "46dec023332a420ead8dadcb20e7171a": {
          "model_module": "@jupyter-widgets/controls",
          "model_name": "ProgressStyleModel",
          "model_module_version": "1.5.0",
          "state": {
            "_model_module": "@jupyter-widgets/controls",
            "_model_module_version": "1.5.0",
            "_model_name": "ProgressStyleModel",
            "_view_count": null,
            "_view_module": "@jupyter-widgets/base",
            "_view_module_version": "1.2.0",
            "_view_name": "StyleView",
            "bar_color": null,
            "description_width": ""
          }
        },
        "344adb150bcd4656b7f00e2f3cb973bd": {
          "model_module": "@jupyter-widgets/base",
          "model_name": "LayoutModel",
          "model_module_version": "1.2.0",
          "state": {
            "_model_module": "@jupyter-widgets/base",
            "_model_module_version": "1.2.0",
            "_model_name": "LayoutModel",
            "_view_count": null,
            "_view_module": "@jupyter-widgets/base",
            "_view_module_version": "1.2.0",
            "_view_name": "LayoutView",
            "align_content": null,
            "align_items": null,
            "align_self": null,
            "border": null,
            "bottom": null,
            "display": null,
            "flex": null,
            "flex_flow": null,
            "grid_area": null,
            "grid_auto_columns": null,
            "grid_auto_flow": null,
            "grid_auto_rows": null,
            "grid_column": null,
            "grid_gap": null,
            "grid_row": null,
            "grid_template_areas": null,
            "grid_template_columns": null,
            "grid_template_rows": null,
            "height": null,
            "justify_content": null,
            "justify_items": null,
            "left": null,
            "margin": null,
            "max_height": null,
            "max_width": null,
            "min_height": null,
            "min_width": null,
            "object_fit": null,
            "object_position": null,
            "order": null,
            "overflow": null,
            "overflow_x": null,
            "overflow_y": null,
            "padding": null,
            "right": null,
            "top": null,
            "visibility": null,
            "width": null
          }
        },
        "3dbab76c453b456a9ca0f88f3fe37ba8": {
          "model_module": "@jupyter-widgets/controls",
          "model_name": "DescriptionStyleModel",
          "model_module_version": "1.5.0",
          "state": {
            "_model_module": "@jupyter-widgets/controls",
            "_model_module_version": "1.5.0",
            "_model_name": "DescriptionStyleModel",
            "_view_count": null,
            "_view_module": "@jupyter-widgets/base",
            "_view_module_version": "1.2.0",
            "_view_name": "StyleView",
            "description_width": ""
          }
        },
        "88b35f51044c472f8258584282bbf217": {
          "model_module": "@jupyter-widgets/controls",
          "model_name": "HBoxModel",
          "model_module_version": "1.5.0",
          "state": {
            "_dom_classes": [],
            "_model_module": "@jupyter-widgets/controls",
            "_model_module_version": "1.5.0",
            "_model_name": "HBoxModel",
            "_view_count": null,
            "_view_module": "@jupyter-widgets/controls",
            "_view_module_version": "1.5.0",
            "_view_name": "HBoxView",
            "box_style": "",
            "children": [
              "IPY_MODEL_676162601e1a40a1a3f77efd8dcd7dbb",
              "IPY_MODEL_79db4ff0fc28449b82937dc61e818530",
              "IPY_MODEL_379f9ec9969f4bae82cc9354b4ac0eca"
            ],
            "layout": "IPY_MODEL_353c90450dd04d6c9f3b352e697a80a1"
          }
        },
        "676162601e1a40a1a3f77efd8dcd7dbb": {
          "model_module": "@jupyter-widgets/controls",
          "model_name": "HTMLModel",
          "model_module_version": "1.5.0",
          "state": {
            "_dom_classes": [],
            "_model_module": "@jupyter-widgets/controls",
            "_model_module_version": "1.5.0",
            "_model_name": "HTMLModel",
            "_view_count": null,
            "_view_module": "@jupyter-widgets/controls",
            "_view_module_version": "1.5.0",
            "_view_name": "HTMLView",
            "description": "",
            "description_tooltip": null,
            "layout": "IPY_MODEL_71b95a406a2b4a5cbe5275cea026a761",
            "placeholder": "​",
            "style": "IPY_MODEL_416de04091b14fb1b78464eeb508738e",
            "value": ""
          }
        },
        "79db4ff0fc28449b82937dc61e818530": {
          "model_module": "@jupyter-widgets/controls",
          "model_name": "FloatProgressModel",
          "model_module_version": "1.5.0",
          "state": {
            "_dom_classes": [],
            "_model_module": "@jupyter-widgets/controls",
            "_model_module_version": "1.5.0",
            "_model_name": "FloatProgressModel",
            "_view_count": null,
            "_view_module": "@jupyter-widgets/controls",
            "_view_module_version": "1.5.0",
            "_view_name": "ProgressView",
            "bar_style": "danger",
            "description": "",
            "description_tooltip": null,
            "layout": "IPY_MODEL_eabc6106c5a048a1ae4b8eac4d8d2c3a",
            "max": 1,
            "min": 0,
            "orientation": "horizontal",
            "style": "IPY_MODEL_3fe9dbcd96df4769802b6bd9e2a7370c",
            "value": 0
          }
        },
        "379f9ec9969f4bae82cc9354b4ac0eca": {
          "model_module": "@jupyter-widgets/controls",
          "model_name": "HTMLModel",
          "model_module_version": "1.5.0",
          "state": {
            "_dom_classes": [],
            "_model_module": "@jupyter-widgets/controls",
            "_model_module_version": "1.5.0",
            "_model_name": "HTMLModel",
            "_view_count": null,
            "_view_module": "@jupyter-widgets/controls",
            "_view_module_version": "1.5.0",
            "_view_name": "HTMLView",
            "description": "",
            "description_tooltip": null,
            "layout": "IPY_MODEL_ad74280439654ef89ff695e40af80eb2",
            "placeholder": "​",
            "style": "IPY_MODEL_57eb66f5aa9947739d79ece502e72d2f",
            "value": " 0/? [00:00&lt;?, ?ex/s]"
          }
        },
        "353c90450dd04d6c9f3b352e697a80a1": {
          "model_module": "@jupyter-widgets/base",
          "model_name": "LayoutModel",
          "model_module_version": "1.2.0",
          "state": {
            "_model_module": "@jupyter-widgets/base",
            "_model_module_version": "1.2.0",
            "_model_name": "LayoutModel",
            "_view_count": null,
            "_view_module": "@jupyter-widgets/base",
            "_view_module_version": "1.2.0",
            "_view_name": "LayoutView",
            "align_content": null,
            "align_items": null,
            "align_self": null,
            "border": null,
            "bottom": null,
            "display": null,
            "flex": null,
            "flex_flow": null,
            "grid_area": null,
            "grid_auto_columns": null,
            "grid_auto_flow": null,
            "grid_auto_rows": null,
            "grid_column": null,
            "grid_gap": null,
            "grid_row": null,
            "grid_template_areas": null,
            "grid_template_columns": null,
            "grid_template_rows": null,
            "height": null,
            "justify_content": null,
            "justify_items": null,
            "left": null,
            "margin": null,
            "max_height": null,
            "max_width": null,
            "min_height": null,
            "min_width": null,
            "object_fit": null,
            "object_position": null,
            "order": null,
            "overflow": null,
            "overflow_x": null,
            "overflow_y": null,
            "padding": null,
            "right": null,
            "top": null,
            "visibility": null,
            "width": null
          }
        },
        "71b95a406a2b4a5cbe5275cea026a761": {
          "model_module": "@jupyter-widgets/base",
          "model_name": "LayoutModel",
          "model_module_version": "1.2.0",
          "state": {
            "_model_module": "@jupyter-widgets/base",
            "_model_module_version": "1.2.0",
            "_model_name": "LayoutModel",
            "_view_count": null,
            "_view_module": "@jupyter-widgets/base",
            "_view_module_version": "1.2.0",
            "_view_name": "LayoutView",
            "align_content": null,
            "align_items": null,
            "align_self": null,
            "border": null,
            "bottom": null,
            "display": null,
            "flex": null,
            "flex_flow": null,
            "grid_area": null,
            "grid_auto_columns": null,
            "grid_auto_flow": null,
            "grid_auto_rows": null,
            "grid_column": null,
            "grid_gap": null,
            "grid_row": null,
            "grid_template_areas": null,
            "grid_template_columns": null,
            "grid_template_rows": null,
            "height": null,
            "justify_content": null,
            "justify_items": null,
            "left": null,
            "margin": null,
            "max_height": null,
            "max_width": null,
            "min_height": null,
            "min_width": null,
            "object_fit": null,
            "object_position": null,
            "order": null,
            "overflow": null,
            "overflow_x": null,
            "overflow_y": null,
            "padding": null,
            "right": null,
            "top": null,
            "visibility": null,
            "width": null
          }
        },
        "416de04091b14fb1b78464eeb508738e": {
          "model_module": "@jupyter-widgets/controls",
          "model_name": "DescriptionStyleModel",
          "model_module_version": "1.5.0",
          "state": {
            "_model_module": "@jupyter-widgets/controls",
            "_model_module_version": "1.5.0",
            "_model_name": "DescriptionStyleModel",
            "_view_count": null,
            "_view_module": "@jupyter-widgets/base",
            "_view_module_version": "1.2.0",
            "_view_name": "StyleView",
            "description_width": ""
          }
        },
        "eabc6106c5a048a1ae4b8eac4d8d2c3a": {
          "model_module": "@jupyter-widgets/base",
          "model_name": "LayoutModel",
          "model_module_version": "1.2.0",
          "state": {
            "_model_module": "@jupyter-widgets/base",
            "_model_module_version": "1.2.0",
            "_model_name": "LayoutModel",
            "_view_count": null,
            "_view_module": "@jupyter-widgets/base",
            "_view_module_version": "1.2.0",
            "_view_name": "LayoutView",
            "align_content": null,
            "align_items": null,
            "align_self": null,
            "border": null,
            "bottom": null,
            "display": null,
            "flex": null,
            "flex_flow": null,
            "grid_area": null,
            "grid_auto_columns": null,
            "grid_auto_flow": null,
            "grid_auto_rows": null,
            "grid_column": null,
            "grid_gap": null,
            "grid_row": null,
            "grid_template_areas": null,
            "grid_template_columns": null,
            "grid_template_rows": null,
            "height": null,
            "justify_content": null,
            "justify_items": null,
            "left": null,
            "margin": null,
            "max_height": null,
            "max_width": null,
            "min_height": null,
            "min_width": null,
            "object_fit": null,
            "object_position": null,
            "order": null,
            "overflow": null,
            "overflow_x": null,
            "overflow_y": null,
            "padding": null,
            "right": null,
            "top": null,
            "visibility": null,
            "width": "20px"
          }
        },
        "3fe9dbcd96df4769802b6bd9e2a7370c": {
          "model_module": "@jupyter-widgets/controls",
          "model_name": "ProgressStyleModel",
          "model_module_version": "1.5.0",
          "state": {
            "_model_module": "@jupyter-widgets/controls",
            "_model_module_version": "1.5.0",
            "_model_name": "ProgressStyleModel",
            "_view_count": null,
            "_view_module": "@jupyter-widgets/base",
            "_view_module_version": "1.2.0",
            "_view_name": "StyleView",
            "bar_color": null,
            "description_width": ""
          }
        },
        "ad74280439654ef89ff695e40af80eb2": {
          "model_module": "@jupyter-widgets/base",
          "model_name": "LayoutModel",
          "model_module_version": "1.2.0",
          "state": {
            "_model_module": "@jupyter-widgets/base",
            "_model_module_version": "1.2.0",
            "_model_name": "LayoutModel",
            "_view_count": null,
            "_view_module": "@jupyter-widgets/base",
            "_view_module_version": "1.2.0",
            "_view_name": "LayoutView",
            "align_content": null,
            "align_items": null,
            "align_self": null,
            "border": null,
            "bottom": null,
            "display": null,
            "flex": null,
            "flex_flow": null,
            "grid_area": null,
            "grid_auto_columns": null,
            "grid_auto_flow": null,
            "grid_auto_rows": null,
            "grid_column": null,
            "grid_gap": null,
            "grid_row": null,
            "grid_template_areas": null,
            "grid_template_columns": null,
            "grid_template_rows": null,
            "height": null,
            "justify_content": null,
            "justify_items": null,
            "left": null,
            "margin": null,
            "max_height": null,
            "max_width": null,
            "min_height": null,
            "min_width": null,
            "object_fit": null,
            "object_position": null,
            "order": null,
            "overflow": null,
            "overflow_x": null,
            "overflow_y": null,
            "padding": null,
            "right": null,
            "top": null,
            "visibility": null,
            "width": null
          }
        },
        "57eb66f5aa9947739d79ece502e72d2f": {
          "model_module": "@jupyter-widgets/controls",
          "model_name": "DescriptionStyleModel",
          "model_module_version": "1.5.0",
          "state": {
            "_model_module": "@jupyter-widgets/controls",
            "_model_module_version": "1.5.0",
            "_model_name": "DescriptionStyleModel",
            "_view_count": null,
            "_view_module": "@jupyter-widgets/base",
            "_view_module_version": "1.2.0",
            "_view_name": "StyleView",
            "description_width": ""
          }
        },
        "522b8632db564e6e96638c2cb21399ca": {
          "model_module": "@jupyter-widgets/controls",
          "model_name": "HBoxModel",
          "model_module_version": "1.5.0",
          "state": {
            "_dom_classes": [],
            "_model_module": "@jupyter-widgets/controls",
            "_model_module_version": "1.5.0",
            "_model_name": "HBoxModel",
            "_view_count": null,
            "_view_module": "@jupyter-widgets/controls",
            "_view_module_version": "1.5.0",
            "_view_name": "HBoxView",
            "box_style": "",
            "children": [
              "IPY_MODEL_43fa56da8e4941cca61bbd5743edb7b6",
              "IPY_MODEL_b2f02690200e41b88f460c7e8ecadf75",
              "IPY_MODEL_f100809acba64ec9bc01ad0b7b424053"
            ],
            "layout": "IPY_MODEL_84f1384a0b644602aba96bd23f928eea"
          }
        },
        "43fa56da8e4941cca61bbd5743edb7b6": {
          "model_module": "@jupyter-widgets/controls",
          "model_name": "HTMLModel",
          "model_module_version": "1.5.0",
          "state": {
            "_dom_classes": [],
            "_model_module": "@jupyter-widgets/controls",
            "_model_module_version": "1.5.0",
            "_model_name": "HTMLModel",
            "_view_count": null,
            "_view_module": "@jupyter-widgets/controls",
            "_view_module_version": "1.5.0",
            "_view_name": "HTMLView",
            "description": "",
            "description_tooltip": null,
            "layout": "IPY_MODEL_a8f6fd0be85644198c06348f083e4ffc",
            "placeholder": "​",
            "style": "IPY_MODEL_c107ee2880dc4d54a5c31ffd77bb6bde",
            "value": "Downloading: "
          }
        },
        "b2f02690200e41b88f460c7e8ecadf75": {
          "model_module": "@jupyter-widgets/controls",
          "model_name": "FloatProgressModel",
          "model_module_version": "1.5.0",
          "state": {
            "_dom_classes": [],
            "_model_module": "@jupyter-widgets/controls",
            "_model_module_version": "1.5.0",
            "_model_name": "FloatProgressModel",
            "_view_count": null,
            "_view_module": "@jupyter-widgets/controls",
            "_view_module_version": "1.5.0",
            "_view_name": "ProgressView",
            "bar_style": "success",
            "description": "",
            "description_tooltip": null,
            "layout": "IPY_MODEL_97eabdd99d2348df889ea668d88a690d",
            "max": 1901,
            "min": 0,
            "orientation": "horizontal",
            "style": "IPY_MODEL_321de9c669c343adaf225af24520d655",
            "value": 1901
          }
        },
        "f100809acba64ec9bc01ad0b7b424053": {
          "model_module": "@jupyter-widgets/controls",
          "model_name": "HTMLModel",
          "model_module_version": "1.5.0",
          "state": {
            "_dom_classes": [],
            "_model_module": "@jupyter-widgets/controls",
            "_model_module_version": "1.5.0",
            "_model_name": "HTMLModel",
            "_view_count": null,
            "_view_module": "@jupyter-widgets/controls",
            "_view_module_version": "1.5.0",
            "_view_name": "HTMLView",
            "description": "",
            "description_tooltip": null,
            "layout": "IPY_MODEL_d124b74879cc4c9fa332f2916b4bbd65",
            "placeholder": "​",
            "style": "IPY_MODEL_3ddfdd4cd53e49e289ec03670306c76e",
            "value": " 4.48k/? [00:00&lt;00:00, 104kB/s]"
          }
        },
        "84f1384a0b644602aba96bd23f928eea": {
          "model_module": "@jupyter-widgets/base",
          "model_name": "LayoutModel",
          "model_module_version": "1.2.0",
          "state": {
            "_model_module": "@jupyter-widgets/base",
            "_model_module_version": "1.2.0",
            "_model_name": "LayoutModel",
            "_view_count": null,
            "_view_module": "@jupyter-widgets/base",
            "_view_module_version": "1.2.0",
            "_view_name": "LayoutView",
            "align_content": null,
            "align_items": null,
            "align_self": null,
            "border": null,
            "bottom": null,
            "display": null,
            "flex": null,
            "flex_flow": null,
            "grid_area": null,
            "grid_auto_columns": null,
            "grid_auto_flow": null,
            "grid_auto_rows": null,
            "grid_column": null,
            "grid_gap": null,
            "grid_row": null,
            "grid_template_areas": null,
            "grid_template_columns": null,
            "grid_template_rows": null,
            "height": null,
            "justify_content": null,
            "justify_items": null,
            "left": null,
            "margin": null,
            "max_height": null,
            "max_width": null,
            "min_height": null,
            "min_width": null,
            "object_fit": null,
            "object_position": null,
            "order": null,
            "overflow": null,
            "overflow_x": null,
            "overflow_y": null,
            "padding": null,
            "right": null,
            "top": null,
            "visibility": null,
            "width": null
          }
        },
        "a8f6fd0be85644198c06348f083e4ffc": {
          "model_module": "@jupyter-widgets/base",
          "model_name": "LayoutModel",
          "model_module_version": "1.2.0",
          "state": {
            "_model_module": "@jupyter-widgets/base",
            "_model_module_version": "1.2.0",
            "_model_name": "LayoutModel",
            "_view_count": null,
            "_view_module": "@jupyter-widgets/base",
            "_view_module_version": "1.2.0",
            "_view_name": "LayoutView",
            "align_content": null,
            "align_items": null,
            "align_self": null,
            "border": null,
            "bottom": null,
            "display": null,
            "flex": null,
            "flex_flow": null,
            "grid_area": null,
            "grid_auto_columns": null,
            "grid_auto_flow": null,
            "grid_auto_rows": null,
            "grid_column": null,
            "grid_gap": null,
            "grid_row": null,
            "grid_template_areas": null,
            "grid_template_columns": null,
            "grid_template_rows": null,
            "height": null,
            "justify_content": null,
            "justify_items": null,
            "left": null,
            "margin": null,
            "max_height": null,
            "max_width": null,
            "min_height": null,
            "min_width": null,
            "object_fit": null,
            "object_position": null,
            "order": null,
            "overflow": null,
            "overflow_x": null,
            "overflow_y": null,
            "padding": null,
            "right": null,
            "top": null,
            "visibility": null,
            "width": null
          }
        },
        "c107ee2880dc4d54a5c31ffd77bb6bde": {
          "model_module": "@jupyter-widgets/controls",
          "model_name": "DescriptionStyleModel",
          "model_module_version": "1.5.0",
          "state": {
            "_model_module": "@jupyter-widgets/controls",
            "_model_module_version": "1.5.0",
            "_model_name": "DescriptionStyleModel",
            "_view_count": null,
            "_view_module": "@jupyter-widgets/base",
            "_view_module_version": "1.2.0",
            "_view_name": "StyleView",
            "description_width": ""
          }
        },
        "97eabdd99d2348df889ea668d88a690d": {
          "model_module": "@jupyter-widgets/base",
          "model_name": "LayoutModel",
          "model_module_version": "1.2.0",
          "state": {
            "_model_module": "@jupyter-widgets/base",
            "_model_module_version": "1.2.0",
            "_model_name": "LayoutModel",
            "_view_count": null,
            "_view_module": "@jupyter-widgets/base",
            "_view_module_version": "1.2.0",
            "_view_name": "LayoutView",
            "align_content": null,
            "align_items": null,
            "align_self": null,
            "border": null,
            "bottom": null,
            "display": null,
            "flex": null,
            "flex_flow": null,
            "grid_area": null,
            "grid_auto_columns": null,
            "grid_auto_flow": null,
            "grid_auto_rows": null,
            "grid_column": null,
            "grid_gap": null,
            "grid_row": null,
            "grid_template_areas": null,
            "grid_template_columns": null,
            "grid_template_rows": null,
            "height": null,
            "justify_content": null,
            "justify_items": null,
            "left": null,
            "margin": null,
            "max_height": null,
            "max_width": null,
            "min_height": null,
            "min_width": null,
            "object_fit": null,
            "object_position": null,
            "order": null,
            "overflow": null,
            "overflow_x": null,
            "overflow_y": null,
            "padding": null,
            "right": null,
            "top": null,
            "visibility": null,
            "width": null
          }
        },
        "321de9c669c343adaf225af24520d655": {
          "model_module": "@jupyter-widgets/controls",
          "model_name": "ProgressStyleModel",
          "model_module_version": "1.5.0",
          "state": {
            "_model_module": "@jupyter-widgets/controls",
            "_model_module_version": "1.5.0",
            "_model_name": "ProgressStyleModel",
            "_view_count": null,
            "_view_module": "@jupyter-widgets/base",
            "_view_module_version": "1.2.0",
            "_view_name": "StyleView",
            "bar_color": null,
            "description_width": ""
          }
        },
        "d124b74879cc4c9fa332f2916b4bbd65": {
          "model_module": "@jupyter-widgets/base",
          "model_name": "LayoutModel",
          "model_module_version": "1.2.0",
          "state": {
            "_model_module": "@jupyter-widgets/base",
            "_model_module_version": "1.2.0",
            "_model_name": "LayoutModel",
            "_view_count": null,
            "_view_module": "@jupyter-widgets/base",
            "_view_module_version": "1.2.0",
            "_view_name": "LayoutView",
            "align_content": null,
            "align_items": null,
            "align_self": null,
            "border": null,
            "bottom": null,
            "display": null,
            "flex": null,
            "flex_flow": null,
            "grid_area": null,
            "grid_auto_columns": null,
            "grid_auto_flow": null,
            "grid_auto_rows": null,
            "grid_column": null,
            "grid_gap": null,
            "grid_row": null,
            "grid_template_areas": null,
            "grid_template_columns": null,
            "grid_template_rows": null,
            "height": null,
            "justify_content": null,
            "justify_items": null,
            "left": null,
            "margin": null,
            "max_height": null,
            "max_width": null,
            "min_height": null,
            "min_width": null,
            "object_fit": null,
            "object_position": null,
            "order": null,
            "overflow": null,
            "overflow_x": null,
            "overflow_y": null,
            "padding": null,
            "right": null,
            "top": null,
            "visibility": null,
            "width": null
          }
        },
        "3ddfdd4cd53e49e289ec03670306c76e": {
          "model_module": "@jupyter-widgets/controls",
          "model_name": "DescriptionStyleModel",
          "model_module_version": "1.5.0",
          "state": {
            "_model_module": "@jupyter-widgets/controls",
            "_model_module_version": "1.5.0",
            "_model_name": "DescriptionStyleModel",
            "_view_count": null,
            "_view_module": "@jupyter-widgets/base",
            "_view_module_version": "1.2.0",
            "_view_name": "StyleView",
            "description_width": ""
          }
        },
        "98f496ce6beb47808ee0b61172f21e0a": {
          "model_module": "@jupyter-widgets/controls",
          "model_name": "HBoxModel",
          "model_module_version": "1.5.0",
          "state": {
            "_dom_classes": [],
            "_model_module": "@jupyter-widgets/controls",
            "_model_module_version": "1.5.0",
            "_model_name": "HBoxModel",
            "_view_count": null,
            "_view_module": "@jupyter-widgets/controls",
            "_view_module_version": "1.5.0",
            "_view_name": "HBoxView",
            "box_style": "",
            "children": [
              "IPY_MODEL_b85d5c65941e426eb3dac400f1200c90",
              "IPY_MODEL_81afcf2d5e4e482f8e6ef71a88c7a83d",
              "IPY_MODEL_0ec3b2ae5a3c4709a615c455b638a462"
            ],
            "layout": "IPY_MODEL_27ac1c61a4eb480e93324aeeb340debf"
          }
        },
        "b85d5c65941e426eb3dac400f1200c90": {
          "model_module": "@jupyter-widgets/controls",
          "model_name": "HTMLModel",
          "model_module_version": "1.5.0",
          "state": {
            "_dom_classes": [],
            "_model_module": "@jupyter-widgets/controls",
            "_model_module_version": "1.5.0",
            "_model_name": "HTMLModel",
            "_view_count": null,
            "_view_module": "@jupyter-widgets/controls",
            "_view_module_version": "1.5.0",
            "_view_name": "HTMLView",
            "description": "",
            "description_tooltip": null,
            "layout": "IPY_MODEL_c9486672780e46c6abc695a157c2d0bb",
            "placeholder": "​",
            "style": "IPY_MODEL_1917f6464f3d44bbb56cc8edcf443208",
            "value": "Downloading: 100%"
          }
        },
        "81afcf2d5e4e482f8e6ef71a88c7a83d": {
          "model_module": "@jupyter-widgets/controls",
          "model_name": "FloatProgressModel",
          "model_module_version": "1.5.0",
          "state": {
            "_dom_classes": [],
            "_model_module": "@jupyter-widgets/controls",
            "_model_module_version": "1.5.0",
            "_model_name": "FloatProgressModel",
            "_view_count": null,
            "_view_module": "@jupyter-widgets/controls",
            "_view_module_version": "1.5.0",
            "_view_name": "ProgressView",
            "bar_style": "success",
            "description": "",
            "description_tooltip": null,
            "layout": "IPY_MODEL_1c8cf1f1c61843288f275cc87e4fc59c",
            "max": 1568,
            "min": 0,
            "orientation": "horizontal",
            "style": "IPY_MODEL_7097c79aa7f64f958bcf8726ecbbbc2c",
            "value": 1568
          }
        },
        "0ec3b2ae5a3c4709a615c455b638a462": {
          "model_module": "@jupyter-widgets/controls",
          "model_name": "HTMLModel",
          "model_module_version": "1.5.0",
          "state": {
            "_dom_classes": [],
            "_model_module": "@jupyter-widgets/controls",
            "_model_module_version": "1.5.0",
            "_model_name": "HTMLModel",
            "_view_count": null,
            "_view_module": "@jupyter-widgets/controls",
            "_view_module_version": "1.5.0",
            "_view_name": "HTMLView",
            "description": "",
            "description_tooltip": null,
            "layout": "IPY_MODEL_c197afe24439432dabc23d7f8f315dd6",
            "placeholder": "​",
            "style": "IPY_MODEL_cd66ee6c13d440a8bb0ec655d3f5bdf5",
            "value": " 1.53k/1.53k [00:00&lt;00:00, 38.8kB/s]"
          }
        },
        "27ac1c61a4eb480e93324aeeb340debf": {
          "model_module": "@jupyter-widgets/base",
          "model_name": "LayoutModel",
          "model_module_version": "1.2.0",
          "state": {
            "_model_module": "@jupyter-widgets/base",
            "_model_module_version": "1.2.0",
            "_model_name": "LayoutModel",
            "_view_count": null,
            "_view_module": "@jupyter-widgets/base",
            "_view_module_version": "1.2.0",
            "_view_name": "LayoutView",
            "align_content": null,
            "align_items": null,
            "align_self": null,
            "border": null,
            "bottom": null,
            "display": null,
            "flex": null,
            "flex_flow": null,
            "grid_area": null,
            "grid_auto_columns": null,
            "grid_auto_flow": null,
            "grid_auto_rows": null,
            "grid_column": null,
            "grid_gap": null,
            "grid_row": null,
            "grid_template_areas": null,
            "grid_template_columns": null,
            "grid_template_rows": null,
            "height": null,
            "justify_content": null,
            "justify_items": null,
            "left": null,
            "margin": null,
            "max_height": null,
            "max_width": null,
            "min_height": null,
            "min_width": null,
            "object_fit": null,
            "object_position": null,
            "order": null,
            "overflow": null,
            "overflow_x": null,
            "overflow_y": null,
            "padding": null,
            "right": null,
            "top": null,
            "visibility": null,
            "width": null
          }
        },
        "c9486672780e46c6abc695a157c2d0bb": {
          "model_module": "@jupyter-widgets/base",
          "model_name": "LayoutModel",
          "model_module_version": "1.2.0",
          "state": {
            "_model_module": "@jupyter-widgets/base",
            "_model_module_version": "1.2.0",
            "_model_name": "LayoutModel",
            "_view_count": null,
            "_view_module": "@jupyter-widgets/base",
            "_view_module_version": "1.2.0",
            "_view_name": "LayoutView",
            "align_content": null,
            "align_items": null,
            "align_self": null,
            "border": null,
            "bottom": null,
            "display": null,
            "flex": null,
            "flex_flow": null,
            "grid_area": null,
            "grid_auto_columns": null,
            "grid_auto_flow": null,
            "grid_auto_rows": null,
            "grid_column": null,
            "grid_gap": null,
            "grid_row": null,
            "grid_template_areas": null,
            "grid_template_columns": null,
            "grid_template_rows": null,
            "height": null,
            "justify_content": null,
            "justify_items": null,
            "left": null,
            "margin": null,
            "max_height": null,
            "max_width": null,
            "min_height": null,
            "min_width": null,
            "object_fit": null,
            "object_position": null,
            "order": null,
            "overflow": null,
            "overflow_x": null,
            "overflow_y": null,
            "padding": null,
            "right": null,
            "top": null,
            "visibility": null,
            "width": null
          }
        },
        "1917f6464f3d44bbb56cc8edcf443208": {
          "model_module": "@jupyter-widgets/controls",
          "model_name": "DescriptionStyleModel",
          "model_module_version": "1.5.0",
          "state": {
            "_model_module": "@jupyter-widgets/controls",
            "_model_module_version": "1.5.0",
            "_model_name": "DescriptionStyleModel",
            "_view_count": null,
            "_view_module": "@jupyter-widgets/base",
            "_view_module_version": "1.2.0",
            "_view_name": "StyleView",
            "description_width": ""
          }
        },
        "1c8cf1f1c61843288f275cc87e4fc59c": {
          "model_module": "@jupyter-widgets/base",
          "model_name": "LayoutModel",
          "model_module_version": "1.2.0",
          "state": {
            "_model_module": "@jupyter-widgets/base",
            "_model_module_version": "1.2.0",
            "_model_name": "LayoutModel",
            "_view_count": null,
            "_view_module": "@jupyter-widgets/base",
            "_view_module_version": "1.2.0",
            "_view_name": "LayoutView",
            "align_content": null,
            "align_items": null,
            "align_self": null,
            "border": null,
            "bottom": null,
            "display": null,
            "flex": null,
            "flex_flow": null,
            "grid_area": null,
            "grid_auto_columns": null,
            "grid_auto_flow": null,
            "grid_auto_rows": null,
            "grid_column": null,
            "grid_gap": null,
            "grid_row": null,
            "grid_template_areas": null,
            "grid_template_columns": null,
            "grid_template_rows": null,
            "height": null,
            "justify_content": null,
            "justify_items": null,
            "left": null,
            "margin": null,
            "max_height": null,
            "max_width": null,
            "min_height": null,
            "min_width": null,
            "object_fit": null,
            "object_position": null,
            "order": null,
            "overflow": null,
            "overflow_x": null,
            "overflow_y": null,
            "padding": null,
            "right": null,
            "top": null,
            "visibility": null,
            "width": null
          }
        },
        "7097c79aa7f64f958bcf8726ecbbbc2c": {
          "model_module": "@jupyter-widgets/controls",
          "model_name": "ProgressStyleModel",
          "model_module_version": "1.5.0",
          "state": {
            "_model_module": "@jupyter-widgets/controls",
            "_model_module_version": "1.5.0",
            "_model_name": "ProgressStyleModel",
            "_view_count": null,
            "_view_module": "@jupyter-widgets/base",
            "_view_module_version": "1.2.0",
            "_view_name": "StyleView",
            "bar_color": null,
            "description_width": ""
          }
        },
        "c197afe24439432dabc23d7f8f315dd6": {
          "model_module": "@jupyter-widgets/base",
          "model_name": "LayoutModel",
          "model_module_version": "1.2.0",
          "state": {
            "_model_module": "@jupyter-widgets/base",
            "_model_module_version": "1.2.0",
            "_model_name": "LayoutModel",
            "_view_count": null,
            "_view_module": "@jupyter-widgets/base",
            "_view_module_version": "1.2.0",
            "_view_name": "LayoutView",
            "align_content": null,
            "align_items": null,
            "align_self": null,
            "border": null,
            "bottom": null,
            "display": null,
            "flex": null,
            "flex_flow": null,
            "grid_area": null,
            "grid_auto_columns": null,
            "grid_auto_flow": null,
            "grid_auto_rows": null,
            "grid_column": null,
            "grid_gap": null,
            "grid_row": null,
            "grid_template_areas": null,
            "grid_template_columns": null,
            "grid_template_rows": null,
            "height": null,
            "justify_content": null,
            "justify_items": null,
            "left": null,
            "margin": null,
            "max_height": null,
            "max_width": null,
            "min_height": null,
            "min_width": null,
            "object_fit": null,
            "object_position": null,
            "order": null,
            "overflow": null,
            "overflow_x": null,
            "overflow_y": null,
            "padding": null,
            "right": null,
            "top": null,
            "visibility": null,
            "width": null
          }
        },
        "cd66ee6c13d440a8bb0ec655d3f5bdf5": {
          "model_module": "@jupyter-widgets/controls",
          "model_name": "DescriptionStyleModel",
          "model_module_version": "1.5.0",
          "state": {
            "_model_module": "@jupyter-widgets/controls",
            "_model_module_version": "1.5.0",
            "_model_name": "DescriptionStyleModel",
            "_view_count": null,
            "_view_module": "@jupyter-widgets/base",
            "_view_module_version": "1.2.0",
            "_view_name": "StyleView",
            "description_width": ""
          }
        },
        "b9a879d96222485ea810a72e3c05592d": {
          "model_module": "@jupyter-widgets/controls",
          "model_name": "HBoxModel",
          "model_module_version": "1.5.0",
          "state": {
            "_dom_classes": [],
            "_model_module": "@jupyter-widgets/controls",
            "_model_module_version": "1.5.0",
            "_model_name": "HBoxModel",
            "_view_count": null,
            "_view_module": "@jupyter-widgets/controls",
            "_view_module_version": "1.5.0",
            "_view_name": "HBoxView",
            "box_style": "",
            "children": [
              "IPY_MODEL_cccce0b911934b2b9f9cec89878a93cb",
              "IPY_MODEL_40e2cd14783545578badfd45b8167ae7",
              "IPY_MODEL_e4b493ccc1934258948bbf35de87780d"
            ],
            "layout": "IPY_MODEL_0388c150592842e6ae9d67780c8026ca"
          }
        },
        "cccce0b911934b2b9f9cec89878a93cb": {
          "model_module": "@jupyter-widgets/controls",
          "model_name": "HTMLModel",
          "model_module_version": "1.5.0",
          "state": {
            "_dom_classes": [],
            "_model_module": "@jupyter-widgets/controls",
            "_model_module_version": "1.5.0",
            "_model_name": "HTMLModel",
            "_view_count": null,
            "_view_module": "@jupyter-widgets/controls",
            "_view_module_version": "1.5.0",
            "_view_name": "HTMLView",
            "description": "",
            "description_tooltip": null,
            "layout": "IPY_MODEL_938cc3b89eba43158d56bda31ed34fa5",
            "placeholder": "​",
            "style": "IPY_MODEL_ac2fe811f8ff4421bdbcefdee369a7b4",
            "value": "Downloading: 100%"
          }
        },
        "40e2cd14783545578badfd45b8167ae7": {
          "model_module": "@jupyter-widgets/controls",
          "model_name": "FloatProgressModel",
          "model_module_version": "1.5.0",
          "state": {
            "_dom_classes": [],
            "_model_module": "@jupyter-widgets/controls",
            "_model_module_version": "1.5.0",
            "_model_name": "FloatProgressModel",
            "_view_count": null,
            "_view_module": "@jupyter-widgets/controls",
            "_view_module_version": "1.5.0",
            "_view_name": "ProgressView",
            "bar_style": "success",
            "description": "",
            "description_tooltip": null,
            "layout": "IPY_MODEL_c59017aadf174d1398d0aa440b7842af",
            "max": 1269737156,
            "min": 0,
            "orientation": "horizontal",
            "style": "IPY_MODEL_be92d49c5fa04ead859ae7e87df20b90",
            "value": 1269737156
          }
        },
        "e4b493ccc1934258948bbf35de87780d": {
          "model_module": "@jupyter-widgets/controls",
          "model_name": "HTMLModel",
          "model_module_version": "1.5.0",
          "state": {
            "_dom_classes": [],
            "_model_module": "@jupyter-widgets/controls",
            "_model_module_version": "1.5.0",
            "_model_name": "HTMLModel",
            "_view_count": null,
            "_view_module": "@jupyter-widgets/controls",
            "_view_module_version": "1.5.0",
            "_view_name": "HTMLView",
            "description": "",
            "description_tooltip": null,
            "layout": "IPY_MODEL_feee6f74d03f4739898c73f2db96bae2",
            "placeholder": "​",
            "style": "IPY_MODEL_542ef34597e649e7a6f2030b4d1f4632",
            "value": " 1.18G/1.18G [00:40&lt;00:00, 33.5MB/s]"
          }
        },
        "0388c150592842e6ae9d67780c8026ca": {
          "model_module": "@jupyter-widgets/base",
          "model_name": "LayoutModel",
          "model_module_version": "1.2.0",
          "state": {
            "_model_module": "@jupyter-widgets/base",
            "_model_module_version": "1.2.0",
            "_model_name": "LayoutModel",
            "_view_count": null,
            "_view_module": "@jupyter-widgets/base",
            "_view_module_version": "1.2.0",
            "_view_name": "LayoutView",
            "align_content": null,
            "align_items": null,
            "align_self": null,
            "border": null,
            "bottom": null,
            "display": null,
            "flex": null,
            "flex_flow": null,
            "grid_area": null,
            "grid_auto_columns": null,
            "grid_auto_flow": null,
            "grid_auto_rows": null,
            "grid_column": null,
            "grid_gap": null,
            "grid_row": null,
            "grid_template_areas": null,
            "grid_template_columns": null,
            "grid_template_rows": null,
            "height": null,
            "justify_content": null,
            "justify_items": null,
            "left": null,
            "margin": null,
            "max_height": null,
            "max_width": null,
            "min_height": null,
            "min_width": null,
            "object_fit": null,
            "object_position": null,
            "order": null,
            "overflow": null,
            "overflow_x": null,
            "overflow_y": null,
            "padding": null,
            "right": null,
            "top": null,
            "visibility": null,
            "width": null
          }
        },
        "938cc3b89eba43158d56bda31ed34fa5": {
          "model_module": "@jupyter-widgets/base",
          "model_name": "LayoutModel",
          "model_module_version": "1.2.0",
          "state": {
            "_model_module": "@jupyter-widgets/base",
            "_model_module_version": "1.2.0",
            "_model_name": "LayoutModel",
            "_view_count": null,
            "_view_module": "@jupyter-widgets/base",
            "_view_module_version": "1.2.0",
            "_view_name": "LayoutView",
            "align_content": null,
            "align_items": null,
            "align_self": null,
            "border": null,
            "bottom": null,
            "display": null,
            "flex": null,
            "flex_flow": null,
            "grid_area": null,
            "grid_auto_columns": null,
            "grid_auto_flow": null,
            "grid_auto_rows": null,
            "grid_column": null,
            "grid_gap": null,
            "grid_row": null,
            "grid_template_areas": null,
            "grid_template_columns": null,
            "grid_template_rows": null,
            "height": null,
            "justify_content": null,
            "justify_items": null,
            "left": null,
            "margin": null,
            "max_height": null,
            "max_width": null,
            "min_height": null,
            "min_width": null,
            "object_fit": null,
            "object_position": null,
            "order": null,
            "overflow": null,
            "overflow_x": null,
            "overflow_y": null,
            "padding": null,
            "right": null,
            "top": null,
            "visibility": null,
            "width": null
          }
        },
        "ac2fe811f8ff4421bdbcefdee369a7b4": {
          "model_module": "@jupyter-widgets/controls",
          "model_name": "DescriptionStyleModel",
          "model_module_version": "1.5.0",
          "state": {
            "_model_module": "@jupyter-widgets/controls",
            "_model_module_version": "1.5.0",
            "_model_name": "DescriptionStyleModel",
            "_view_count": null,
            "_view_module": "@jupyter-widgets/base",
            "_view_module_version": "1.2.0",
            "_view_name": "StyleView",
            "description_width": ""
          }
        },
        "c59017aadf174d1398d0aa440b7842af": {
          "model_module": "@jupyter-widgets/base",
          "model_name": "LayoutModel",
          "model_module_version": "1.2.0",
          "state": {
            "_model_module": "@jupyter-widgets/base",
            "_model_module_version": "1.2.0",
            "_model_name": "LayoutModel",
            "_view_count": null,
            "_view_module": "@jupyter-widgets/base",
            "_view_module_version": "1.2.0",
            "_view_name": "LayoutView",
            "align_content": null,
            "align_items": null,
            "align_self": null,
            "border": null,
            "bottom": null,
            "display": null,
            "flex": null,
            "flex_flow": null,
            "grid_area": null,
            "grid_auto_columns": null,
            "grid_auto_flow": null,
            "grid_auto_rows": null,
            "grid_column": null,
            "grid_gap": null,
            "grid_row": null,
            "grid_template_areas": null,
            "grid_template_columns": null,
            "grid_template_rows": null,
            "height": null,
            "justify_content": null,
            "justify_items": null,
            "left": null,
            "margin": null,
            "max_height": null,
            "max_width": null,
            "min_height": null,
            "min_width": null,
            "object_fit": null,
            "object_position": null,
            "order": null,
            "overflow": null,
            "overflow_x": null,
            "overflow_y": null,
            "padding": null,
            "right": null,
            "top": null,
            "visibility": null,
            "width": null
          }
        },
        "be92d49c5fa04ead859ae7e87df20b90": {
          "model_module": "@jupyter-widgets/controls",
          "model_name": "ProgressStyleModel",
          "model_module_version": "1.5.0",
          "state": {
            "_model_module": "@jupyter-widgets/controls",
            "_model_module_version": "1.5.0",
            "_model_name": "ProgressStyleModel",
            "_view_count": null,
            "_view_module": "@jupyter-widgets/base",
            "_view_module_version": "1.2.0",
            "_view_name": "StyleView",
            "bar_color": null,
            "description_width": ""
          }
        },
        "feee6f74d03f4739898c73f2db96bae2": {
          "model_module": "@jupyter-widgets/base",
          "model_name": "LayoutModel",
          "model_module_version": "1.2.0",
          "state": {
            "_model_module": "@jupyter-widgets/base",
            "_model_module_version": "1.2.0",
            "_model_name": "LayoutModel",
            "_view_count": null,
            "_view_module": "@jupyter-widgets/base",
            "_view_module_version": "1.2.0",
            "_view_name": "LayoutView",
            "align_content": null,
            "align_items": null,
            "align_self": null,
            "border": null,
            "bottom": null,
            "display": null,
            "flex": null,
            "flex_flow": null,
            "grid_area": null,
            "grid_auto_columns": null,
            "grid_auto_flow": null,
            "grid_auto_rows": null,
            "grid_column": null,
            "grid_gap": null,
            "grid_row": null,
            "grid_template_areas": null,
            "grid_template_columns": null,
            "grid_template_rows": null,
            "height": null,
            "justify_content": null,
            "justify_items": null,
            "left": null,
            "margin": null,
            "max_height": null,
            "max_width": null,
            "min_height": null,
            "min_width": null,
            "object_fit": null,
            "object_position": null,
            "order": null,
            "overflow": null,
            "overflow_x": null,
            "overflow_y": null,
            "padding": null,
            "right": null,
            "top": null,
            "visibility": null,
            "width": null
          }
        },
        "542ef34597e649e7a6f2030b4d1f4632": {
          "model_module": "@jupyter-widgets/controls",
          "model_name": "DescriptionStyleModel",
          "model_module_version": "1.5.0",
          "state": {
            "_model_module": "@jupyter-widgets/controls",
            "_model_module_version": "1.5.0",
            "_model_name": "DescriptionStyleModel",
            "_view_count": null,
            "_view_module": "@jupyter-widgets/base",
            "_view_module_version": "1.2.0",
            "_view_name": "StyleView",
            "description_width": ""
          }
        }
      }
    }
  },
  "cells": [
    {
      "cell_type": "markdown",
      "metadata": {
        "id": "view-in-github",
        "colab_type": "text"
      },
      "source": [
        "<a href=\"https://colab.research.google.com/github/sohaibsyedmoto/ColabWav/blob/wav2vec2/Sohaib_Syed_Copy_of_Fine_Tune_XLS_R_on_Common_Voice.ipynb\" target=\"_parent\"><img src=\"https://colab.research.google.com/assets/colab-badge.svg\" alt=\"Open In Colab\"/></a>"
      ]
    },
    {
      "cell_type": "markdown",
      "metadata": {
        "id": "LBSYoWbi-45k"
      },
      "source": [
        "# **Fine-tuning XLS-R for Multi-Lingual ASR with 🤗 Transformers**\n",
        "\n",
        "***New (11/2021)***: *This blog post has been updated to feature XLSR's successor, called [XLS-R](https://huggingface.co/models?other=xls_r)*."
      ]
    },
    {
      "cell_type": "markdown",
      "metadata": {
        "id": "V7YOT2mnUiea"
      },
      "source": [
        "**Wav2Vec2** is a pretrained model for Automatic Speech Recognition (ASR) and was released in [September 2020](https://ai.facebook.com/blog/wav2vec-20-learning-the-structure-of-speech-from-raw-audio/) by *Alexei Baevski, Michael Auli, and Alex Conneau*.  Soon after the superior performance of Wav2Vec2 was demonstrated on one of the most popular English datasets for ASR, called [LibriSpeech](https://huggingface.co/datasets/librispeech_asr), *Facebook AI* presented a multi-lingual version of Wav2Vec2, called [XLSR](https://arxiv.org/abs/2006.13979). XLSR stands for *cross-lingual speech representations* and refers to model's ability to learn speech representations that are useful across multiple languages.\n",
        "\n",
        "XLSR's successor, simply called **XLS-R** (refering to the [*''XLM-R*](https://ai.facebook.com/blog/-xlm-r-state-of-the-art-cross-lingual-understanding-through-self-supervision/) *for Speech''*), was released in [November 2021](https://ai.facebook.com/blog/xls-r-self-supervised-speech-processing-for-128-languages) by *Arun Babu, Changhan Wang, Andros Tjandra, et al.* XLS-R used almost **half a million** hours of audio data in 128 languages for self-supervised pre-training and comes in sizes ranging from 300 milion up to **two billion** parameters. You can find the pretrained checkpoints on the 🤗 Hub:\n",
        "\n",
        "- [**Wav2Vec2-XLS-R-300M**](https://huggingface.co/facebook/wav2vec2-xls-r-300m)\n",
        "- [**Wav2Vec2-XLS-R-1B**](https://huggingface.co/facebook/wav2vec2-xls-r-1b)\n",
        "- [**Wav2Vec2-XLS-R-2B**](https://huggingface.co/facebook/wav2vec2-xls-r-2b)\n",
        "\n",
        "Similar to [BERT's masked language modeling objective](http://jalammar.github.io/illustrated-bert/), XLS-R learns contextualized speech representations by randomly masking feature vectors before passing them to a transformer network during self-supervised pre-training (*i.e.* diagram on the left below). \n",
        "\n",
        "For fine-tuning, a single linear layer is added on top of the pre-trained network to train the model on labeled data of audio downstream tasks such as speech recognition, speech translation and audio classification (*i.e.* diagram on the right below).\n",
        "\n",
        "![wav2vec2_structure](https://raw.githubusercontent.com/patrickvonplaten/scientific_images/master/xls_r.png)\n",
        "\n",
        "XLS-R shows impressive improvements over previous state-of-the-art results on both speech recognition, speech translation and speaker/language identification, *cf.* with Table 3-6, Table 7-10, and Table 11-12 respectively of the official [paper](https://ai.facebook.com/blog/xls-r-self-supervised-speech-processing-for-128-languages)."
      ]
    },
    {
      "cell_type": "markdown",
      "metadata": {
        "id": "nT_QrfWtsxIz"
      },
      "source": [
        "## Notebook Setup"
      ]
    },
    {
      "cell_type": "markdown",
      "metadata": {
        "id": "kruqixOYHaIo"
      },
      "source": [
        "\n",
        "In this notebook, we will give an in-detail explanation of how XLS-R - more specifically the pre-trained checkpoint [**Wav2Vec2-XLS-R-300M**](https://huggingface.co/facebook/wav2vec2-xls-r-300m) - can be fine-tuned for ASR.  \n",
        "\n",
        "For demonstration purposes, we fine-tune the model on the low resource ASR dataset of [Common Voice](https://huggingface.co/datasets/common_voice) that contains only *ca.* 4h of validated training data."
      ]
    },
    {
      "cell_type": "markdown",
      "metadata": {
        "id": "Gx9OdDYrCtQ1"
      },
      "source": [
        "XLS-R is fine-tuned using Connectionist Temporal Classification (CTC), which is an algorithm that is used to train neural networks for sequence-to-sequence problems, such as ASR and handwriting recognition. \n",
        "\n",
        "I highly recommend reading the well-written blog post [*Sequence Modeling with CTC (2017)*](https://distill.pub/2017/ctc/) by Awni Hannun."
      ]
    },
    {
      "cell_type": "markdown",
      "metadata": {
        "id": "wcHuXIaWyHZU"
      },
      "source": [
        "First, let's try to get a good GPU in our colab! With Google Colab's free version it's sadly becoming much harder to get access to a good GPU. With Google Colab Pro, however, one should easily get either a V100 or P100 GPU."
      ]
    },
    {
      "cell_type": "code",
      "metadata": {
        "colab": {
          "base_uri": "https://localhost:8080/"
        },
        "id": "YELVqGxMxnbG",
        "outputId": "f9eee27a-cbcd-4c6f-9c11-61a4a5688c3f"
      },
      "source": [
        "gpu_info = !nvidia-smi\n",
        "gpu_info = '\\n'.join(gpu_info)\n",
        "if gpu_info.find('failed') >= 0:\n",
        "  print('Not connected to a GPU')\n",
        "else:\n",
        "  print(gpu_info)"
      ],
      "execution_count": null,
      "outputs": [
        {
          "output_type": "stream",
          "name": "stdout",
          "text": [
            "Thu May 19 18:04:27 2022       \n",
            "+-----------------------------------------------------------------------------+\n",
            "| NVIDIA-SMI 460.32.03    Driver Version: 460.32.03    CUDA Version: 11.2     |\n",
            "|-------------------------------+----------------------+----------------------+\n",
            "| GPU  Name        Persistence-M| Bus-Id        Disp.A | Volatile Uncorr. ECC |\n",
            "| Fan  Temp  Perf  Pwr:Usage/Cap|         Memory-Usage | GPU-Util  Compute M. |\n",
            "|                               |                      |               MIG M. |\n",
            "|===============================+======================+======================|\n",
            "|   0  Tesla K80           Off  | 00000000:00:04.0 Off |                    0 |\n",
            "| N/A   72C    P8    34W / 149W |      0MiB / 11441MiB |      0%      Default |\n",
            "|                               |                      |                  N/A |\n",
            "+-------------------------------+----------------------+----------------------+\n",
            "                                                                               \n",
            "+-----------------------------------------------------------------------------+\n",
            "| Processes:                                                                  |\n",
            "|  GPU   GI   CI        PID   Type   Process name                  GPU Memory |\n",
            "|        ID   ID                                                   Usage      |\n",
            "|=============================================================================|\n",
            "|  No running processes found                                                 |\n",
            "+-----------------------------------------------------------------------------+\n"
          ]
        }
      ]
    },
    {
      "cell_type": "markdown",
      "metadata": {
        "id": "e335hPmdtASZ"
      },
      "source": [
        "Before we start, let's install `datasets` and `transformers`. Also, we need the `torchaudio` to load audio files and `jiwer` to evaluate our fine-tuned model using the [word error rate (WER)](https://huggingface.co/metrics/wer) metric ${}^1$."
      ]
    },
    {
      "cell_type": "code",
      "metadata": {
        "id": "c8eh87Hoee5d"
      },
      "source": [
        "%%capture\n",
        "!pip install datasets==1.18.3\n",
        "!pip install transformers==4.11.3\n",
        "!pip install torchaudio==0.10.0+cu113 -f https://download.pytorch.org/whl/cu113/torch_stable.html\n",
        "!pip install jiwer"
      ],
      "execution_count": null,
      "outputs": []
    },
    {
      "cell_type": "markdown",
      "metadata": {
        "id": "0xxt_LwxDQlO"
      },
      "source": [
        "We strongly suggest to upload your training checkpoints directly to the [🤗 Hub](https://huggingface.co/) while training. The [🤗 Hub](https://huggingface.co/) has integrated version control so you can be sure that no model checkpoint is getting lost during training. \n",
        "\n",
        "To do so you have to store your authentication token from the Hugging Face website (sign up [here](https://huggingface.co/join) if you haven't already!)"
      ]
    },
    {
      "cell_type": "code",
      "metadata": {
        "colab": {
          "base_uri": "https://localhost:8080/",
          "height": 415,
          "referenced_widgets": [
            "ad630a71d60749d3941cd7a31f76e38a",
            "de3133297cba4495a3380c86177419c3",
            "9462b6e1167540e1afc8fb16ed99e80e",
            "77657a74e7784237aff9786cb767d5d2",
            "cec77a7c30ef44658d998592385fea8e",
            "acdc4e6b77a94522a0778dd54ac43c51",
            "eee0740d97544ff6be798e6bcfc1c57f",
            "b799c3e8b25e44afb46f7d6ff16a2e13",
            "afb42add48a84cb8a188ee34d308b00d",
            "f19347eb5f0a46da81e6de0311fc5c54",
            "d8782e67efbc4b878f4533b73f4d391d",
            "693bab2426504372bfe61d85636e7669",
            "92e4465c9d634eb4813aa00f8164f082",
            "ca32339ea6bf4abfa2f660bf767d3f7f",
            "bd6ddb2aefd748b2b3100c149e70c759",
            "2ff523f0f9b84809af39ee3aa179d2f2",
            "f93e8dba4d2f4663a409224e1f09381e"
          ]
        },
        "id": "mlMSH3T3EazV",
        "outputId": "300a314b-1832-4ea9-8aa7-a6f25a3b4402"
      },
      "source": [
        "from huggingface_hub import notebook_login\n",
        "\n",
        "notebook_login()"
      ],
      "execution_count": null,
      "outputs": [
        {
          "output_type": "stream",
          "name": "stdout",
          "text": [
            "Login successful\n",
            "Your token has been saved to /root/.huggingface/token\n",
            "\u001b[1m\u001b[31mAuthenticated through git-credential store but this isn't the helper defined on your machine.\n",
            "You might have to re-authenticate when pushing to the Hugging Face Hub. Run the following command in your terminal in case you want to set this credential helper as the default\n",
            "\n",
            "git config --global credential.helper store\u001b[0m\n"
          ]
        }
      ]
    },
    {
      "cell_type": "markdown",
      "metadata": {
        "id": "ujdZ2TxhElk6"
      },
      "source": [
        "\n",
        "Then you need to install Git-LFS to upload your model checkpoints:"
      ]
    },
    {
      "cell_type": "code",
      "metadata": {
        "id": "WcR-d83OEkqb"
      },
      "source": [
        "%%capture\n",
        "!apt install git-lfs"
      ],
      "execution_count": null,
      "outputs": []
    },
    {
      "cell_type": "markdown",
      "metadata": {
        "id": "Mn9swf6EQ9Vd"
      },
      "source": [
        "\n",
        "\n",
        "\n",
        "---\n",
        "\n",
        "${}^1$ In the [paper](https://arxiv.org/pdf/2006.13979.pdf), the model was evaluated using the phoneme error rate (PER), but by far the most common metric in ASR is the word error rate (WER). To keep this notebook as general as possible we decided to evaluate the model using WER."
      ]
    },
    {
      "cell_type": "markdown",
      "metadata": {
        "id": "0mW-C1Nt-j7k"
      },
      "source": [
        "## Prepare Data, Tokenizer, Feature Extractor"
      ]
    },
    {
      "cell_type": "markdown",
      "metadata": {
        "id": "BeBosnY9BH3e"
      },
      "source": [
        "ASR models transcribe speech to text, which means that we both need a feature extractor that processes the speech signal to the model's input format, *e.g.* a feature vector, and a tokenizer that processes the model's output format to text. \n",
        "\n",
        "In 🤗 Transformers, the XLS-R model is thus accompanied by both a tokenizer, called [Wav2Vec2CTCTokenizer](https://huggingface.co/transformers/master/model_doc/wav2vec2.html#wav2vec2ctctokenizer), and a feature extractor, called [Wav2Vec2FeatureExtractor](https://huggingface.co/transformers/master/model_doc/wav2vec2.html#wav2vec2featureextractor).\n",
        "\n",
        "Let's start by creating the tokenizer to decode the predicted output classes to the output transcription."
      ]
    },
    {
      "cell_type": "markdown",
      "metadata": {
        "id": "sEXEWEJGQPqD"
      },
      "source": [
        "### Create `Wav2Vec2CTCTokenizer`"
      ]
    },
    {
      "cell_type": "markdown",
      "metadata": {
        "id": "tWmMikuNEKl_"
      },
      "source": [
        "A pre-trained XLS-R model maps the speech signal to a sequence of context representations as illustrated in the figure above. However, for speech recognition the model has to to map this sequence of context representations to its corresponding transcription which means that a linear layer has to be added on top of the transformer block (shown in yellow in the diagram above). This linear layer is used to classifies each context representation to a token class analogous how, *e.g.*, after pretraining a linear layer is added on top of BERT's embeddings for further classification - *cf.* with *'BERT'* section of this [blog post](https://huggingface.co/blog/warm-starting-encoder-decoder)."
      ]
    },
    {
      "cell_type": "markdown",
      "metadata": {
        "id": "v5oRE8XjIUH3"
      },
      "source": [
        "The output size of this layer corresponds to the number of tokens in the vocabulary, which does **not** depend onXLS-R's pretraining task, but only on the labeled dataset used for fine-tuning. So in the first step, we will take a look at the chosen dataset of Common Voice and define a vocabulary based on the transcriptions."
      ]
    },
    {
      "cell_type": "markdown",
      "metadata": {
        "id": "idBczw8mWzgt"
      },
      "source": [
        "First, let's go to Common Voice [official website](https://commonvoice.mozilla.org/en/datasets) and pick a language to fine-tune XLS-R on. For this notebook, we will use Turkish. \n",
        "\n",
        "For each language-specific dataset, you can find a language code corresponding to your chosen language. On [Common Voice](https://commonvoice.mozilla.org/en/datasets), look for the field \"Version\". The language code then corresponds to the prefix before the underscore. For Turkish, *e.g.* the language code is `\"tr\"`.\n",
        "\n",
        "Great, now we can use 🤗 Datasets' simple API to download the data. The dataset name is `\"common_voice\"`, the configuration name corresponds to the language code, which is `\"tr\"` in our case."
      ]
    },
    {
      "cell_type": "markdown",
      "metadata": {
        "id": "bee4g9rpLxll"
      },
      "source": [
        "Common Voice has many different splits including `invalidated`, which refers to data that was not rated as \"clean enough\" to be considered useful. In this notebook, we will only make use of the splits `\"train\"`, `\"validation\"` and `\"test\"`. \n",
        "\n",
        "Because the Turkish dataset is so small, we will merge both the validation and training data into a training dataset and only use the test data for validation."
      ]
    },
    {
      "cell_type": "code",
      "metadata": {
        "id": "2MMXcWFFgCXU"
      },
      "source": [
        "from datasets import load_dataset, load_metric, Audio\n",
        "\n",
        "common_voice_train = load_dataset(\"common_voice\", \"tr\", split=\"train+validation\")\n",
        "common_voice_test = load_dataset(\"common_voice\", \"tr\", split=\"test\")\n"
      ],
      "execution_count": null,
      "outputs": []
    },
    {
      "cell_type": "code",
      "source": [
        "common_voice_train[5][\"sentence\"]"
      ],
      "metadata": {
        "colab": {
          "base_uri": "https://localhost:8080/",
          "height": 35
        },
        "id": "un3EDHKch0t5",
        "outputId": "1dc91aa0-6bc9-48d4-aa57-a0fc0bb76f97"
      },
      "execution_count": null,
      "outputs": [
        {
          "output_type": "execute_result",
          "data": {
            "text/plain": [
              "'Bu kalıplaşmış düşünceye tepkiniz nedir?'"
            ],
            "application/vnd.google.colaboratory.intrinsic+json": {
              "type": "string"
            }
          },
          "metadata": {},
          "execution_count": 13
        }
      ]
    },
    {
      "cell_type": "markdown",
      "metadata": {
        "id": "ri5y5N_HMANq"
      },
      "source": [
        "Many ASR datasets only provide the target text, `'sentence'` for each audio array `'audio'` and file `'path'`. Common Voice actually provides much more information about each audio file, such as the `'accent'`, etc. Keeping the notebook as general as possible, we only consider the transcribed text for fine-tuning.\n",
        "\n"
      ]
    },
    {
      "cell_type": "code",
      "metadata": {
        "id": "kbyq6lDgQc2a",
        "colab": {
          "base_uri": "https://localhost:8080/",
          "height": 382
        },
        "outputId": "8f9d0d21-3a96-41d2-f9f8-d5c390ab2591"
      },
      "source": [
        "common_voice_train = common_voice_train.remove_columns([\"accent\", \"age\", \"client_id\", \"down_votes\", \"gender\", \"locale\", \"segment\", \"up_votes\"])\n",
        "common_voice_test = common_voice_test.remove_columns([\"accent\", \"age\", \"client_id\", \"down_votes\", \"gender\", \"locale\", \"segment\", \"up_votes\"])\n"
      ],
      "execution_count": null,
      "outputs": [
        {
          "output_type": "error",
          "ename": "ValueError",
          "evalue": "ignored",
          "traceback": [
            "\u001b[0;31m---------------------------------------------------------------------------\u001b[0m",
            "\u001b[0;31mValueError\u001b[0m                                Traceback (most recent call last)",
            "\u001b[0;32m<ipython-input-15-f79e492d336a>\u001b[0m in \u001b[0;36m<module>\u001b[0;34m()\u001b[0m\n\u001b[0;32m----> 1\u001b[0;31m \u001b[0mcommon_voice_train\u001b[0m \u001b[0;34m=\u001b[0m \u001b[0mcommon_voice_train\u001b[0m\u001b[0;34m.\u001b[0m\u001b[0mremove_columns\u001b[0m\u001b[0;34m(\u001b[0m\u001b[0;34m[\u001b[0m\u001b[0;34m\"accent\"\u001b[0m\u001b[0;34m,\u001b[0m \u001b[0;34m\"age\"\u001b[0m\u001b[0;34m,\u001b[0m \u001b[0;34m\"client_id\"\u001b[0m\u001b[0;34m,\u001b[0m \u001b[0;34m\"down_votes\"\u001b[0m\u001b[0;34m,\u001b[0m \u001b[0;34m\"gender\"\u001b[0m\u001b[0;34m,\u001b[0m \u001b[0;34m\"locale\"\u001b[0m\u001b[0;34m,\u001b[0m \u001b[0;34m\"segment\"\u001b[0m\u001b[0;34m,\u001b[0m \u001b[0;34m\"up_votes\"\u001b[0m\u001b[0;34m]\u001b[0m\u001b[0;34m)\u001b[0m\u001b[0;34m\u001b[0m\u001b[0;34m\u001b[0m\u001b[0m\n\u001b[0m\u001b[1;32m      2\u001b[0m \u001b[0mcommon_voice_test\u001b[0m \u001b[0;34m=\u001b[0m \u001b[0mcommon_voice_test\u001b[0m\u001b[0;34m.\u001b[0m\u001b[0mremove_columns\u001b[0m\u001b[0;34m(\u001b[0m\u001b[0;34m[\u001b[0m\u001b[0;34m\"accent\"\u001b[0m\u001b[0;34m,\u001b[0m \u001b[0;34m\"age\"\u001b[0m\u001b[0;34m,\u001b[0m \u001b[0;34m\"client_id\"\u001b[0m\u001b[0;34m,\u001b[0m \u001b[0;34m\"down_votes\"\u001b[0m\u001b[0;34m,\u001b[0m \u001b[0;34m\"gender\"\u001b[0m\u001b[0;34m,\u001b[0m \u001b[0;34m\"locale\"\u001b[0m\u001b[0;34m,\u001b[0m \u001b[0;34m\"segment\"\u001b[0m\u001b[0;34m,\u001b[0m \u001b[0;34m\"up_votes\"\u001b[0m\u001b[0;34m]\u001b[0m\u001b[0;34m)\u001b[0m\u001b[0;34m\u001b[0m\u001b[0;34m\u001b[0m\u001b[0m\n\u001b[1;32m      3\u001b[0m \u001b[0mcommon_voice_train\u001b[0m\u001b[0;34m[\u001b[0m\u001b[0;36m0\u001b[0m\u001b[0;34m]\u001b[0m\u001b[0;34m[\u001b[0m\u001b[0;34m\"gender\"\u001b[0m\u001b[0;34m]\u001b[0m\u001b[0;34m\u001b[0m\u001b[0;34m\u001b[0m\u001b[0m\n",
            "\u001b[0;32m/usr/local/lib/python3.7/dist-packages/datasets/arrow_dataset.py\u001b[0m in \u001b[0;36mwrapper\u001b[0;34m(*args, **kwargs)\u001b[0m\n\u001b[1;32m    516\u001b[0m             \u001b[0mself\u001b[0m\u001b[0;34m:\u001b[0m \u001b[0;34m\"Dataset\"\u001b[0m \u001b[0;34m=\u001b[0m \u001b[0mkwargs\u001b[0m\u001b[0;34m.\u001b[0m\u001b[0mpop\u001b[0m\u001b[0;34m(\u001b[0m\u001b[0;34m\"self\"\u001b[0m\u001b[0;34m)\u001b[0m\u001b[0;34m\u001b[0m\u001b[0;34m\u001b[0m\u001b[0m\n\u001b[1;32m    517\u001b[0m         \u001b[0;31m# apply actual function\u001b[0m\u001b[0;34m\u001b[0m\u001b[0;34m\u001b[0m\u001b[0;34m\u001b[0m\u001b[0m\n\u001b[0;32m--> 518\u001b[0;31m         \u001b[0mout\u001b[0m\u001b[0;34m:\u001b[0m \u001b[0mUnion\u001b[0m\u001b[0;34m[\u001b[0m\u001b[0;34m\"Dataset\"\u001b[0m\u001b[0;34m,\u001b[0m \u001b[0;34m\"DatasetDict\"\u001b[0m\u001b[0;34m]\u001b[0m \u001b[0;34m=\u001b[0m \u001b[0mfunc\u001b[0m\u001b[0;34m(\u001b[0m\u001b[0mself\u001b[0m\u001b[0;34m,\u001b[0m \u001b[0;34m*\u001b[0m\u001b[0margs\u001b[0m\u001b[0;34m,\u001b[0m \u001b[0;34m**\u001b[0m\u001b[0mkwargs\u001b[0m\u001b[0;34m)\u001b[0m\u001b[0;34m\u001b[0m\u001b[0;34m\u001b[0m\u001b[0m\n\u001b[0m\u001b[1;32m    519\u001b[0m         \u001b[0mdatasets\u001b[0m\u001b[0;34m:\u001b[0m \u001b[0mList\u001b[0m\u001b[0;34m[\u001b[0m\u001b[0;34m\"Dataset\"\u001b[0m\u001b[0;34m]\u001b[0m \u001b[0;34m=\u001b[0m \u001b[0mlist\u001b[0m\u001b[0;34m(\u001b[0m\u001b[0mout\u001b[0m\u001b[0;34m.\u001b[0m\u001b[0mvalues\u001b[0m\u001b[0;34m(\u001b[0m\u001b[0;34m)\u001b[0m\u001b[0;34m)\u001b[0m \u001b[0;32mif\u001b[0m \u001b[0misinstance\u001b[0m\u001b[0;34m(\u001b[0m\u001b[0mout\u001b[0m\u001b[0;34m,\u001b[0m \u001b[0mdict\u001b[0m\u001b[0;34m)\u001b[0m \u001b[0;32melse\u001b[0m \u001b[0;34m[\u001b[0m\u001b[0mout\u001b[0m\u001b[0;34m]\u001b[0m\u001b[0;34m\u001b[0m\u001b[0;34m\u001b[0m\u001b[0m\n\u001b[1;32m    520\u001b[0m         \u001b[0;32mfor\u001b[0m \u001b[0mdataset\u001b[0m \u001b[0;32min\u001b[0m \u001b[0mdatasets\u001b[0m\u001b[0;34m:\u001b[0m\u001b[0;34m\u001b[0m\u001b[0;34m\u001b[0m\u001b[0m\n",
            "\u001b[0;32m/usr/local/lib/python3.7/dist-packages/datasets/fingerprint.py\u001b[0m in \u001b[0;36mwrapper\u001b[0;34m(*args, **kwargs)\u001b[0m\n\u001b[1;32m    411\u001b[0m             \u001b[0;31m# Call actual function\u001b[0m\u001b[0;34m\u001b[0m\u001b[0;34m\u001b[0m\u001b[0;34m\u001b[0m\u001b[0m\n\u001b[1;32m    412\u001b[0m \u001b[0;34m\u001b[0m\u001b[0m\n\u001b[0;32m--> 413\u001b[0;31m             \u001b[0mout\u001b[0m \u001b[0;34m=\u001b[0m \u001b[0mfunc\u001b[0m\u001b[0;34m(\u001b[0m\u001b[0mself\u001b[0m\u001b[0;34m,\u001b[0m \u001b[0;34m*\u001b[0m\u001b[0margs\u001b[0m\u001b[0;34m,\u001b[0m \u001b[0;34m**\u001b[0m\u001b[0mkwargs\u001b[0m\u001b[0;34m)\u001b[0m\u001b[0;34m\u001b[0m\u001b[0;34m\u001b[0m\u001b[0m\n\u001b[0m\u001b[1;32m    414\u001b[0m \u001b[0;34m\u001b[0m\u001b[0m\n\u001b[1;32m    415\u001b[0m             \u001b[0;31m# Update fingerprint of in-place transforms + update in-place history of transforms\u001b[0m\u001b[0;34m\u001b[0m\u001b[0;34m\u001b[0m\u001b[0;34m\u001b[0m\u001b[0m\n",
            "\u001b[0;32m/usr/local/lib/python3.7/dist-packages/datasets/arrow_dataset.py\u001b[0m in \u001b[0;36mremove_columns\u001b[0;34m(self, column_names, new_fingerprint)\u001b[0m\n\u001b[1;32m   1490\u001b[0m             \u001b[0;32mif\u001b[0m \u001b[0mcolumn_name\u001b[0m \u001b[0;32mnot\u001b[0m \u001b[0;32min\u001b[0m \u001b[0mdataset\u001b[0m\u001b[0;34m.\u001b[0m\u001b[0m_data\u001b[0m\u001b[0;34m.\u001b[0m\u001b[0mcolumn_names\u001b[0m\u001b[0;34m:\u001b[0m\u001b[0;34m\u001b[0m\u001b[0;34m\u001b[0m\u001b[0m\n\u001b[1;32m   1491\u001b[0m                 raise ValueError(\n\u001b[0;32m-> 1492\u001b[0;31m                     \u001b[0;34mf\"Column name {column_name} not in the dataset. \"\u001b[0m\u001b[0;34m\u001b[0m\u001b[0;34m\u001b[0m\u001b[0m\n\u001b[0m\u001b[1;32m   1493\u001b[0m                     \u001b[0;34mf\"Current columns in the dataset: {dataset._data.column_names}\"\u001b[0m\u001b[0;34m\u001b[0m\u001b[0;34m\u001b[0m\u001b[0m\n\u001b[1;32m   1494\u001b[0m                 )\n",
            "\u001b[0;31mValueError\u001b[0m: Column name accent not in the dataset. Current columns in the dataset: ['path', 'audio', 'sentence']"
          ]
        }
      ]
    },
    {
      "cell_type": "code",
      "source": [
        "common_voice_train[0][\"path\"]"
      ],
      "metadata": {
        "colab": {
          "base_uri": "https://localhost:8080/",
          "height": 35
        },
        "id": "Nhj88h7oiL9h",
        "outputId": "fd416e40-1090-4540-e52e-1bd22da9c837"
      },
      "execution_count": null,
      "outputs": [
        {
          "output_type": "execute_result",
          "data": {
            "text/plain": [
              "'common_voice_tr_17346025.mp3'"
            ],
            "application/vnd.google.colaboratory.intrinsic+json": {
              "type": "string"
            }
          },
          "metadata": {},
          "execution_count": 17
        }
      ]
    },
    {
      "cell_type": "markdown",
      "metadata": {
        "id": "Go9Hq4e4NDT9"
      },
      "source": [
        "Let's write a short function to display some random samples of the dataset and run it a couple of times to get a feeling for the transcriptions."
      ]
    },
    {
      "cell_type": "code",
      "metadata": {
        "id": "72737oog2F6U"
      },
      "source": [
        "from datasets import ClassLabel\n",
        "import random\n",
        "import pandas as pd\n",
        "from IPython.display import display, HTML\n",
        "\n",
        "def show_random_elements(dataset, num_examples=10):\n",
        "    assert num_examples <= len(dataset), \"Can't pick more elements than there are in the dataset.\"\n",
        "    picks = []\n",
        "    for _ in range(num_examples):\n",
        "        pick = random.randint(0, len(dataset)-1)\n",
        "        while pick in picks:\n",
        "            pick = random.randint(0, len(dataset)-1)\n",
        "        picks.append(pick)\n",
        "    \n",
        "    df = pd.DataFrame(dataset[picks])\n",
        "    display(HTML(df.to_html()))"
      ],
      "execution_count": null,
      "outputs": []
    },
    {
      "cell_type": "code",
      "metadata": {
        "colab": {
          "base_uri": "https://localhost:8080/",
          "height": 363
        },
        "id": "K_JUmf3G3b9S",
        "outputId": "9c1b0fcd-eccb-46e5-b17d-0554439add57"
      },
      "source": [
        "show_random_elements(common_voice_train.remove_columns([\"path\", \"audio\"]), num_examples=10)"
      ],
      "execution_count": null,
      "outputs": [
        {
          "output_type": "display_data",
          "data": {
            "text/plain": [
              "<IPython.core.display.HTML object>"
            ],
            "text/html": [
              "<table border=\"1\" class=\"dataframe\">\n",
              "  <thead>\n",
              "    <tr style=\"text-align: right;\">\n",
              "      <th></th>\n",
              "      <th>sentence</th>\n",
              "    </tr>\n",
              "  </thead>\n",
              "  <tbody>\n",
              "    <tr>\n",
              "      <th>0</th>\n",
              "      <td>Projenin değeri iki virgül yetmiş yedi milyon avro.</td>\n",
              "    </tr>\n",
              "    <tr>\n",
              "      <th>1</th>\n",
              "      <td>Bu önemsiz bir sorun sayılmaz.</td>\n",
              "    </tr>\n",
              "    <tr>\n",
              "      <th>2</th>\n",
              "      <td>İşte fark burda.</td>\n",
              "    </tr>\n",
              "    <tr>\n",
              "      <th>3</th>\n",
              "      <td>Bu yöndeki haberler asılsızdır.</td>\n",
              "    </tr>\n",
              "    <tr>\n",
              "      <th>4</th>\n",
              "      <td>Savunma en güçlü unsur.</td>\n",
              "    </tr>\n",
              "    <tr>\n",
              "      <th>5</th>\n",
              "      <td>İki zanlı da kırk sekiz saat süreyle gözaltına alındı.</td>\n",
              "    </tr>\n",
              "    <tr>\n",
              "      <th>6</th>\n",
              "      <td>\"Kosova'daki yargı reformu bunlarla başlıyor.\"</td>\n",
              "    </tr>\n",
              "    <tr>\n",
              "      <th>7</th>\n",
              "      <td>Ancak daha yapılacak çok iş var.</td>\n",
              "    </tr>\n",
              "    <tr>\n",
              "      <th>8</th>\n",
              "      <td>Proje bin iki yüz kişiye iş yaratacak.</td>\n",
              "    </tr>\n",
              "    <tr>\n",
              "      <th>9</th>\n",
              "      <td>Bana hiçbir yeni öneri getirilmedi.</td>\n",
              "    </tr>\n",
              "  </tbody>\n",
              "</table>"
            ]
          },
          "metadata": {}
        }
      ]
    },
    {
      "cell_type": "markdown",
      "metadata": {
        "id": "fowcOllGNNju"
      },
      "source": [
        "Alright! The transcriptions look fairly clean. Having translated the transcribed sentences, it seems that the language corresponds more to written-out text than noisy dialogue. This makes sense considering that [Common Voice](https://huggingface.co/datasets/common_voice) is a crowd-sourced read speech corpus."
      ]
    },
    {
      "cell_type": "markdown",
      "metadata": {
        "id": "vq7OR50LN49m"
      },
      "source": [
        "We can see that the transcriptions contain some special characters, such as `,.?!;:`. Without a language model, it is much harder to classify speech chunks to such special characters because they don't really correspond to a characteristic sound unit. *E.g.*, the letter `\"s\"` has a more or less clear sound, whereas the special character `\".\"` does not.\n",
        "Also in order to understand the meaning of a speech signal, it is usually not necessary to include special characters in the transcription.\n",
        "\n",
        "Let's simply remove all characters that don't contribute to the meaning of a word and cannot really be represented by an acoustic sound and normalize the text."
      ]
    },
    {
      "cell_type": "code",
      "metadata": {
        "id": "svKzVJ_hQGK6"
      },
      "source": [
        "import re\n",
        "chars_to_remove_regex = '[\\,\\?\\.\\!\\-\\;\\:\\\"\\“\\%\\‘\\”\\�\\']'\n",
        "\n",
        "def remove_special_characters(batch):\n",
        "    batch[\"sentence\"] = re.sub(chars_to_remove_regex, '', batch[\"sentence\"]).lower()\n",
        "    return batch"
      ],
      "execution_count": null,
      "outputs": []
    },
    {
      "cell_type": "code",
      "metadata": {
        "colab": {
          "base_uri": "https://localhost:8080/",
          "height": 81,
          "referenced_widgets": [
            "5ab171dff1f14328a096bad41693d324",
            "3a709dc0e8be4fa4b98e874d721445d5",
            "9e97adc080dc47fbae723f5ff6e2e3b1",
            "9a1217661ff541c4b3f6f06d23a550a1",
            "93d49c9ef5b44ac5b3d8e004170e384f",
            "7da800d590d74963b95f0beaace75753",
            "e7816bfce6d04a7f9261719112231a85",
            "7510e24d8388486ebe003d7b0e6aeb8d",
            "15f0add6801245d6bc74ede6147f1652",
            "eac72bf1531a4d39b72af42df0d4da5a",
            "d855cebb952944dcb25eba5c3c2b1220",
            "7a6192e163ed43f5840950026fd9e0d3",
            "d2d05f7deb694bd7a1aece096fec090b",
            "d072876ce533458ca46dab649dc91eea",
            "ded3b2b1c3454697928909a7165ed327",
            "a063412b80a048f6a5ad02e56d1e9c2b",
            "df76eeb782f84102b1427f718e30ed00",
            "4e26dfec542a44ad88d7d1fb4507924a",
            "1725e1142cc546b38b76964be891bcb0",
            "21a3f152fa4140eebdbf381a9ab53b5f",
            "250d5f48f9a846d8ba1d4c57d5a164ac",
            "7528c929818d4b90b4812cec90addd08"
          ]
        },
        "id": "XIHocAuTQbBR",
        "outputId": "c5d84cbd-7685-4695-9260-d4d13137249c"
      },
      "source": [
        "common_voice_train = common_voice_train.map(remove_special_characters)\n",
        "common_voice_test = common_voice_test.map(remove_special_characters)"
      ],
      "execution_count": null,
      "outputs": [
        {
          "output_type": "display_data",
          "data": {
            "text/plain": [
              "0ex [00:00, ?ex/s]"
            ],
            "application/vnd.jupyter.widget-view+json": {
              "version_major": 2,
              "version_minor": 0,
              "model_id": "5ab171dff1f14328a096bad41693d324"
            }
          },
          "metadata": {}
        },
        {
          "output_type": "display_data",
          "data": {
            "text/plain": [
              "0ex [00:00, ?ex/s]"
            ],
            "application/vnd.jupyter.widget-view+json": {
              "version_major": 2,
              "version_minor": 0,
              "model_id": "7a6192e163ed43f5840950026fd9e0d3"
            }
          },
          "metadata": {}
        }
      ]
    },
    {
      "cell_type": "code",
      "source": [
        "len(common_voice_train.map(print(common_voice_train[\"sentence\"])))"
      ],
      "metadata": {
        "colab": {
          "base_uri": "https://localhost:8080/"
        },
        "id": "YnZ8ZEq6jCBH",
        "outputId": "10b36921-0ab0-41f4-f3ab-a7f6504cdaf0"
      },
      "execution_count": null,
      "outputs": [
        {
          "output_type": "stream",
          "name": "stderr",
          "text": [
            "Loading cached processed dataset at /root/.cache/huggingface/datasets/common_voice/tr/6.1.0/5693bfc0feeade582a78c2fb250bc88f52bd86f0a7f1bb22bfee67e715de30fd/cache-686c65eddb3073e2.arrow\n"
          ]
        },
        {
          "output_type": "stream",
          "name": "stdout",
          "text": [
            "['hırvat makamları değişiklik istiyorlar', 'festivalde canlı müzik de vardı', 'öncelikle karşılıklı güven sağlanmalı', 'i̇lk önce kriterleri karşılaması gerekiyor', 'moldavyalı kadın da karadağı terk etti', 'bu kalıplaşmış düşünceye tepkiniz nedir', 'profesöre göre sürecin aşamalı olması gerekiyor', 'ab sonucu memnuniyetle karşıladı', 'bu arada seçimler de yaklaşıyor', 'bu konudaki izlenimleriniz ne yönde', 'i̇ş örgütleri konuyla ilgili oldukça hevesli', 'gerçekler olmadan barış olmaz', 'fakat sadece orduyu eleştirmek de yanlış olur', 'ancak o günü bütün ülkeler kutlamadı', 'hırvatistan dijital televizyona geçti', 'fikri uluslararası örgütler de kınadı', 'gerisiyse henüz değerlendirilmedi', 'her iki toplumdan da sakin olmalarını istiyoruz', 'hükümet şirketin ini elinde tutmak istiyor', 'kurul salı günü tekrar toplanma kararı aldı', 'bitiki de bağlantının net olmadığına katılıyor', 'ne yapabilirim ki', 'halk bize destek verdi ve bize güvenebilirler', 'ülkede elle tutulur bir heyecan var', 'diğer kadın adaylar yarıştan çekildiler', 'kazanan önümüzdeki yılın başında açıklanacak', 'bu stratejide ne tür yenilikler öngörülüyor', 'maaşımız mı artacak daha fazla mı iş olacak', 'yine de iki polis memuru hafif yaralandı', 'bu da çok daha fazla ortak çaba gerektiriyor', 'şirket bitmiş ürünlerini satmakta başarılı', 'peki türkiyenin çabaları sonuç veriyor mu', 'tutuklananlardan biri çeçen uyruklu', 'gönüllüler aynı zamanda islamci misyonerlerdi', 'basescu da benzer sözler sözledi', 'bu konuda bir yorumunuz var mı', 'hırvatistana özgürlüğünü kazandırdı', 'kimsenin maaşlardan haber verdiği yok', 'bu ülkede her şey her geçen gün pahalılanıyor', 'bu beklemediğimiz bir dış müdahaledir', 'bu ülke romanyadaki en büyük yatırımcıdır', 'tüm bunlar çok olumlu gelişmeler', 'ancak süreç ekim ayında iptal edildi', 'bunlar yalnızca benim başıma gelmiyor', 'zafer rusyaya karşı oynanan karşılaşmada geldi', 'vetevendosje kararı imzalamayı reddetti', 'müzakereler bir yıl önce başlatıldı', 'havayolu şirketi haftada dört sefer yapacak', 'hükümetin bu ekonomik sorunların çözümüne yönelik etkin bir planı var mı', 'arnavutlukta turizm hala emekleme döneminde', 'dünya ekonomisinde kamu mallarının üretiminden kim sorumlu', 'fakat gıpta etmek için çok daha iyi nedenler var', 'bu onların hakkıdır', 'ancak başbakanın beklediği şekilde değil', 'eğitime elbette daha fazla yatırım yapılmalı', 'söz konusu tarafa mensup olmaktan dolayı bir sorun yaşıyor musunuz', 'gece hayatı büyüleyiciydi', 'talibanın i̇stanbul adresi mi var', 'bu hükümetin projeye ikinci destek verişi', 'edi rama da aynı fikirde', 'kamu istihsalleri de sorun olmaya devam ediyor', 'gündemdeki diğer bir madde de kıbrıs sorunu', 'sırbistan nükleer enerjiye hazır mı', 'fonlar beş türk bankası kanalıyla verilecek', 'berişa ramaya önerisini inceleyeceğini söyledi', 'siz bu soruna nasıl bir nihai çözüm öngörüyorsunuz', 'fakat bu başarı tasovacı memnun etmeye yetmiyor', 'i̇şte sanatçının yaptığı şey budur', 'vergi toplamıyorlar', 'şimdiye kadar fonların yaklaşık i sağlandı', 'o zaman sahneye yeni adaylar da çıkabilecek', 'bulguların toplam ağırlığı dört tonu buluyor', 'türkiye libyada çok büyük işler yapıyor', 'i̇ki yıl önce de belgrada taşınmış', 'aynı kural bakan yardımcıları için de geçerli', 'cortiç buna katılıyor', 'belgenin bir ay içinde imzalanması bekleniyor', 'lise aşkını bulmayı başardı', 'bende mücadele edeceğime bu yolu seçtim', 'yani durumda bir değişiklik olmayacak', 'bunların mahkemeye sunulması gerekir', 'yasalarla da başı belaya girdi', 'ancak yasa tam olarak uygulanmıyor', 'yani hiç kâr etmedik', 'adını aldığı ülkeden de daha uzun yaşadı', 'bölge kosova ihtilafından da etkilenmişti', 'benzer bir çağrı ankaradan da geldi', 'bu takviye ne kadar önemli', 'ancak yunanlılar işini biliyordu', 'i̇ş dışında da kendini sürekli meşgul ediyor', 'iraklı kürt liderlerden de kınama geldi', 'çok uzun bir zamandır', 'sayılar şaşırtıcı boyuttadır', 'obrija ailesinin babası olayda hayatını kaybetti', 'tava dolana kadar bu işleme devam edin', 'yazar bir hükümet istediğimizden emin miyiz diye soruyor', 'risk altındaki tek sektör turizm değil', 'bu arada meşru sektörler de zarara uğruyor', 'projenin iki yıl içinde tamamlanması bekleniyor', 'bu sırbistanın ilk maç günüydü', 'bu kentsel alanlar için sorun değil', 'devlet sübvansiyonları da azaltılacak', 'makedonya ile olan ilişkileriniz ne durumda', 'i̇zlenmesi gereken yol bu', 'bu hafta için yeni grevler planlanıyor', 'şebeke bağlantılarının ye yakını kaçak', 'bulgar hükümeti projede q hisseye sahip', 'ekim ayında bir ilerleme raporu yayınlanacak', 'podstrana turizm kurulu gelişmelerden memnun', 'i̇şsizlik oranı ise civarında', 'burada bir lokantamiz vardı', 'bunlara ek olarak ülkenin ekonomik durumunda bir değişiklik olacağını düşünüyor musunuz', 'bu yönde bazı önemli adımlar atıldı', 'ancak bu sadece son bölümdü', 'eğer öyleyse seçimleri kaç gözlemci izleyecek', 'türkiye kaddafiye karşı görüşlerini daha güçlü bir şekilde dile getirmekte neden tereddüt ediyor', 'blöf yapmıyoruz', 'fakat bu durum kısa bir süre sonra değişecek', 'festival iki yıl içinde tekrarlanacak', 'bunlar ilk adımlar', 'onun sadece işini yaptığını biliyorlardı', 'para hükümetin yedek fonlarından sağlanacak', 'i̇lk fırın altı aydır atıl durumdaydı', 'ancak celiç bu iddiaları reddetti', 'sadece kaybedenler var', 'kosovada çok az bir otoritesi kaldı', 'son on yıldır süren savaşı kazandı', 'pambuccian girişimini savundu', 'ayrıntılara girmek istemiyorum', 'bu ikili halen kacak durumda', 'polis varlığı barizdi', 'şimdilik anlaşmaya varmak için çalışacağız', 'ancak habere belgraddaki herkes sevinmedi', 'şampiyona önümüzdeki yıl zagrebde yapılacak', 'podujevo tek örnek değil', 'halkın yaklaşık yüzde otuz üçü oy kullanmayacak', 'çift saraybosnadan karadağa geçti', 'plamadeala iki bin beş yılında öldü', 'i̇ki ülke bloğa yirmi altı ve yirmi yedi üyeler olarak katıldı', 'tarihi binalar köprüler ve kaleler var', 'onlar şanslı olanlar', 'yerleşim birimi derhal karantinaya alındı', 'yeni işler üç ila on bir aylık süreleri kapsıyor', 'reform finansal açıdan da faydalı', 'satış bedeli yüz yirmi milyon avro oldu', 'projeye iki bin on yılında başlanması planlanıyor', 'çok çalıştım ve babamdan da büyük destek gördüm', 'kampanyası kapsamında eğitim kursları düzenlendi', 'girişim bir halk hareketine de yol açtı', 'ancak gruevski iki öneriyi geri çevirdi', 'bir ekonomi salt kimi kurumları taklit etmeye çalışarak ileri düzeylere sıçrayabilir mi', 'etkinlikte toplam altmış dört okul yarıştı', 'port elizabethe gittik', 'dört gün süren festivale binlerce kişi katıldı', 'üçü gala olmak üzere yirmi oyun sahnelenecek', 'petrol fiyatı arttı', 'bu turda en çok oyu alan aday kazanıyor', 'ancak bu iş şu ana kadar hiç de kolay gorunmuyor', 'kosoru bir takım acil sorunlar bekliyor', 'yurtdışında da bin sekiz yüz altı seçmen bulunuyor', 'siyasi kriz güvenlik durumu üzerinde herhangi bir etki yarattı mı', 'kosovada da benzer bir durum söz konusu', 'çok sevdiğimiz mutlu bir gün', 'sergi on yedi şubata kadar devam edecek', 'hepimizin emniyet kemerleri bağlı', 'bazılarına ilgi diğerlerine göre daha büyük', 'şansıma ve buradaki herkesin şansına bu olmadı', 'değişiklik her yerde göze çarpıyor', 'kararın ekim ayı başlarında verilmesi bekleniyor', 'o muhteşem kişilikli marietta', 'kosovanın tanınma sürecinde yavaşlama mı yaşanıyor', 'tadiçin kararı demokratlara da yarayacak', 'kesin sonuçlar otuz gün içinde açıklanacak', 'görüşülen kişilerin hepsi öğrenciydi', 'mimosa hasanramaj ise daha ihtiyatlı', 'peki yeni bir karışıklığın kapıda olduğunu gösteren işaretler var mı', 'aralık bin dokuz yüz doksan üçe kadar bu görevde kaldı', 'bu yıl ilk defa pasif seçmen kaydı uygulandı', 'şikayet edemem doğrusu', 'yalnızca sol ön kolu kayıp', 'ancak muhalefet aynı fikirde değil', 'mali bilgi verilmedi', 'bilim eziyet verici olmaktan çok eğlenceliydi', 'sizce söz konusu toplumlar arası ilişkilerde hangi alanlarda gelişme sağlanmalı', 'bu olay bir ilk mi', 'etkinliğe yirmi dört ülkeden toplam kırk sekiz dansçı katıldı', 'ardından kilisede evlenme töreni yapılıyor', 'bunlar en büyükleri', 'umarız boğa olmayız', 'güvenlik tedbirleri', 'bunu kim ister', 'gelişmeye ve yeni şeyler sunmaya yetmiyor', 'günümüzde avukat olmak zor', 'bugüne kadar gelen tepkiler karışık oldu', 'başka kaynaklardan da eleştiriler gelmedi değil', 'bu rakamlar geçen yılki rakamların iki katı', 'romanya beş milyar avroluk ilk dilimi hemen aldı', 'i̇smin ne önemi var', 'fakat uzmanlar buna değeceğini söylüyorlar', 'bir sürü yerde indirim hakları vardı', 'taslak onay için parlamentoya gönderilecek', 'karadağ da burada bir şans görüyor', 'ama yapamaz', 'televizyondaki her dört sözcükten birisi kriz', 'bu itirazlar dışında hükümet başarısından emin', 'toprak kaymaları da oldukça sık yaşanıyor', 'ancak bu oldukça engebeli bir yol', 'burada da madridte olduğu gibi kamuoyunun görüşünün değişmesini mi bekliyorlardı', 'ancak tek faktör bu değil', 'bu rakamlar belirgin şekilde artabilir', 'hükümet sorunla baş etmek için adımlar atıyor', 'bunların on milyon avroluk bir bütçeleri var', 'on iki ülke henüz tanımadı', 'bunlar savaş suçluları', 'yarışmayı çinli bir öğrenci kazandı', 'sergi ocak ayına kadar devam edecek', 'karşılıklı olarak bayram tebrikleri ediliyor', 'bizim politikamız budur', 'hırsızlar hazır olmayacak bir fidye yolu arıyor', 'daha sonra bu kişi yemek masasını hazırlar', 'adaylık ocak ayı sonunda sunulacak', 'toplam yatırım bedeli altı virgül beş milyon avroya ulaştı', 'planı yalnızca on dört vekil destekledi', 'doğrudan ya da dolaylı olarak hepimizi etkiliyor', 'bu hiç de haksız bir heveslilik değil', 'i̇kinci ankete göre bu oran yüzde seksen birden bile yüksek', 'bu harika bir kaçış mekanizması da olur', 'kaybettik ve eve erken dönmek zorundayız', 'sırbistankaradağ bu sefer altın madalyaya uzanabilecek mi', 'grup üyeleri kişisel nedenleri öne sürdüler', 'fabrika iki merkezde faaliyet gösteriyor', 'meclis kesintileri ekim ayında değerlendirecek', 'kafede mripanın telefonu çalıyor', 'programda yüz on film yer alıyor', 'bunun süreci hızlandırması bekleniyor', 'seçimler on dört nisan çarşamba günü yapılacak', 'sorun tek bir sporla sınırlı değil', 'peki kostunica daha ne kadar dayanabilir', 'türkiye başkanlığı haziran ayında devraldı', 'halkın güveni yüzde dört oranında azalarak yüzde otuz altıya düştü', 'parti son seçimlerde parlamentoya girememişti', 'vlasiçin şampiyonluk derecesi iki yüz beş metre', 'buzların çözüldüğüne dair henüz bir işaret yok', 'azınlık temsilcileri değişiklik talep ediyor', 'turkiye parlamenter sisteme bin dokuz yüz yirmi yılında geçti', 'yetkililer yenilenebilir enerjinin faydalarını inceliyorlar fakat bürokrasi engel çıkarır mı', 've de gerçekten küçük', 'yedi gazete on altı adet reklam yayınlayacak', 'kosova ile ilişkiler tamamen farklı bir konu', 'ülkelerin ortalama başarı oranlarıysa yüzde otuz beş', 'sırplar pekinde neden daha iyisini yapamadılar', 'ancak diğer taklitler ülkede üretiliyor', 'şimdi ihalenin iptali mali istikrarı da bozdu', 'kosova başkentinswki yolcu sayısı arttı', 'kulelerde bir çok bar ve restoran bulunuyor', 'neredeyse dört yüz kişi aleyhinde dava açıldı', 'rekor sayıda on bir aday yarışıyor', 'tebrik edilmeyi hak ediyor', 'yazar böyle bir zihniyetle aldığımız madalyalar bile büyük ikramiye diyor', 'eğer türkiyenin herhangi bir rolü olmayacaksa niçin risk alsın', 'büyükbabalarımıza ayrımcılık yapılmış', 'fakat hükümeti hakir görenler de var', 'fakat zaman komünistlerden yana değildi', 'projenin değeri iki yüz yirmi üç milyon avro', 'yeni parlamento yirmi altı temmuzda kurulacak', 'dış politika alanında başlıca konu kıbrıstı', 'etkinliğe yaklaşık iki yüz elli bin kişi katıldı', 'büyük yeniden yapım projesi dört aşamaya bölündü', 'ancak verdiği kararlar önemli etik güce sahip', 'musliu hakkındaki tüm suçlamaları reddetti', 'fikir yeni değil', 'bulgaristan da aynı tarihte üye olacak', 'projenin toplam bütçesi bir milyar avro', 'son yıllarda belgrad önemli bir gelişim geçirdi', 'fonun şu anki değeri elli milyon avro', 'dağa tırmanmaya devam ettik', 'cuma günkü oylamaya karışık tepkiler geldi', 'tahsilat firmaları altın çağlarını yaşıyorlar', 'ancak hükümet ücret ödenmemesine karar verdi', 'polis olaya müdahale ederek düzeni sağladı', 'yerleşim yerlerinin manzarası harika', 'bu tamamen kosova yönetimine bağlı ', 'bu olay daha büyük yankılara yol açacak mı', 'jani ve babası bu düşüncelerinde yalnız değil', 'bunu uluslararası yankılar izledi', 'ödül hayatınızda ne gibi değişiklikler yarattı', 'ancak makedonyanın yapması gereken işler var', 'şimdiyse daha çok sembolik bir yemek', 'ancak bazı uzmanlar sorular soruyor', 'kısıtlı kaynaklar tedavi kalitesini de etkiliyor', 'ama her zaman değil', 'hırvatistanda işsizlik azalıyor', 'daha ayrıntılı bilgi verebilir misiniz', 'bu tavrım hepsini şaşırttı', 'o yüzden de bazen keşke o olabilseydim diyorum', 'bu yıl da tamamen tartışmasız geçmedi', 'sırbistanın organ donörlerine ihtiyacı var', 'ne gibi faaliyetlerde bulunuyor', 'görüşmeler on sekiz eylülde devam edecek', 'eski alan adı yirmi bir nisana kadar etkin kalacak', 'genel anlamda proje büyük başarı yakaladı', 'paylaşma ve yoksullara yardım etme zamanıdır', 'bu konuda bir ikilem yok', 'bunlar devletin en yüksek mevkilerinde bulunmuyorlar mı', 'makedonya üyelik başvurusunu yirmi iki martta sundu', 'çatışmalar ülkeye otuz altı bin beş yüz cana mal olmuştu', 'bir sinema ve televizyon ünlüsü bile oldu', 'tesisin inşaatı dört buçuk yılda tamamlanancak', 'program özel amaçlar için kullanılmayacak', 'ülkenin şu anki nüfusu yetmiş iki milyon', 'onların arzularını dikkate almak gerekir', 'eleftheriou yetmiş beş üzerinden yetmiş üç puan topladı', 'ford projeye bir virgül iki milyar avro yatırım yapacak', 'sc cumhurbaşkanlığı daha çok sembolik bir mevki', 'sizin de ilerde birgün teknik direktör olma planlarınız var mı', 'anlaşmanın değeri bir virgül altı milyar dolar', 'santralin inşası iki bin on iki yılı sonunda tamamlanacak', 'bizde ise halen böyle bir merkez yok', 'bu tavırlar spora da yansıyor', 'i̇kinci tur müzakereler eylül ayında başlayacak', 'ülke bu sektörde köklü bir geleneğe sahip', 'plivanın çok büyük zarara uğraması bekleniyor', 'yeni sistem iki bin yedi başlarında faaliyete geçecek', 'ancak zanlı savaş suçu işlediğini reddetti', 'bu durumu neye bağlıyorsunuz', 'bunlar iyi işlemesi gereken ufak çarklar', 'kosova başka bir şey', 'kriterleri yerine getirmek için neler yaptınız', 'nikoliç cumhurbaşkanının istifasına şaşırmamış', 'bugün pobjedanın üretimi oldukça zayıf', 'duruşmalar bir aralıkta başlayacak', 'bu arada hükümet de önleyici tedbirler alıyor', 'ancak bazı sektörler bundan zarar görebilir', 'tiranda kaldırımda uyuyan evsiz çocuklar', 'filmin tirandaki galası bu ay gerçekleşecek', 'balkanlarda düşük yoğunluklu fakat dolaylı olarak çok büyük sonuçlar doğuran çatışmalar mı yaşandı', 'aklını kullanmak zorunda kalarak büyümüş', 'dişil mesleki unvanların gelişi sırbistanda kadınlara daha fazla eşitlik sağlayacak mı', 'mültecilerin çoğu sırbistanda yaşıyor', 'savcılık daha sonra suçlamaları geri almıştı', 'felsefemiz', 'profesyonel kariyeriniz nasıl başladı', 'halk için asıl kriz sosyoekonomik', 'üç kuruma da danışmadan bir karar verilmemeli', 'bu düşünceler bugün bile tepki alıyor', 'daha hâlâ tutuklama görmeyi bekliyoruz', 'slyivancanin ise hala kayıp', 'böylece insanlarla iletişim kurabildim', 'fakat halk sadece barış istediğini söylüyor', 'anlaşmanın değeri beş yüz milyon dolar', 'kitap yüzde otuz yabancı dilde basılacak', 'bosnaya dört yıl önce gittim ve çok sevdim', 'ancak gerekli olan siyasi irade mevcut değildi', 'konsere on binden fazla insan katıldı', 'uluslararası toplum da saldırıları kınadı', 'tipik roman yüzü var bende', 'en az altmış kişi hayatını kaybetti', 'rapor altı ekimde yayınlanacak', 'brüksel adresli bu mektuplu protesto ne gibi bir etki yarattı', 'pragın baharı vardı belgradın neden olmasın', 'fakat başkan suçlamayı reddediyor', 'şu anda bitmiş durumdayım', 'azınlık partilerine sekiz sandalye kaldı', 'ankete katılan başka balkan ülkesi yok', 'gerçekten de bu süreci hızlandırmak istiyoruz', 'diğer iki kişi bosnalı', 'sendikalar bir dizi grev yapılacağını duyurdu', 'bu aşamaya gelebilen dava sayısı zaten çok az', 'yine de reform çığlıkları giderek büyüdü', 'festival yirmi iki eylüle kadar devam edecek', 'bunun hakkında ne düşünüyorsunuz', 'ama önce partinin seçimleri kazanması gerekiyor', 'tüketici kredisi de bu konuda rol oynadı', 'katılım yüzde altmış iki virgül sekiz oranından gerçekleşti', 'bu öngörülen yüzde seksen beşlik enflasyon oranını gözden geçirmeyeceğiniz anlamına mı geliyor', 'fakat sadece reklam yetmiyor', 'her şey çok kaotik', 'kıbrıs türk kesimi ise evet oyu verdi', 'demokrasilerde çare tükenmez ama herşey ulusal temelde bölünecekse seçim yapmanın mantığı ne', 'şirket ruhsat için yetmiş bir virgül beş milyon avro ödeyecek', 'bazı adaylar tanınmış küresel şirketlerden geldi', 'i̇lk hat iki bin on yılında hizmete girecek', 'tek sorun yatırım ve zaman kaybı da değil', 'bosnalı sırp polisi de destek verdi', 'kelmendinin eşi makbule iyimser görüşe sahip', 'yine tatile çıkıyorlar ama eskisi gibi değil', 'sizin bu konuda görüşünüz nedir', 'ancak ülkenin notları hemen revize edilmeyecek', 'maç doksan biryetmiş yedilik skorla bitti', 'gençliğin uzatılması fenomeni ise hala yaşıyor', 'tüm bu yemekler için para gerekiyor', 'maksim cikuli de sağlık bakanlığına getiriliyor', 'olayın failleri hala yakalanamadı', 'lükse yer kalmıyor', 'patlamanın on km uzaktan işitildiği bildirildi', 'belki bu kez onların zamanı gelmiştir', 'fiyatın altmış altı milyon avro olduğu bildirildi', 'projenin sonuçları nisan ayında yayınlandı', 'fakat sonuçlar tatsızdı', 'english görevi bu ay devralacak', 'çok sayıda işçi işten çıkarıldı', 'i̇nşaata aralık ayında başlanacak', 'batı balkanlar nereye doğru gidiyor', 'rakamlar kaynağa göre değişiyor', 'kendime yalan söylemem', 'bu süreçle ilgili fikriniz nedir', 'olayla ilgili iki şüpheli tutuklandı', 'güzel bir elyazısıyla bir kitap yazdım', 'yunanistanda hayat artık çok zorlaşmıştı', 'herkes gananın kupayı kazanmasını hayal ediyor', 'kredi yirmi yıl vadeli olacak', 'dükkânlar kapanıyor', 'güzel alternatif hedefler aramadığını belirtti', 'üstelik çok stresli', 'arabaların yüzde seksenden fazlası dizel motorlu', 'makedonya ise arjantin ile birlikte yüz oldu', 'hüseyni hâlâ malevden tazminat bekliyor', 'avro olmadan ülke parçalanır', 'ödül beş bin avro olarak açıklandı', 'fakat artık bu durum değişti', 'aslında böyle bir şey yok', 'şimdilik tek somut kararı dört küçük örgüt aldı', 'koridor sekiz ve koridor on', 'failler kimlerdi', 'reform süreci bir kenara bırakıldı', 'ancak katılım nispeten düşük gerçekleşti', 'çatışmada bir polis memuru hafif yaralandı', 'ancak komisyon yine de güçlüklerle karşılaştı', 'bugüne dek herkes hizmetlerimizden memnun kaldı', 'bölgeden önemli haberlerin haftalık derlemesi', 'i̇nsanın temel bir ihtiyacı temel bir hakkıdır', 'kısıtlamaların kesin içeriği gizli tutuluyor', 'bombalardan biri patlarken diğeri patlamadı', 'uygulamaya mart iki bin sekizde başlanacak', 'etkinlik avrupa sinemasını tanıtıyor', 'ona göre kararda siyasi amaç güdüldü', 'hükümet de bu çağrılara kulak tıkamadı', 'öte yandan hükümet sabırlı olunmasını istiyor', 'aynı rakam iki bin iki yılında yüzde dokuz virgül altı idi', 'i̇skelet bir kelt mezarlığında ortaya çıkarıldı', 'kredilerin büyük bölümü özel şirketlere verildi', 'kampanya süresi de otuz günden yirmi güne indirildi', 'etkinlikte altmış ülkeden beş yüz karikatür yer alacak', 'skor üçsıfır oldu', 'ancak bu mahkeme sadece danışmanlık rolüne sahip', 'en sonunda oturum on altı ekimde başladı', 'yeni zadar limanı iki bin on bir yılında hizmete girecek', 'mücadele iki iki iki bir iki iki sonuçlandı', 'festival on iki kasıma kadar devam edecek', 'bunun da gelecek ay gerçekleşmesi bekleniyor', 'i̇şlem hacmi yüz altmış iki virgül üç milyon avroya çıktı', 'parti gül ile görüşmeyi reddetti', 'ayrıca bölgede yeni bir şey de değil', 'konukların yüzde altmış altısı yabancılardan oluşuyor', 'sergiye on üç ülkeden kırk üç sanatçı katılıyor', 'i̇ki taraf da ashdownun kararından hoşnut değil', 'grup olarak özel ilgi görmeyi hakediyorlar', 'kosor henüz bu meydan okumaya yanıt vermiş değil', 'bu kuralı ihlal edenlerse kırk avro ceza ödeyecek', 'sırbistanın sancak bölgesinde yeni seçimler mi geliyor', 'bu başarının sırrı ne sırp halkını klasik müziğe nasıl yakınlaştırdınız', 'i̇şaretler hiç de iyi değil', 'bu sefer durum çok daha farklı', 'türk liderlerin on altı', 'beyin göçü hırvatistanda kalkınmayı baltalıyor', 'yaşları on dört on beş ve on altı idi', 'yunan takımı rusyayı on üçon yendi', 'son derece uluslararası bir zihniyetteler', 'ama bu olmadı', 'ancak yeni yasa herkese uygulanmayacak', 'proje yedi yüz milyon avro tutacak', 'komşu kosovada da durum aynı', 'bunu derhal bir dizi tutuklama izledi', 'şu ânda durum nedir', 'yetkili üyeliğin mümkün olduğunu belirtti', 'genel süreci nasıl değerlendiriyorsunuz', 'kampanyası sekiz ana tema üzerinde yoğunlaştı', 'fakat iş arayanların hepsi ikna olmuş değil', 'dicarlo bunun bölgesel etkilerini de vurguladı', 'şikayet iki bin altı yılında sunulmuştu', 'sorunlu alanlardan birisi belge güvenliği', 'ülkede iki bin iki yüz elli altı sandık merkezi olacak', 'tihomir staniç', 'washington yardım sözü verdi', 'jüri ön eleme sonrasında yirmi dört şarkıcı seçecek', 'bajec dış yatırımın da artacağını söylüyor', 'fuara yaklaşık on beş sırp şirketi katıldı', 'oylar teker teker elle sayılacak', 'i̇bar nehrinin aşağısındaki sırplar kuzeydekilerden farklı mı', 'yargı sistemi hâlâ sağlıksız', 'hırvatistanın da iyimser olmak için nedeni var', 'başka bir şey daha gördük', 'bu dallar badnikte yakılacak', 'napolyon bin sekiz yüz sekizde buradaymış', 'böyle bir şeyi dünyanın başka neresinde görebilirsiniz', 'kotooshu unvanı on üçbirlik skorla kazandı', 'merkezin iki bin on iki yılında açılması planlanıyor', 'bölgede geleceğe yönelik özelleştirme çalışmaları açısından daha neler yapılması gerekiyor', 'dava büyük olasılıkla hırvatistanda görülecek', 'orada hayat farklı', 'adının açıklanmasını da istemiyor', 'şirket haftada üç sefer yapmayı planlıyor', 'bu açıdan sağlık alanında belirsiz bir fark var', 'ancak bunu uygulamak daha büyük bir sorun olacak', 'bu yıl da bir tane düzenlenmesi planlanıyor', 'şimdiki oran yüzde elli iki', 'yumurta aklarını şekerle karıştırın', 'makedonya bu yıl otuz adet tyetmiş iki tankı aldı', 'dinkin ölümünün etkisi ne oldu', 'elde edilen bilgiler halkı şok etti', 'fakat müşteriler durumdan memnun görünüyorlar', 'aktör on iki mart çarşamba günü kanserden ölmüştü', 'kötü haberse devlet finansmanı', 'brkiçe göre rekabet artıyor', 'arnavutlukta ihracat zayıf', 'bir kişi serbest bırakıldı', 'çiftçiler en başta iyimserdiler', 'geleceği tahmin etmek zor', 'şu anda mecliste oylanmayı bekliyor', 'turnuvaya kırk bir ülkeden toplam üç yüz yetmiş sporcu katıldı', 'komşu makedonyada bu rakam beş kat daha yüksek', 'anlaşmanın son imzalanma tarihiyse bir temmuz', 'havaalanı bin dokuz yüz doksan altıda sivil uçuşa açılmıştı', 'veles makedonya', 'i̇srailli yetkililer bu konuyu düşünmeli', 'yarışmacılar aylardır şarkılarını tanıtıyorlar', 'teklif süresi kırk sekiz gün içinde sona eriyor', 'sırbistan benzin ithal etmiyor', 'evler kiralığa çıkarılıyor', 'i̇yileşmeler devam etti', 'dilekçeye beş bin civarında imza toplandı', 'o zaman her şey berbat oldu', 'planda itiraz ettiğiniz temel noktalar neler', 'bu bağımsız ama mesajı olan bir film', 'bu erteleme için bir somut gerekçe gösterilmedi', 'değişmesini istediğiniz şeyler neler', 'bir koridorla da hastane bölümüne bağlanıyor', 'kokaini taşıyan tır makedon plakalıydı', 'bu yasayı yeni bir özel birim uygulayacak', 'herşeyin bir kapasitesi var değil mi', 'bu yılki etkinliğin onur konuğu mısır idi', 'oylamaya on yedi milletvekili katılmadı', 'yabancı dil eğitimi getirilmeli', 'reform süreçlerinin hızından memnun musunuz', 'nerede', 'bu engelleri aşmada ne gibi bir plan uygulanacak', 'bu misyonlarda yer almak makedonyaya nasıl bir deneyim ve kazanım sağladı', 'bu saldırıyla uğraşacak zamanları olmalı', 'i̇yi bir gazeteci her zaman nesnel olabilmelidir', 'aleksiçi dipçikleriyle dövmeye başladılar', 'i̇ktidara geldiğinde tamamen farklı olacak', 'simitis de bu ihtiyacı hissettiğini söylüyor', 'kurti ve örgütün diğer üyeleri gözaltına alındı', 'papademos zorlukları kabul ediyor', 'bu da rekabetçiliği ve istihdamı olumsuz etkiler', 'burada da yaklaşık yüz yirmi beş bin avro toplandı', 'hırvat tarımı ayakta kalabilecek mi', 'azınlıklara özel bir saygı gösterecektir', 'korg ', 'fakat avrupa kamuoyu buna ikna oldu mu', 'buna harcanan paraya değer kriz ne kadar büyük olursa olsun', 'deniz güvenliğini sağlayıcı önlemler de alındı', 'örneğin uluslararası güçler ne zamandır kıbrısda bulunuyor', 'sonuç olarak bir de iftirayla suçlandılar', 'grup biraz dil engeliyle karşı karşıya', 'sorun kamuoyunda tartışmalara yol açtı', 'yatırımcılar bunu bekliyor', 'olaylarda yaralanma bildirilmedi', 'her türlü yatırım için en önemli ön koşul bu', 'zamanın hepimizin lehine işlediğine de eminim', 've bu borçları bile ödemesi zor olacak', 'kararın kosovadaki yansımaları ne oldu', 'bu önemsiz bir sorun sayılmaz', 'kampanya haziran iki bin ona kadar devam edecek', 'türkiyede toplam yirmi sekiz ulusal gazete bulunuyor', 'onları yenmek çok önemli olacak', 'limaja bir ay ev hapsi verildi', 'nurembergde de aynen böyle oldu', 'popov neden diye soruyor', 'savaşta çocukları korumayı düşünen pek yoktu', 'tesla on temmuz bin sekiz yüz elli altıda doğdu', 'zanlı gıyaben yargılanmaya başladı', 'protestocular salondan çıkarıldılar', 'bu arada enerji piyasası da serbest bırakılacak', 'tarihi prizrende dar sokaklar parke taşından', 'makedonya bu konuda tam olarak ne denli katkıda bulundu', 'son bir buçuk iki yıldır açıkça yalan söyledik', 'belgradlılar bu konuda farklı görüşlere sahip', 'kredinin vadesi sekiz yıl olarak belirlendi', 'müşteriler geçip gittiğinde iç çekiyor', 'yerli ilaçlar yoksa yerli ilaç firmaları çalışmıyorsa neden bu ilaçları ithal etmiyorlar', 'jonuz kısa süreli görevi kabul eden tek adaydı', 'i̇nsanlar neden grev yapıp bir günlük yevmiyeyi kaybeder', 'i̇nsanlar daha iyi yaşam fırsatları arıyorlar', 'alıcının adı kasım ayında duyurulacak', 'hayranlar sırılsıklam fakat heyecanlıydılar', 'i̇şe alım planı işsiz oranını da azaltacak', 'bu bir kalite meselesi', 'sıkıyönetim ilan edildi', 'sırp ordusu ihtilafı önlemek için nasıl tepki gösterecektir', 'ancak buna yasal bir engel olabilir', 'i̇sterseniz bu seçeneği seçebilirsiniz', 'bu meselenin bu yıl içinde çözüleceğinden eminim', 'bunların çoğu yirmi ile yirmi dört yaş arasında', 'tek istisna ise vize serbestliği konusu oldu', 'değişimin temelleri şimdiden atılmaya başlanmalı', 'bu yüzden de bu açıdan önemlidirler', 'bunun etkileri ise şüphesiz oldukça çarpıcı oldu', 'fakat bazı radikaller ve suçlular da var', 'sadece gelinlik yaklaşık kırk kilo gelir', 'diğer üçü ise sofyada ele geçirildi', 'fakat bu dönüşüm nasıl gerçekleşebilir bu açmazdan nasıl çıkılabilir', 'yeni fiyatlar gelecek ay yürürlüğe girecek', 'bu yıl bir otuzuncu yıldönümüne de sahne olacak', 'ortalama fatura iki yüz avroyu buluyor', 'resmi adım haziran ayı sonunda atılacak', 'sizce ne zaman yapılmalılar', 'küresel kriz kapıda mı', 'diğerleri ise çeşitli azınlıklara ayrılacak', 'sivil can kaybı sayısı da tartışmalı', 'resmi adaylık dönemi hafta sonu sona eriyor', 'kendim için protesto ediyorum', 'şehir merkezinde fırıncılık yapıyor', 'fakat bu sadece başlangıç', 'artymata dördüncü oldu', 'bir davada beş ay hapis cezası verilmiş', 'sc parlamentosunda da durum böyle', 'drescherin kendisi de rahim kanserini yenmişti', 'ancak bu seçeneği uygulamak o kadar kolay değil', 'çalışma on iki nisanda yayınlanacak', 'analistlere göre atılabilecek bazı adımlar var', 'burada dikkati çeken ilk şey mimari', 'bir önceki yönetimde durum böyle değildi', 'sergide yirmi yedi sanatçının toplam yetmiş üç eseri yer alıyor', 'okul teknoloji ve ekonomi odaklı olacak', 'bence bu hiç de azımsanacak bir şey değil', 'belopeta bazı sorunlar olduğunu kabul ediyor', 'bir kere çözdünüz mü bir daha donduramazsınız', 'bunun ilk adı dayanışma vergisiydi', 'arnavutlukta turizm hâlâ emekleme döneminde', 'bu kesime yapılan indirim yüzde doksan dokuzu bulabilecek', 'şirket tesisi iki bin on bir yılında açmayı planlıyor', 'bu her ikimiz için de tuhaf bir deneyim oldu', 'yoksa sadece bir hayalpereset ve sahte bilimadamının uydurduğu bir yanılsama mı', 'i̇nşaatın iki yıl içinde başlaması bekleniyor', 'kurbanların çoğu kadın ve yaşlılardı', 'sürecin bu sonbaharda başlaması bekleniyor', 'on sekiz vekil ise elli dokuz ve üstü yaşlarda', 'birlikte yaşamak zor yaşlılar huzur istiyor', 'i̇ki gelirle bile zor geçiniyorlar', 'harcamalar genellikle gelirlerin üzerinde oluyor', 'bir kırmızı kart bir de penaltı', 'şimdiyse bu rakam yirmi bin kadar arttı', 'ülkenin geleceğiyle ilgili tahmin ve düşünceleriniz nelerdir', 'ancak üçüncü turda salt çoğunluk yeterliydi', 'refah dönemi hemen yarım başlamayacak', 'tehlike geçince çete viyanaya geri taşındı', 'erteleme ekonominin düzelmesini sağlamayacaktır', 'mantıklı uzlaşma nedir', 'artık iktidardaki kimseye güvenmediğini söylüyor', 'nokia clujda ticari bir şirket de kuracak', 'kısa dönemli kamu dış borç oranı düşmüştür', 'evlerini bile kaybedebiliyorlar', 'fabrikada iki yüz elli kişi çalışacak', 'i̇lk dersler eylül ayında başlayacak', 'askerlerin hizmetleri ekim ayında sona erecek', 'ülkemiz demiryollarımız ve raylarımız gibi', 'cavcav her iki teklifi de geri çevirdi', 'bu devrimci mesajlara benziyor', 'projenin değeri iki virgül yetmiş yedi milyon avro', 'bir diğer sorun ise i̇nternet', 'panteliç şimdi adli işlemleri bekliyor', 'gerçekteyse sadece yirmi beş milyon avro ödendi', 'sahte bir seyahat belgesi yaklaşık beş yüz avro', 'ona göre çabalar işe yarıyor', 'hırvat borçlular frank başına beş virgül sekiz kuna ödeyecek', 'neden partiden ayrılarak demosu kurmaya karar verdiniz', 'olanları öğrendikten sonra bile sessiz kaldım', 'analistler de kararların önemine dikkat çekiyor', 'mevcut ihale planlanan üç santralin biri için', 'ab üyeliği ise daha zorlu bir yol', 'i̇ki zanlı da kırk sekiz saat süreyle gözaltına alındı', 'i̇ki yetkili yasadışı göç konusunda da görüştü', 'egmont grubu bu meselelere nasıl yaklaşıyor', 'makedon hükümeti öneriyi reddetti', 'bugün goralılar üç ayrı ülkeye dağılmış durumda', 'mevki ocak iki bin üçten bu yana boş duruyor', 'yaklaşık yüz elli dört rad taraftarı tutuklandı', 'yurtta da bütün çocuklara kapısını açtı', 'olayla ilgili bir tutuklama yapılmadı', 'arnavutluk kırk ikinci makedonya ise yetmiş ikinci sırada', 'ya tahmin hatalı çıkarsa', 'kentin kalburüstü semti olan sandtona gittik', 'bunda başarı sağlandı gibi de görünüyor', 'türkiye tutuklamaları memnuniyetle karşıladı', 'i̇şsizlik oranı ise yüzde yirmi civarında', 'tasarı yüksek mahkeme tarafından da reddedildi', 'peki bu jeolojik hareketliliğin sebebi ne', 'çalışanlar kırk günden fazla süredir grev yapıyor', 'mahhemenin altı ay sürmesi bekleniyor', 'bu düşüş de yine işten çıkarma anlamına gelecek', 'i̇stanbulda protesto eden bir gazeteci', 'bir kasabanın yarısını boşaltmak zorunda kalırsanız bu kadar insanı nereye taşıyacaksınız', 'kadın meclis üyelerinin sayısı da artıyor', 'bu avrupaya uzanan bir yol', 'teklif kırk beş gün süreyle geçerli olacak', 'costi rogozanu meseleyi küçümsüyor', 'bu aralık iki bin onda oldu', 'türkiye yönetim sistemini elden geçiriyor', 'her aileye beş yüz avro kadar yardım yapılabilecek', 'bunun üzerine gaşi ateş açtı', 'seydiunun hareketi bazılarına sürpriz oldu', 'dava boyunca ağırbaşlı bir biçimde duruşmalara katılabilecek mi', 'turnuvada dünyadan elli yedi oyuncu biraraya gelecek', 'i̇şsizlik yüzde yirmiye varıyor', 'i̇ki kıyı bir tünelle birbirine bağlanıyor', 'yalandan inanma olamaz', 'olayla ilgili soruşturma sürüyor', 'numara değiştirme hizmeti ekim ayında başlamıştı', 'peki söz konusu beklentiler gerçekçi mi', 'üçlü bir ekim seçimlerinden galip çıkmıştı', 'bh yüz birinci oldu', 'anayasaya göre arnavutlukun resmi bir dini yok', 'vlasiç sporcu bir ailenin en büyük çocuğu', 'bu konudaki yorumlarınız neler olacaktır', 'arnavutlukta çeşitli gelişmeler yaşanıyor', 'etkinlik yirmi iki ekimde sona erecek', 'diğer iki çocuğu ise sırbistanda', 'bojaxhiye göre çeşitli yöntemler izlenmeli', 'ardından her şey ters gitti', 'enflasyon yüzde on dört virgül bire indi', 'teklif verme süresi altı kasımda sona ediyor', 'fakat hala bariz bir ırk ayrımcılığı mevcut', 'yıldız da duyduğu güveni dile getirdi', 'türk medyası da yasağa ateş püskürdü', 'kıbrıs türklerinin çoğunluğu planı onayladı', 'kazadan kurtulan olmadı', 'seçimlerde önemli bir olay bildirilmedi', 'sürekli tetikte olmak ne demek iyi biliriz', 'festivalde on adet film gösterilecek', 'bu miktar fazla olmasa da zamanında ödeniyor', 'siz bu konuda ne düşünüyorsunuz', 'etkinlik bin dokuz yüz yetmiş iki yılından beri düzenleniyor', 'bu da cuma günü gerçekleşti', 'daha iyi bir hayat düşünülemezdi', 'sırbistandaki fabrika iki bin altı yılında açılmıştı', 'güney sırbistanda ülkenin geri kalanına kıyasla daha fazla basın özgürlüğü mü var', 'resimler mart ayı sonuna kadar sergide kalacak', 'genişleme coğrafi açıdan da önem taşıyor', 'çok gerçekçi', 'kısıtlamalar otuz bir aralık iki bin on bire kadar sürecek', 'yunanistanda idam cezası yok', 'şarkı bütün yunan halkını büyülemedi', 'moldovantilea ciriti elli üç virgül dört metreye attı', 'splitli yüksek atlamacı yılın sporcusu seçildi', 'projenin iki bin beş yılında tamamlanması planlanıyor', 'zirve iki yılda bir düzenleniyor', 'bülbüller güneş ışığında şakıyorlardı', 'ancak geçmişe değil geleceğe bakma zamanı', 'oyuncu milli takımla elli beş karşılaşmaya çıkmıştı', 'teklif süresi bir ay içinde sona erecek', 'i̇vica racan bin dokuz yüz kırk dört iki bin yedi', 'romanyada faal durumda sadece otuz sinema var', 'ancak bedel çok daha yüksek olabilir', 'ordu bin dokuz yüz altmıştan bu yana dört hükümet devirdi', 'eğitim bu toplum için hayati önem taşıyor', 'bu yıl farklı', 'olayda çevre evler de hasar gördü', 'ayrıca basın enformasyonundan da sorumluydu', 'dava ekim ayında i̇stanbul mahkemesinde görülecek', 'ziyaretin amacı neydi', 'ancak bu seçimlerin ikinci turu olmayacak', 'hareketle ilgili tartışmalar da çıkmadı değil', 'görüntü tıpkı bir sirki andırıyor', 'oda köşedeki televizyon dışında sessiz', 'mevcut durum bu tür bir güce ihtiyaç duyulmayacak kadar güvenli mi', 'sekiz yıldır iktidardaydı', 'uiki bin dokuz yüz doksan yedi yılında saraybosnada çaldı', 'bu kararda çeşitli faktörler rol oynadı', 'savunma en güçlü unsur', 'sporcuların antrenörleri de soruşturulacak', 'toplam bin iki yüz civarında test yapılması bekleniyor', 'yaklaşık kırk milyon seçmen sandık başına gitti', 'morrisey sonunda birileri şarkılarımın sözlerini biliyor diye bağırdı', 'sonunda bütün suçlamalar düşürüldü', 'yerleşmek için en uygun yerlerse tepelerdi', 'kaybedecek hiçbir şeyim yok', 'türkiye de yardım eden ülkelerden biriydi', 'peki siz kariyeriniz boyunca bunu yapmayı başarabildiniz mi', 'suça polis bakar ordu değil', 'köyler yok olurken binlerce kişi evsiz kaldı', 'mesiçin görev süresi şubat ayında sona eriyor', 'rugova geçen ekim ayında tekrar seçildi', 'gülün bu gelişme üzerine gitmesi bekleniyor', 'yangında yaralanan olmadı', 'sırbistan ve bölge açısından herhangi bir güvenlik riski mevcut mu', 'bir amacımız yok', 'i̇şin bittiğine dair resmen imza atmadım', 'artık yığılmalar ortadan kalktı', 'önemli ekonomik faktörler de söz konusu', 'örgüt çok sayıda şiddet olayı da bildirdi', 'kimi zamlar ise dünya piyasalarına atfediliyor', 'biz size yardım etmeye hazırız', 'etkinlik çarşamba günü sona erdi', 'opa', 'ekonomik bir hac sanki', 'kıbrıs rum takımı bu yıl turnuvaya katılmayacak', 'fakat sokakta herkes iyimser bir havada değil', 'ekonomik kriz yüzünden yaz tatiline çıkamıyor musunuz', 'operasyonda üç işadamı da gözaltına alındı', 'bu görevlerin çoğu tehlikeli kabul edilmiyor', 'proje gelecek yılın sonuna kadar uygulanacak', 'bu mesele çok fazla uzadı', 'bu kadarla da kalmadı', 'sizin bu çözümdeki rolünüz ne olur', 'antrenör yoktur bir spora bile benzemez', 'soygunda iki banka çalışanı hafif yaralandı', 'bunun sırbistan açısından anlamı yüzde on daha yüksek bir enflasyon mu', 'ülkenin hala devlet amblemi ve ulusal marşı yok', 'şimdiye kadar yerine getirilen ve getirilmeyen koşullar neler', 'peki polis reformunun gerçekleştirilmemesi kimin için faydalı olacak', 'teller mart ayı başlarında kaldırılacak', 'makedonyanın prilep kentinde düzenlenen otuz dört', 'hasta antibiyotik ve vitamin tedavisi görüyor', 'bizi bilgilendirmek zorunda değiller', 'o zamandan bu yana bin engelli iş buldu', 'şirket cosmotenin yüzde altmış altı virgül elli dördüne sahip oldu', 'nasıl bir makedonya düşünüyorsunuz', 'gora yaşamak için kolay bir yer değil', 'dementieva maçı yedialtı ve üçsıfır önde götürüyordu', 'sizce dink neden öldürüldü', 'sadece bir kişi kurtulmayı başarmıştı', 'hırvat medyası da bize destek ve yer veriyor', 'adamlardan biri helikopterin dışına fırlamıştı', 'arnavutlukta üç virgül altı milyon kişi yaşıyor', 'peki bu kayıtsızlığın sebebi ne', 'bunların arasında üç de kadın polis bulunuyor', 'i̇ç yargı sistemi onlardan çok şey öğrendi', 'sanader artık siyasete girmediğini de vurguladı', 'sizce yeni gerginlikler ortaya çıkabilir mi', 'peki bu durumda biz avrupa modeline göre hangi noktadayız', 'önceki net asgari ücret yüz altmış yedi virgül yetmiş dokuz avro idi', 'hükümet satış için başka bir neden daha sunuyor', 'bisiklet adalar için de ideal bir araç', 'bu ifade de davanın dönüm noktası oldu', 'birlik yerine ayrılık görüyoruz', 'yolunda nasıl donuk ve acı sözlerime sağır hale geldin', 'ak projeye bir milyon avro sağlayacak', 'projelerine harcanan tek para kendi paraları', 'saldırının nedeni ise hâlâ bilinmiyor', 'dokunan desen oldukça zor ve karışık', 'burada arkadaşlarım iyi adamlar var', 'i̇lk gecede yaklaşık iki bin kişi bir araya geldi', 'açılış törenleri şahaneydi', 'bence olmama olasılığı oldukça yüksek', 'muhabbet etmek için yanımıza geliyorlar', 'yeni bir girişimin yararı olacak mı', 'bunu söylemek zor', 'kosovalı sırp liderler törene katılmadı', 'muhalefet partileri oylamayı boykot ettiler', 'kararlı fakat dayatmasız tavrı öfkesini gizliyor', 'ancak bayrak pekinde biraz karışıklığa yol açtı', 'seçimlerde on aday yarışacak', 'ab misyonu her taraftan baskı altında', 'aşağı trend bu yılın ilk üç ayında da devam etti', 'katılım yaklaşık yüzde yetmiş oranında gerçekleşti', 'benim kuşağım kayıp bir kuşak oldu', 'bunda ne kadar ciddiler acaba', 'malların bir kısmı almanyaya ulaştı', 'ülke yerinde politikalar uyguluyor', 'şimdi tekrar mücadele ediyorlar', 'rijeka yatı yüz yedi bin avroya satın aldı', 'bağış anlaşması bir ağustosta imzalandı', 'hiçbir siyasi durum hakkında yorumumuz yoktur', 'bazı sırp vatandaşları yeni programı destekliyor', 'blaganın istifası schengen umutlarına inen bir darbe mi', 'zihniyet değişimi eğitimle başlar', 'festival yirmi altı kasıma kadar devam edecek', 'yerel basın daha da ihtiyatlı davrandı', 'cumhurbaşkanı erken seçim kararını destekliyor', 'türkiye reformu desteklemek için yeterli çaba gösteriyor mu', 'bundan sonra ise viyanaya dönecek', 'vergi mevzuatı da bu alanlardan biri', 'sonuç olarak park için başka bir yer seçildi', 'kalogeresis aynı fikirde değil', 'ankete on bin üç yüz elli kişi katıldı', 'ben savaştan çıkmış bir ülkede büyüdüm', 'avustralyaya biriki yenildik', 'ancak şimdi kasabada yalnızca bir sırp yaşıyor', 'turnuvaya yirmi bir ülkeden yüz elli sporcu katıldı', 'i̇lk sırada faturalarını ödemeyen müşteriler var', 'bunu başarmak için de yeterli eğitim gerekiyor', 'olduktan sonra tepki gösterebilirsiniz ama olmasını nasıl engelleyebilirsiniz', 'sanader bu yaz umut verici bir başlangıç yaptı', 'yeni tesisin yıllık kapasitesi sekiz virgül beş kilowatt saat olacak', 'temyiz süreci şu anda devam ediyor', 'bir çok ülkeden bir sürü çocukla tanışıyoruz', 'i̇kinci sırada slovenya bulunuyor', 'birlik şu anda altı bin askere sahip', 'o suçlu on yıldır hayatımızı yönlendiriyor', 'favori kim', 'kosteliçin madalya umudu mahvolmuş görünüyordu', 'fünikülerin yatay uzunluğu dört bin yüz seksen iki metre', 'o çift hâlâ birlikte mi', 'i̇nsanlar bunun gibi şeyleri hatırlar', 'krizin tam etkisi hala ölçülemedi', 'seyircinin yüzde kırkı yabancılardan oluşuyordu', 'i̇kinci en yeni yerleşim de yine çok önemli', 'bu durum bu yıl da geçerliydi', 'yaklaşık otuz aileyi alan büyük bir ahırdı', 'i̇darenin başında ise yine bir kadın var', 'ancak değişikliklerden herkes memnun değil', 'pensioners also lambasted the measures', 'kuzeyde yaşanan çatışmalarda en az on beş kişi öldü', 'yaşamak istiyorum rukavinanın mektubunun ilk satırıydı', 'dernek sadece sekiz sandıkta sorun bildirdi', 'sanıkların tümü suçlamaları reddetti', 'konut ve eğitim en önemli alanlar', 'belgradın bu konudaki görüşü ise tamamen farklı', 'bombalardan biri patlayarak hasara yol açtı', 'birlikte iki çocukları olmuş', 'hırvat heyetinin gezisi bir hafta sürecek', 'mali af akıllıca bir kamu politikası mı yoksa seçim oyunu mu', 'ayin on beş dile tercüme edildi', 'i̇ki lider sokaklarda dolaşarak halkla selamlaştı', 'açıklamaya rağmen kavganın durulduğu pek yok', 'başvuru süresi bir martta sona erecek', 'tahminen kaç gazeteci işten çıkarıldı', 'kazı çalışmaları iki bin beş başına kadar sürecek', 'en fazla dört tur oylama yapılabilecek', 'benedikt ile yaptığı görüşme sonrasında geldi', 'arnavutlukta turizm hâlâ emekleme çağında', 'son kilometre taşı ise aralık iki bin dörtte', 'priştinenin yanıtı çabuk geldi', 'hayranlar da memnun kaldılar', 'özellikle de genç kızlar size bayılıyor', 've tabii ki banyoda kaçak var', 'gösterge faiz oranı yüzde altıdan yüzde beş virgül yetmiş beşe düşürüldü', 'taşınmaz ordu malları konusunda anlaşmaya varmaya yetecek kadar iyi mi', 'fon modernizasyonun finansmanında kullanılacak', 'en zengin siyasi sicile ivaniç sahip', 'adeta küçük bir kasabayı andırır', 'festival yirmi sekiz nisana kadar devam edecek', 'gasiç ailesi kalmaya karar verenlerden', 'bulgaristan iki boru hattı projesinde yer alıyor', 'bankadan alınacak yardım üç alanda yoğunlaşacak', 'kimliği belirsiz bir kurban da anılıyor', 'soruşturma sekiz ay sürdü', 'bizim kendimize bakmamız lazımdır', 'çok sayıda mimar da yıkım önerisini eleştirdi', 'bundan aşağısı ise hayal kırıklığı demek olacak', 'şu anda makedonyanın cezaevi nüfusu iki bin iki yüz', 'fabrikanın yedi yüz kişiye iş sağlaması bekleniyor', 'yemek alanı sokak lambalarıyla aydınlatıldı', 'bu bizim için bir meydan okumaydı', 'i̇nsanlar zahmete girmiyor', 'organize suç siyaseti ve basını kirletiyor', 'yeni ve modern gümrük yasası sırbistanda yolsuzluğu önleyip normal ticareti tesis edebilecek mi', 'elbette ki her duyduğunuza inanamazsınız', 'şampiyonaya yirmi ülkeden sporcular katılacak', 'kosova cumhurbaşkanı liderlik ödülü aldı', 'ama bu amacına da ulaşamadı', 'bu tür yatırımlar aracılığıyla bütçeye ne oranda bir kaynak girişi sağlanması bekleniyor', 'her an tehdit edilebiliyorlar', 'ancak temelde bir iş sorundur', 'acaba buna yol açan etken kosovadaki durum olabilir mi', 'siyasi istikrar da bunda rol oynadı', 'yordanova bin beş yüz metre yarışında koşacaktı', 'ancak gerçek oran kuskusuz daha yüksek', 'elimizde video kayıtları var', 'ancak belirli bir çözüm seçilmedi', 'su sistemi üç aşamada tamamlanacak', 'vaat etmiyoruz', 'orenburg tesisindeki kontrol odası', 'ancak sendika liderleri buna istisnalar', 'buna bir dolu avantaj ve ikramiye de ekleniyor', 'başbakanın mesajı açıktı', 'burada tam olarak ne oldu', 'ancak firmaların da elleri boş durmuyor', 'kotooşunun yüksek mevkilerde de hayranları var', 'bu durumun gelecekte değişeceğini düşünüyor musunuz', 'romanya nokia aksesuar fabrikasına kavuştu', 'kartlar on yıl süreyle geçerli olacak', 'madenciler de talep düşüşü yaşıyorlar', 'bu sorun balkanlara özgü de değil', 'kıbrıs da buna istisna olamaz', 'uyuşturucu kaçakçılığı azalıyor', 'neden mi', 'sizce bu görüşmeler bir sonuca bağlanacak mı', 'aile kilisedeki noel ayinine de katılıyor', 'altyapıda pek çok iyileştirme yapılması gerekir', 'bu koşullar altında çalışanların özverili olmasını beklemek akıllıca bir şey mi', 'performans kriterleri henüz belirlenmiş değil', 'ancak yetkililer nuh deyip peygamber demiyorlar', 'halkın tepkisi genelde olumlu oldu', 'blogculardan da bir çok yorum geldi', 'sırbistandaki karadağlılar buna katılıyorlar', 'asıl geçişse aralık bin dokuz yüz doksan yedide gerçekleşti', 'ancak herkes aynı fikirde değil', 'zagreb bunu değiştirmek istiyor', 'ancak bu sorun da çözülüyor', 'bu vatandaşlar vizeleri için para ödemiyorlar', 'bute maçı onuncu rauntta nakavtla kazandı', 'proje yaklaşık altı yüz yeni iş yaratacak', 'bu bir başlangıç olacak', 'nekra altmış sekiz ülkeden bin elli üç adaya karşı yarıştı', 'bunun yaklaşık bin tonu imha edilecek', 'projeye ilişkin müzakereler bin dokuz yüz doksan sekizde başlamıştı', 'bu göz yumulamayacak kadar ciddi bir sonuç', 'valotto görevde bir yıl hizmet verdi', 'ana kara zamanda seyahat izlenimi veriyor', 'karadağ türkiyenin bölgede giderek büyüyen rolünü nasıl değerlendiriyor', 'mladiç iki bin yılından beri kanundan kaçıyor', 'bugünse sorgu sayısı belirgin derecede azaldı', 'peki kaçı madalya alabilecek', 'pek çok vatandaş bu hamle konusunda hevesli', 'bir dönüm noktası oldu', 'makedonyanın adının değiştirilmesini destekler misiniz', 'güvenilirlik ve şeffaflık olmazsa olmazlardan', 'fakat zaman ilerliyor', 'üç bebek olay yerinde boğularak can verdi', 'anlaşmanın ekonomik faydaları büyük olacak', 'olayla ilgili soruşturma devam ediyor', 'kosor da bu duyguları yineledi', 'gecikmenin kaynağı ise hala belirsiz', 'fona başvuru için son tarih otuz mart iki bin üç', 'i̇lk ödül mayıs ayında verilecek', 'silajdziç ve dodiki bu tavırlarını değiştirmeleri yönünde ikna etmek için neler yapılabilir', 'romanyanın yüzde sıfır virgül beşlik düşüş kaydetmesi bekleniyor', 'yetersiz ve yeterli olduğu noktalar neler', 'bu yılki fuarda yirmi beş binden fazla kitap tanıtıldı', 'bu sandık merkezleri ikinci turda açık olacak', 'bu miktarın yaklaşık dokuz bin sekiz yüz tonu ihtiyaç fazlası', 'bu teklifleri hangi koşullarda kabul edersiniz', 'zagrep legoları sevdi', 'fakat yasayı değiştirmekle herşey hallolmuyor', 'erdoğanın eşi de türban takıyor', 'onun görevi kültürel çeşitliliktir', 'tek bir kart hepsinin kapılarını açıyor', 'turistlerin büyük kısmı kosovadan geliyor', 'bir çok şey yapılabilir', 'anıtın yeri henüz belirlenmiş değil', 'zanlıların hepsi de trabzonlu', 'pisari uyarıyı duymadı', 'sizce bu uygulama onaylansaydı seçim sonuçlarının güvenilirliğini etkiler miydi', 'çok sıfırlı rakamlar kafa karıştırıcı olabiliyor', 'söz konusu vergi yüzde ondan yüzde on beşe yükseltilecek', 'çalışmaya sekiz ülkeden on sekiz bilim insanı katıldı', 'ley on bir aralıkta iki virgül beş bin dokuz yüz elli dokuzdan işlem gördü', 'balkanlarda da bu daha az geçerli değil', 'yapılacak çok şey var', 'zanlı hala yakalanamadı', 'bianca i̇ngiltereden belgrada ilk kez gelmiş', 'i̇şin asıl zor kısmı şimdi başlıyor', 'papadoniou belli bir koşul önermedi', 'madde doğal uranyumun yüzde birden azını oluşturuyor', 'fakat bu kez protestolar olaysız geçti', 'eski kent dubrovniğin etrafındaki duvar', 'i̇yi haber zagrebde iyimserliği artırdı', 'failler hala yakalanamadı', 'mülteciler ise çok nadiren türkçe konuşuyorlar', 'zengin ve ünlü olmaya çalışmıyoruz', 'sırbistanın sancaktaki savaşan partileri müzakerelerle birleşebilir mi', 'hukukun üstünlüğü', 'seçmenler yine kendisine karşı oy versinler diye mi', 'sürecin aylarca sürmesi bekleniyor', 'oysa o bundan çok daha fazlasıdır', 'buna karşı olan var mı', 'fakat mahallede hiçbir kültür mekanı yoktu', 'uzmanlar ise ayda beş yüz altmış avro civarında kazanıyor', 'sc parayı üç ila dört ay içinde almayı umuyor', 'lajiç bu görüşteki tek sırp değil', 'fakat söz konusu aktarımın kısa dönemde gerçekleşmesi olası bir durum mu acaba', 'bunlara bile geçici çalışma izni verilecek', 'şirket karara itiraz edeceğini bildirdi', 'medya yayınlarında şiddeti azaltmalıdır', 'ödemelere bir mart iki bin sekizde başlandı', 'bayrami şimdi hapishanede cezasını çekiyor', 'kosova brüksel tarafından belirlenen yüzde yirmi kriterine ulaşabilir mi', 'i̇nsanların size güvenmelerini sağlamak için mücadele etmek zorunda kaldınız mı', 'uygulanmaları konusunda da sıkıntılar var', 'i̇stikrarsızlık tehlikesi söz konusu mu', 'edita tahiri bunu sınır olarak yorumluyor', 'operasyon olaysız geçti', 'ancak bu yıl sürprizler olabilir', 'dik uçurumlar adanın güney kıyısını süslüyor', 'vukasin batiniç de bu mültecilerden biri', 'tasarının şu anki halinde kırk dört madde yer alıyor', 'stratejik özelleştirme kolay bir girişim değil', 'görünüşe göre para sorun değil', 'ardından olimpiyat ateşi yavaş yavaş söndürüldü', 'nuremberg frankenstadion', 'guca çılgınlık yapmak için geldiğiniz bir yer', 'fakat türkiyede siyasi koşullar değişiyor', 'bu yüzden hep birlikte çalışmamız gerekiyor', 'kendinizi çingene olarak tanıttığınız için hiç eleştiri aldınız mı', 'tarih tekerrür edebilir mi', 'ancak vuciniçe göre bu suçlamalar asılsız', 'söz konusu ikinci özellik ise kitlesel göç', 'krstiç şu anda kırk altı yıllık hapis cezasını çekmekte', 'fakat asla sakin olamıyorsunuz', 'bu yüzden bu ülkeler birlikte sıralanıyor', 'çiftlikteki bahçe', 'grupta üçüncü sırada sırbistan yedi', 'görüşmelerde ikili işbirliği üzerinde duruldu', 'sırbistan kosova meclisini feshetti', 'yasak önümüzdeki üç ay boyunca geçerli olacak', 'bosnahersek daha da bölünecek mi', 'şimdi ise her düzeyde tam bir dönüşüm gerekiyor', 'i̇nşaatın iki bin on dört yılında tamamlanması planlanıyor', 'tek sorun rekabetin giderek artması', 'sistemi çok partili bir sisteme değiştiriyoruz', 'ancak belgrad makamları isyan halindeler', 'aynı proje iki bin altı yılında belgradda da başlayacak', 'polis saldırganları arıyor', 'değişiklik bir nisan itibarıyla yürürlüğe girdi', 'sonunda kendisini güvende hissetmeye başlamış', 'gazete körler alfabesinde basılıyor', 'ancak bütün işletmeler zor durumda değil', 'türk takımı yarı finalde sırbistanı yenmişti', 'politika hedeflerinin iki yönü dikkat çekiyor', 'kamuoyu denktaşa karşı', 'i̇lki ise polonyadaydı', 'aylık ücretler yüz otuz bir avro civarrında kaldı', 'etkinlikte dokuz ülkeden otuz ekip biraraya geldi', 'bu da fiyatarda düşüşe yol açacak', 'geçen yılsa bu rakam beş yüz on milyon avro idi', 'i̇nşaat sırbistanda da en tehlikeli meslek', 'askerler gün boyunca görev yerlerinde kaldılar', 'sahnede çalışırken hep birlikte gülüp eğlenmemiz', 'kongreye on yedi ülkeden katılımcılar katıldı', 'smaliosun en iyi derecesi yetmiş bir virgül seksen yedi oldu', 'sizce bu durum kosovada istikrarsızlık yaratıyor mu', 'bu plan yakında hayata geçmeli', 'bulgar hükümeti projede yüzde elli bir hisseye sahip', 'festivalde bin beş yüzün üzerinde film yarıştı', 'i̇deoloji yok olmadı', 'tasarı iki bin dört yılı sonunda meclise sunulacak', 'benim için de aynısı geçerliydi', 'yeni anlaşma mart iki bin on ikide imzalanacak', 'küçülmenin bu yıl da devam etmesini bekliyoruz', 'şimdi bu önerilerin somutlaştırılması gerekiyor', 'üsküpte yeni bir kültür merkezi açıldı', 'ülke ırklararası büyük çatışmalara sahne oldu', 'hareket yaklaşık iki bin iki yüz çalışanı etkileyecek', 'çocuklar yerel kliniklerde aşı olabilecek', 'ancak daha yapılacak çok iş var', 'projenin toplam maliyeti yüz elli dört milyon avroyu geçti', 'ardından hamuru iki parçaya bölün', 'bu arnavutluk için büyük bir zafer', 'sırbistanalmanya maçı', 'ancak bu durum artık değişmeye başladı', 'anlaşmadan en az iki büyük fayda bekleniyor', 'i̇nşaat iki bin dokuz yılında başlayacak', 'tenisçi geçen yıl hiçbir turnuva kazanamadı', 'fakat bu tezatın bir açıklaması var', 'sergi on iki haziranda kapanıyor', 'bugüne kadar neler denedin', 'tepkiler beklenilenden farklı olmadı', 'sırbistan on bir mayısta başkanlığı devralacak', 'kosova avrupanın en genç nüfusuna sahip', 'söz konusu kişilerin eskiden yaşadıkları yerlerin güvenliği konusunda bize ne söyleyebilirsiniz', 'belgrad hareketi kesin bir dille eleştiriyor', 'ancak diğer analistler durumdan daha umutlu', 'sonuçta tüm bu ülkeyi köprüleri fabrikaları kim inşa etti', 'fakat iyi haber uyarısız olarak gelmiyor', 'fakat basın standartları da tehlikede bulunuyor', 'sonuçta da kurbanların çoğu türkler oldu', 'tuzla çeşitli ödüller almış bir şehir', 'ancak madalyona diğer yüzünden bakanlar da var', 'romen medyası bu yeni tavrı tepkiyle karşıladı', 'i̇nşaat için bir milyar dolarlık yatırım gerekiyor', 'liderler kosova konusunda anlaşamadılar', 'türk liderleri saldırıyı kınadılar', 'bunları yapmak zorundalar', 'i̇nsanların huzur ve mutluluğu için dua ederim', 'her gün en fazla dört sandık taşınıyor', 'günlük üretim yedi yüz kırk beşten sekiz yüz kırk üniteye çıkarıldı', 'i̇barın güneyinde yaşayanlar için manzara farklı', 'alproud yaygın bir görüşü toparlıyor', 'oysa işler pek de öyle değil', 'bölgesel işbirliği için iyi bir gerekçe vardır', 'yeterli kaynak yok', 'makedonya resmi aday ülke statüsüne kavuştu', 'romen hükümeti de projeye katkıda bulunuyor', 'bu yıl ise ayrılan bu rakam yeterli olmayabilir', 'dimitrov isim önerisi getirilmediğini doğruladı', 'bu noktada bilgi paylaşımı da giderek gelişiyor', 'ancak bu durum son yıllarda değişiyor', 'bu noktada iki çıkarım yapmak mümkün', 'filtreleri aşmaya çalışmak suç sayılacak', 'fikir karışık tepkilere yol açtı', 'başbakan muhalefetin katkılarını da kabul etti', 'yeşil şartlar normal anlamına geliyor', 'belediyelerin çoğu iflas bayrağını çekti', 'reformcular bir aday dahi göstermediler', 'kitle iletişim araçlarının çoğalması kaliteyi de beraberinde getiriyor mu', 'bu konuyu nasıl yorumluyorsunuz', 'bu ev sahipleri için büyük bir sorun', 'seçimlerde toplam kırk altı bin üç yüz yirmi beş aday yarıştı', 'arnavutluk sıralamaya sokulmadı', 'bakış açıları çok farklı', 'karadağda emlak büyük bir pazar', 'şimdi ankara yeniden denemeye hazır', 'hükümet ayrıca bir dizi skandal da atlattı', 'herşeyi peşin nakit ödedim', 'ap milletvekilleri beş yılda bir seçiliyor', 'fonların iki bin altıdan önce ödenmesi gerekiyor', 'geri kalan iki oyu bulmak zorundalar', 'kanada dışişleri bakanı zagrebi ziyaret etti', 'i̇kinci çeyrekte ülke sekizinci sıradaydı', 'ancak bu hedefi tutturmak biraz zor oldu', 'bina cepheleri rötuşlanıp ağaçlar dikiliyor', 'sırbistanın şu anki nüfusu yedi virgül üç milyon', 'etkinlik yirmi aralıkta sona eriyor', 'fakat söz konusu anlaşma imzalanmayacak', 'çok kötüydü', 'proje yirmi milyar dolara mal olacak', 'ayrıca elli istihkamcı da yaralandı', 'fakat bu durum önümüzdeki aylarda değişebilir', 'projeye elli sekiz milyon avro değer biçiliyor', 'ülkedeki hiç kimse oylamanın sonucuna şaşırmadı', 'sonrasında stoacı bir hava esti', 'bu kış ziyaretine gittim', 'boskovski bağımsız aday olarak yarışıyor', 'plan ile ilgili sorunlardan biri de zamanlama', 'pack ise açık konuştu', 'romanyanın arzında da bir düşüş meydana geldi', 'her iki oyuncu da takımdan atıldı', 'bugünse bu rakam beş bin civarında', 'koleksiyonda yirmi beş seçilmiş eser yer alıyor', 'umarım çok yakında olur', 'davaların çoğunda iddianameler hala bekliyor', 'bazıları onu kahraman olarak görüyor', 'bunu beğenmeyen istediği yere gidebilir', 'maktoufun cezası haziran ayında sona erdi', 'ancak güzel günler yakın olabilir', 'sizce bu boykotlar bir sonuç veriyor mu', 'duruşma on bir ekimde yapılacak', 'takım üç sezondur şampiyonluğu elden bırakmıyor', 'bekaj musliunun akrabası', 'süper valiler geri mi geliyor', 'projenin tahmini maliyeti dört virgül altı milyar avro', 'ada üzerinde her iki ülkenin de çıkarı bulunuyor', 'makedonya başbakanı dublini ziyaret etti', 'alinin özel polis timi üyesi olduğu söyleniyor', 'i̇lkiyse bin dokuz yüz elli dokuz yılında meydana gelmişti', 'ancak herkes bu kadar hevesli değildi', 'artık çok kaliteli gazeteciler var', 'para bütün bölgesel yönetmenlerin ortak sorunu', 'askerler en fazla şiddeti sınırlayabilirler', 'fakat bunun olacağına herkes inanmıyor', 'lukiç laheye iadesine karşı çıkmadı', 'sizce bunlar yerinde endişeler mi', 'anlaşmadan türkiye de kazançlı çıkıyor', 'ayrıca gerçek etnik köklerimizin arkasında saklanırsak önyargıyla nasıl savaşırız', 'bu işleri mahkemelere bırakalım', 'etkinlik haziran ayına kadar devam edecek', 'merkezin iki bin sekiz sonuna kadar açılması bekleniyor', 'belediye sınırları dahilinde on altı köy var', 'fikirler bol olsa da kaynaklar kısıtlı', 'geçen yılki rekor rusyaya aitti', 'kosovada en sevdiğim yiyecek mi', 'peki sosyalistlerin en son önerisi çıkmaza son verebilecek mi', 'i̇kili karizma adlı bir grup kurdu', 'komitenin bu konuya ilişkin görüşleri ne yönde', 'neden olduğu umurumda değil', 'balkanlarda uyuşturucuyla mücadele beşlisi mi', 'kuzeyde de durum daha iyi değil', 'sırada yeni parlamento seçimleri olabilir', 'ülkenin başlıca rakibi hırvatistan otuz dört oy aldı', 'makedon medyasında tek bir şeyi değiştirebilecek olsanız bu ne olurdu', 'gemi seyahati düzenleyen şirketlerin yeterli rıhtımı bile olmayan bir yeri niçin tercih etsin', 'çoğu zaman karaborsa veya suçla uğraşıyorlar', 'üçlü yeni bir çözüm önerdi', 'ancak yakında bu durum değişebilir', 'makedonya bir', 'sıcaklar dayanılmaz hale geldiğinde onlar nereye gidiyor', 'ancak hükümet sözünün arkasında duruyor', 'gözden geçirme sekiz ocak iki bin üçte başlatıldı', 'tabii ki burada olmanın kötü tarafları da vardı', 'ahtisaari bu görüşte değil', 'bunu sağlayan nedir', 'bu konudaki görüşleriniz neler', 'korsancılık bir yerde ucuza eğlence demek', 'buna rağmen sağlanan fayda çok büyük oldu', 'balkabağına yağ şeker ve biraz da tuz ekleyin', 'peki kampanyanın içeriği tam olarak neydi', 'yasa henüz gözden geçirilmedi', 'mevcut olumlu eğilimler etkin bir sermaye oluşum süreci ile desteklenmeksizin sürdürülebilir mi', 'hepsinin de sırp uyruklu olduğu belirtiliyor', 'katılım ilk turdan düşük gerçekleşti', 'ayrı bir kapta şekerli suyu kaynatın', 'bu şekilde hiçbir şey israf olmuyor', 'yarışmaya toplam on altı şarkıcı katıldı', 'kimse zahmet edip soruları yanıtlamadı', 'ülkeler daha rekabetçi olabilmek için ne yapabilir', 'değişiklikler fark edilmeden kalmadı', 'stamatis kraounakis', 'birkaç günde öğrenmek için çok fazla şey vardı', 'ne ki üyelik imkansız bir hayal değil', 'ondan sonraysa yüzde altı virgül yetmiş beşe yükseliyor', 'her iki tarafı da kastediyorum', 'jezeronun yeniden inşası iki bin üç yılında başladı', 'bir diğer engel de kaynak yetersizliği', 'biliç takımının başında kalmayı planlıyor', 'halka her şeyi açıklayacağız', 'vadideki evler taş ahşap ya da kerpiç', 'yalnızca büyükler ayakta kalacak', 'karar yerel turizmi hızlandırdı', 'birer birer pişirin', 'ankara ziyaretin devamını bekliyor', 'romanya takım halinde de gümüş madalya kazandı', 'maliyet yüz elli dört milyon avroyu bulabilir', 'oyunla ilgili son gelişmeler nedir', 'romanyada böyle bir şey nasıl olur diye aylarca öfke içinde düşündüğümü hatırlıyorum', 'lajiçin eşi de iş ihtiyacını vurguluyor', 'bu arada sırplar vatanlarını gururlandırıyorlar', 'bu bakımdan kosova ile kıyaslanamaz', 'ancak proje bir engele takıldı', 'etrafımda bir sürü yerli insan var', 'çocuklar hangi kategoriyi tercih ediyorlar', 'buna karşı yunanistan tam ters yönde ilerliyor', 'en yüksek profilli dava sözde limaj davası', 'rade de altı yaşındaki oğlunu yanında getirmiş', 'eşyalara soruşturmanın devamı için el kondu', 'bu sözümü tutuyorum', 'tatbikatta yaklaşık bin beş yüz asker görev aldı', 'bunun bir çeşit etnik temizlik olarak görüyor musunuz', 'kitabı da bunun için yazdım zaten', 'yine de iyimser olmak için neden yok değil', 'veliler öfkeliydi', 'brady tahvilleri de bu dönemden kalma bir miras', 'buraya kadar tamam da bu acenteler kimlerden oluşuyor', 'en yaygın bağlantı hızı iki yüz megabit saniye', 'bu terimle kastedilen şey ve kosovanın bu kavram içindeki yeri nedir', 'festival beş ağustosa kadar devam edecek', 'sonuçta o bölge de avrupanın bir parçası', 'hustinx de bu görüşte', 'yetkililer oybirliğiyle planı reddettiler', 'fehmiu yetmiş dört yaşındaydı', 'yarışmaya bölgeden toplam doksan kişi katıldı', 'bu sanıklara da on beşer yıl hapis cezası verildi', 'hükümler sert tepkilere yol açtı', 'terör fazla önem vermediğimiz bir sorun', 'sergi bu ayın sonuna kadar devam edecek', 'bazılar iyi bir neden için koştular', 'eski yasada pişman olmak yetmiyordu', 'projeler turizm açısından da önem taşıyor', 'sizin bu konudaki görüşleriniz nedir', 'cenazesi salı günü kaldırılacak', 'bugünse bu kasa dolu olmaktan çok boş', 'bu fazlanın bu yıl daha da artması bekleniyor', 'boskovski tüm suçlamaları reddetti', 'kazanan firma şubat ayı sonunda açıklanacak', 'sizce etnik çeşitlilik yakın zamanda kosovada gerçeğe dönüşebilir mi', 'bir siyasi kargaşa dönemi yakın görünüyor', 'fakat ilerleme vakti geldi', 'grupta iki kişide yüksek ateş vardı', 'ürünlerimizin kabul edilmesini istiyoruz', 'dostluğunuza müteşekkirim', 'denetçiler kişisel banka hesaplarını açabilecek', 'kalkınma yok bölgede', 'kentas bundan emin değil', 'bir diğer önemli engel de bilgi eksikliği', 'gümrük idaresi beş yüz yetmiş iki virgül iki milyon avro topladı', 'faaliyetler burada bitmiyor', 'hükümet şirketin yüzde yirmi beşini elinde tutmak istiyor', 'etkinlikle baharı karşılamak amaçlanıyor', 'sanatçının yarışmaya ikinci katılışı olacak', 'bence bu tarz şeylere açık olmanız gerekiyor', 'arnavutluk planı ise planı onaylıyor', 'gerçekler oldukça çatışan sinyaller vermektedir', 'sırbistan savunma bakanı bağdatı ziyaret etti', 'söz konusu süre altı ay', 'bu kıta büyük özverilerin bir ürünüdür', 'sanatçı ilkinde solo çalmıştı', 'ban ziyaret için kesin bir tarih vermedi', 'bu konuda sizin tutumunuz nedir', 'bu haberler doğru mu', 'ortak sınır aynı zamanda schengen sınırı olacak', 'ab de hükümeti destekledi', 'ancak sürecin tamamlanmasına daha çok var', 'ancak bu işbirliğinin kolay olmadığı görüldü', 'henüz meclis çoğunluğu elde edilemedi', 'bu arada asıl sorun da ortadan kalkmış değil', 'hırvat liderler de bunu kabul ettiler', 'referandumun kabulü için salt çoğunluk gerekiyor', 'i̇kinci turda da bir takım olaylar bildirildi', 'panasonic sırbistanda üretime başlıyor', 'şüphecilerin sayısı hiç de az değil', 'fakat sadece aileler değil', 'ancak hiçbir önemli şahıs tutuklanmış değil', 'ekspedisyon üç hafta sürdü', 'ceku da benzer bir tonda konuştu', 'bir analist ayrıntılı bilgi istediğini belirtti', 'tören saraybosnada gerçekleşti', 'skoriç görevinden iki ay önce uzaklaştırılmıştı', 'taraflar ortak bir uyarı mesajı yayınladılar', 'yine de ordunun değişmekte olduğuna inanıyor', 'bu çocukları en öncelikli grup olarak görüyorum', 'siz buna inanıyor musunuz', 'birliğin ülkede iki ay kalacağı bildirildi', 've bayrami zamanın tükendiğini biliyor', 'anlaşma olumsuzluklar olmadan gerçekleşmedi', 've sadece kürtçe söyleniyor', 'bütün bu süreçleri de belgelemek zorundalar', 'oktarın karara itiraz hakkı bulunuyor', 'i̇nşaatın iki yıl içinde tamamlanması bekleniyor', 'ancak bölge bazı ciddi sorunlarla hala uğraşıyor', 'bu toplumumuzdaki durumun bir yansıması idi', 'fakat yine de bu işe bir şans vermiş', 'ne demek istediklerini anlıyordum', 'medya toplumlar arası diyalogu ilerletmek için ne yapabilir', 'bu iş artık kalıplaşmış durumda', 'kilise ihtilafta yıkılmıştı', 'fakat artık isim ikincil bir rol alıyor', 'bu yorumunuzla neyi kastettiniz', 'hâlâ görüştükleriniz var mı', 'şirket haftada dört sefer yapacak', 'her iki krediye devlet garantörlük edecek', 'bu deliği de tıkadılar', 'ama yenilmedik diz çökmedik ve ezilmedik', 'kalabalıktan birisi hiçbir açıklamada bulunmayacaklar yorum yok açıklamasını yaptı', 'tutuklanan on bir kişinin sekizi hırvat uyrukluydu', 'mimari on dokuz yüzyıl sonlarına oldukça benziyor', 'ülkedeki son seçim kampanyası oldukça sönüktü', 'avusturyalı memur ise evde tedavi ediliyor', 'bu yılki festivale kırk dokuz film katıldı', 'dünya kupasından büyük kariyerler başlamıştır', 'bu hat başkent lefkoşeyi de ikiye bölüyor', 'bunun temel nedeni ise vergiler', 'koruganın prototipi bin dokuz yüz ellilerde geliştirildi', 'fakat görev andının içilme şekli değişebilir', 'i̇laç ve tarım firmaları başı çekiyor', 'otosansüre yaygın şekilde rastlanıyor', 'bu örgüt makedonyayı istikrarsızlığa sürükleyebilir mi', 'turnuvaya otuz beş ülkeden yaklaşık dört yüz atlet katıldı', 'bu haftalık bu kadar', 'sizce bu bütçe mali açıdan ne kadar istikrarlı', 'yemekler bayramın dini önemini yansıtıyor', 'hükümet eli kolu bağlı olduğunu ileri sürüyor', 'belge iki bin altı yılını kapsıyor', 'kosova hükümeti de sert tepki verdi', 'ukanın ilk kurbanı otobüsün dışında öldürüldü', 'rodosa gidiş dönüş biletiyse adam başı iki yüz elli avro', 'orada yapılacak hâlâ bir dolu iş var', 'gazete pazarı büyük değişimler geçiriyor', 'nikoliçin açlık grevinin etkileri ne oldu', 'her ikisi de bin dokuz yüz doksan altıdan beri saklanıyor', 'mayıs iki bin beşte başkanlığı hırvatistan devralacak', 'yetkili şubat iki bin ona kadar bu görevde kalacak', 'sizce bu durum bir sorun olarak adlandırılabilir mi', 'hırvatistan golf dünyasında geride kalmıştı', 'boksör şu anda kanada için dövüşüyor', 'kendimizi yenilmiş hissetmiyoruz', 'arsa yaklaşık yedi milyon avroya satılacak', 'üretime yıl sonunda başlanması planlanıyor', 'bulgar yetkililer kararları hemen kınadılar', 'halkın büyük bölümü de aynı görüşte', 'bunda soğuk havanın da etkisi olmuş olabilir', 'ancak yetkililer bu olasılığı dışlıyor', 'para enerji ithalatına harcanacak', 'hapis cezamı parayla ödemeyi düşünüyorum', 'makedonya toplam altı virgül otuz üç puan aldı', 'diplomasi sabır ve zaman ister', 'düşüş genel ekonomik krize bağlandı', 'ne yazık ki anlamam uzun sürmedi', 'sonuç olarak ashdown müdahale etti', 'oyun alanı sadece bir örnek', 'hamanov aleyhindeki davaysa beş yıl üç ay sürdü', 'ne var ki erdoğan davaya destek vermedi', 'özel ve kamu yatırımlarında azalmalar var', 'yine de fırsatlar kapısı açık görünüyor', 'fabrikanın bin beş yüz işçiye iş sağlaması bekleniyor', 'onlara komünist sistemi anlattı', 'hırvatistanın da bunu izlemesi bekleniyordu', 've bu yaşanan sorunla ilgili tek örnek değil', 'ancak bu strateji sandıkta karşılık görmedi', 'projenin ilk safhası otuz bir okulu kapsayacak', 'papanın bu ülkeye yaptigi ucuncu ziyaret oluyor', 'üçüncü şüphelinin adı açıklanmadı', 'bu temel görevler büyük oranda yerine getirildi', 'misyonun bir parçası olmaktan gurur duyuyorum', 'i̇ki başkası da aynı cezayı almıştı', 'dersler tamamen i̇ngilizce veriliyor', 'yeni anayasanın onaylamasına çalışılacak', 'bir diğer zanlı ise aranıyor', 'bir önceki zam ocak iki bin onda yapılmıştı', 'etkinlik cumartesi günü sona erdi', 'yarışmaya seksen üç ülkeden toplam iki yüz elli sekiz öğrenci katıldı', 'fikir dünyanın pek çok ülkesinde başarı kazandı', 'i̇ki lider kıbrıs konusunu da görüştü', 'fakat tek yön bu değildir', 'hafta sonu ülkeye elli santimetre daha kar yağdı', 'parlamento bu yasal çarkı destekliyor', 'kosovanın kuzeyini kim kontrol ediyor', 'bu rakamın yüzde kırk altı virgül yetmiş dokuzunu kadınlar oluşturuyor', 'bir kimse tek millet ilkesine karşı olduğunu söyleyebilir mi', 'fakat ülkede yeni yıl için pek heves duyulmuyor', 'ebeveynler derneğin var olmasından memnunlar', 'proje iki bin yedi başlarında başlayacak', 'sizin deyiminizle signomi ', 'turnuva pazar günü sona eriyor', 'i̇ş dünyasında geçerli ahlak kuralları var', 'şeffaflık eksikliği bunu anlamayı zorlaştırıyor', 'bana hiçbir yeni öneri getirilmedi', 'reformlar türkiyedeki siyasi bölünmeden sağ kurtulabilir mi', 'sokaktaysa vatandaş sonuç bekliyor', 'proje yaklaşık iki yüz bin avroya mal olacak', 'i̇lki on yedi martta doboyda öldü', 'üst yönetim seviyesinde fark daha da büyük', 'milletvekili dokunulmazlığı yirmi dört saattir', 'bazı tanıklar ifade vermeyi reddetti', 'herşeyi barışçıl yollardan çözerdi', 'ama onlar bunu yapmadı', 'ancak bu bakanın hoşuna gitmedi', 'bize bir amerikan birliğiymişiz gibi davranıyorlar', 'kentin sokakları iki metre su altında kaldı', 'sizce sırp ekonomisi en büyük sıkıntıyı yılın hangi döneminde yaşayacak ve neden', 'güçlü patlama kentin büyük bölümünden işitildi', 'planın ardından yatan mantık tam olarak nedir ve yunanlıları uzun vadede nasıl etkileyecektir', 'muhalefet partileri hükümete karşı ciddi bir mücadele ortaya koyabiliyorlar mı', 'ancak bu olumlu durum kısa sürede tersine dondu', 'yoksa sadece bir mutlak iyimser miyim', 'ankete toplam bin yüz on beş kişi katıldı', 'olayların failleri bulunamadı', 'kosovada sizin için özel önemi olan bir yer yemek veya hikaye var mı', 'kuruluş özelleştirmeye hazır', 'ödül için tüm dünyadan seksen film yarıştı', 'fiyatlar çok yüksekti', 'bakan şu ana kadar bir yorum yapmadı', 'amerikada çok çeşitli filmler var', 'uzlaşmak istemiyorlar', 'çok sayıda blogcu da duruma ağırlığını koydu', 'kirin gerçekten soruşturma başlattıysa bunu yapma yetkisini nereden aldı', 'soruşturma geçen yıl başlatılmıştı', 'ancak lefkoşe öneriyi kesin bir dille reddetti', 'fakat stojarovanın başka bir önerisi var', 'eski liderin cezaya itiraz etme hakkı var', 'belgrad ve lahey arasındaki işbirliği konusunda ne düşünüyorsunuz', 'pahor bu hareketi eleştirdi', 'etkinliğin ana konusu kategori teorisiydi', 'kyriakou görev için tek adaydı', 'bunun kosovanın tamamını etkileyebilecek bir güvenlik meselesi olarak önemi nedir', 'selin kontrol edilememesi ihtimali hakkındaki fikri sorulan cumhurbaşkanı allah korusun dedi', 'blogcu generallerin istifasından sonra bunların olmasını önleme umudu kaldı mı diye soruyor', 'bu en yüksek risktir', 'muhalefet partileri öneriye isyan ettiler', 'bu onların hayatta kalma stratejisi', 'son olaylar endişe seviyesini yükseltti', 'kurumlar vergisi de yüzde ona indirilecek', 'kulüplerde oynayamıyoruz', 'belge ekim ayında yürürlüğe girecek', 'ekonomik ya da daha farklı engellemeler olmasını bekliyor musunuz', 'para iki dilim halinde verilecek', 'artık işler hızla değişiyor', 'bu esirler de kamenica kampına gönderildiler', 'peki eğitim devlet okullarından verilen eğitimden daha mı iyi', 'bu programlardaki durumlar sahte', 'yeni arkadaşlar ediniyoruz', 'peki bu durumda kosovanın ekonomisini düzeltme ihtimali nedir', 'bir diğer on altı bin altı yüz altmış iki kişi ise halen kayıp', 'mevcut ortam bir tür balon olarak tanımlanabilir mi', 'bundan sonra bir şeylerin değişmesi gerekecek', 'bu şüphelere ne yanıt veriyorsunuz', 'peki bu siyasi irade mevcut mu', 'neden on yıldan uzun bir süre bunun olmasına izin verildi', 'sergi üç hafta süreyle açık kalacak', 'birbiri ardına istifa ettiler', 'kosovada çocuklara yönelik televizyon programları nasıl geliştirilebilir', 'yetkili bütün görevlerinden azledildi', 'bazı analistler iyimser görüşte', 'bunların otuz iki milyonu slovenya üzerinden geldi', 'buna karşın arnavutlukta asgari ücret yüz kırk iki avro', 'ancak istisnalar da yok değil', 'miloja da buna katılıyor', 'i̇ki bölümlük ropörtaj dizisinin ikinci bölümü', 'program nisan ayında başlayacak', 'kosova şubat ayında bağımsızlık ilan etti', 'mesele türkiyede oldukça hassas bir sorun', 'hastalık dört yüz otuz bin hastada ileri seviyede', 'i̇hracat tamamen askıya alındı', 'ancak bu kliniklerin çoğunun ruhsatı bulunmuyor', 'bunu sessizliğin kalitesinden anlıyorsunuz', 'tabii bin dokuz yüz doksanlardan bu yana durum değişti', 'türkiye turnuvada üçüncü oldu', 'bunun üzerindeki miktarlar vergiye tabi olacak', 'şenlikler üç gün sürüyor', 'macaristan bu açıdan başarılı bir model sunuyor', 'peki siz bu ilişkiyi nasıl nitelendiriyorsunuz', 'i̇ki maçın toplu sonucu iki iki', 'bu katı bilişsel uyumsuzluğun arkasında yatan etmenler nedir', 'sibiunun kendine has bir ortaçağ havası var', 'yine de bir hukuk misyonuna ihtiyaç var', 'sizin bir tarihiniz bir geleneğiniz var', 'böyle bir durumda çok fazla seçeneğiniz olmuyor', 'yıl sonuna kadar kıbrısta çözüm mümkün mü', 'gazeteler için de aynı durum söz konusu', 'bir diğer engel de tasfiye sürecinin yavaşlığı', 'davetler kesin üyelik anlamına gelmeyecek', 'i̇ki bölümlük dizinin ilk bölümü', 'herşeyi kendim yaptım', 'bu da son derece gurur duyduğum bir şey', 'posavina hırvatlarının sayısı azalıyor', 'bizim ülkemizdeyse tam tersi şekilde başladı', 'sergi otuz bir aralıka kadar devam edecek', 'polis olayı bir suikast girişimi olarak niteledi', 'mekanlardan birinde polis uyuşturucu da buldu', 'peki bu sorunlarla başa çıkma şansımız nedir', 'ödemeler ticari bankalar tarafından yürütülüyor', 'kimileri ise koşulları kabullenmekle yetiniyor', 'bunlara daha beslenme çantası dahil değil', 'devlet koruması altındaki bir eser haline gelmiş', 'vizeli mi vizesiz mi', 'sergi yedi nisana kadar açık kalacak', 'esas yarışma son iki günde yapıldı', 'kosova makamları da bu fikre karşı çıktılar', 'bunun için de çalışmak gerekli', 'dünya kupası geldi', 'peki nerede hata yaptılar', 'türkiye için müzakere sürecine geçildi', 'ancak yasanın geçirilmesi engellendi', 'meclisten mahkemelerden söz ediyorum', 'ardından saçı kesiliyor', 'etkinlik yirmi sekiz ekimde sona erecek', 'ancak iki taraf da konuşma yapmadı', 'eşi oğlu ve torunuysa ağır yaralandı', 'kosovadaki herkesin bunda çıkarı vardır', 'bu anlaşmazlığın yakında sona ereceğini düşünüyor musunuz ve sizce müzakereler ne yönde ilerler', 'yannoulatosu iki yüz elli yerli aydın aday gösterdi', 'fakat ülke bu pazar konumundan sonuna kadar yararlanabiliyor mu', 'şeşelin yokluğunda sırbistan siyasetinde neler olacak', 'bazıları bu trende karşı çıkıyor', 'ancak mladiç bulunamadı', 'mezarın miken dönemine ait olduğu sanılıyor', 'i̇şsizlik oranı ise yüzde on altı virgül dört seviyesinde', 'sizce bölgede bir istikrar dönemi yaşanacak mı', 'ülkenin latin alfabesindeki alan adı ise bg', 'seçimler on yedi kasımda yapıldı', 'bu oran daha hızlı bir şekilde aşağı çekilmeli', 'tum bu önerilerin sonucunu zaman gösterecek', 'yine de hala büyüme olanağı var', 'liderler devam eden ikili meseleleri görüştüler', 'bu toprakların özü i̇slamla yoğrulmuştur', 'yangında bir itfayecinin yaralandığı bildirildi', 'eylül ayı sonunda söz konusu oran yüzde altmış ikiydi', 'konserin tarihi ocak ayı ortasında açıklanacak', 'geliştirme süreci zaten başlamış durumda', 'durumdan sendikalar da hoşnut değiller', 'ancak bütün bu para nerden gelecek', 'sanader de günün anlam ve önemine dikkat çekti', 'dört milletvekili oylamaya katılmadı', 'diğer ülkeler iç ihtiyaçlara odaklanıyor', 'ancak pek çok arnavut bundan şüpheli', 'kapitalist dünyada rekabet yeni bir kavram değil', 'başkent fira bir tepenin üzerinde yer alıyor', 'buna yanıtınız nedir', 'munterin görev süresi gelecek yaz sona erecekti', 'toplantılar iki haftada bir yapılacak', 'akrabalar şafakla birlikte sökün etmeye başladı', 'savaş olamaz', 'görüşmelerde ekonomik işbirliği ele alındı', 'fakat seyirci sözleri unutmamıştı', 'avrupa genelinde elle tutulur bir endişe hakim', 'yoksa tek gerçekçi ihtimal huzursuz bir şekilde birarada yaşamak mı', 'batiç ise herhangi bir dosya gördugunu reddetti', 'buna karşılık hediye veya rüşvet kabul etmeyecek', 'birlik tamir edilemeyecek bir hasar olmadan değişken geometriyi ne derecede taşıyabilir', 'büronun altı milyon avro zarara uğradığı sanılıyor', 'bu kampanya da benzer sorunlarla karşılaştı', 'mahkeme kararlarını bozamayız', 'programdan on beş belediye yararlanacak', 'bu olaylar sık sık dış basında baş haber oluyor', 'şimdilerde oylar yeniden sayılıyor', 'bu blok içinde bölünmelere yol açabilir', 'makedonyanın isim müzakerelerinde yeni bir momentum mu', 'listede yirmi beş ülkeden filmler yer alıyor', 'roman olmadığımı söylesem bir şey farkeder mi', 'rusya ülkeye dünya örgütünde destek vermişti', 'yunanistan formula bir pisti için yeri seçti', 'ülke olimpiyatları yirmi ikinci sırada tamamladı', 'fakat morallerin yüksek olması makedonyanın zor zamanları atlatması için yeterli olacak mı', 'ailenin her ferdine birer dilim dağıtılıyor', 'bunlar tutukevindeki tek zavaş suç zanlıları', 'her iki taktik de tartışmaya açık', 'genelde izinleri almak aylar sürüyor', 'bu da işçi maaşlarına hiçbir şey bırakmıyor', 'makroekonomik durum tekin kabul ediliyor', 'projeler programın gerisinde ve durmuş durumda', 'fabrikanın bir yıl içinde açılması bekleniyor', 'müziği eski bir bosna halk şarkısından geliyor', 'fakat aynı zamanda da tehdit altında', 'mültecilerin çoğu daha sonra infaz edildi', 'i̇lgili makamlardan başka adımlar da bekleniyor', 'mallarınızı düşük fiyata mı satmak daha iyi yoksa iflas etmek mi diye soruyor', 'maniou kasım ayında on altı yaşına girecek', 'panelistler geriye yapılacak ne kaldı sorusunu sordular', 'bazı dış yatırımlar da zarar gördü', 'tutuklanan doktorların sayısı her hafta artıyor', 'hırvatistan ise botswana ile birlikte yetmiş sekizinci oldu', 'osmanov yetmiş dört kilo serbest stilde güreşecek', 'yapabileceklerine inanıyorum', 'mevcut kadronun yaş ortalaması otuzun altında', 'bu noktada kültürler arasında bir savaş olduğunu söyleyebilir miyiz', 'i̇nsanlar kadınlara güvenme konusunda şüpheciler', 'bizim için belirleyici maç', 'ancak ciddi engeller var olmaya devam ediyor', 'fakat projenin önünde bazı engeller var', 'lego bu yıl elli yaşına bastı', 'pahor sonuçtan duyduğu memnuniyeti gizlemedi', 'sizce bölgede güvenlik koşulları açısından ilerleme kaydedildi mi', 'katılımcılar eğitim reformunu tartıştılar', 'bu güzergâh geçen yıl askıya alınmıştı', 'ancak süreçte daha fazla ilerleme kaydedilmedi', 'proje tamamlandığında bu durum da değişecek', 'öte yandan kosovada da hâlâ pek çok akrabam var', 'projenin bedeli iki milyar avro olarak açıklandı', 'makedonya ise dokuzuncu grupta üçüncü sırada yer alıyor', 'sırp diva ceca hapse mi girecek', 'bahis oldukça yüksek', 'hukuk düzeninin doğası bu', 'fakat bütün siyasiler bu kadar şanslı değildi', 'sizin bu konudaki görüşünüz nedir', 'türkiye bir diktatörlük değil', 'satış çok safhalı olarak gerçekleşecek', 'priştine belgradın savlarını kabul etmedi', 'top artık uluslararası toplumun karar organında', 'ancak zorluklar da yok değil', 'katılım oranı yaklaşık yüzde kırk yedi idi', 'bunun dışındaki her şey lüks', 'si bu kararıyla iddiayı kaybetmiş göründü', 'ankette daha kişisel sorular da var', 'belgrad bu son hayal kırıklığını hafife alıyor', 'i̇ki ayın sonunda ise kaliforniyaya geri dönmüş', 'drugclan aynı fikirde değil', 'mladiç şimdilik hala kaçak durumunda', 'proje üç ila dört yıl sürecek', 'yüzlercesi hakkında ise davalar açıldı', 'yine de seçenekler var', 'yunanistan örgütün dönem başkanlığını yürütüyor', 'en büyük ve en değerli firmalar hala devlet malı', 'douka ödülü kazanan dokuzuncu kişi oldu', 'tartışmalara gelen tepkiler karışık oldu', 'kısır döngüleri ve az gelişmişlik tuzaklarını kırmak neden bu kadar zor', 'sırbistan kosova tarafından verilen araç plakalarını ve evrakları tanıyacak mı', 'bir vergi politikası nasıl bir yapıda ve ne düzeyde vergi gelirleri hedeflemelidir', 'vesiç birkaç örnek daha veriyor', 'takım nihayet havasını bulmuş gibi görünüyordu', 'sergi mayıs ayı sonuna kadar gezilebilecek', 'fuarda on beş ülkeden bin sekiz yüz katılımcı bir araya geldi', 'fabrikada elli kişiye iş sağlanacak', 'vatandaşlar zam haberini iyi karşılamadı', 'makedonya henüz tanınmadı', 'fakat bu da daha başka sorunlara yol açabilir', 'bu da duruma siyasi bir açı getirmiyor mu', 'peki anlatılanlar yalnızca bir öyküden mi ibaret', 'şimdi budapeşte de konuya müdahale etti', 'asıl soru bu', 'onları bekleyen başlıca güçlükler nelerdir', 'i̇çlerinden sırp rukavina çıktı mı', 'fakat bu dayanakları sağlam bir iddia mıdır', 'veya büyük anne ve babalarımızın partiye nasıl rapor verdiğini', 'pek çok kimse için banka kredisi tek seçenek', 'yasaya karşı oy verilmedi', 'i̇lk teslimatın iki bin altıda gerçekleşmesi bekleniyor', 'yaklaşık yüz bin etnik sırp hâlâ duruyor', 'ancak faillerin kimlikleri belirlenemedi', 'bu da enstitüye iki yüz elli bir milyon avroya mal oldu', 'yaralanmalara sık rastlanıyor', 'yunan yetkililer anlaşmayı benimsediler', 'su parkı da iki bin altı yılında açıldı', 'bu miktar daha sonra iki yüz milyon avroya düştü', 'nokia fabrikanın inşaatına bu baharda başlayacak', 'anlaşmanın otuz bir ekimde kesinleşmesi bekleniyor', 'ancak bu insanlar inançları yüzünden öldürüldü', 'ama halk artık bunlara kanmıyor', 'i̇ngilterenin katkı iadesi karmaşık bir mesele', 'fakat romanyadaki okullar bu değişikliği kaldırabilecek mi', 'gruevski pek çok vaatte bulunuyor', 'restoranlar insanlarla doluydu', 'risk alacak cesareti göstermeliyiz', 'uzun tatiller bulgar işletmelerine pahalıya mı mal oluyor', 'bugüne kadar bir albüm kaydetti', 'i̇şte fark burda', 'turnuvayı en az seksen ülke canlı olarak yayınlıyor', 'o yüzden sakın umudunuzu kaybetmeyin', 'blogcular da tam bundan bahsetmek istiyor', 'genelde yolcular gelişmelerden heyecan duruyor', 'bizlere görevinizi açıklayabilir misiniz', 'sonuçsa birincilik oldu', 'babasının yokluğunda yusuf konuşmayı bırakıyor', 'bombanın büyüklüğü belirlenemedi', 'burada ordu veya polis olmayacak', 'bu olursa güvenlik durumu üzerinde nasıl bir etki yaratır', 'hükümet geçiş için fon ayırdı bile', 'gazprom da bu projeye dahil mi', 'yemedik ve içmedik', 'sağır son olimpiyat şampiyonuydu', 'nikica üç yaşından beri tatil köyünde yaşıyordu', 'birincisi birliği ikiye bölmek', 'pirin sözleri hâlâ yankılanıyor', 'müze gecesi beş yıldır her yıl düzenleniyor', 'yunanistanın selanik kenti de ilk ona girdi', 'osmanagiçin iddiaları henüz doğrulanmış değil', 'en yakın arkadaşlarım arnavutlukta', 'temel haklara saygı gösteriliyor', 'oysa gerçekte durum bundan daha karmaşık', 'i̇stikrarı korumak önceliğimiz olacak', 'bunların toplam değeri yüz milyon avroyu buluyor', 'onay iki gün süren tartışmalar sonrasında geldi', 'etkinlikte arnavut yayınevleri çoğunluktaydı', 'yeni reformlar bazı vatandaşları da şaşırtıyor', 'medya da ikiye bölünmüş durumda', 'bazıları şimdiden başarıya ulaştı', 'pamuk doksan birinci sırada yer aldı', 'ancak hüsran da söz konusu', 'en zor dönem buydu', 'gruevski de benzer umutlarını dile getirdi', 'fransada insanların kafelerde sigara içmekten vazgeçeceğini kim düşünürdü diyor', 'fakat kararda soykırım sözcüğü yer almıyor', 'makedonyanın iyi bir ev sahipliği yaptığını düşünüyor musunuz', 'peki tüm bunlar gerçekleştirilebilirse ne olacak', 'tam olarak itiraz ettiğini noktalar neler sizce yasanın olumlu yönleri de var mı', 'ayrıca festival nerelerde yapılacak', 'bu imkansız', 'dördüncü şahsın menşei belirlenemedi', 'bunu nasıl iyileştirmeye çalışıyorsunuz', 'bir köy bu konuda ortalamanın üstünde', 'parti kararı temyize götürdü', 'fuar pazar günü sona eriyor', 'bunu kanıtlayacak pek fazla delil yok', 'ab de operasyona olumlu tepki gösterdi', 'yaşlılara kim bakacak', 'makedonyadaki her ev ankete katılacak', 'başbakan i̇vo sanader sorunu kabul ediyor', 'ağları en çok kullananlar gençler', 'daha somut konuşalım', 'ülkesi için savaştı', 'stadyumlarda sık sık kavgalar çıkıyor', 'i̇ki halterci pekinde de altın için yarışacak', 'bazı işçiler de aylardır maaşlarını alamıyorlar', 'kamuoyuna sunulan proje büyük ilgi çekti', 'i̇haleye sekiz başka şirket de katıldı', 'kosovalı liderleri yoğun bir süreç bekliyor', 'fakat bunların yanında kötü haberler de var', 'gürültülüydü farklıydı eğlenceliydi', 'bu kaynaklar istihdam da yaratırlar', 'bu iki ülke ile ilişkileriniz nasıl', 'bu ülkenin zamanı azalıyor', 'üyelik ufukta göründü ancakhırvat halkı buna hazır mı', 'gösterilerde eski giysiler konu ediliyor', 'bilgi önyargıyı çökertir', 'o zamandan beri ara sıra seyyar satıcılık yapmış', 'sevilen bir kış içkisi de juva', 'artık i̇talya da herkesin hedefi konumunda', 'fakat bir çok kişi için geçiş acı tatlı oldu', 'ben henüz böyle bir uzlaşma göremiyorum', 'bütün vakalarda ölüm nedeni boğulma', 'görüşmeler başarılı oldu ', 'kosovanın çok ırklı polis gücü ne zaman bu işi devralabilecek', 'diğerleri de başıboş araçların üstüne sığındılar', 'sonunda taşınmak zorunda kaldılar', 'görüşmelerde kosova konusuna da değinildi', 'olaylarda üç kişi yaralandı', 'i̇ndirim herkes için geçerli olmayacak', 'hareket etnik rusların protestolarına yol açtı', 'geri kalan yufkalarla da bu işlemi tekrarlayın', 'başlıca reform alanlarından biri tarım olacak', 'davanın aylarca sürmesi bekleniyor', 'bu ay içinde uluslararası bir ihale açılabilir', 'bunun sonuçları ise oldukça ağır olabilir', 'ancak muhalefet plandan pek memnun değil', 'bunun psikolojik baskısı çok büyük', 'bugünse pobjedanın üretimi zayıf', 'oruçtan sonra sırplar et yemekleri yiyorlar', 'aşırı kadrolaşma çözüm bekleyen sorunlardan biri', 'podgoricada neden bu kadar çok ayakkabı mağazası var', 'bunların hiçbiri bizi etkilemez', 'her hükümet aynı olacak', 'sunum seçimler yüzünden ertelenmişti', 'bu kitap bir kurguya dayanıyor', 'akarsu iki ülke arasında sınır teşkil ediyor', 'ancak kıyılardaki yazlık evler buna dahil değil', 'moisiu bölgenin avrupa hedeflerini de vurguladı', 'kalan yarısı ise doğaya atılıyor', 'yugoslavya bir çağaşım', 'hükümet o tarihte talebini kabul etmişti', 'merwin festivale üçüncü kez katılıyor', 'bu yapılar güçlü ve işlevsel olmalıdır', 'gençleri sırbistanda kalmaya ve gidenleri geri dönmeye nasıl ikna edebiliriz', 'i̇ddianameden sonra gotovina ortadan kayboldu', 'olay türkiyede farklı tepkilere yol açtı', 'yıllarca önce dünya dokuzuncusu olmuştu', 'mesleğinin yanlış anlaşıldığını söylüyor', 'bu oldukça zor bir iş', 'ohri anlaşmasından geriye yapılması gereken ne kaldığını açıklayabilir misiniz', 'dışardan bakıldığında hayat sakin görünüyor', 'zamanla talepleri büyük miktarda nakde döndü', 'belki olurdu', 'fakat yugoslavya bir gün parçalanıvermiş', 'i̇ş adamı hayatının seyahatine çıkıyor', 'çabalarının karşılığını da aldılar', 'samaras anlaşmayı destekleyeceğini söyledi', 'şimdi karadağ üçü için de tutuklama emri çıkardı', 'bunu kimi anlıyor kimi anlamıyormuş', 'belgrad ise bunu inkâr ediyor', 'sonuçta söz konusu isim ne anlama gelmektedir', 'küçük bir bulgar belediyesi i̇nternete geçti', 'obama bu konuya da değindi', 'fakat bunlar yeni bir şeffaflık döneminin başlangıcı olabilir mi', 'petkim türkiyenin en büyük petrokimya fabrikası', 'sevgili gözlerini kapatan ve seni gözyaşlarıma kör eden ne', 'adalet yerini bulacak', 'gelişmelerden tek etkilenenler siyasiler değil', 'ancak bu bilgiler kamuoyuna açıklanmayacak', 'bunları hatırlamak ve unutmamak', 'peki hedefi ne', 'türkiye ve i̇talya geçiş anlaşması imzaladılar', 'kimse ne olduğunu bilmiyor', 'üçüncü şüpheli ise henüz yakalanamadı', 'en başarılı uygulamalar olarak neleri dikkate alacağız', 'peki ülke buna yeterince hazır mı', 'balkanların yükselen küresel kültüre bağlanma olasılığı nedir', 'buun nedenlerinden birisi trafik sorunuydu', 'google bu ay romanyada bir ofis açıyor', 'çalışmalarınızın sonuçlarını tatmin edici buluyor musunuz', 'bu da ceza verilmesini zorlaştıran bir durum', 'bunları suçlular da kullanabilir', 'hükümet nihayet durumu fark etmeye başlıyor', 'siz nasıl bir yöntem uygulayacaksınız', 'bu durumun pek çok açıklaması var', 'son birkaç yılda nasıl bir değişim oldu', 'çantaları taşıyamayacakları kadar ağırdı', 'ak de zor bir görevle karşı karşıya kaldı', 'hazırlıklar sekiz yıldan uzun sürdü', 'sebeplerden biri uluslararası endişe', 'bu olay ilk değildi', 'liderlik etme zamanınız geldi', 'adaylar kasım ayı başlarında duyurulacak', 'pek çok bölgede yağmurlar heyelanlara yol açtı', 'merwin oldu', 'hıristofyas da kendi radikallerinden baskı gördü', 'katliam her yıl yıldönümünde anılıyor', 'anlaşmanın sağlanabileceğini düşünüyorum', 'adlesiç ayrıntılı bir değişiklik listesi önerdi', 'onun yerine yeni tur müzakereler başlatıldı', 'miletiç ise sessiz kalma hakkını kullandı', 'bu sistem iç baskı ve gerginlikleri yumuşatmıştı', 'şimdiye kadar kaç kızı kurtardınız', 'nüfus arttıkça ankaradaki hükümet de büyüdü', 'bu yolda da rusya var gibi görünüyor', 'suçlamalar daha sonra düşürüldü', 'notlardaki görünüm istikrarlı olarak açıklandı', 'benzer bir oran bu yıl da bekleniyor', 'hadise yalnız değil', 'sanık hakkındaki suçlamaları reddetti', 'bir diğer yorumcuya göre bu doğru fakat kime şikayet etmeli', 'sırbistan krizi atlatırsa ekonomisi ne derece sağlıklı olacak', 'ancak avantajlar bunlarla da kalmıyor', 'tam bir geçiş muhtemelen birkaç yıl sürer', 'mehmed d olayla ilgili olduğunu reddetti', 'bu konunun belirgin iki yönü var', 'mevcut enflasyon trendi cesaret verici', 'karadağ unutulmayacak bir aralık ayı geçiriyor', 'hazır mısınız', 'dragus filmde klara rolünü oynadı', 'agogiatis ise daha iyimser', 'bu çok üzücü bir durum', 'ertelemenin nedeni belirtilmedi', 'hepsinin ortak noktası futbol sevgisi', 'karadağda meyve üretiminde maliyetler yüksek', 'diğer sandalyelerse bağımsız adayların olmuştu', 'üçte ikisini kadınlar oluşturuyor', 'fakat bu yıl türkiyeye gideceğim', 'erdoğan yatırımlara mı öncelik veriyor', 'sürpriz sonuç bekleyen kişi sayısı oldukça az', 'kosova ve sırbistan  şimdi ne olacak', 'sonra kendi de onlardan birisi oldu', 'plastik ürünler önemli kirleticiler', 'yine de avrupa kamuoyu ikna olmuşa benzemiyor', 'davanın tüm süreci adil şekilde gerçekleştirildi', 'ancak çiftçiler duruşlarını bozmadılar', 'türk kamuoyu bundan haberdar değil', 'i̇nşaatın yedi yıl sürmesi planlanıyor', 'tutumların avrupalı bir unsura rastlamadım', 'şimdi ise satmayı düşünüyor', 'sırp sineması sunar ', 'stamboliçin cesedi geçen yıl bulunmuştu', 'ekonomik kalkınma önemli bir öncelik', 'i̇çki perakende sektörü içindeki tepkiler karışık', 'bir diğer sorun da gümrük', 'hiç umudum yok', 'ancak grubun gündeminde sırf çalışmak yok', 'türkiye ortadoğuda yaşanan demokrasi hareketlerinden fayda sağlayabilir mi', 'kolaylık karadağın değerlerinden biri', 'ancak organize suç suçundan aklandı', 'belgrad makamları ise bunu reddettiler', 'sizce bu yükümlülüğün yerine getirilme tarzı tatmin edici düzeyde mi', 'cumhurbaşkanını seçme yönteminde yapılacak değişiklikler moldovadaki siyasi krize son verecek mi', 'gezinin bir sonraki durağı ise sofya', 'ap milletvekilleri beş yılda bir seçiliyorlar', 'o zamandan bu yana da hastalık yayıldı', 'jokiç ise iddiayı yalanladı', 'yaşamla ilgili ayrıntıları neden netten herhangi biri görsün diye yayınlanır', 'bu kriz bir mali krizin sınırlarını aşmıştır', 'grup bis için sahneye iki defa geri geldi', 'yunanistan ise gelecek yıla bakıyor', 'i̇stisnasız olarak dost canlısı insanlar', 'karar sizi şaşırttı mı', 'çok küçük düşürücü bir durumdu', 'bu durumun sonuçları ise oldukça ciddi', 'bazıları ilkokulu bile bitiremiyor', 'bu tarihten beri bunların sekizi tutuklandı', 'anlaşmanın bedeli açıklanmadı', 'hükümet bu konuda adımlar atıyor', 'durum kötüleşirse ne yapacaksınız', 'bu durum beni endişelendiriyor', 'ancak bu kanıtlar mahkemede engellendi', 'haradinay iddiaları reddetti', 'bizler burada doğduk ve burada kalmalıyız', 'türkiye libyayı şiddetten kaçınmaya çağırıyor', 'dış ticaret açığı dört kat arttı', 'ameliyata i̇talyan uzmanlar yardım ettiler', 'kalanlar ise farklı yollar izliyor', 'i̇ki ülkedeki suç profilleri oldukça farklı', 'ama bunun dışında pek bir değişiklik yok', 'mustafaj dışişleri bakanlığını yürütecek', 'öte yandan türkiye de bir karşı hareket başlattı', 'çok az kişi mantıklı secenekler önerdi', 'ziyaretçilere rehberli gezi olanağı sunuluyor', 'bunun kabul edilemez olduğu açık', 'karışıklık özellikle kırsal bölgelerde belirgin', 'ancak bu durum değişti', 'kapanma saati yaklaştığında fiyatlar düşüyor', 'tüyler ürpertici bir andı', 'fazilet onun kendi ödülüdür', 'aşılama olası yanıtlardan biri', 'bu konuda başarı sağlayabildiniz mi', 'i̇kinci ankete göre bu oran den bile yüksek', 'polancecin mesleki geleceği şu anda belirsiz', 'yunanistan etkinliğin konuk ülkesi olacak', 'i̇srail ve portekizin ise beşer puanları var', 'onun ifadesi büyük bir atılım olabilirdi', 'parlamentoya girmek istiyorsunuz', 'yaşlı kadınlar belgradda bir parkta dinleniyor', 'savcılık adalet bakanlığına rapor veriyor', 'savunma reformu makedonya için güçlü bir koz', 'çatışmalar ateşkesin ardından devam etti', 'romanyarusya ilişkilerinde gerilim artıyor', 'bölgede istikrar artacak mı yoksa önümüzde yeni krizler mi var', 'malezya ve bangladeş de aday önerisinde bulundu', 'gidilecekse seçim tarihi ne zaman olacak', 'görev sırasında hiçbir asker hayatını kaybetmedi', 'bu dili nerden öğrendiğini soruyoruz', 'sırp yetkililer de aynı umutları besliyor', 'resmi sonuçlar birkaç gün içinde ilan edilecek', 'kocası milorad da aynı fikirde', 'beklendiği gibi sevilen taraf afrikalı takımdı', 'bu fiyata filmin korsan olacağı kesin', 'amaçsa kötü ruhları korkutup kaçırmak', 'miktarı ne olursa olsun para kabul edemeyecekler', 'i̇zbasa denge çubuğunda bronz madalya aldı', 'konun kendisi de zaferine şaşırdı', 'türk hükümeti onu dört yıl rahat bırakmış', 'bu kadar kanıta rağmen mi', 'bu da ülkenin gelişmesine engel oluyor', 'sadece bir tur oylamaya gerek duyuldu', 'her iki zanlı da saklanıyor', 'bu çok açıktı', 'burada oy kullanımına son verildi', 'finansman çözüm bekleyen bir diğer sorun', 'aylık kredi ödemeleri hızla yükselmeye başladı', 'filmi büyük bir samimiyetle yaptık', 'yaralanma veya tutuklanma bildirilmedi', 'yaklaşık ise kararsız', 'fakat bu kurumda görev savcılar bulmak zor', 'bu işlem seçimlerden önce gerçekleştirilecek', 'diğer bir seçenek de bölgesel bir akademi kurmak', 'daha bir çok turnuva ve maç kazanmak istiyorum', 'bu kesinlikle çözüm değildir', 'artık güvenlik bütün ülkede sağlanacak', 'bu konuda hükümetlere büyük rol düşüyor', 'kışın evler odun sobalarıyla ısınıyor', 'kırk sekiz parti aday listelerini sundu', 'i̇ki milletvekiliyse oylamaya katılmadı', 'simitis böyle bir planın bulunmadığını söyledi', 'kimseyi savaşa gönderiyor değiliz', 'atina takımı dördüncü şampiyonluğunu kazandı', 'sırbistan kosova ile müzakerelere hazır mı', 'starovanın kitabı dört aday arasından seçildi', 'bu şirketin belirleyeceği bir durumdur', 'bu konu açık değildir', 'sırp pasaportuyla batı vizesi almanız hâlâ zor', 'bunların yalnızca bir kısmı kaldı', 'temas grubu çarşamba günü toplanacak', 'bu yıl ödül ilk defa bir sırp doktora gitti', 'o zamandan beri filme bilet bulmak oldukça zor', 'i̇nsanlar sadece basketbol konuşuyorlardı', 'en önemli haberse yeni işletmeler için geliyor', 'belgrad şehir merkezindeki bir sokak kafeteryası', 'mladiçle hiçbir zaman iyi anlaşamadı', 'bizi kandırıyor ve bize yalan söylüyorlar', 'orijinalin aksine kıyafetler çıkarılmadı', 'yarışmaya otuz beş genç sanatçı katıldı', 'bu süreç de yıllar alabiliyor', 'sergi on beş gün süreyle açık kalacak', 'gerisiyse satışa çıkarılacak', 'ab planın uygulanmasına nezaret etmeyi bekliyor', 'kuş gribinin kuş göçleriyle yayıldığı sanılıyor', 'o olaydan beri çalışmalar askıya alındı', 'tasarıyı ayrıntılı şekilde inceleyeceğiz', 'konser tarihi on beş aralıkta belirlenecek', 'festival salı günü sona eriyor', 'tava dolduğunda fırına koyun', 'önerilen çözümlerden herkes memnun değil', 'o tarihten bu yana festival değişti ve gelişti', 'başvuran sayısının on bine ulaşması bekleniyor', 'peki yıllardır serbest ticareti savunan gelişmiş ekonomileri bu düşüncelere sevkeden ne', 'tarih henüz açıklanmadı', 'hırvatistan ise altıncı', 'bu konuda elinizde net rakamlar var mı', 'projede yer alan herkes bundan faydalanıyor', 'seyirci de onu gürültülü alkışlarla ödüllendirdi', 'ancak yönetmelik şimdiden ekonomiyi etkiliyor', 'adım adım gideceğiz', 'bu önemli değil', 'görev süresi on iki ay olacak', 'bu yıl da istisna olmadı', 'fakat vahabiler korku salan tek grup değil', 'i̇ki kişi sorgulanmak üzere gözaltına alındı', 'bu ilgi bir çeşit beklenti yarattı', 'birinci bölüm için tıklayın', 'sırp makamları mahkumun iadesini bekliyorlar', 'gösteriye otuz ülkeden yüz yirmi genç sanatçı katıldı', 'çeşitli çıkarımlar yapmak mümkün', 'bu bulgaristan için iyi bir şey değil', 'sergide beş hırvat yeniliği sergilendi', 'tesise yirmi dokuz milyon avroluk yatırım yapılacak', 'sırbistan bunun gibi bir şeyi yıllardır yapıyor bize gelince neden sorun yaratsın ki', 'bugüne kadar bu girişimleri sonuçsuz kaldı', 'müzakerelere slovenya davet edilmedi', 'rojsun iddiaları polisin de ilgisini çekti', 'odasına bile giremezdim', 'bu durum bin dokuz yüz doksanlarda ülkenin bölünmesiyle değişti', 'mecliste en fazla yedi yüz otuz altı sandalye bulunabilecek', 'hasta yirmi beş yaşındaki bir kadındı', 'sizce bu sayede bölgede reformlar hız kazanabilir mi', 'bu sayede durum sakinleşebilir', 'kararı ertelemekle kazanılacak bir şey yok', 'mediu pazartesi günü bunu gerçekleştirdi', 'fakat bunu yapmak için ülke sınırını geçmek gerekmedi mi', 'partiler suistimal iddialarına işaret ediyor', 'tartışmalar devam ediyor', 'gülün adaylığı sonra düşmüştü', 'rusya suçlamaları reddediyor', 'arnavutluk kendisini köprü kurucu rolünde buldu', 'dürüst olmak gerekirse biz de emin değiliz', 'bu belge niçin çok önemli', 'sorun şu ki ortada gerçekçi bir problem yok', 'eleştirileri ise dikkate almıyorum', 'fakat bu çabalar boşa çıktı', 'yaşamınız ve çalışmalarınıza herhangi bir etkisi oldu mu', 'bu süre icinde ne gibi başarılar elde edildi', 'ancak sırbistan bir zam dalgası da yaşıyor', 'konkordiya bu eylemde rol alacak mı', 'eski tesis sadece yirmi kişi alıyordu', 'eski rekor yirmi dört saat içinde bin beş yüz sekiz km idi', 'exiti desteklemeye hazır mıydılar', 'film yapımcıları da bu noktadan hareket ediyor', 'bir ülke için otoyol insanın damarları gibidir', 'ödül için dokuz film son elemeye kaldı', 'bu yokuş yukarı bir tırmanış olacak', 'karadağ bir kültür başkenti mi olacak', 'blok bu yönde bir virgül beş milyon avro kaynak sağlıyor', 'sizin bu konudaki tutumunuz nedir', 'hamam gelecek yıl ziyaretçilere açılacak', 'belgradlı sinemaseverler için seçenekler azaldı', 'komisyon tamamen hukuk uzmanlarından oluşsa daha mı iyi olurdu', 'o zamandan bu yana ilerleme kaydedildi', 'hisselerin geri kalanı yerel i̇ş bankasına ait', 'bu çok fazla', 'bunu demokratlara durmadan söylüyoruz', 'kurtlar vadisi nefreti körüklüyor mu', 'kazara oylama halk arasında ihtiyata yol açtı', 'bunu birçok nedeni var', 'dimitrova altmış dört yaşındaydı', 'uluslararası toplum fikre karşı çıktı', 'bu misyon doğrudan istikrar sağlama amacına yönelik olarak mı çalışıyor', 'türkiye bin dokuz yüz altmıştan bu yana üç askeri darbe gördü', 'kanıt olmazsa bir ülke kendi tarihine nasıl sahip olabilir ki', 'bu sefer en ucuz bilet otuz beş avro civarında olacak', 'bu kişilerin banka hesapları donduruldu', 'elçi daha sonra priştineye dönecek', 'bugün sırbistanda otuz kadar ulusal banka var', 'klasik müzik etkinliği otuz ağustosta sona erecek', 'toplam on dört gösteri planlanıyor', 'hükümete göre program sonuç veriyor', 'planlanan filtreleme sistemi sansür anlamına mı geliyor', 'sırbistanın tek yolcu otomobili üreticisini daha parlak günler mi bekliyor', 'bunların yalnızca birkaç bini geri döndü', 'türkiye bir polis devleti mi', 'türkiye gözlemci ülke olarak katılım gösterdi', 'bir tavayı yağ veya terayağıyla yağlayın', 'konsere yunan ve yabancı siyasi isimler katıldı', 'sonuç olarak kriz şimdilik önlendi', 'biri otuz sekiz diğeri kırk numara', 'kız çocukları oğlanlardan daha romantikler', 'bu ekibe ayrıca üç yerel doktor eşlik ediyor', 'bu program kesinlikle sonuna kadar yürütülecek', 'sergide on bir ülkeden altmış eser yer alıyor', 'şarkıcı sadece yirmi altı yaşındaydı', 'takımın yaş ortalaması yirmi altı', 'her iki taraf da ayrı sorumluluklara sahiptir', 'yurtdışına çıkmamışsınız', 'artık sadece bir savunma kurumu var', 'toplam yatırım yirmi milyon avroyu buldu', 'bal', 'etkinlik bir hafta sürecek', 'kamuoyunda da güçlü bir destek söz konusu', 'karadziç on iki yıldan uzun süredir kanundan kaçıyor', 'bunu söylemek için hala çok erken', 'şimdi durum farklı', 'her zaman ve her yerde madalya kazanırdık', 'karadağ ile olan ilişkilerimiz de güçleniyor', 'her iki örgüt de aynı silahları kullanıyor', 'ancak cumhurbaşkanını seçmeye yetecek kadar sandalye kazanacak mı', 'festival dört haziranda sona eriyor', 'artık kimsenin bizden korkmasına gerek yok', 'bu sıradan ya da tesadüfi bir olay değildir', 'louka katseli ekonomi bakanı olacak', 'burada olmaktan son derece memnunum', 'okul yılı boyunca başka sınav olmuyordu', 'fakat belgradda herkes durumu böyle görmüyor', 'karnındaki bebek ise hiçbir zaman doğmamış', 'biz diğerine gittik', 'kosova hükümetinin tepkisi net oldu', 'kampanya on beş eylüle kadar devam edecek', 'sohbete oturuyor', 'benzer sözler i̇ngiliz büyükelçisinden de geldi', 'kosovalı sırp temsilciler öfkeyle tepki verdiler', 'partiyse bu tür iddiaları reddediyor', 'yöntem her bölgede aynı', 'uydu yedi yüz yirmikm irtifada yörüngeye oturdu', 'en çok hangi alanlarda işbirliği yapıyorsunuz', 'sosyal eşitsizliğin ve ekonomik performans düşüklüğünün bunca zamandır devam etmesinin sebebi ne', 'bunlar içinde en çok göz çarpanı ise flija ', 'asıl geri ödeme tarihi iki bin yirmi bir idi', 'mahkeme duruşmayı on dokuz aralıka erteledi', 'ancak yüz yirmi altı sandalyelik çoğunluğu sağlayamadı', 'proje iki yüz kırk milyon avroya mal olacak', 'bir hayal kırıklığı daha', 'olaylar uluslararası alanda da kınandılar', 'erdoğan karara şüpheci yaklaştı', 'blog yazarları ise konuya şüpheyle yaklaşıyor', 'ancak karamanlis bu olasılığı dışladı', 'dinarın devaluasyonu ise bir diğer alternatif', 'kadın kaçıp bulgaristana dönmeyi başarmış', 'değişen tek şey teknoloji', 'fakat bu durum değişmek üzere', 'bravo sırbistan', 'refah da zamanla sağlanabilir', 'bu durumun vatandaşlar açısından anlamı nedir ve genel müdürlüğünüze ne gibi faydaları olacak', 'peki ufukta ekonomik bir düzelme görünüyor mu', 'çatışmada bir asker de yaralandı', 'küreselleşmenin etkisi de dikkate alınmalı', 'yatırımcılar projeyi on dört ocakta sundular', 'bize bu film projesinden biraz bahseder misiniz', 'sağnak yağmur altında soğuk bir hava hakimdi', 'yeni hükümette on beş bakanlık bulunuyor', 'ne tür araçlar yapılar ve işbirliğiyle', 'drago çok iyi arnavutça konuşuyor', 'diğer iki zanlı henüz yakalanamadı', 'sizce takım şampiyonada hangi aşamaya kadar ilerleyebilir', 'uzun metrajlı bölümünde dokuz film gösterilecek', 'fakat geçmiş tarihçilerin işidir', 'filmin ilham kaynağı da işte bu günlük oldu', 'biz bir dizi çözümlenmemiş meseleyi devraldık', 'siyasi sorunları çözemeyiz', 'nikoliç ise yüzde kırk yedi virgül yedi oy topladı', 'buradan gelen sinyaller ne yönde', 'arnavutlukta sorun biraz farklı', 'sizce özgür adil ve demokratik bir seçim mi oldu', 'bazı analistler böyle bir risk olduğu görüşünde', 'avrupa bunun en açık örneğidir', 'ülkede topla altı bin üç yüz bina sular altında kaldı', 'ancak bugüne kadar paranın geldiği yok', 'açık bir siyasi açısı olmayan bir film', 'fuara kırk beş ülkeden yedi yüz seksen mucit katıldı', 'yeni radarların çoğu bükreşte kullanılacak', 'bakan ayrıntılı bilgi vermedi', 'bir diğer önemli konu da enerji', 'birisi beyazlar için dediler', 'bu yılki festivale yirmi beş ülkeden seksen beş film katıldı', 'arnavutluk adeta bir inşaat sahasına döndü', 'ancak balıkçılar bu rakamı gerçekçi bulmuyor', 'arnavutluk medyası halen geçiş döneminde', 'i̇lk mağaza ise iki bin on bir yılında belgradda açılacak', 'yasa yirmi nisanda yürürlüğe girdi', 'fakat en alt tabakada sualtı yaşamı yok', 'yolsuzluk ve organize suçla mücadele etmeliler', 'teklif verme süresi dört ekimde sona eriyor', 'ziyaret arnonun ülkeye ilk gelişi oldu', 'i̇ki ağabeyim ve bir kız kardeşim var', 'aile reisinin eğitim durumu da önemli bir faktör', 'tabii ki menünün başında balık yer alıyor', 'aynı kural adalet sistemi için de uygulanıyor', 'etkinliğe dünyadan otuzdan fazla sanatçı katıldı', 'daha çalışmaya bile başlamadan zarar ettim', 'bölgede ve ötesinde çok iyi bir işbirliğimiz var', 'borovcanin de soykırımda işbirliğiyle suçlandı', 'fakat hikayenin hepsi bu değil', 'etkinlikte toplam on bir performans sergilendi', 'her iki ülkede de iki bin yedide seçimler düzenlenecek', 'herşey adıyla bilinmeli', 'doğrudan bir yanıt alamadım', 'baiç altı yıldır fransada yaşıyor', 'anlaşmanın şartları açıklanmadı', 'i̇spanya protokolü onaylayan on ikinci üye ülke oldu', 'kimse yalnız yaşamaz', 'makedonya bağımsızlığının on sekizinci yılını kutladı', 'ancak bir miktar ilerleme de kaydedildi', 'bu demokrasinin özüdür', 've sonumuz geçmişteki gibi olacak', 'beni dövüyorlar çünkü bana sen yasal değilsin', 'yunanistanda ise bu oran yüzde otuz üç', 'biz tam desteğimizi garanti ediyoruz', 'tadiç sporcuya bir tebrik notu gönderdi', 'bulgaristan listede otuz üç sırada yer aldı', 'brüksel tekrar açılmalarına karşı çıkıyor', 'o evdeyken ödüm patlardı', 'tadiç tüm erken seçim çağrılarını reddetti', 'onurun gözlerindeki büyü ', 'ancak kişi başına düşen gelir ne yazık ki düşük', 'vatandaşın yasağa uyduğu görülüyor', 'görüşmelerde kadastro kayıtlarına da yer verildi', 'en ucuz bilet on beş avroydu', 'çeşitli börekler de sofrada hazır bulunur', 'bu açıdan doktrini evrenseldir', 'kaldırım ve asfaltlar yenileniyor', 'oyun balkanlarda yaşanan ihtilafi konu aliyor', 'mitorvicadaki sırplar bir gösteri yapıyor', 'noel turtası eskiden bir ana yemekti', 'en az bir kişi hastaneye kaldırıldı', 'diğerleri de hep birlikte işi bırakabilir', 'filmin galası iki bin on bir yılında yapılacak', 'ancak sokakta görüşler farklı', 'fakat bu durum altı aralık iki bin sekizde değişti', 'etkinliğe engelli koşucular katılacak', 'kendimizi bu sanat türüne adamamızı sağlayan şey ne', 'ancak toplam maliyet yüzde elli daha yüksek olabilir', 'kosovanın balkanlardaki siyaset hedefi nedir', 'fransız taraftar on iki gün sonra yaşamını yitirdi', 'romanyada kurumlar gelir vergisi oranı yüzde on altı', 'personel mümkün olan en iyi eğitimi aldı', 'raportörün çağrısı ilk değil', 'bunun nedenlerinden birisi siyaset olabilir', 'ancak seçimlerden net bir galip çıkmadı', 'i̇lk bin dokuz yüz doksan dört yılında gerçekleşmişti', 'dünyada da kırk üç ortak üyesi var', 'litvanyada en çok konuşulan takım oldular', 'örgütler daveti geri çevirdiler', 'shevchuk modern bir siyasetçi', 'fakat projenin savunucuları isyan ediyorlar', 'aradaki fark önemli', 'ciddi bir meslek nasıl böyle aşağılanabilir', 'i̇nşaat çalışmalarının dört ay sürmesi bekleniyor', 'yunanistan bazı ülkelerin heyetlerine yönelik ek tedbirler alıyor mu', 'en değerli çıkartmalar en nadir olanlar', 'ancak reform bazı güçlüklere de yol açmadı değil', 'hepimiz bu doğrultuda çalışabiliriz', 'bunlar önemli şeyler', 'artık bunu yapmaya başlıyoruz', 'oylama büyük olasılıkla yirmi bir ekimde yapılacak', 'burası benim için harika bir yer oldu', 'olaylarda iki gösterici hayatını kaybetti', 'adi suçlarda bunun mümkün olduğunu duydum', 'bu teröre destek vermektir', 'grupta arnavutluk takımı beşinci sırayı aldı', 'ardından kötü haber geldi', 'ancak glavas henüz gözaltına alınmadı', 'cumhurbaşkanı bu sorunu çözecek mi', 'i̇şbirliği ihtiyacı muazzam', 'yine de hükümet teknolojiye geçişi savunuyor', 'hiç hasta olmadılar', 'tüm notlar istikrarlı görünüme sahip', 'her ikisi de bunu daha önce kabul etmişti', 'grigor gerçekten biliyorum diyor', 'efes ise yılda dört milyon avro gelir sağlıyor', 'türkiye şu anda vicdani redde izin vermiyor', 'taksiciyle aranız iyi olursa herşey mümkün', 'kesinlikle harikadır', 'olaylarda bir arnavut ve dört polis yaralandı', 'bu müzakerelerin ilk turu yirmi beş ocakta yapılacak', 'güvenlik planı bir temmuzda başlatılacak', 'bu rakam iki bin on birin başlarında yüzde elli yediye geriledi', 'her ikisi de mahkemede ifade verdi', 'bu da oyların bölünmesine yol açabilir', 'gücü nasıl tanımlıyorsunuz', 'sürekli ve kararlı bir yasal reform', 'türk halkı ile dost ve kardeşiz', 'anlaşma hala onaylanmayı bekliyor', 'bu tür bir sonuç kosova sorununa çözüm bulunmasına yardımcı olabilir miydi', 'pişirmeyi bırakın ve diğer malzemeleri ekleyin', 'muvazzaf subayların sayısı ise altmış bin civarında', 'cesur olun', 'beşli otuz gün gözaltında tutuldu', 'bu kararın nasıl bir etki yaratmasını bekliyorsunuz', 'pek çoğu uzman profesyonel ve akademisyenler', 'radikal partinin parlamentoda on yedi üyesi olacak', 'yaşamım zordu çok gezdim çok öğrendim', 'amacımız kasabamızı marka haline getirmek', 'tehdit daha sonra geri çekildi', 'reuterse göre teklif için iki grup yarışıyor', 'ab bu tarihî durumla baş edebilir mi', 'ancak şimdiye kadar durum böyle olmadı', 'hükümet de bu tavsiyeye uyuyor gibi görünüyor', 'bölge zamanla değişti', 'fikir herkes tarafından hoş karşılanmadı', 'arnavutluk sektörde kronik borç sorunu yaşıyor', 'avrupanın bütünleşmesi için yeni bir yaklaşımın hızla uygulamaya konması gerekiyor mu', 'nasıl bu kadar çok izin verilebilir anlamıyorum', 'i̇ki diğer ünitenin yapımı sürüyor', 'ayrıca devlet olmak herşeyin sonu da değil', 'ancak ilgili aileler için sonuçlar acı verici', 'yine de farklılıklar sürüyor', 'seçim suçu davaları da öncelikli', 'diğer partiler de kendi adaylarını ön sürdüler', 'üyeliğin arnavutluk açısından faydaları neler', 'aynı durum diğer balkan ülkeleri için de geçerli', 'karşılaşma doksan üçyetmiş sona erdi', 'ardından da silahlı çatışmalar çıktı', 'festival otuz hazirana kadar sürecek', 'kimse öfkelenmiyor mu', 'projenin ihalesi geçen ay açıldı', 'resmi yarışma programında dokuz film yer alıyor', 'bir de arnavut partilerin hızlı bir çözüm çağrısında bulunmasını nasıl değerlendiriyorsunuz', 'gençler arasındaki işsizlik oranı şu anda yüzde yirmi yedi virgül dokuz', 'yunanistanda ise karışık tutumlar görülüyor', 'fakat yine de brükselden iyimser sesler geliyor', 'böyle bir belgeyi bizden daha iyi kim hazırlayabilir', 'ancak nikoliç devam etmekte kararlı', 'sergi bir ay devam edecek', 'bence önemli görünüyor', 'peki amerikan halkının filme tepkisi nasıldı', 'gündemdeki bir diğer konu da kosova idi', 'finans sektöründe de ciddi eğilimler görülüyor', 'gösterimler ücretsiz olacak', 'bu son altı yılın en yüksek oranı', 'ancak durumun böyle olmadığını gördük', 'mahkemenin görev süresi iki bin on dört yılında sona eriyor', 'bu yıl hedefler daha iddialı', 'coşkudan tam bir hayal kırıklığına', 'schengene geçiş hazırlıkları sürüyor', 'en az destekleyenlerse altmış beş yaş üzerindeki kesim', 'minskte bir romen şampiyon parladı', 'kesin karar zirvede alınacak', 'angela merkelin sert sözleri anlaşma sağlanmasında katalizör görevi görecek mi', 'bu denli büyük bir başarı elde etmeyi bekliyor muydunuz', 'i̇şleri halka hizmet etmek', 'davetler iki bin dokuz yılında üyelik anlamına gelebilir', 'krstiç kırk altı yıl hapis cezasına çarptırıldı', 'bize büyük sorumluluk düşüyor', 'fonlar i̇ller bankası aracılığıyla dağıtılacak', 'cinayet kamuoyunu şiddetle sarstı', 'hileler yapıldı', 'ancak hükümet bunu kabul etmedi', 'sizi bondsteel hakkında yazmaya sevkeden özel bir neden var mı', 'kodra seksen sekiz yaşındaydı', 'bunlar yatırım fonları sektörüne nasıl yansır', 'seçmen katılımı mayıs ayındakinden bile düşüktü', 'ülkeye aday statüsü bin dokuz yüz doksan dokuz yılında verilmişti', 'geri kalan malzemelerle hamuru hazırlayın', 'sizce yeni bir kriz tehlikesi var mı', 'fuara toplam yüz yetmiş beş yayınevi katıldı', 'sizce bu nasıl durdurulabilir', 'bugün artık tüm siyaset küresel', 'sc hükümeti üç günlük yas ilan etti', 'bu kaotik ve uydurma bir girişim', 'sinema tek altenatif değil', 'bunun en yaygın örneği çocuklar', 'endeksin dünya ortalaması ise dört nokta on bir puan', 'gençler bizim geleceğimiz', 'orada bizi hiç iyi bir şey beklemiyor', 'veriler iki bin sekiz yılının ilk üç ayını kapsıyor', 'bu nedenle favori olarak görülmüyor', 'ama sonra pazarlık başlıyordu', 'konsey çok sayıda somut tavsiyede de bulundu', 'yasa beş yıl süreyle geçerli olacak', 'fuarın bu yılki ortak ülkesi i̇sraildi', 'militanlar neden kürt aydınlar için ölüm fermanı çıkarıyorlar', 'kavga stadyumdan sokaklara taştı', 'kaderimizi elimize almalıyız', 'bu oran son on altı yılın en düşük oranı', 'sırbistanın yatırım avantajı işçilikte yatıyor', 'festivale tüm dünyadan elli film katılıyor', 'siyasi krizin sona ermesine daha çok var', 'kanyon ve etrafındaki dağlar çok güzel', 'interliber büyük başarı elde etti', 'ancak ilk yıl boyunca not verilmeyecek', 'yerel ekonomi de bu gerçeğin darbesini hissetti', 'koşuya beş yüzün üzerinde atlet katıldı', 'bu katılım hangi koşullarda olacak ve ne zamana kadar devam edecek', 'bu temel bir hak', 'turnuvanın başında oyun kalitesi düşüktü', 'sefer yaklaşık on dakika sürecek', 'onlar arasında annesi ve babası da vardı', 'ancak satış pürüzsüz gerçekleşmedi', 'ödül aynı zamanda yönetmenin yetmiş', 'ancak mahkemede sessiz savunma yapmayı seçti', 'ara sıra iş buluyorum', 'sivil kesimde gelişmeler devam ediyor', 'geçiş her zaman sorunsuz olmadı', 'her iki olayda da yaralanan olmadı', 'bu ortamdan faydalanılmalı', 'bu anlattıklarınızın ne kadarı gerçeklere dayanıyor', 'ancak tarihi kent bugünlerde tehdit altında', 'çinin tutumu belli değil', 'tabii bu zirveyi devralmak isteyen adaylar var', 'bu sefer başaracaklarını sanıyorum', 'en parlak zaferse i̇sveçe karşı kazanıldı', 'hamuru sarın', 'peki çözüm ne', 'nihayet', 'mesele uluslararası hakemliğe götürülebilir', 'şimdi de kuralları değiştiriyorlar', 'albtelecomun özelleştirme süreci uzun sürdü', 'rusyanın bu adaylığa karşı çıktığı bildiriliyor', 'ama yapamam', 'ayrıca tanıkların kimlikleri de gizli tutulacak', 'bu üyeler parti kongresinde oy kullanamayacak', 'bu yılki etkinliklerde otuz iki şair yarıştı', 'i̇ki tane vardı', 'erkeklerse brezilyayı ikibir yendiler', 'i̇mamın konuşması sonrasında saygı duruşu yapıldı', 'hareketleri ve operasyon çok iyi hesaplanmış', 'belgrad kosovayı hala eyaleti sayıyor', 'katılımcıların çoğu girişimcilerden oluşuyordu', 'pek çok şiddet olayını ifşa ettik', 'burası bir gerçek', 'bu yılki fuar ortağı i̇srail oldu', 'şimdi ise yeterli düzeyde', 'bu sistem işe yarıyor', 'festivalde elli üç ülkeden toplam iki yüz otuz iki film gösterildi', 'ancak hırvat hükümeti vazgeçmiyor', 'dahası her yaştan insan bisiklete binebilir', 'karadağ geçen yılki seksen dördüncü sıradan doksana düştü', 'toplam bir virgül dokuz milyon oy kullanıldı', 'bizim tutumumuz son derece yapıcıdır', 'priştinenin yasa tasarısı iki yıldır beklemede', 'başka bir kanaldan da adli işlemler başlatıldı', 'i̇şte o zaman gerçekten gittiğinin farkına vardım', 'inga suçu tamamen başbakana atıyor', 'seçmen azlığı sorunu sıkıntı vermeye başladı', 'bu insanlar her yerde olabilir', 'i̇skelet iyi korunmuş durumda', 'bir diğer sevilen kış yemeği de tuzlu balık', 'belgrad ise iki iddiayı da reddediyordu', 'etkinliğe on iki ülkeden yüz yetmiş altı sporcu katıldı', 'bütçe beş yüz milyon avro olarak belirlendi', 'i̇halede sadece bir rakip i̇talyan air one vardı', 'bu sebeple yasa pek etkili değil', 'kazı ekibi kemik parçalarına da rastladı', 'sergi on üç aralıka kadar açık kalacak', 'küçük kentler oldukça başarılılar', 'bununla adalet yerini bulmuş oldu', 'mahkeme ise bu iddiaları reddetti', 'bu konuda herkes yüzde yüz iyimser değil', 'herkesin menfaatleri gözönünde bulundurulmalı', 'görüşmelerde kosovanın statü sorunu ele alındı', 'i̇şe kabul edilmenizi sağlayan özellikleriniz nelerdi', 'halk tasarıya ateş püskürüyor', 'umarım hırvat siyaseti bu doğrultuda devam eder', 'çok yönlü kraounakis konserde', 'bir nanosaniye saniyenin milyarda biri oluyor', 'festivale bölgeden katılım da yoğun oldu', 'i̇lk atışı yapan konstantinos oldu', 'gövdede bir çok çatlak vardı', 'kural bir haziranda yürürlüğe girecek', 'bir depo sahası bulma mücadelesi beş yıl sürdü', 'aynı gün şüpheli otuz gün süreyle gözaltına alındı', 'ancak anlaşmalardan herkes memnun değil', 'sorunun tüm bölgede yaşanmakta olduğu görülüyor', 'bu süre bitiminde tesisler devlete devredilecek', 'üsküpe göre kosova bu konuda ayak sürüyor', 'diğer partiler gereken baraja ulaşamadılar', 'arnavutluk ile sırbistan arasındaki ilişkileri nasıl görüyorsunuz', 'ön teklifler yirmi beş eylüle kadar kabul edilecek', 'ancak bu konuda yardım gelebilir', 'mara danışmanlık yapıyor', 'her iki yapının da avantaj ve dezavantajları var', 'bu ilke ciddi trafik suçlarında uygulanmayacak', 'bunlarla nasıl başa çıkmayı planlıyorsunuz', 'hidroelektrik üretiminde gerileme yaşanıyor', 'harika filmlerin uzun olmaları gerekmiyor', 'bunlardan biri de yolsuzlukla mücadele', 'yarışmayı i̇talyan takımı kazandı', 'bu yılan balık ve kurbağa ile besleniyor', 'sergide on yedi heykel ve elli bir eser yer alıyor', 'latin konuyu irdelemeye karar verdi', 'pürüzsüz bir kıvam elde edene kadar karıştırın', 'bu sınırları aşan uluslar ötesi bir meseledir', 'şimdilik değişen pek bir şey yok', 'hepimiz bu hatalardan ders almalıyız', 'i̇lk balkan schengeni mi', 'bu anlamda sizce hangi genç sırp oyuncu öne çıkıyor', 'i̇ngiliz heyeti cuma günü türkiyeden ayrılacak', 'fakat anılarımızda yer almak için burada', 'aksi takdirde gerileme kaçınılmaz olacak', 'ancak hükümet enflasyon konusunda endişeli', 'süreç büyük olasılıkla bu ay başlayacak', 'her üç hırvattan biri sigara içiyor', 'daha fazla rekabetin rolü nedir', 'peki siz sırp toplumunda kadının yerini nasıl değerlendiriyorsunuz', 'sizce bu durum çoklu etnik bir yapıya sahip toplumumuzu nasıl etkiler', 'salıverilme şartları hala belirsizliğini koruyor', 'bunun ön koşulları hâlâ var', 'nisan ayında olağan bir seçim yapılmıştı', 'rajevac ülkesine olan sadakatini bir kenara koyarak vargücüyle maça odaklanabilir mi', 'anlaşma lefkoşada imzalandı', 'asgari fiyat altı milyon avro olarak belirlendi', 'karadziç bin dokuz yüz doksan altı yılında kanundan kaçmaya başladı', 'seminer on bir kasımda i̇stanbulda başladı', 'romanya genel klasmanda on yedinci sırada bulunuyor', 'uzanlar bu kararı on dört ağustosta temyiz etti', 'bunlardan üçü şimdiden kesinleşti', 'ulaşması zor ama benzersiz', 'sonunda iyi bir haber aldık', 'romen leyi bir temmuzda on bin kat değerlendi', 'sekiz kişi gözaltına alındı', 'yeni sınır kapısı limnitis kasabasında olacak', 'kosova mutfağı kara iklimiyle son derece uyumlu', 'adam kayırma vakalarına sık sık rastlanıyor', 'bu çatışma çok uzun bir geçmişe dayalı', 'şirket bugüne kadar yüz yedi virgül altı milyon avro pompaladı', 'yanmamasını sağlayın', 'brüksel de ilave kaynak sağlıyor', 'üsküp yine de vazgeçmiyor', 've ne kadar süreyle', 'ödül için otuz yedi kitap yarışmıştı', 'fuara kırk beş ülkeden yaklaşık yedi yüz icat katıldı', 'projenin iki yüz milyon avroya mal olması bekleniyor', 'bu durum hakkındaki düşünceleriniz neler', 'yolsuzluk ve rüşvet yok kabul ediliyor', 'her iki ülke de dört virgül bir puana sahip', 'bu başvurunun dayanağı nedir', 'devletten iki bin yedi yüz avro tazminat almışlar', 'cumhuriyetin temel ilkelerinin tehdit altında olduğu doğru değil mi', 'bir de yolsuzluk potansiyeli var', 'bu işbirliği diğer taşımacılık biçimlerine de yayılacak mı  örneğin hava taşımacılığı', 'sizce bu sorun yakın bir gelecekte çözüme kavuşabilir mi', 'örneğin bir konserve fabrikası çöpünü nereye dökecek', 'iron maiden kapalı gişe bir konser verdi', 'bu türün en üretken sanatçılarından biriyim', 'bizi karıştırmayın  sadece adlarımız aynı', 'fikir bir miktar direnişle de karşılaşmadı değil', 'bununla nasıl başa çıktınız', 'b doksan iki blogcuları açıklama arıyorlar', 'ancak bunlar bulgarlar için yeni haber değil', 'i̇nşaat yaklaşık elli üç milyon avroya mal olacak', 'romanya altmış bir virgül beş puanla altmış sekizinci sırada yer alıyor', 'ayrıca cumhurbaşkanlığı yarışının da eklenmesi diğer seçimlerin görünümünü nasıl değiştirecek', 'paşa için bir sonraki durak oslo', 'ekonomide istikrar şart', 'yetkililer bu yıl da aynısını bekliyorlar', 'o günden beri çok şey değişti', 'gereksiz askeri mülkler elden çıkarılıyor', 'emir kusturicanın filmlerini arkamıza aldık', 'uymayanlara on dört avro ceza kesiliyor', 'foruma yaklaşık yüz elli hasta ve otuz uzman katıldı', 'ne tür değişiklikler yapılması planlanıyor', 'sizce tarafların yakın bir gelecekte anlaşlamaya varmasını beklemek gerçekçi mi', 'saldırıda hasar veya yaralanma bildirilmedi', 'onlarca ev kül oldu veya hasar gördü', 'bu programlar da onlara bu şansı verecek', 'otopark şirketleri karara ateş püskürüyorlar', 'i̇yi günler dilemenin çok güzel bir yoluydu', 've tabii ki i̇nternet', 'yasada korsancılık suç sınıfına sokuluyor', 'saraybosnaya bir niyet mektubu gönderildi bile', 'bazı planlar üzerinde çalışılıyor', 'hayvanlar kimsenin iyi niyetine bağlı değil', 'seçimlerde toplam on iki aday yarıştı', 'proje yaklaşık sekiz yüz milyon avroya mal olacak', 'dördüncü kategoride ise sekiz yüz kırk sekiz konut yer aldı', 'en başarılı uygulamalar herkes için aynı vergi oranlarının uygulanması anlamına mı geliyor', 'tüm bölge liderleri başsağlığı dilediler', 'bu miktar son safhada bir milyon ton artacak', 'ancak hükümetin rotası bunun tersini gösteriyor', 'müzakereler resmi olarak otuz bir ocak iki bin üçte başladı', 'i̇ki diğer şüpheli halen aranıyor', 'bu ailenin uymadığı bazı gelenekler de var', 'rakam hükümetin yüzde altılık büyüme hedefini aşıyor', 'görüşmelerden sonra hiçbir açıklama yapılmadı', 'andriçin bin dokuz yüz seksen iki yılında dünyaya geldiği ev', 'asker de öyle', 'papa on altı', 'görüşmelerin sonbaharda yapılması planlanıyor', 'i̇ktidar partileri bu talebi reddediyorlar', 'saldırgan tutuklandı', 'daha net ifade edelim', 'savunma harcamalarının da kısılması planlanıyor', 'projenin üç ay içinde hazır olması bekleniyor', 'kömür ihracatı da sekteye uğrayabilir', 'satıştan seksen dört virgül yedi milyon avro gelir elde edilebilir', 'acaba taraflardan hangisi diğeri üzerinde etkili oluyor', 'yerli firmalar önümüzdeki dönemde yollarına nasıl devam edecekler', 'kıbrıs bin dokuz yüz elli dokuzda bağımsız bir cumhuriyet olmuştur', 'ancak halkın bazı yorumları var', 'konferans sekiz nisan çarşamba günü sona erdi', 'modernizasyon projesi iki yıl önce başladı', 'romanyada mazot benzinden daha pahalı', 'kendimi zulme uğramış gibi hissettim', 'hırvatlar dostluk maçını ikisıfır kazandılar', 'ancak kara mayını sorunu buna bir engel', 'o bile böyle diyorsa ben daha ne söyleyebilirim', 'i̇ngiliz takımı toplamda altı oldu', 'bu dukanın görevdeki üçüncü dönemi olacak', 'bu değerlendirmelerle ilgili yorumlarınızı alabilir miyiz', 'gruevski yönetimiyse bunu değiştirmeye çalışıyor', 'şu anda bu girişimi değerlendiriyoruz', 've gizlemeye çalışmıyor', 'ekipmanın mayıs ayında ulaşması bekleniyor', 'rapor resmi olarak cuma günü yayınlanacaktı', 'ancak gelecek hala belli değil', 'bu pek çok balkan ülkesinin yaşadığı br sorun', 'i̇lk olarak sağlıklı ve yetkindir', 'kurgu da çok etkileyici değil', 'kanal bu talebi reddetmiş', 'muzar üç buçuk yıldır cemaatin bir üyesi', 'makedonya moskovada düzenlenecek yirmi üç', 'kampanyalar on beş haziranda başladı', 'sizi bu iş için birileri mi tavsiye etti', 'kosovadaki özel üniversiteler eğitimdeki boşluğu dolduruyor mu', 'bilgilerin sızmamasını nasıl sağlıyorsunuz', 'proje haziran ayına kadar tamamlanacak', 'tüm bunlar ülkeye çok olumsuz olarak yansıyor', 'bu yasalar cezalarla da gayet iyi uygulanıyor', 'bazıları hayatı oluruna bırakmıyor', 'bu soruşturmalardan ne zaman sonuç almayı bekliyorsunuz', 'ancak yerel medyanın durumu çok ciddi', 'durum her kış kötüye gidiyor', 'ancak yeni seçim yapılmadı', 'kariyerinizin bu alanı için ne gibi planlarınız var', 'komisyon başbakana rapor verecek', 'ancak o tarihte caminin sadece enkazı kalmıştı', 'ulusoy iki dakika yirmi dört saniye su altında kaldı', 'biz görevimizi yaptık', 'ancak herkes bu kadar iyimser değil', 'i̇stanbul forumundan elli dört karar çıkması bekleniyor', 'tudjmanın mirası tartışmalı', 'üye sayımız otuz iki otuz üç hatta belki otuz dörde çıkacak', 'hepsi de hasta adamlar çocuklar ve yaşlılardı', 'i̇lk tur seçimler yirmi yedi aralık pazar günü yapılacak', 'yüz binlerce insan tasarruflarını kaybetti', 'sonuçların beş aralıkta belli olması bekleniyor', 'öte yandan priştine ise sevincini ifade etti', 'bazı durumlarda maaşlar yüzde doksan arttı', 'yargı reformu özellikle endişe yaratan bir konu', 'batı balkanlarda güvenlik konusunda ne düşünüyorsunuz', 'şok halindeyim', 'peki sanat', 'o ana kadar meclis salonlarına kaos hakimdi', 'ancak duruşmalar henüz sona ermedi', 'siotisin kendisi de tanınmış bir şair', 'ayrıca seminerler de düzenlendi', 'şimdilik yalnızca yolcu hizmeti veriliyor', 'fakat noelde birazcık olsun savurganlık yapmaya güçleri yetti mi', 'i̇kisi de bu sorgulardan beri suçlanmadı', 'cazseverler de kendi paylarına düşeni aldılar', 'banka borcum ne diyor', 'seçmen katılımı yüzde seksen civarında gerçekleşti', 'allahverdi örgütün ilk türk üyesi oldu', 'yatırımcılar bahisleri yunanistana yatırdı peki geri ödeyecek mi', 'muhalefet de yeni vergi konusunda ayağa kalktı', 'prosedür üçüncü keredir erteleniyor', 'olayla ilgili iki kişi daha suçlandı', 'ancak mahkeme başkanı bu fikri hoş karşılamadı', 'milan torunu için geldiğini söylüyor', 'o dönemle şimdi arasında bir fark var mı', 'ancak kimi eylemciler aynı fikirde değil', 'bu johannesburgda sahip olmadığımız bir lükstü', 'türkiyenin birliğe katılım şansını nasıl değerlendiriyorsunuz', 'sizce ekonomik iyileşme ülkeler ve uluslar arasında barışı sağlayacak mı', 'şu anda ateşli bir tartışma sürüyor', 'organ kaçakçılığı sorunu sizin gündeminizde de yer alacak mı', 'ancak bu yıl bu yolda bir bayrak açıldı', 'sizce bu inanış doğru mu', 'fakat bu söylendiği kadar basit birşey değil', 'film yönetmenin memleketi vasluida çekildi', 'genç blerina burada tıp öğrenimi görüyor', 'birlik ekonomik milliyetçilik konusuna nasıl yaklaşmalı', 'llapashtica serginin benzersiz olduğunu söyledi', 'anketler sonuç vermiyor', 'bunu on iki yıldır yapıyorum', 'rinor bu argümana yanıt veriyor', 'ancak bu kağıdın içeriği sorunlu', 'belgraddaki dava iki bin beş sonlarında başladı', 'o ve iki hakem yirmi üç nisanda tutuklandı', 'fakat operasyonun zamanı henüz belirlenmiş değil', 'muhalefet potansiyel seçim kaosu hakkında uyardı', 'bu yöndeki haberler asılsızdır', 'atılan beş yüz oyla kazanan üç eseri sunuyoruz', 'dahası petrol risk altındaki tek kaynak değil', 'bu konudaki liste hayli uzun', 'etkinliğin ilki iki bin altı yılında gerçekleşmişti', 'savaştan sonra komünist hükümet mülke el koydu', 'i̇hracat yüzde on dört ithalat ise yüzde beş virgül yedi büyüdü', 'türkiye bölgeye yardım gönderme sözü verdi', 'fakat bu sendikaların zaferini perçinlemiyor', 'bu yılki foruma makedonya başkanlık ediyor', 'o kadar suyla ne yapacağım', 'seyirci her şeyi hemen tüketmek istiyordu', 'bu çok tehlikeli bir şey', 'festival yirmi ağustosta sona erecek', 'ab fonlarının büyük kısmını tarım sektörü alacak', 'bunların bir çoğu yerel kadınlarla evlenmişti', 'bu sırplar arasında oldukça yaygın bir durum', 'uzmanların söylediklerine kulak verelim', 'öfke ve çaresizliğin arkasında ne var', 'merkezin toplam bütçesi ise bir nokta yirmi beş milyon avro', 'açılışta bir de kutsama töreni düzenlendi', 'pek çok seçim sınavından başarıyla geçtim', 'borç anlaşması yunanistanı şimdilik kurtardı ama yatırımcılar geri dönecek mi', 'bunun olacağına dair umudum var', 'komisyon çifte vatandaşlığı da tartışıyor', 'kosova tüm alanlarda ilerleme kaydetmektedir', 'dikkat edin', 'ancak dodik çabalara katılmayı reddediyor', 'bu halkın istemediği bir şeydir', 'çocuklar şu anda ailemin yanında', 'diğer tüm parti üyeleri kırk ve üstü yaşlarda', 'bunları başlatıp sürdürmek zor olacak', 'müzakereler bu yıl da devam edecek', 'etkinlikte kırk yedi ülkeden doksan iki kısa film gösterilecek', 'bitola makedonya', 'ülkelerin katılımı iki bin yedi başlarında planlanıyor', 'şimdiye kadar fonların yaklaşık yüzde sekseni sağlandı', 'sadece iç siyasete bakmamalı', 'rusya ise temsilcisini henüz açıklamadı', 'her iki ülke de listede yirmi dörder sıra yükseldi', 'bunun kuzey kesimin kosovanın geri kalanından kopmasına yol açacağını düşünüyor musunuz', 'kosovadaki yargı reformu bunlarla başlıyor', 'kimileri ise protestolardan etkilenmiş görünüyor', 'bu arnavutluktaki ilk mali af ihtimali değil', 'türkiye fransız silahları da satın alıyor', 'bu mümkün olsaydı bütün süreç daha kısa sürerdi', 'festival cumartesi gününe kadar devam edecek', 'en az ise elli beş yaş üstü işçiler etkileniyor', 'racan arkasında güçlü bir siyasi miras bıraktı', 'öte yandan süreç henüz sona ermiş değil', 'bu şirketlerle ilgili mali soruşturma açıldı', 'bana sorarsanız onlar i̇slamcı bir hareket', 'festivalde otuz ülkeden toplam altmış film yer aldı', 'çoğu zaten gülümsüyordu', 'hırvatistan bir ay sonra yeni ülkeyi tanıdı', 'proje mayıs iki bin beşte meclise sunulacak', 'değişikliklerin bu ay kabul edilmesi bekleniyor', 'sırbistan ilk olarak on üçüncü yüzyılda krallık oldu', 'fakat artık çok geçti', 'sırbistan ve karadağın puanları değişmedi', 'tapınağın saat kulesi kırk yedi metre yüksekliğinde', 'i̇ttifak üyeliğine muazzam bir halk desteği var', 'bu eleştiriler sizi rahatsız ediyor mu', 'fakat burada din hassas bir konu', 'sizce bu durumu değiştirmek için neler yapılabilir', 'hükümet bölünme olasılığını görüşüyor mu ve sizce bu iyi bir fikir mi', 'bence bu siyasi oyun çok tehlikeli', 'bunlardan yaklaşık üç bin yedi yüzü ise suçlu görüldü', 'projenin iki bin on yılında tamamlanması bekleniyor', 'peki bu para yerinde harcandı mı', 'orkestramızın yaş ortalaması otuz beşin altında', 'hizmet mart ayında başlayacak', 'barış süreci için yararlı mıdır yoksa bunları göz ardı etmek mümkün müdür', 'dragulescu kategorinin favorisiydi', 'futboldan sonra hayat var mı', 'neden oy kullanayım ki', 'neden', 'peki bu popülerlik ne boyuta ulaştı', 'tiranda bayram havası vardı', 'sorun uzun vadede turizme tehdit oluşturabilir', 'peki güvenilirliğinden de bir şeyler kaybetmiş olabilir mi', 'maja nikoliç de benzer görüşte', 'çözümü nasıl görüyorsunuz', 'lucaman buna katılmıyor', 'birincilik ödülü kosovalı motorcuların oldu', 'lider yüzde otuz dörtlük artışla eurofond oldu', 'saati yedi yüz avro olan bu hizmet biraz lüks tabii', 'hepsi de dumandan zehirlenerek öldü', 'maaşları düzenli olarak ödeniyor', 'husumetin azalması yönünde çağrılar da var', 'teklif sunma süresi pazartesi günü sona eriyor', 'kosovalı hakim ve savcılar bu gibi davaları görebiliyorlar mı', 'dp oyların yüzde yirmi üçünü almıştı', 'i̇lk davaların eylül ayında başlaması planlanıyor', 'i̇lk bm barış gücü grubu bölgeye geldi', 'fakat geoana kendinden emin görünüyor', 'şimdiye kadar bunu sadece on üç ülke yaptı', 'ancak büyük bir saldırıyla karşı karşıya kaldık', 'çoğu zaman ehliyetler beş gün içinde veriliyor', 'hadziç hâlâ firarda', 'i̇lgilenen herkes bunlara katılabilir', 'hemşirelerden ikisi tecavüze uğradığını söyledi', 'sonra da bekliyorlar', 'rus casusu', 'seçimlerden sonraki duruma ilişkin bilgileriniz ne yönde', 'i̇ki taraf da diplomatik gerileme istemiyor', 'i̇lk kemoterapi küründen sonra kanser yok olmadı', 'kurbanların çoğunu çocuklar oluşturuyor', 'oysa bu on yıl sonra gerçekleşti', 'atinanın merkez pazarı', 'neden bu tür programa dahil olmayı tercih ettiniz', 'tadiç ise bunu yapmayı reddetti', 'ancak bazıları partinin dağılmasından korkuyor', 'biz dürüstlük istiyoruz', 'fakat ömrü bunu görmesine yetmedi', 'onlara nerede çalıştığımızı bile soruyorlar', 'bugüne kadar varılan anlaşmaların uygulanabilirliği nedir', 'kabine üç potansiyel yatırımcıyı inceliyordu', 'bosnalı sırplar mahkeme konusunda referanduma mı gidiyorlar', 'ancak gazete başka ayrıntı vermedi', 'araç çarpışmanın etkisiyle dümdüz olmuştu', 'ancak bu meclisin yetkileri tırpanlanacak', 'bu durum bir an önce değişmeli', 'proje iki bin on yılında tamamlanacak', 'yeni ders kitapları da övgü topladı', 'ancak hükümet bu rakamı ödemiş değil', 'romanya bin icat sundu', 'pek çoğu tekbir getirdi', 'şimdiyse elli altı sandalyesi olacak', 'bunu sağlayacak irade mevcut', 'ancak yeni askerlere sürekli ihtiyaç duyuluyor', 'bütçenin birkaç yıllık programlanması ise şart', 'biletler elli avrodan satıldı', 'renovasyon çalışmaları yüz elli iki bin avro tutacak', 'bunun karşılığında ne yapacaklar', 'aynı yıl cami de hasar görmüştü', 'ailenin ülkeden ayrılması yasak', 'bunlar doğal olarak akla gelen sorular', 'festivale on dört binden fazla seyirci geldi', 'ancak bunun kolay olmayacagi belirtiliyor', 'xhema ise mabetexin yönetim kurulu uyesi', 'ancak ardından hükümet imrenilecek iki adım attı', 'şimdi ise iki bin sekize ertelenmiş durumda', 'çekimlere zagrebde devam edilecek', 'sergi otuz ekime kadar açık kalacak', 'durres turizm sektörü için de önemli', 'özür dileriz', 'partinizin hedef ve öncelikleri ne olacak', 'başbakan istifayı kabul etti', 'ailem için hayat çok zor', 'fabrikada üç yüz elli kişi çalışacak', 'sizin için bu ödül ne ifade ediyor', 'tahsis iki bin on üç yılına kadar devam edecek', 'çiçeke göre türbin her an faaliyete geçebilir', 'yüksek lisans eğitimini burada tamamladı', 'popüler şarkıcının savcılarla anlaşma yapması yasaların ona işlemediği anlamına mı geliyor', 'bu rakam şimdiki değeri elli bir avro', 'ancak bazı projelerin finansmanı hala beklemede', 'fondiaria teklif veren tek şirketti', 'gözleri burada ama yurtdışını da takipteler', 'kosor bekâr bir anne ve iki adet şiir kitabı var', 'japon hükümeti tesise maddi yardımda bulundu', 'kosova sorunu da hala çözüme kavuşturulamadı', 'eğitim sürekli bir çaba ve reform gerektirir', 'ancak resmi bir ateşkes anlaşması yapılmadı', 'sonunda hırvatistan bu fikri rafa kaldırdı', 'karadağ parlamentosu da büyük bir destek verdi', 'peki bu devasa hesabı kim ödeyecek', 'pek çok alanda da değişiklik yapılması gerekiyor', 'bu senaryo henüz gerçekleşmedi', 'bence bir insan çok şeyi değiştirebilir', 'peki brükselden gelen olumsuz haberler yerel siyasileri harekete sevk edecek mi', 'anlaşmanın gelecek ay imzalanması bekleniyor', 'şu anda özelleştirme sözleşmesini hazırlanıyor', 'etkinlik yedi temmuza kadar devam edecek', 'i̇smin ne önemi var ki', 'bu yüzden bence duman olup gidecek diyor', 'onların savlarını bizimkilerle yüzleştirdik', 'bu da bir varoştan başka bir şey değildir', 'pagı genelde onbinlerce turist ziyaret ediyor', 'aslında koşullar epey çeşitlilik gösteriyor', 'bence bu olasılıklar arasında yer almıyor', 'tabii bu sadece bir ilk adım', 'buna nasıl tepki veriyorsunuz', 'polis de olayı araştırıyor', 'yeni modelin fiyatı dokuz bin iki yüz avro olarak belirlendi', 'ancak diplomat bunu yapmayı reddediyor', 'fakat bu rahatlama ve coşku uzun ömürlü olmadı', 'ama arnavut halkının çoğu yasayı pek takmıyor', 'biz bir öneride bulunduk', 'yeni kabinede on beş bakanlık yer alacak', 'vlasiç iki yüz üç santimetrelik atlayışıyla birinci oldu', 'bölüm o tarihten beri gelişmekte ve genişlemekte', 'yeni hükümeti zor bir görev bekliyor', 'mahkeme diğer üç sanığın beraatine karar verdi', 'rus salatası da sevilen mezelerden biri', 'lisedeki öğrencileri müdürleriyle gurur duyuyor', 'türkiye ve i̇srail uzlaşabilecek mi', 'katılım oranı da diğer bir değişken', 'kredi on üç yıl vadeye sahip', 'başbakan bu girişimi bizzat destekliyor', 'rakamlar da mevcut ilgiyi anlatmaya yetiyor', 'fuara katılanlar yüz elli binden fazla kitap sattılar', 'fıçı biranın fiyatı iki veya üç avro', 'kosovada insanlarda facebook çılgınlığı var', 'adalet bu şekilde yerini bulurdu', 'ancak öcalanın tecrit günleri sona erdi', 'her yer almanlarla doluydu', 'etkinlikte yetmişten fazla film gösterildi', 'ayrıldıklarında meyrema sadece sekiz yaşındaydı', 'i̇ki skandal halkın da güvenini zedeledi', 'bir sorunu kabullenmezseniz çözemezsiniz', 'buraya daha önce hiç gelmedim', 'daha sonra bu rakamın da çok üzerine çıkıldı', 'ama maalesef siyasi konular gündemi zaptediyor', 'bu bana çok sık olmaz', 'daha sonradan laheye iade edildi', 'demokratik partilerin iktidara geldiği iki bin yılından bu yana ilerleme oldu mu', 'yasa geriye dönük olarak uygulanacak', 'bu kırk dört kurumun yasal kapasitesi otuz sekiz bin iki yüz yirmi yedi mahkum', 'aleksandra on beş yaşında ve çok eğlenceli biri', 'sırbistan için tarihi zafer otuz yedi yıl sonra almanya ile ilk maç', 'desteğin toplam değeri beş milyon avro', 'gidenlerin çoğu da ülkelerine geri dönmeyecek', 'yarışmanın tarihi bin üç yüz elli yedi yılına kadar uzanıyor', 'fakat mevcut realiteyi değiştirebilecekler mi', 'muhalefet bu sava inanmıyor', 'bizim için utanç verici bir veda', 'etkinlik dört hazirana kadar sürecek', 'gruevski boykottan endişe duymadığını söyledi', 'bu konudaki görüşünüz nedir', 'bu ifade manşetlerde öne sürüldüğü gibi sadece bir diplomatik hediye mi', 'i̇yi vakit geçirdik', 'ancak jurciç teklifi reddetmişti', 'üç bulgar filmine de ödül verildi', 'ancak şirketin üç milyon avroluk borcu duruyor', 'kurbanlar anısına sokaklara çiçekler bırakıldı', 'sizce sizi efsane yapan ne', 'bir porsiyonda kaç gram yağ vardır', 'kamuoyunda karşıt görüşler var', 'kosovayı ne bekliyor', 'fakat bu alanda az bir ilerleme kaydedildi', 'genel görünüm istikrarlı olarak kaldı', 'sunulan bütün teklifler i̇ngilizce idi', 'gurur duyduğumuz ortak bir tarihimiz var', 'bu söz konusu yazarın ikinci kitabı', 'i̇kinci gün işler beklenmedik şekilde değişti', 'dahası kapitalizm evrimine devam ediyor', 'ülke iki bin dörtte altmış yedinci sıradaydı', 'bosnalılar da var', 'siz bu meseleyi nasıl değerlendiriyorsunuz', 'dava beş yıldan uzun sürdü', 'tablet yüzyıllarca ayakta kalmayı başarmış', 'tartışmanın merkezinde hukuk sorunu yer alıyor', 'paranın onda biri hibe olarak verilecek', 'ancak komünistler iki', 'yunanistanın sorununu çözmek için asıl yükü kim taşımalı', 'pek çok çiftlik rekabet edemediği için kapandı', 'ancak kostunica bunu yapmaya istekli değildi', 'balkanlarda gazeteci olmak zor olabilir', 'bunun hiçbir anlamı yok', 'ancak rapor martyden istenen etkiyi sağladı', 'ancak bu kural pratikte uygulanmıyor', 'bu sorunu çözmenin en iyi yolu nedir', 'bu alanda daha neler yapılması gerekiyor', 'romanya küresel ekonomik krizden ağır etkilendi', 'bulgaristan bu turnuvada dördüncü olmuştu', 'tose proeskinin barış hayali gerçeğe dönüşebilecek mi', 'festival bin dokuz yüz altmış bir yılından beri düzenleniyor', 'listede yer alan kişiler on iki ay süreyle izlenecek', 'bir diğer eşsiz yerel ürün de koyun peyniri', 'ülke neredeyse üç yıldır liderden yoksun', 'türk icadı almanyada üretildi', 'ancak uluslararası toplum somut adımlar bekliyor', 'i̇lgili müzakere faslı ise henüz açılmış değil', 'altun daha fazlasının gerekli olduğuna inanıyor', 'festivalde uzun yol kat edildi', 'i̇sim anlaşmazlığında sona mı geliniyor', 'antik bina arkeolojik kazılar sırasında bulundu', 'etkinlik altı hazirana kadar devam edecek', 'portal yedi bölümden meydana geliyor', 'mevki iki yıldır boş bulunuyor', 'şiddeti icat edenler balkan halkları değil', 'pişirme yaklaşık otuz beş dakika sürer', 'ahtisaari planının ayrıntıları ne söylüyor', 'önerilen bakanlardan en az beşi otuzlu yaşlarda', 'i̇ki ülke aralarındaki sorunları çözüme kavuşturmanın eşiğinde mi bulunuyor', 'bayanlar sekizlide rumenler son şampiyondular', 'kavgada bir eylemci hayatını kaybetmişti', 'i̇ftardan sonra hemen eve gidilmiyor', 'üç gün süren konferansa on beş şair katıldı', 'aynı suçlar bizim halkımıza karşı da işlenmiştir', 'erken parlamento seçimlerine gidilmesini bekliyor musunuz', 'öyleyse neden bekleyelim', 'bu malların kaynağını kontrol etme amaçlı tedbirler alacak mısınız', 'kosovada bu duruma karışık tepkiler geldi', 'ancak rakibi yorum yapmaktan kaçındı', 'koruganlar en ücra noktalara yerleştirildi', 'genel anlamda reformlar hızlı ilerliyor', 'teklif verme süresi on dört haziranda sona eriyor', 'şimdi de ülkeler bu kilometre taşını kutluyorlar', 'i̇ktidardan ayrılıyor mu', 'fakat diğer yandan üretilen sütün kalitesi düşük', 'momo ülkenin sürpriz hareketine katılmıyor', 'sırbistanda seksen bir adet kayıtlı parti bulunuyor', 'ama böyle olmadı', 'bu durumda iktidar partisi etkilenmeyecektir', 'damat yanında bir oğlan çocuğu getirir', 'ona göre bu durum seçim sonuçlarını etkileyecek', 'burada önemli pek çok faktör var', 'yatırımlar üç virgül iki milyon avroyu buldu', 'seçim kampanyasında her şey mümkün görünüyor', 'herkes aynı duyguyu paylaşmıyor', 'elbette bazı kaynaklar boşa harcandı', 'seçimlerin yapılmasından bu yana beş ay geçti', 'bu seviyede işbirliğinin güçlenmesini bekliyorum', 'fakat diğerleri ona katılmıyor', 'ne gibi zorluklarla karşılaşıyorsunuz', 'hırvatistan da bu fikri reddetti', 'bu değerlendirme temmuz ayında yapılacak', 'görev için on dokuz aday yarıştı', 'i̇nşaat iki yıl sürecek', 'ayrıntılı bilgi verilmedi', 've ilk defa yıl sorunsuz başladı', 'kamuoyu ikiye bölünmüş durumda', 'makedonyadaysa kayıplar yüzde yirmi bir arttı', 'ülke pek çok açıdan hızla büyüyor', 'timofti de buna katılıyor', 'sergide elli dört ülkeden altı bin fotoğraf yer alıyor', 'bölgede yıllardır süren husumet artık sona mı eriyor', 'i̇şler kızıştıkça daha iyi hale geliyor', 'fakat bu yaz bunların bir kısmı adadan ayrıldı', 'merwine verildi', 'çok güzel', 'etkinlik yirmi dokuz kasımda sona erecek', 'fakat suç yalnızca siyasi farklılıkların değil', 'makedonyada kadınların yönettiği şirketlerin gelişebilmesi için yeterli koşullar mevcut mu', 'görüntüler ekim ayı sonunda çekilecek', 'şu anda ikisi de işsiz durumda', 'her türlü şiddete karşıyız', 'bu konuda görüşünüz nedir', 'ancak haklı olan taraf biziz ve kazanacağız', 'bu iddialarla ilgili yorumlarınız nelerdir', 'dokunulmazlık günleri nihayet sona ermişti', 'moldova halkı yorgun ve kafası karışmış durumda', 'partinin hükümet desteğinin yarısı kesildi', 'i̇lk arama çalışmaları gelecek yıl başlayacak', 'yerli halk binayı vijecnica olarak adlandırıyor', 'partinin hükümet gündemini sunmak', 'tören yirmi ekimde gerçekleşti', 'ancak giderek huzursuzlaşan halkı buna ikna edebilecekler mi', 'açıkça görülüyor ki halkın bilgiye ihtiyacı var', 'peki seçimlerin başarısını sağlayacak düzeyde katılım gerçekleşecek mi', 'bu konuda gelinen aşama nedir', 'varsa bunu kim kolaylaştıracak', 'fakat bu da uymuyor', 'bunun için yaratıcı bir çözüm bulmak gerekti', 'kaynakların çoğu hâlâ devlet sektörüne gidiyor', 'bu diyalogda siz de yer alacak mısınız', 'ancak isimler açıklanmadı', 'ohri gölünde balık tutan turistler görülüyor', 'kilisenin buldozerle yıkılması yedi gün sürdü', 'maç olaysız geçti', 'bu eski sistemin maliyeti de yüksekti', 'pukaniç hem saygın hem de tartışmalı bir isimdi', 'erkekler kaldı', 'muhalefet partileri de şikayetteler', 'tarhan sürekli tutuklanma korkusuyla yaşıyor', 'bundan sonra ise halk oylamasıyla seçilecekler', 'film kosovada gösterilmedi', 'dış basın bu büyüyen olguya odaklanmaya başladı', 'kayak kulüpleri de iyimserler', 'projelerimizin bitiş tarihi ise on dört aralık', 'krizin etkileri döviz arzında da görülüyor', 'bu bazı sorunlar yaşanmadığı anlamına gelmez', 'bir de ünlülerin yazdığı anı kitapları var', 'anlaşma sağlanması yıllar sürdü', 'bazı durumlarda da yakınlık öncelik olmuyor', 'ab fonlarına erişim kolay bir iş değil', 'ben bunu ilerleme olarak görüyorum', 'bu hedefe ulaşıldı mı', 'basescu lafı gevelemekten hoşlanmıyor', 'bu sorun bir kısırdöngü haline gelebilir', 'bence zaman bunun böyle olmadığını gösterecek', 'i̇ki ülke bloğa ocak ayında katılacak', 'bu durum komisyonun kararlarını etkiliyor mu', 'rönesans komedileri kent meydanında sahneleniyor', 'masada en az iki seçenek bulunuyor', 'önceden hakimleri milletvekilleri seçiyordu', 'karar düzenli olarak uzatıldı', 'sırp halkının konuya yaklaşımı ise çok olumlu', 'dezenflasyon sürüyor', 'dragneanın seçimi pek kişiye sürpriz oldu', 'toplam maliyete ilişkin bir tahmin verebilir misiniz', 'uyulmadığı takdirde ülke cezalandırılacak', 'hedef büyük engeller de öyle', 'parlamento nasıl olsa yaz tatiline girecek', 'hükümet yeni sistem için yakında ihale açacak', 'söz konusu karar aylar önce yürürlüğe konmuştu', 'paylaşılan değerlerin ifadesidir', 'devlet birliğinden önünde hâlâ pek çok engel var', 'ab üyeliği bu soruya açık bir cevap sağlamıyor', 'suda tatlısu incisi arayanlar da oluyor', 'fakat morar yılmıyor', 'fakat herkes mutsuz değil', 'onları savaş suçu davalarına nasıl hazırlıyorsunuz', 'sırp cumhuriyeti eşit temsil hakkını ihlal etti mi', 'ancak oylama planlandığı şekilde gerçekleşecek mi', 'üç maç da birsıfır skorla sona erdi', 'kısa vadeli kredilerin notu ise f üç', 'i̇ki lider ayrıntılı bilgi vermedi', 'biz umudumuzu bu mücadeleden almaktayız', 'partiler gelir ve giderler', 'kendi kültürüm hakkında pek fazla şey bilmiyorum', 'vatandaşlar en çok hangi ayrımcılık uygulamalarından şikayetçi', 'türkiye ile uzun vadeli bir ortaklık sağlanması konusuna ilişkin beklentileriniz neler', 'priştine yönetimi tutumunu hiç de gizlemedi', 'karara karşı çıkan kesimler oldu', 'türkiye ticari çıkarlarını libyadaki insanlık krizinin üstünde mi tutuyor', 'sorun çözmek yerine sorun yaratıyorum', 'bu yılki fuarda çocuk edebiyatı vurgulanıyor', 'karar yurtdışındaki iki olay sonrasında alındı', 'bazı okullarda pilot projeler çoktan başlatıldı', 'sırplar i̇talyayı üçsıfır mağlup ettiler', 'martins olumlu bir noktaya da işaret etti', 'savunma makamı karara itiraz edeceğini belirtti', 'ancak hükümet bu kaygıları dağıtmaya çalıştı', 'görüşmede ekonomik ilişkiler de ele alındı', 'soruşturmada i̇sveç makamları da işbirliği yaptı', 'bu adamlar iyi ve kibardırlar', 'projenin dört yıl içinde tamamlanması bekleniyor', 'sahada yedi yüz yetmiş üç milyon metreküp doğal gaz bulunuyor', 'fakat en önemli alan yerel yönetim', 'onu fetheden komutan ne güzel komutandır', 'polis en az altı kişiyi daha sorguya çekiyor', 'anlaşma bir temmuzda yürürlüğe girecek', 'festival altı nisanda sona eriyor', 'bu suçlamalara ne yanıt veriyorsunuz', 'burada bir lokantamız vardı', 'her iki sanatçıya da yirmi üç biner avro ödül verildi', 'bunun nedeni kısmen hizipçilikte aranabilir', 've evet doğru karar vermişiz', 'tahliyesinden sonra da ülkeden ayrıldı', 'bakan buradan bulgaristana geçti', 'birçok duvar resmi ve ikona on üçüncü yüzyıldan kalma', 'bize bu koşulların neler olduğundan ve hangilerinin henüz yerine getirilmediğinden bahseder misiniz', 'sergide yüz elli taslak ve kolaj çalışması yer alıyor', 'tek amacımız var olmak ve çalışmaya devam etmek', 'bunun olacağını sanmıyorum', 'kanalı en çok arnavutlar kullanıyordu', 'bu üçüncü kez saldırıya uğrayışım', 'yerel halka gidilecek kulüpleri sorduk', 'turnuva üç ağustosta sona eriyor', 'güçlü bir hükümet iş başındadır', 'ya yaşasaydı', 'siryopulos temerrüt çağrısında bulunuyor', 'bu yaz oyunlara yaklaşık otuz beş bin kişi katıldı', 'bugünlerde sighisoara popüler bir tatil beldesi', 'bu arada bahisler de yükseliyor', 'bunlar yalıtılmış örnekler değil', 'barysch bu görüşe katılıyor', 'bulgaristanın en büyük sinema etkinliği olan on iki', 'ne yazık ki ben gidemedim', 'priştine yeni büyük bir heykele kavuşuyor', 'çözüm bulmak zorundayız', 'biz ikinci sınıf avrupalılar değiliz', 'bu cesur iddialar doğru mu', 'yine de diğer açılardan aynı kaldı', 'anlaşmanın bu sonbaharda imzalanması bekleniyor', 'devletin inşası işte o zaman başladı', 'proje bin iki yüz kişiye iş yaratacak', 'bunun sonucunda üç bebek hayatını kaybetti', 'google hırvatistanda faaliyetlere başladı', 'filmin senaryosu da bagiçe ait', 'sizce bu zamanlama gerçekçi mi', 'snezana pajkiçin bugün nerede olduğunu biliyor musunuz', 'ancak yasa yaygın bir şekilde uygulanmıyor', 'zaman içinde ikilinin arasında bir aşk doğuyor', 'herkes bunun iyi bir fikir olduğunu düşünmüyor', 'bence bu yeni ortaya çıkmış bir şey değil', 'pek çok analist de buna katılıyor', 'annelerin gözyaşlarının durmasını istiyor', 'liste her yıl biraz daha uzuyor', 'general bin dokuz yüz doksan üç yılında öldürülmüştü', 'siyasi irade var mı', 'zincirin bir sonraki halkası ise i̇stanbul', 'çocuklar için geçerlilik süresi daha kısa', 'lütfen yorumlayın', 'bir kişi eksik kalan sırp takımı vites yükseltti', 'harizaj mahkemede hiçbir açıklamada bulunmadı', 'sonra radonciçin teklifi geldi', 'bölge durgun bir dönem yaşıyor', 'i̇ki ayrı dava salı günkü duruşmada birleştirildi', 'üretimin iki bin on yılına kadar başlaması bekleniyor', 'geçen yıl ülkeye yaklaşık on beş milyon turist geldi', 'herkesi teröre karşı tavır almaya çağırıyorum', 've tüm dünyanın gözü onların üzerinde olacak', 'festivale balkanlardan da gelenler oldu', 'diğerleri daha şüpheci bir tavır takınıyorlar', 'ancak bu meclisin yetkileri azaltılacak', 'yeni kosova için çalışmalıyız', 'i̇leriye gideceğimize geriye gidiyoruz', 'proje açıklanmayan nedenlerden ötürü durduruldu', 'balkan medya kuruluşlarına verilen dış destek amacına ulaştı mı', 'beni terk edip nereye gitti', 'anlaşmanın ayrıntıları belirsizliğini koruyor', 'yetkililer pazar günü kampı yerle bir ettiler', 'diğer üç koltuk bağımsız adaylara gitti', 'gümrüksüz ithalata da son verildi', 'yunanistan stratejik açıdan önemlidir', 'şimdiyse bu rakam yüzde kırka düştü', 'kaliteli bireysel oyuncu sayısı daha fazlaydı', 'şimdi sıra onlara geldi', 'kim kime ne ödeyecek', 'ordunun bu konudaki tavrı nedir', 'mahkeme böyle bir talebin gelmediğini söyledi', 'yaptığım işte duygulara yer yok', 'balkanlarda yaşanan çatışmaların özelliklerini netleştirebilir misiniz', 'şimdi bir nedenleri daha var', 'ücret yılın başında yürürlüğe konmuştu', 'ancak bundan daha iyisini yapmamız gerekiyor', 'uçağın otomatik pilotta olduğu varsayılıyor', 'seçkin ödülü sel önleme projesiyle kazandı', 'çok sayıda gösterici gözaltına alındı', 'sırp liderlerin tepkileri çeşitli oldu', 'üyeler beş yıl süreyle atanacaklar', 'önceden sanatçılar proje başına tazmin edilirdi', 'bunlar nerede iş bulacaklar', 'dünya kupaları da bunun için yapılmıyor mu', 'ülkede şimdiden koalisyonlar kuruldu', 'her takıma etaplardan birinde bir rakip verildi', 'tahminler artık doğrulandı', 'teşkilata yığınla başvuru var', 'bu konuda neden bu kadar az şey söylendiğini açıklayabilir misiniz', 'noelle birlikte kırmızı ete dönüş geliyor', 'bu dönüş öyle topluca değil ev ev oldu', 'çıkarılmayı bekleyen yalnızca bir tek yasa var', 'ucuz diş bakımı bu konuda yalnız değil', 'pek çoğu da hapse atılmıştı', 'bulgaristan yüzde yetmiş üç ile ortalarda bir yerde yer aldı', 'peki küreselleşmenin bu tablodaki yeri nedir', 'rakamlar korkutucu seviyede', 'bunun da fiyatı bir kuruş bile değildir', 'aslında pek çok istatistiki gösterge olumlu', 'sizin bu konudaki kişisel ve profesyonel görüşünüz nedir', 'ancak diğer görüşler de gelmekte gecikmedi', 'böyle bildirgeler açıkça yayınlansa nasıl tepki verirsiniz', 'kazanan üç eseri burada sunuyoruz', 'proje dört yıl sürecek', 'teklif süresi yirmi altı şubatta sona erdi', 'tesis atina şehir merkezinde bulunuyor', 'türkiyede hükümetle ordu çatışmak üzere mi', 'cumhurbaşkanlığı seçimleri altı nisanda yapılacak', 'anlaşmanın değeri altmış dört milyon avro', 'kostümler kuklalar ve sahneleri oluştururken ne gibi özel güçlüklerle karşılaşıyorsunuz', 'miro on oy alarak adaylığı kazandı', 'bulgaristanı güçsüzleştirir', 'diğer spor dalları neredeyse yok gibi', 'bunun olmayacağını da düşünüyorum', 'bandiç oyların yüzde kırk sekiz virgül elli dördünü topladı', 'bu rakam iki bin dörtten yaklaşık yirmi dokuz bin beş yüze ulaştı', 'boskovskinin savunma ekibi henüz teyid edilmedi', 'belgrad da aynı derecede kuşkulu görünüyor', 'kuruluşun yüzde kırk dört virgül seksen dördü ise devletin kontrolünde', 'sırbistan memur ve emekli aylıklarına zam yapacak mı', 'bugün bu sektörü nasıl değerlendiriyorsunuz', 'bugüne dek bunu kimse yapamadı', 'pek çok izleme kuruluşu da bunu doğruluyor', 'çok sayıda insan hastaneye kaldırıldı', 'ortaya çıkan bu trendi herkes hoş karşılamıyor', 'fakat daire tek yetkili kurum değil', 'priştine şehir merkezinden bir manzara', 'her toplumda aşırılık yanlıları vardır', 'son yugo müzeye konuyor', 'on iki tane de bağımsız aday var', 'mali sorunlara rağmen bunu tekrar başardı', 'zrvenkovski de benzer itirazlarda bulundu', 'yeni lidere eşi ve on sekiz yaşındaki kızı eşlik etti', 'anlaşmanın değeri yüz elli bin avro olarak belirlendi', 'bu da yıl sonuna kadar gerçekleşebilecek', 'rugova istifa etmeyi planlamadığını da belirtti', 'turnuva on bir ekimde sona eriyor', 'sanık mladiçi medyadan tanıdığını da doğruladı', 'etkinliğe dokuz ülkeden kırk dokuz ressam katıldı', 'bu ne anlama gelmektedir', 'binlerce kişi de coşkuya stadın dışından katıldı', 'bana göre bu dikkate değer bir başarıdır', 'yaklaşık on beş otobüs yollara çıktı bile', 'i̇şten çıkarmaların devam edeceğine dair işaretler var mı', 'müslüman olmayan insanlarla bir sorunum yok', 'biz iki tarafı da desteklemiyoruz', 'hükümet sürece çok önem verdi', 'bulgartabac yorum yapmayı reddetti', 'her şey iyi', 'yumurta aklarını bir çimdik tuzla çırpın', 'arnavutlukun ekonomisi ikinci çeyrekte iyileşti', 'lider kosovanın dördüncü başbakanı oldu', 'sanaderi henüz ailesinden ziyaret eden olmadı', 'i̇şlerin yapılması bu sayı yeterli mi', 'ayaklarımızın üzerinde sağlam duruyoruz', 'yine de bazı sorular henüz cevap bekliyor örneğin silah daktilo ve kaşe nerede', 'bence bu çok olumlu bir işaret', 'aralık ayındaki ortalama aylık ücret üç yüz yetmiş beş avroydu', 'sizin hikayeniz kitabın hikayesi ile ne ölçüde benzerlik gösteriyor', 'ancak hükümet tutumunu değiştirmiyor', 'şahsın uyruğu bilinmiyor', 'seçim yasasında ne gibi değişiklikler yapılmalı', 'parti konseydeki otuz beş sandalyenin on yedisini aldı', 'bu konuda ne düşünüyorsunuz', 'yetenekli genç oyuncuların sizin izinizden geldiğini düşünüyor musunuz', 'onun konusu nedir', 'neden hayat bu gittikçe daha pahalı hale geliyor', 'aynı şey bilgisayarlarda niye yapılmasın', 'sizin buna tepkiniz ne olacak', 'noel bir sonraki gün yani yedi ocakta kutlanır', 'parti sadece yüzde yedi oy almıştı', 'sektördeki resmi ortamala aylık iki yüz on bir avro', 'konu dinleyicilerin bam teline dokundu', 'ancak hiseni suçlamaktan da geri kalmadı', 'kararı belirleyen en önemli etken ise fiyat', 'i̇şin en zor kısmı aileleri ikna etmek', 'çoğu zaman dövülüp cinsel tacize de uğruyorlardı', 'i̇srailin önce bunu kabul etmesi gerekiyor', 'ancak olay asla çözüme kavuşmamıştı', 'bu profesyonelce verilmiş bir konser', 'şu anda şirket tam özelleştirmeye hazırlanıyor', 'türkiye kukla festivaline ev sahipliği yapıyor', 'sergi üç aralıka kadar açık kalacak', 'yüzde yüz uygulama sağlayamayız', 'burada yaşayanlar oldukça endişeli', 'i̇ki kadın aday var', 'ziyaret yirmi aralığa değin sürecek', 'ancak günün geri kalanında haberler iyiydi', 'kosova organize suçla mücadelede ne gibi sorunlarla karşılaşıyor', 'yine de erdoğan ödülden vazgeçmeyi reddediyor', 'yarışmaya yüzden fazla ülkeden katılım oldu', 'ancak hastalığı bu arzusuna engel oldu', 'yalnızca ücretin bir kısmı alınabiliyor', 'dini muhafazakârlar toplumun yüzde otuz üç virgül beşini kapsıyor', 'elli köprü yenileniyor', 'bittiğine çok seviniyorum', 'kaplanoğlu on iki diğer yönetmeni geride bıraktı', 'bu noktada değil', 'belgraddaki camiyi bile ziyaret etti', 'bir sonraki toplantının tarihi de belirlenemedi', 'bu hasanın onları canlı son görüşüydü', 'etkinlik dört eylülde sona eriyor', 'ülke bu sayıyı artırmaya çalışıyor', 'yeni mağazada yetmiş binin üzerinde ürün bulunuyor', 'bu işbirliğinin ne derece iyi yürüdüğünü söyleyebilirsiniz', 'bunu derken sigara içiyordu', 'beş zanlı hala kaçak durumda', 'uluslararası toplumun bu bağlamda yeni stratejileri var mı', 'ancak herkes aynı görüşte değil', 'türkiye ortadoğudaki kargaşanın dışında kalabilecek mi', 'ancak ilaçlarını kendileri ödeyecekler', 'sizce hollanda bu tavrıyla ne tür bir mesaj veriyor', 'yatırım maliyeti altı milyon avroya ulaştı', 'aynı düzenleme yargı için de planlanıyor', 'karadağ da maine ile ortak oldu', 'arnavutluk çada altmış iki barış gücü askeri gönderecek', 'her ikisi de sofyadaki cinayetlere karışmıştı', 'kosova fiili ve meşru bir devlettir', 'sırplar ve arnavutlar ulusal bir barış sağlayabilir mi', 'aylardır süren siyasi kriz artık sona mı eriyor', 'gündemde ilk sırayı ikili askeri işbirliği aldı', 'birkaç saat sonra belçika da aynı yolu izledi', 'oysa i̇slam konferansında elli yedi üye ülke bulunuyor', 'çetenin on bir üyesi tutuklandı', 'milli takımın kötü taraftarı yok', 'sırbistanda yaklaşık üç yüz elli bin macar yaşıyor', 'fakat yine sekiz çocuğumuzu öldürdüler', 'sınır ötesi harekât için meclis onayı gerekiyor', 'para biriminin sayısal kodu ise dokuz yüz kırk bir', 'ancak bu iş kolay olmayacak', 'buraya fare düşse zehirlenir', 'hatta sürdürmeye mecburlar']\n"
          ]
        },
        {
          "output_type": "execute_result",
          "data": {
            "text/plain": [
              "3478"
            ]
          },
          "metadata": {},
          "execution_count": 29
        }
      ]
    },
    {
      "cell_type": "markdown",
      "metadata": {
        "id": "TxnVS9gIhIma"
      },
      "source": [
        "Let's look at the processed text labels again."
      ]
    },
    {
      "cell_type": "code",
      "metadata": {
        "colab": {
          "base_uri": "https://localhost:8080/",
          "height": 363
        },
        "id": "RBDRAAYxRE6n",
        "outputId": "82eec318-167b-4c11-c6d9-537d4560153e"
      },
      "source": [
        "show_random_elements(common_voice_train.remove_columns([\"path\",\"audio\"]))"
      ],
      "execution_count": null,
      "outputs": [
        {
          "output_type": "display_data",
          "data": {
            "text/plain": [
              "<IPython.core.display.HTML object>"
            ],
            "text/html": [
              "<table border=\"1\" class=\"dataframe\">\n",
              "  <thead>\n",
              "    <tr style=\"text-align: right;\">\n",
              "      <th></th>\n",
              "      <th>sentence</th>\n",
              "    </tr>\n",
              "  </thead>\n",
              "  <tbody>\n",
              "    <tr>\n",
              "      <th>0</th>\n",
              "      <td>bu görevlerin çoğu tehlikeli kabul edilmiyor</td>\n",
              "    </tr>\n",
              "    <tr>\n",
              "      <th>1</th>\n",
              "      <td>etkinlik dört hazirana kadar sürecek</td>\n",
              "    </tr>\n",
              "    <tr>\n",
              "      <th>2</th>\n",
              "      <td>mevcut kadronun yaş ortalaması otuzun altında</td>\n",
              "    </tr>\n",
              "    <tr>\n",
              "      <th>3</th>\n",
              "      <td>son yugo müzeye konuyor</td>\n",
              "    </tr>\n",
              "    <tr>\n",
              "      <th>4</th>\n",
              "      <td>ancak kara mayını sorunu buna bir engel</td>\n",
              "    </tr>\n",
              "    <tr>\n",
              "      <th>5</th>\n",
              "      <td>bu yılki festivale yirmi beş ülkeden seksen beş film katıldı</td>\n",
              "    </tr>\n",
              "    <tr>\n",
              "      <th>6</th>\n",
              "      <td>krstiç şu anda kırk altı yıllık hapis cezasını çekmekte</td>\n",
              "    </tr>\n",
              "    <tr>\n",
              "      <th>7</th>\n",
              "      <td>bravo sırbistan</td>\n",
              "    </tr>\n",
              "    <tr>\n",
              "      <th>8</th>\n",
              "      <td>çok az kişi mantıklı secenekler önerdi</td>\n",
              "    </tr>\n",
              "    <tr>\n",
              "      <th>9</th>\n",
              "      <td>önceden hakimleri milletvekilleri seçiyordu</td>\n",
              "    </tr>\n",
              "  </tbody>\n",
              "</table>"
            ]
          },
          "metadata": {}
        }
      ]
    },
    {
      "cell_type": "markdown",
      "metadata": {
        "id": "jwfaptH5RJwA"
      },
      "source": [
        "Good! This looks better. We have removed most special characters from transcriptions and normalized them to lower-case only.\n",
        "\n",
        "Before finalizing the pre-processing, it is always advantageous to consult a native speaker of the target language to see whether the text can be further simplified. \n",
        "For this blog post, [Merve](https://twitter.com/mervenoyann) was kind enough to take a quick look and noted that \"hatted\" characters - like `â` - aren't really used anymore in Turkish and can be replaced by their \"un-hatted\" equivalent, *e.g.* `a`. \n",
        "\n",
        "This means that we should replace a sentence like `\"yargı sistemi hâlâ sağlıksız\"` to `\"yargı sistemi hala sağlıksız\"`.\n",
        "\n",
        "Let's write another short mapping function to further simplify the text labels. Remember - the simler the text labels, the easier it is for the model to learn to predict those labels.\n",
        "\n"
      ]
    },
    {
      "cell_type": "code",
      "metadata": {
        "id": "aZcrz6z7lgGm"
      },
      "source": [
        "def replace_hatted_characters(batch):\n",
        "    batch[\"sentence\"] = re.sub('[â]', 'a', batch[\"sentence\"])\n",
        "    batch[\"sentence\"] = re.sub('[î]', 'i', batch[\"sentence\"])\n",
        "    batch[\"sentence\"] = re.sub('[ô]', 'o', batch[\"sentence\"])\n",
        "    batch[\"sentence\"] = re.sub('[û]', 'u', batch[\"sentence\"])\n",
        "    return batch"
      ],
      "execution_count": null,
      "outputs": []
    },
    {
      "cell_type": "code",
      "metadata": {
        "colab": {
          "base_uri": "https://localhost:8080/",
          "height": 81,
          "referenced_widgets": [
            "4dcbd57d2b4a4907871f942f37c01066",
            "aac95d702d274178b634460486d837ff",
            "c41d8247ccf147d195ec4e132c88b552",
            "d7429285fbc34d879799898302431497",
            "ab22f61158744d8d82ecae10a5aed4e5",
            "d4b7d316f24343d6a4763bc49c5d0674",
            "b9696420d0e4430b87dec12c068bdc2b",
            "729a89cd69d94d33a00d654bccbb307b",
            "f92084e0cf164197b94975d1430ce235",
            "3ce6c5329a09414fa143c4d2ccb9be27",
            "8dac34256aa144b09a0386e292e0af2f",
            "40b3d563fb274f029f55ccb1fd8006f1",
            "3dd019544f5e42ee9b1cd8b23672f179",
            "05889ab85a234526aa56c8fad22b8f48",
            "7d4c942809634e9fa9c7a64ee1421cbf",
            "ceb93a554fd646b09f149adc7a0ac529",
            "bb225357222449eb9c6a89f4f8ca2421",
            "36c1644cb30040ada0d9a5d18a377747",
            "d204f8c4b9c2445ba35a53fd004798dd",
            "8085910b811a43858e446f9d4e645f46",
            "1befc3dd444a4c6592250e440fb4f8b6",
            "33974c32f6be4c42ae4ae51d6db3902f"
          ]
        },
        "id": "ieGhhND5mSwI",
        "outputId": "a29103ad-d369-408f-d7d6-fde1ca02c463"
      },
      "source": [
        "common_voice_train = common_voice_train.map(replace_hatted_characters)\n",
        "common_voice_test = common_voice_test.map(replace_hatted_characters)"
      ],
      "execution_count": null,
      "outputs": [
        {
          "output_type": "display_data",
          "data": {
            "text/plain": [
              "0ex [00:00, ?ex/s]"
            ],
            "application/vnd.jupyter.widget-view+json": {
              "version_major": 2,
              "version_minor": 0,
              "model_id": "4dcbd57d2b4a4907871f942f37c01066"
            }
          },
          "metadata": {}
        },
        {
          "output_type": "display_data",
          "data": {
            "text/plain": [
              "0ex [00:00, ?ex/s]"
            ],
            "application/vnd.jupyter.widget-view+json": {
              "version_major": 2,
              "version_minor": 0,
              "model_id": "40b3d563fb274f029f55ccb1fd8006f1"
            }
          },
          "metadata": {}
        }
      ]
    },
    {
      "cell_type": "markdown",
      "metadata": {
        "id": "3ORHDb2Th2TW"
      },
      "source": [
        "In CTC, it is common to classify speech chunks into letters, so we will do the same here. \n",
        "Let's extract all distinct letters of the training and test data and build our vocabulary from this set of letters.\n",
        "\n",
        "We write a mapping function that concatenates all transcriptions into one long transcription and then transforms the string into a set of chars. \n",
        "It is important to pass the argument `batched=True` to the `map(...)` function so that the mapping function has access to all transcriptions at once."
      ]
    },
    {
      "cell_type": "code",
      "metadata": {
        "id": "LwCshNbbeRZR"
      },
      "source": [
        "def extract_all_chars(batch):\n",
        "  all_text = \" \".join(batch[\"sentence\"])\n",
        "  vocab = list(set(all_text))\n",
        "  return {\"vocab\": [vocab], \"all_text\": [all_text]}"
      ],
      "execution_count": null,
      "outputs": []
    },
    {
      "cell_type": "code",
      "metadata": {
        "colab": {
          "base_uri": "https://localhost:8080/",
          "height": 81,
          "referenced_widgets": [
            "ea4232d3821b4257a2350b8bc4926bec",
            "e892b3a0eb4044fd93fc6084e10f3c4a",
            "0e633e232e32443797c47fbf26918bc4",
            "4f214478819f40b297bb91d00d28f5e1",
            "5e3fd9bc041341bab1c74ecab0082c9a",
            "78976642fca94312988b4273f2955cf5",
            "8bde577056ca4896ab024c6b19336abf",
            "193fac3191744cde891c1b88c6bf75ae",
            "161b9b893c9e41b282ecc34bdaa11f1f",
            "5369ea684a004668a75b6c2dd0318647",
            "079f2fb0ecac4091845238e6288c38cd",
            "ab16052f83d74ec5a89acc4b7d839dd9",
            "1c2d2f02fdff4346a40fbd9d65abbcb2",
            "7ae51b03cd0b4e3db6fb226c71964762",
            "23a69deef5d94006b8df7f5d7cbe9be3",
            "0f6f8f70988d444ab1f1c4e46c4ac780",
            "8a8837d872b948ecbc3005f3d2937a74",
            "6569daaaa6a442e191f5b1dc1f73fa98",
            "6070597fe97d4848b586cc73d31e138c",
            "46dec023332a420ead8dadcb20e7171a",
            "344adb150bcd4656b7f00e2f3cb973bd",
            "3dbab76c453b456a9ca0f88f3fe37ba8"
          ]
        },
        "id": "_m6uUjjcfbjH",
        "outputId": "a9eef310-9299-40c7-e167-03403ea0d637"
      },
      "source": [
        "vocab_train = common_voice_train.map(extract_all_chars, batched=True, batch_size=-1, keep_in_memory=True, remove_columns=common_voice_train.column_names)\n",
        "vocab_test = common_voice_test.map(extract_all_chars, batched=True, batch_size=-1, keep_in_memory=True, remove_columns=common_voice_test.column_names)"
      ],
      "execution_count": null,
      "outputs": [
        {
          "output_type": "display_data",
          "data": {
            "text/plain": [
              "  0%|          | 0/1 [00:00<?, ?ba/s]"
            ],
            "application/vnd.jupyter.widget-view+json": {
              "version_major": 2,
              "version_minor": 0,
              "model_id": "ea4232d3821b4257a2350b8bc4926bec"
            }
          },
          "metadata": {}
        },
        {
          "output_type": "display_data",
          "data": {
            "text/plain": [
              "  0%|          | 0/1 [00:00<?, ?ba/s]"
            ],
            "application/vnd.jupyter.widget-view+json": {
              "version_major": 2,
              "version_minor": 0,
              "model_id": "ab16052f83d74ec5a89acc4b7d839dd9"
            }
          },
          "metadata": {}
        }
      ]
    },
    {
      "cell_type": "markdown",
      "metadata": {
        "id": "7oVgE8RZSJNP"
      },
      "source": [
        "Now, we create the union of all distinct letters in the training dataset and test dataset and convert the resulting list into an enumerated dictionary."
      ]
    },
    {
      "cell_type": "code",
      "metadata": {
        "id": "aQfneNsmlJI0"
      },
      "source": [
        "vocab_list = list(set(vocab_train[\"vocab\"][0]) | set(vocab_test[\"vocab\"][0]))\n"
      ],
      "execution_count": null,
      "outputs": []
    },
    {
      "cell_type": "code",
      "metadata": {
        "colab": {
          "base_uri": "https://localhost:8080/"
        },
        "id": "_0kRndSvqaKk",
        "outputId": "7845da38-8f10-4899-99f4-445a79c725ac"
      },
      "source": [
        "vocab_dict = {v: k for k, v in enumerate(sorted(vocab_list))}\n",
        "vocab_dict"
      ],
      "execution_count": null,
      "outputs": [
        {
          "output_type": "execute_result",
          "data": {
            "text/plain": [
              "{' ': 0,\n",
              " 'a': 1,\n",
              " 'b': 2,\n",
              " 'c': 3,\n",
              " 'd': 4,\n",
              " 'e': 5,\n",
              " 'f': 6,\n",
              " 'g': 7,\n",
              " 'h': 8,\n",
              " 'i': 9,\n",
              " 'j': 10,\n",
              " 'k': 11,\n",
              " 'l': 12,\n",
              " 'm': 13,\n",
              " 'n': 14,\n",
              " 'o': 15,\n",
              " 'p': 16,\n",
              " 'q': 17,\n",
              " 'r': 18,\n",
              " 's': 19,\n",
              " 't': 20,\n",
              " 'u': 21,\n",
              " 'v': 22,\n",
              " 'w': 23,\n",
              " 'x': 24,\n",
              " 'y': 25,\n",
              " 'z': 26,\n",
              " 'ç': 27,\n",
              " 'ë': 28,\n",
              " 'ö': 29,\n",
              " 'ü': 30,\n",
              " 'ğ': 31,\n",
              " 'ı': 32,\n",
              " 'ş': 33,\n",
              " '̇': 34}"
            ]
          },
          "metadata": {},
          "execution_count": 37
        }
      ]
    },
    {
      "cell_type": "markdown",
      "metadata": {
        "id": "JOSzbvs9SXT1"
      },
      "source": [
        "Cool, we see that all letters of the alphabet occur in the dataset (which is not really surprising) and we also extracted the special characters `\"\"` and `'`. Note that we did not exclude those special characters because: \n",
        "\n",
        "The model has to learn to predict when a word is finished or else the model prediction would always be a sequence of chars which would make it impossible to separate words from each other.\n",
        "\n",
        "One should always keep in mind that pre-processing is a very important step before training your model. E.g., we don't want our model to differentiate between `a` and `A` just because we forgot to normalize the data. The difference between `a` and `A` does not depend on the \"sound\" of the letter at all, but more on grammatical rules - *e.g.* use a capitalized letter at the beginning of the sentence. So it is sensible to remove the difference between capitalized and non-capitalized letters so that the model has an easier time learning to transcribe speech. "
      ]
    },
    {
      "cell_type": "markdown",
      "metadata": {
        "id": "b1fBRCn-TRaO"
      },
      "source": [
        "To make it clearer that `\" \"` has its own token class, we give it a more visible character `|`. In addition, we also add an \"unknown\" token so that the model can later deal with characters not encountered in Common Voice's training set. "
      ]
    },
    {
      "cell_type": "code",
      "metadata": {
        "id": "npbIbBoLgaFX",
        "colab": {
          "base_uri": "https://localhost:8080/",
          "height": 185
        },
        "outputId": "5d7bef2f-add0-414c-851e-9b1595747957"
      },
      "source": [
        "vocab_dict[\"|\"] = vocab_dict[\" \"]\n",
        "del vocab_dict[\" \"]"
      ],
      "execution_count": null,
      "outputs": [
        {
          "output_type": "error",
          "ename": "KeyError",
          "evalue": "ignored",
          "traceback": [
            "\u001b[0;31m---------------------------------------------------------------------------\u001b[0m",
            "\u001b[0;31mKeyError\u001b[0m                                  Traceback (most recent call last)",
            "\u001b[0;32m<ipython-input-41-ab72c7d00517>\u001b[0m in \u001b[0;36m<module>\u001b[0;34m()\u001b[0m\n\u001b[0;32m----> 1\u001b[0;31m \u001b[0mvocab_dict\u001b[0m\u001b[0;34m[\u001b[0m\u001b[0;34m\"|\"\u001b[0m\u001b[0;34m]\u001b[0m \u001b[0;34m=\u001b[0m \u001b[0mvocab_dict\u001b[0m\u001b[0;34m[\u001b[0m\u001b[0;34m\" \"\u001b[0m\u001b[0;34m]\u001b[0m\u001b[0;34m\u001b[0m\u001b[0;34m\u001b[0m\u001b[0m\n\u001b[0m\u001b[1;32m      2\u001b[0m \u001b[0;32mdel\u001b[0m \u001b[0mvocab_dict\u001b[0m\u001b[0;34m[\u001b[0m\u001b[0;34m\" \"\u001b[0m\u001b[0;34m]\u001b[0m\u001b[0;34m\u001b[0m\u001b[0;34m\u001b[0m\u001b[0m\n",
            "\u001b[0;31mKeyError\u001b[0m: ' '"
          ]
        }
      ]
    },
    {
      "cell_type": "markdown",
      "metadata": {
        "id": "_9yCWg4Sd0cb"
      },
      "source": [
        "Finally, we also add a padding token that corresponds to CTC's \"*blank token*\". The \"blank token\" is a core component of the CTC algorithm. For more information, please take a look at the \"Alignment\" section [here](https://distill.pub/2017/ctc/)."
      ]
    },
    {
      "cell_type": "code",
      "metadata": {
        "colab": {
          "base_uri": "https://localhost:8080/"
        },
        "id": "znF0bNunsjbl",
        "outputId": "402d8c54-922c-4764-9fea-14d589617c7f"
      },
      "source": [
        "vocab_dict[\"[UNK]\"] = len(vocab_dict)\n",
        "vocab_dict[\"[PAD]\"] = len(vocab_dict)\n",
        "len(vocab_dict)"
      ],
      "execution_count": null,
      "outputs": [
        {
          "output_type": "execute_result",
          "data": {
            "text/plain": [
              "37"
            ]
          },
          "metadata": {},
          "execution_count": 40
        }
      ]
    },
    {
      "cell_type": "markdown",
      "metadata": {
        "id": "SFPGfet8U5sL"
      },
      "source": [
        "Cool, now our vocabulary is complete and consists of 39 tokens, which means that the linear layer that we will add on top of the pretrained XLS-R checkpoint will have an output dimension of 39."
      ]
    },
    {
      "cell_type": "markdown",
      "metadata": {
        "id": "1CujRgBNVRaD"
      },
      "source": [
        "Let's now save the vocabulary as a json file."
      ]
    },
    {
      "cell_type": "code",
      "metadata": {
        "id": "ehyUoh9vk191"
      },
      "source": [
        "import json\n",
        "with open('vocab.json', 'w') as vocab_file:\n",
        "    json.dump(vocab_dict, vocab_file)"
      ],
      "execution_count": null,
      "outputs": []
    },
    {
      "cell_type": "markdown",
      "metadata": {
        "id": "SHJDaKlIVVim"
      },
      "source": [
        "In a final step, we use the json file to load the vocabulary into an instance of the `Wav2Vec2CTCTokenizer` class."
      ]
    },
    {
      "cell_type": "code",
      "metadata": {
        "colab": {
          "base_uri": "https://localhost:8080/"
        },
        "id": "xriFGEWQkO4M",
        "outputId": "210c55b2-5f09-42d9-d4e5-d4eb316b6809"
      },
      "source": [
        "from transformers import Wav2Vec2CTCTokenizer\n",
        "\n",
        "tokenizer = Wav2Vec2CTCTokenizer.from_pretrained(\"./\", unk_token=\"[UNK]\", pad_token=\"[PAD]\", word_delimiter_token=\"|\")"
      ],
      "execution_count": null,
      "outputs": [
        {
          "output_type": "stream",
          "name": "stderr",
          "text": [
            "file ./config.json not found\n",
            "Special tokens have been added in the vocabulary, make sure the associated word embeddings are fine-tuned or trained.\n"
          ]
        }
      ]
    },
    {
      "cell_type": "markdown",
      "metadata": {
        "id": "KvL12DrNV4cx"
      },
      "source": [
        "If one wants to re-use the just created tokenizer with the fine-tuned model of this notebook, it is strongly advised to upload the `tokenizer` to the [🤗 Hub](https://huggingface.co/). Let's call the repo to which we will upload the files\n",
        "`\"wav2vec2-large-xlsr-turkish-demo-colab\"`:"
      ]
    },
    {
      "cell_type": "code",
      "metadata": {
        "id": "A1XApZBAF2zr"
      },
      "source": [
        "repo_name = \"wav2vec2-large-xls-r-300m-turkish-colab\""
      ],
      "execution_count": null,
      "outputs": []
    },
    {
      "cell_type": "markdown",
      "metadata": {
        "id": "B1BiezWZF16d"
      },
      "source": [
        "and upload the tokenizer to the [🤗 Hub](https://huggingface.co/)."
      ]
    },
    {
      "cell_type": "code",
      "metadata": {
        "colab": {
          "base_uri": "https://localhost:8080/",
          "height": 229
        },
        "id": "zytE1175GAKM",
        "outputId": "1f84a0fc-78e7-43f5-b107-8fb049a40fe2"
      },
      "source": [
        "tokenizer.push_to_hub(repo_name)"
      ],
      "execution_count": null,
      "outputs": [
        {
          "output_type": "stream",
          "name": "stderr",
          "text": [
            "/usr/local/lib/python3.7/dist-packages/huggingface_hub/utils/_deprecation.py:43: FutureWarning: Pass token='wav2vec2-large-xls-r-300m-turkish-colab' as keyword args. From version 0.7 passing these as positional arguments will result in an error\n",
            "  FutureWarning,\n",
            "/usr/local/lib/python3.7/dist-packages/huggingface_hub/hf_api.py:676: FutureWarning: `create_repo` now takes `token` as an optional positional argument. Be sure to adapt your code!\n",
            "  FutureWarning,\n",
            "Cloning https://huggingface.co/Sohaibsyed/wav2vec2-large-xls-r-300m-turkish-colab into local empty directory.\n",
            "remote: Enforcing permissions...        \n",
            "remote: Allowed refs: all        \n",
            "To https://huggingface.co/Sohaibsyed/wav2vec2-large-xls-r-300m-turkish-colab\n",
            "   c749bab..f1e3986  main -> main\n",
            "\n"
          ]
        },
        {
          "output_type": "execute_result",
          "data": {
            "text/plain": [
              "'https://huggingface.co/Sohaibsyed/wav2vec2-large-xls-r-300m-turkish-colab/commit/f1e3986fc7d86025fa0ffc849e06f21b7f826fb3'"
            ],
            "application/vnd.google.colaboratory.intrinsic+json": {
              "type": "string"
            }
          },
          "metadata": {},
          "execution_count": 45
        }
      ]
    },
    {
      "cell_type": "markdown",
      "metadata": {
        "id": "SwQM8lH_GGuP"
      },
      "source": [
        "Great, you can see the just created repository under `https://huggingface.co/<your-username>/wav2vec2-large-xls-r-300m-tr-colab`"
      ]
    },
    {
      "cell_type": "markdown",
      "metadata": {
        "id": "mYcIiR2FQ96i"
      },
      "source": [
        "### Create `Wav2Vec2FeatureExtractor`"
      ]
    },
    {
      "cell_type": "markdown",
      "metadata": {
        "id": "Y6mDEyW719rx"
      },
      "source": [
        "Speech is a continuous signal and to be treated by computers, it first has to be discretized, which is usually called **sampling**. The sampling rate hereby plays an important role in that it defines how many data points of the speech signal are measured per second. Therefore, sampling with a higher sampling rate results in a better approximation of the *real* speech signal but also necessitates more values per second.\n",
        "\n",
        "A pretrained checkpoint expects its input data to have been sampled more or less from the same distribution as the data it was trained on. The same speech signals sampled at two different rates have a very different distribution, *e.g.*, doubling the sampling rate results in data points being twice as long. Thus, \n",
        "before fine-tuning a pretrained checkpoint of an ASR model, it is crucial to verify that the sampling rate of the data that was used to pretrain the model matches the sampling rate of the dataset used to fine-tune the model.\n",
        "\n",
        "XLS-R was pretrained on audio data of [Babel](http://www.reading.ac.uk/AcaDepts/ll/speechlab/babel/r), \n",
        "[Multilingual LibriSpeech (MLS)](https://huggingface.co/datasets/multilingual_librispeech), [Common Voice](https://huggingface.co/datasets/common_voice), [VoxPopuli](https://arxiv.org/abs/2101.00390), and [VoxLingua107](https://arxiv.org/abs/2011.12998) at a sampling rate of 16kHz. Common Voice, in its original form, has a sampling rate of 48kHz, thus we will have to downsample the fine-tuning data to 16kHz in the following.\n",
        "\n"
      ]
    },
    {
      "cell_type": "markdown",
      "metadata": {
        "id": "KuUbPW7oV-B5"
      },
      "source": [
        "A `Wav2Vec2FeatureExtractor` object requires the following parameters to be instantiated:\n",
        "\n",
        "- `feature_size`: Speech models take a sequence of feature vectors as an input. While the length of this sequence obviously varies, the feature size should not. In the case of Wav2Vec2, the feature size is 1 because the model was trained on the raw speech signal ${}^2$.\n",
        "- `sampling_rate`: The sampling rate at which the model is trained on.\n",
        "- `padding_value`: For batched inference, shorter inputs need to be padded with a specific value\n",
        "- `do_normalize`: Whether the input should be *zero-mean-unit-variance* normalized or not. Usually, speech models perform better when normalizing the input\n",
        "- `return_attention_mask`: Whether the model should make use of an `attention_mask` for batched inference. In general, XLS-R models checkpoints should **always** use the `attention_mask`."
      ]
    },
    {
      "cell_type": "code",
      "metadata": {
        "id": "kAR0-2KLkopp"
      },
      "source": [
        "from transformers import Wav2Vec2FeatureExtractor\n",
        "\n",
        "feature_extractor = Wav2Vec2FeatureExtractor(feature_size=1, sampling_rate=16000, padding_value=0.0, do_normalize=True, return_attention_mask=True)"
      ],
      "execution_count": null,
      "outputs": []
    },
    {
      "cell_type": "markdown",
      "metadata": {
        "id": "qUETetgqYC3W"
      },
      "source": [
        "Great, XLS-R's feature extraction pipeline is thereby fully defined!\n",
        "\n",
        "For improved user-friendliness, the feature extractor and tokenizer are *wrapped* into a single `Wav2Vec2Processor` class so that one only needs a `model` and `processor` object."
      ]
    },
    {
      "cell_type": "code",
      "metadata": {
        "id": "KYZtoW-tlZgl"
      },
      "source": [
        "from transformers import Wav2Vec2Processor\n",
        "\n",
        "processor = Wav2Vec2Processor(feature_extractor=feature_extractor, tokenizer=tokenizer)"
      ],
      "execution_count": null,
      "outputs": []
    },
    {
      "cell_type": "markdown",
      "metadata": {
        "id": "DrKnYuvDIoOO"
      },
      "source": [
        "Next, we can prepare the dataset."
      ]
    },
    {
      "cell_type": "markdown",
      "metadata": {
        "id": "YFmShnl7RE35"
      },
      "source": [
        "### Preprocess Data\n",
        "\n",
        "So far, we have not looked at the actual values of the speech signal but just the transcription. In addition to `sentence`, our datasets include two more column names `path` and `audio`. `path` states the absolute path of the audio file. Let's take a look.\n"
      ]
    },
    {
      "cell_type": "code",
      "metadata": {
        "colab": {
          "base_uri": "https://localhost:8080/",
          "height": 35
        },
        "id": "TTCS7W6XJ9BG",
        "outputId": "cb693206-86c4-49f0-d17c-5f3e7c6de8cb"
      },
      "source": [
        "common_voice_train[0][\"path\"]"
      ],
      "execution_count": null,
      "outputs": [
        {
          "output_type": "execute_result",
          "data": {
            "text/plain": [
              "'common_voice_tr_17346025.mp3'"
            ],
            "application/vnd.google.colaboratory.intrinsic+json": {
              "type": "string"
            }
          },
          "metadata": {},
          "execution_count": 48
        }
      ]
    },
    {
      "cell_type": "markdown",
      "metadata": {
        "id": "T6ndIjHGFp0W"
      },
      "source": [
        "XLS-R expects the input in the format of a 1-dimensional array of 16 kHz. This means that the audio file has to be loaded and resampled.\n",
        "\n",
        " Thankfully, `datasets` does this automatically by calling the other column `audio`. Let try it out. "
      ]
    },
    {
      "cell_type": "code",
      "metadata": {
        "colab": {
          "base_uri": "https://localhost:8080/"
        },
        "id": "qj_z5Zc3GAs9",
        "outputId": "0d78353b-368a-44cd-8641-f11ba9342650"
      },
      "source": [
        "common_voice_train[0][\"audio\"]"
      ],
      "execution_count": null,
      "outputs": [
        {
          "output_type": "execute_result",
          "data": {
            "text/plain": [
              "{'array': array([0.        , 0.        , 0.        , ..., 0.0002867 , 0.00025517,\n",
              "        0.00025791], dtype=float32),\n",
              " 'path': 'cv-corpus-6.1-2020-12-11/tr/clips/common_voice_tr_17346025.mp3',\n",
              " 'sampling_rate': 48000}"
            ]
          },
          "metadata": {},
          "execution_count": 49
        }
      ]
    },
    {
      "cell_type": "markdown",
      "metadata": {
        "id": "WUUTgI1bGHW-"
      },
      "source": [
        "Great, we can see that the audio file has automatically been loaded. This is thanks to the new [`\"Audio\"` feature](https://huggingface.co/docs/datasets/package_reference/main_classes.html?highlight=audio#datasets.Audio) introduced in `datasets == 4.13.3`, which loads and resamples audio files on-the-fly upon calling.\n",
        "\n",
        "In the example above we can see that the audio data is loaded with a sampling rate of 48kHz whereas 16kHz are expected by the model. We can set the audio feature to the correct sampling rate by making use of [`cast_column`](https://huggingface.co/docs/datasets/package_reference/main_classes.html?highlight=cast_column#datasets.DatasetDict.cast_column):"
      ]
    },
    {
      "cell_type": "code",
      "metadata": {
        "id": "rrv65aj7G95i"
      },
      "source": [
        "common_voice_train = common_voice_train.cast_column(\"audio\", Audio(sampling_rate=16_000))\n",
        "common_voice_test = common_voice_test.cast_column(\"audio\", Audio(sampling_rate=16_000))"
      ],
      "execution_count": null,
      "outputs": []
    },
    {
      "cell_type": "markdown",
      "metadata": {
        "id": "PcnO4x-NGBEi"
      },
      "source": [
        "Let's take a look at `\"audio\"` again."
      ]
    },
    {
      "cell_type": "code",
      "metadata": {
        "colab": {
          "base_uri": "https://localhost:8080/"
        },
        "id": "aKtkc1o_HWHC",
        "outputId": "a7089c24-75e9-4236-909e-e12a1354e52f"
      },
      "source": [
        "common_voice_train[0][\"audio\"]"
      ],
      "execution_count": null,
      "outputs": [
        {
          "output_type": "execute_result",
          "data": {
            "text/plain": [
              "{'array': array([0.        , 0.        , 0.        , ..., 0.0001435 , 0.00015033,\n",
              "        0.00028025], dtype=float32),\n",
              " 'path': 'cv-corpus-6.1-2020-12-11/tr/clips/common_voice_tr_17346025.mp3',\n",
              " 'sampling_rate': 16000}"
            ]
          },
          "metadata": {},
          "execution_count": 51
        }
      ]
    },
    {
      "cell_type": "markdown",
      "metadata": {
        "id": "SOckzFd4Mbzq"
      },
      "source": [
        "This seemed to have worked! Let's listen to a couple of audio files to better understand the dataset and verify that the audio was correctly loaded. \n",
        "\n",
        "**Note**: *You can click the following cell a couple of times to listen to different speech samples.*"
      ]
    },
    {
      "cell_type": "code",
      "metadata": {
        "colab": {
          "base_uri": "https://localhost:8080/",
          "height": 79
        },
        "id": "dueM6U7Ev0OA",
        "outputId": "65436ed9-6bd0-4521-e7a4-29f2b8999456"
      },
      "source": [
        "import IPython.display as ipd\n",
        "import numpy as np\n",
        "import random\n",
        "\n",
        "rand_int = random.randint(0, len(common_voice_train)-1)\n",
        "\n",
        "print(common_voice_train[rand_int][\"sentence\"])\n",
        "ipd.Audio(data=common_voice_train[rand_int][\"audio\"][\"array\"], autoplay=True, rate=16000)"
      ],
      "execution_count": null,
      "outputs": [
        {
          "output_type": "stream",
          "name": "stdout",
          "text": [
            "tiranda kaldırımda uyuyan evsiz çocuklar\n"
          ]
        },
        {
          "output_type": "execute_result",
          "data": {
            "text/plain": [
              "<IPython.lib.display.Audio object>"
            ],
            "text/html": [
              "\n",
              "                <audio controls=\"controls\" autoplay=\"autoplay\">\n",
              "                    <source src=\"data:audio/wav;base64,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\" type=\"audio/wav\" />\n",
              "                    Your browser does not support the audio element.\n",
              "                </audio>\n",
              "              "
            ]
          },
          "metadata": {},
          "execution_count": 55
        }
      ]
    },
    {
      "cell_type": "markdown",
      "metadata": {
        "id": "gY8m3vARHYTa"
      },
      "source": [
        "It seems like the data is now correctly loaded and resampled. "
      ]
    },
    {
      "cell_type": "markdown",
      "metadata": {
        "id": "1MaL9J2dNVtG"
      },
      "source": [
        "It can be heard, that the speakers change along with their speaking rate, accent, and background environment, etc. Overall, the recordings sound acceptably clear though, which is to be expected from a crowd-sourced read speech corpus.\n",
        "\n",
        "Let's do a final check that the data is correctly prepared, by printing the shape of the speech input, its transcription, and the corresponding sampling rate.\n",
        "\n",
        "**Note**: *You can click the following cell a couple of times to verify multiple samples.*"
      ]
    },
    {
      "cell_type": "code",
      "metadata": {
        "colab": {
          "base_uri": "https://localhost:8080/"
        },
        "id": "1Po2g7YPuRTx",
        "outputId": "eb6e8df7-3974-42dd-ddc4-7e6238643211"
      },
      "source": [
        "rand_int = random.randint(0, len(common_voice_train)-1)\n",
        "\n",
        "print(\"Target text:\", common_voice_train[rand_int][\"sentence\"])\n",
        "print(\"Input array shape:\", common_voice_train[rand_int][\"audio\"][\"array\"].shape)\n",
        "print(\"Sampling rate:\", common_voice_train[rand_int][\"audio\"][\"sampling_rate\"])"
      ],
      "execution_count": null,
      "outputs": [
        {
          "output_type": "stream",
          "name": "stdout",
          "text": [
            "Target text: i̇skelet iyi korunmuş durumda\n",
            "Input array shape: (52992,)\n",
            "Sampling rate: 16000\n"
          ]
        }
      ]
    },
    {
      "cell_type": "code",
      "source": [
        "common_voice_train[rand_int][\"audio\"]"
      ],
      "metadata": {
        "colab": {
          "base_uri": "https://localhost:8080/"
        },
        "id": "PGcaWk-Pp4Nx",
        "outputId": "5761cb91-1fdc-4d88-8caa-405f8f635231"
      },
      "execution_count": null,
      "outputs": [
        {
          "output_type": "execute_result",
          "data": {
            "text/plain": [
              "{'array': array([ 0.0000000e+00,  0.0000000e+00,  0.0000000e+00, ...,\n",
              "        -3.4421435e-05, -3.4012504e-05, -1.4766302e-05], dtype=float32),\n",
              " 'path': 'cv-corpus-6.1-2020-12-11/tr/clips/common_voice_tr_18341712.mp3',\n",
              " 'sampling_rate': 16000}"
            ]
          },
          "metadata": {},
          "execution_count": 65
        }
      ]
    },
    {
      "cell_type": "markdown",
      "metadata": {
        "id": "M9teZcSwOBJ4"
      },
      "source": [
        "Good! Everything looks fine - the data is a 1-dimensional array, the sampling rate always corresponds to 16kHz, and the target text is normalized."
      ]
    },
    {
      "cell_type": "markdown",
      "metadata": {
        "id": "k3Pbn5WvOYZF"
      },
      "source": [
        "Finally, we can leverage `Wav2Vec2Processor` to process the data to the format expected by `Wav2Vec2ForCTC` for training. To do so let's make use of Dataset's [`map(...)`](https://huggingface.co/docs/datasets/package_reference/main_classes.html?highlight=map#datasets.DatasetDict.map) function.\n",
        "\n",
        "First, we load and resample the audio data, simply by calling `batch[\"audio\"]`.\n",
        "Second, we extract the `input_values` from the loaded audio file. In our case, the `Wav2Vec2Processor` only normalizes the data. For other speech models, however, this step can include more complex feature extraction, such as [Log-Mel feature extraction](https://en.wikipedia.org/wiki/Mel-frequency_cepstrum). \n",
        "Third, we encode the transcriptions to label ids.\n",
        "\n",
        "**Note**: This mapping function is a good example of how the `Wav2Vec2Processor` class should be used. In \"normal\" context, calling `processor(...)` is redirected to `Wav2Vec2FeatureExtractor`'s call method. When wrapping the processor into the `as_target_processor` context, however, the same method is redirected to `Wav2Vec2CTCTokenizer`'s call method.\n",
        "For more information please check the [docs](https://huggingface.co/transformers/master/model_doc/wav2vec2.html#transformers.Wav2Vec2Processor.__call__)."
      ]
    },
    {
      "cell_type": "code",
      "metadata": {
        "id": "eJY7I0XAwe9p"
      },
      "source": [
        "def prepare_dataset(batch):\n",
        "    audio = batch[\"audio\"]\n",
        "\n",
        "    # batched output is \"un-batched\"\n",
        "    batch[\"input_values\"] = processor(audio[\"array\"], sampling_rate=audio[\"sampling_rate\"]).input_values[0]\n",
        "    batch[\"input_length\"] = len(batch[\"input_values\"])\n",
        "    \n",
        "    with processor.as_target_processor():\n",
        "        batch[\"labels\"] = processor(batch[\"sentence\"]).input_ids\n",
        "    return batch"
      ],
      "execution_count": null,
      "outputs": []
    },
    {
      "cell_type": "markdown",
      "metadata": {
        "id": "q6Pg_WR3OGAP"
      },
      "source": [
        "Let's apply the data preparation function to all examples."
      ]
    },
    {
      "cell_type": "code",
      "source": [
        ""
      ],
      "metadata": {
        "id": "rjqJ6V8tstLB"
      },
      "execution_count": null,
      "outputs": []
    },
    {
      "cell_type": "code",
      "metadata": {
        "colab": {
          "base_uri": "https://localhost:8080/",
          "height": 362,
          "referenced_widgets": [
            "88b35f51044c472f8258584282bbf217",
            "676162601e1a40a1a3f77efd8dcd7dbb",
            "79db4ff0fc28449b82937dc61e818530",
            "379f9ec9969f4bae82cc9354b4ac0eca",
            "353c90450dd04d6c9f3b352e697a80a1",
            "71b95a406a2b4a5cbe5275cea026a761",
            "416de04091b14fb1b78464eeb508738e",
            "eabc6106c5a048a1ae4b8eac4d8d2c3a",
            "3fe9dbcd96df4769802b6bd9e2a7370c",
            "ad74280439654ef89ff695e40af80eb2",
            "57eb66f5aa9947739d79ece502e72d2f"
          ]
        },
        "id": "-np9xYK-wl8q",
        "outputId": "23d0b225-828d-4673-b332-e5e26c600617"
      },
      "source": [
        "common_voice_train = common_voice_train.map(prepare_dataset, remove_columns=common_voice_train.column_names)\n",
        "common_voice_test = common_voice_test.map(prepare_dataset, remove_columns=common_voice_test.column_names)"
      ],
      "execution_count": null,
      "outputs": [
        {
          "output_type": "display_data",
          "data": {
            "text/plain": [
              "0ex [00:00, ?ex/s]"
            ],
            "application/vnd.jupyter.widget-view+json": {
              "version_major": 2,
              "version_minor": 0,
              "model_id": "88b35f51044c472f8258584282bbf217"
            }
          },
          "metadata": {}
        },
        {
          "output_type": "error",
          "ename": "KeyError",
          "evalue": "ignored",
          "traceback": [
            "\u001b[0;31m---------------------------------------------------------------------------\u001b[0m",
            "\u001b[0;31mKeyError\u001b[0m                                  Traceback (most recent call last)",
            "\u001b[0;32m<ipython-input-71-2c57e055c70c>\u001b[0m in \u001b[0;36m<module>\u001b[0;34m()\u001b[0m\n\u001b[0;32m----> 1\u001b[0;31m \u001b[0mcommon_voice_train\u001b[0m \u001b[0;34m=\u001b[0m \u001b[0mcommon_voice_train\u001b[0m\u001b[0;34m.\u001b[0m\u001b[0mmap\u001b[0m\u001b[0;34m(\u001b[0m\u001b[0mprepare_dataset\u001b[0m\u001b[0;34m,\u001b[0m \u001b[0mremove_columns\u001b[0m\u001b[0;34m=\u001b[0m\u001b[0mcommon_voice_train\u001b[0m\u001b[0;34m.\u001b[0m\u001b[0mcolumn_names\u001b[0m\u001b[0;34m)\u001b[0m\u001b[0;34m\u001b[0m\u001b[0;34m\u001b[0m\u001b[0m\n\u001b[0m\u001b[1;32m      2\u001b[0m \u001b[0mcommon_voice_test\u001b[0m \u001b[0;34m=\u001b[0m \u001b[0mcommon_voice_test\u001b[0m\u001b[0;34m.\u001b[0m\u001b[0mmap\u001b[0m\u001b[0;34m(\u001b[0m\u001b[0mprepare_dataset\u001b[0m\u001b[0;34m,\u001b[0m \u001b[0mremove_columns\u001b[0m\u001b[0;34m=\u001b[0m\u001b[0mcommon_voice_test\u001b[0m\u001b[0;34m.\u001b[0m\u001b[0mcolumn_names\u001b[0m\u001b[0;34m)\u001b[0m\u001b[0;34m\u001b[0m\u001b[0;34m\u001b[0m\u001b[0m\n",
            "\u001b[0;32m/usr/local/lib/python3.7/dist-packages/datasets/arrow_dataset.py\u001b[0m in \u001b[0;36mmap\u001b[0;34m(self, function, with_indices, with_rank, input_columns, batched, batch_size, drop_last_batch, remove_columns, keep_in_memory, load_from_cache_file, cache_file_name, writer_batch_size, features, disable_nullable, fn_kwargs, num_proc, suffix_template, new_fingerprint, desc)\u001b[0m\n\u001b[1;32m   2118\u001b[0m                 \u001b[0mnew_fingerprint\u001b[0m\u001b[0;34m=\u001b[0m\u001b[0mnew_fingerprint\u001b[0m\u001b[0;34m,\u001b[0m\u001b[0;34m\u001b[0m\u001b[0;34m\u001b[0m\u001b[0m\n\u001b[1;32m   2119\u001b[0m                 \u001b[0mdisable_tqdm\u001b[0m\u001b[0;34m=\u001b[0m\u001b[0mdisable_tqdm\u001b[0m\u001b[0;34m,\u001b[0m\u001b[0;34m\u001b[0m\u001b[0;34m\u001b[0m\u001b[0m\n\u001b[0;32m-> 2120\u001b[0;31m                 \u001b[0mdesc\u001b[0m\u001b[0;34m=\u001b[0m\u001b[0mdesc\u001b[0m\u001b[0;34m,\u001b[0m\u001b[0;34m\u001b[0m\u001b[0;34m\u001b[0m\u001b[0m\n\u001b[0m\u001b[1;32m   2121\u001b[0m             )\n\u001b[1;32m   2122\u001b[0m         \u001b[0;32melse\u001b[0m\u001b[0;34m:\u001b[0m\u001b[0;34m\u001b[0m\u001b[0;34m\u001b[0m\u001b[0m\n",
            "\u001b[0;32m/usr/local/lib/python3.7/dist-packages/datasets/arrow_dataset.py\u001b[0m in \u001b[0;36mwrapper\u001b[0;34m(*args, **kwargs)\u001b[0m\n\u001b[1;32m    516\u001b[0m             \u001b[0mself\u001b[0m\u001b[0;34m:\u001b[0m \u001b[0;34m\"Dataset\"\u001b[0m \u001b[0;34m=\u001b[0m \u001b[0mkwargs\u001b[0m\u001b[0;34m.\u001b[0m\u001b[0mpop\u001b[0m\u001b[0;34m(\u001b[0m\u001b[0;34m\"self\"\u001b[0m\u001b[0;34m)\u001b[0m\u001b[0;34m\u001b[0m\u001b[0;34m\u001b[0m\u001b[0m\n\u001b[1;32m    517\u001b[0m         \u001b[0;31m# apply actual function\u001b[0m\u001b[0;34m\u001b[0m\u001b[0;34m\u001b[0m\u001b[0;34m\u001b[0m\u001b[0m\n\u001b[0;32m--> 518\u001b[0;31m         \u001b[0mout\u001b[0m\u001b[0;34m:\u001b[0m \u001b[0mUnion\u001b[0m\u001b[0;34m[\u001b[0m\u001b[0;34m\"Dataset\"\u001b[0m\u001b[0;34m,\u001b[0m \u001b[0;34m\"DatasetDict\"\u001b[0m\u001b[0;34m]\u001b[0m \u001b[0;34m=\u001b[0m \u001b[0mfunc\u001b[0m\u001b[0;34m(\u001b[0m\u001b[0mself\u001b[0m\u001b[0;34m,\u001b[0m \u001b[0;34m*\u001b[0m\u001b[0margs\u001b[0m\u001b[0;34m,\u001b[0m \u001b[0;34m**\u001b[0m\u001b[0mkwargs\u001b[0m\u001b[0;34m)\u001b[0m\u001b[0;34m\u001b[0m\u001b[0;34m\u001b[0m\u001b[0m\n\u001b[0m\u001b[1;32m    519\u001b[0m         \u001b[0mdatasets\u001b[0m\u001b[0;34m:\u001b[0m \u001b[0mList\u001b[0m\u001b[0;34m[\u001b[0m\u001b[0;34m\"Dataset\"\u001b[0m\u001b[0;34m]\u001b[0m \u001b[0;34m=\u001b[0m \u001b[0mlist\u001b[0m\u001b[0;34m(\u001b[0m\u001b[0mout\u001b[0m\u001b[0;34m.\u001b[0m\u001b[0mvalues\u001b[0m\u001b[0;34m(\u001b[0m\u001b[0;34m)\u001b[0m\u001b[0;34m)\u001b[0m \u001b[0;32mif\u001b[0m \u001b[0misinstance\u001b[0m\u001b[0;34m(\u001b[0m\u001b[0mout\u001b[0m\u001b[0;34m,\u001b[0m \u001b[0mdict\u001b[0m\u001b[0;34m)\u001b[0m \u001b[0;32melse\u001b[0m \u001b[0;34m[\u001b[0m\u001b[0mout\u001b[0m\u001b[0;34m]\u001b[0m\u001b[0;34m\u001b[0m\u001b[0;34m\u001b[0m\u001b[0m\n\u001b[1;32m    520\u001b[0m         \u001b[0;32mfor\u001b[0m \u001b[0mdataset\u001b[0m \u001b[0;32min\u001b[0m \u001b[0mdatasets\u001b[0m\u001b[0;34m:\u001b[0m\u001b[0;34m\u001b[0m\u001b[0;34m\u001b[0m\u001b[0m\n",
            "\u001b[0;32m/usr/local/lib/python3.7/dist-packages/datasets/arrow_dataset.py\u001b[0m in \u001b[0;36mwrapper\u001b[0;34m(*args, **kwargs)\u001b[0m\n\u001b[1;32m    483\u001b[0m         }\n\u001b[1;32m    484\u001b[0m         \u001b[0;31m# apply actual function\u001b[0m\u001b[0;34m\u001b[0m\u001b[0;34m\u001b[0m\u001b[0;34m\u001b[0m\u001b[0m\n\u001b[0;32m--> 485\u001b[0;31m         \u001b[0mout\u001b[0m\u001b[0;34m:\u001b[0m \u001b[0mUnion\u001b[0m\u001b[0;34m[\u001b[0m\u001b[0;34m\"Dataset\"\u001b[0m\u001b[0;34m,\u001b[0m \u001b[0;34m\"DatasetDict\"\u001b[0m\u001b[0;34m]\u001b[0m \u001b[0;34m=\u001b[0m \u001b[0mfunc\u001b[0m\u001b[0;34m(\u001b[0m\u001b[0mself\u001b[0m\u001b[0;34m,\u001b[0m \u001b[0;34m*\u001b[0m\u001b[0margs\u001b[0m\u001b[0;34m,\u001b[0m \u001b[0;34m**\u001b[0m\u001b[0mkwargs\u001b[0m\u001b[0;34m)\u001b[0m\u001b[0;34m\u001b[0m\u001b[0;34m\u001b[0m\u001b[0m\n\u001b[0m\u001b[1;32m    486\u001b[0m         \u001b[0mdatasets\u001b[0m\u001b[0;34m:\u001b[0m \u001b[0mList\u001b[0m\u001b[0;34m[\u001b[0m\u001b[0;34m\"Dataset\"\u001b[0m\u001b[0;34m]\u001b[0m \u001b[0;34m=\u001b[0m \u001b[0mlist\u001b[0m\u001b[0;34m(\u001b[0m\u001b[0mout\u001b[0m\u001b[0;34m.\u001b[0m\u001b[0mvalues\u001b[0m\u001b[0;34m(\u001b[0m\u001b[0;34m)\u001b[0m\u001b[0;34m)\u001b[0m \u001b[0;32mif\u001b[0m \u001b[0misinstance\u001b[0m\u001b[0;34m(\u001b[0m\u001b[0mout\u001b[0m\u001b[0;34m,\u001b[0m \u001b[0mdict\u001b[0m\u001b[0;34m)\u001b[0m \u001b[0;32melse\u001b[0m \u001b[0;34m[\u001b[0m\u001b[0mout\u001b[0m\u001b[0;34m]\u001b[0m\u001b[0;34m\u001b[0m\u001b[0;34m\u001b[0m\u001b[0m\n\u001b[1;32m    487\u001b[0m         \u001b[0;31m# re-apply format to the output\u001b[0m\u001b[0;34m\u001b[0m\u001b[0;34m\u001b[0m\u001b[0;34m\u001b[0m\u001b[0m\n",
            "\u001b[0;32m/usr/local/lib/python3.7/dist-packages/datasets/fingerprint.py\u001b[0m in \u001b[0;36mwrapper\u001b[0;34m(*args, **kwargs)\u001b[0m\n\u001b[1;32m    411\u001b[0m             \u001b[0;31m# Call actual function\u001b[0m\u001b[0;34m\u001b[0m\u001b[0;34m\u001b[0m\u001b[0;34m\u001b[0m\u001b[0m\n\u001b[1;32m    412\u001b[0m \u001b[0;34m\u001b[0m\u001b[0m\n\u001b[0;32m--> 413\u001b[0;31m             \u001b[0mout\u001b[0m \u001b[0;34m=\u001b[0m \u001b[0mfunc\u001b[0m\u001b[0;34m(\u001b[0m\u001b[0mself\u001b[0m\u001b[0;34m,\u001b[0m \u001b[0;34m*\u001b[0m\u001b[0margs\u001b[0m\u001b[0;34m,\u001b[0m \u001b[0;34m**\u001b[0m\u001b[0mkwargs\u001b[0m\u001b[0;34m)\u001b[0m\u001b[0;34m\u001b[0m\u001b[0;34m\u001b[0m\u001b[0m\n\u001b[0m\u001b[1;32m    414\u001b[0m \u001b[0;34m\u001b[0m\u001b[0m\n\u001b[1;32m    415\u001b[0m             \u001b[0;31m# Update fingerprint of in-place transforms + update in-place history of transforms\u001b[0m\u001b[0;34m\u001b[0m\u001b[0;34m\u001b[0m\u001b[0;34m\u001b[0m\u001b[0m\n",
            "\u001b[0;32m/usr/local/lib/python3.7/dist-packages/datasets/arrow_dataset.py\u001b[0m in \u001b[0;36m_map_single\u001b[0;34m(self, function, with_indices, with_rank, input_columns, batched, batch_size, drop_last_batch, remove_columns, keep_in_memory, load_from_cache_file, cache_file_name, writer_batch_size, features, disable_nullable, fn_kwargs, new_fingerprint, rank, offset, disable_tqdm, desc, cache_only)\u001b[0m\n\u001b[1;32m   2458\u001b[0m                 \u001b[0;32mif\u001b[0m \u001b[0;32mnot\u001b[0m \u001b[0mbatched\u001b[0m\u001b[0;34m:\u001b[0m\u001b[0;34m\u001b[0m\u001b[0;34m\u001b[0m\u001b[0m\n\u001b[1;32m   2459\u001b[0m                     \u001b[0;32mfor\u001b[0m \u001b[0mi\u001b[0m\u001b[0;34m,\u001b[0m \u001b[0mexample\u001b[0m \u001b[0;32min\u001b[0m \u001b[0menumerate\u001b[0m\u001b[0;34m(\u001b[0m\u001b[0mpbar\u001b[0m\u001b[0;34m)\u001b[0m\u001b[0;34m:\u001b[0m\u001b[0;34m\u001b[0m\u001b[0;34m\u001b[0m\u001b[0m\n\u001b[0;32m-> 2460\u001b[0;31m                         \u001b[0mexample\u001b[0m \u001b[0;34m=\u001b[0m \u001b[0mapply_function_on_filtered_inputs\u001b[0m\u001b[0;34m(\u001b[0m\u001b[0mexample\u001b[0m\u001b[0;34m,\u001b[0m \u001b[0mi\u001b[0m\u001b[0;34m,\u001b[0m \u001b[0moffset\u001b[0m\u001b[0;34m=\u001b[0m\u001b[0moffset\u001b[0m\u001b[0;34m)\u001b[0m\u001b[0;34m\u001b[0m\u001b[0;34m\u001b[0m\u001b[0m\n\u001b[0m\u001b[1;32m   2461\u001b[0m                         \u001b[0;32mif\u001b[0m \u001b[0mupdate_data\u001b[0m\u001b[0;34m:\u001b[0m\u001b[0;34m\u001b[0m\u001b[0;34m\u001b[0m\u001b[0m\n\u001b[1;32m   2462\u001b[0m                             \u001b[0;32mif\u001b[0m \u001b[0mi\u001b[0m \u001b[0;34m==\u001b[0m \u001b[0;36m0\u001b[0m\u001b[0;34m:\u001b[0m\u001b[0;34m\u001b[0m\u001b[0;34m\u001b[0m\u001b[0m\n",
            "\u001b[0;32m/usr/local/lib/python3.7/dist-packages/datasets/arrow_dataset.py\u001b[0m in \u001b[0;36mapply_function_on_filtered_inputs\u001b[0;34m(inputs, indices, check_same_num_examples, offset)\u001b[0m\n\u001b[1;32m   2365\u001b[0m             \u001b[0;32mif\u001b[0m \u001b[0mwith_rank\u001b[0m\u001b[0;34m:\u001b[0m\u001b[0;34m\u001b[0m\u001b[0;34m\u001b[0m\u001b[0m\n\u001b[1;32m   2366\u001b[0m                 \u001b[0madditional_args\u001b[0m \u001b[0;34m+=\u001b[0m \u001b[0;34m(\u001b[0m\u001b[0mrank\u001b[0m\u001b[0;34m,\u001b[0m\u001b[0;34m)\u001b[0m\u001b[0;34m\u001b[0m\u001b[0;34m\u001b[0m\u001b[0m\n\u001b[0;32m-> 2367\u001b[0;31m             \u001b[0mprocessed_inputs\u001b[0m \u001b[0;34m=\u001b[0m \u001b[0mfunction\u001b[0m\u001b[0;34m(\u001b[0m\u001b[0;34m*\u001b[0m\u001b[0mfn_args\u001b[0m\u001b[0;34m,\u001b[0m \u001b[0;34m*\u001b[0m\u001b[0madditional_args\u001b[0m\u001b[0;34m,\u001b[0m \u001b[0;34m**\u001b[0m\u001b[0mfn_kwargs\u001b[0m\u001b[0;34m)\u001b[0m\u001b[0;34m\u001b[0m\u001b[0;34m\u001b[0m\u001b[0m\n\u001b[0m\u001b[1;32m   2368\u001b[0m             \u001b[0;32mif\u001b[0m \u001b[0mupdate_data\u001b[0m \u001b[0;32mis\u001b[0m \u001b[0;32mNone\u001b[0m\u001b[0;34m:\u001b[0m\u001b[0;34m\u001b[0m\u001b[0;34m\u001b[0m\u001b[0m\n\u001b[1;32m   2369\u001b[0m                 \u001b[0;31m# Check if the function returns updated examples\u001b[0m\u001b[0;34m\u001b[0m\u001b[0;34m\u001b[0m\u001b[0;34m\u001b[0m\u001b[0m\n",
            "\u001b[0;32m/usr/local/lib/python3.7/dist-packages/datasets/arrow_dataset.py\u001b[0m in \u001b[0;36mdecorated\u001b[0;34m(item, *args, **kwargs)\u001b[0m\n\u001b[1;32m   2060\u001b[0m                 )\n\u001b[1;32m   2061\u001b[0m                 \u001b[0;31m# Use the LazyDict internally, while mapping the function\u001b[0m\u001b[0;34m\u001b[0m\u001b[0;34m\u001b[0m\u001b[0;34m\u001b[0m\u001b[0m\n\u001b[0;32m-> 2062\u001b[0;31m                 \u001b[0mresult\u001b[0m \u001b[0;34m=\u001b[0m \u001b[0mf\u001b[0m\u001b[0;34m(\u001b[0m\u001b[0mdecorated_item\u001b[0m\u001b[0;34m,\u001b[0m \u001b[0;34m*\u001b[0m\u001b[0margs\u001b[0m\u001b[0;34m,\u001b[0m \u001b[0;34m**\u001b[0m\u001b[0mkwargs\u001b[0m\u001b[0;34m)\u001b[0m\u001b[0;34m\u001b[0m\u001b[0;34m\u001b[0m\u001b[0m\n\u001b[0m\u001b[1;32m   2063\u001b[0m                 \u001b[0;31m# Return a standard dict\u001b[0m\u001b[0;34m\u001b[0m\u001b[0;34m\u001b[0m\u001b[0;34m\u001b[0m\u001b[0m\n\u001b[1;32m   2064\u001b[0m                 \u001b[0;32mreturn\u001b[0m \u001b[0mresult\u001b[0m\u001b[0;34m.\u001b[0m\u001b[0mdata\u001b[0m \u001b[0;32mif\u001b[0m \u001b[0misinstance\u001b[0m\u001b[0;34m(\u001b[0m\u001b[0mresult\u001b[0m\u001b[0;34m,\u001b[0m \u001b[0mLazyDict\u001b[0m\u001b[0;34m)\u001b[0m \u001b[0;32melse\u001b[0m \u001b[0mresult\u001b[0m\u001b[0;34m\u001b[0m\u001b[0;34m\u001b[0m\u001b[0m\n",
            "\u001b[0;32m<ipython-input-70-32dcb97681e8>\u001b[0m in \u001b[0;36mprepare_dataset\u001b[0;34m(batch)\u001b[0m\n\u001b[1;32m      1\u001b[0m \u001b[0;32mdef\u001b[0m \u001b[0mprepare_dataset\u001b[0m\u001b[0;34m(\u001b[0m\u001b[0mbatch\u001b[0m\u001b[0;34m)\u001b[0m\u001b[0;34m:\u001b[0m\u001b[0;34m\u001b[0m\u001b[0;34m\u001b[0m\u001b[0m\n\u001b[0;32m----> 2\u001b[0;31m     \u001b[0maudio\u001b[0m \u001b[0;34m=\u001b[0m \u001b[0mbatch\u001b[0m\u001b[0;34m[\u001b[0m\u001b[0;34m\"audio\"\u001b[0m\u001b[0;34m]\u001b[0m\u001b[0;34m\u001b[0m\u001b[0;34m\u001b[0m\u001b[0m\n\u001b[0m\u001b[1;32m      3\u001b[0m \u001b[0;34m\u001b[0m\u001b[0m\n\u001b[1;32m      4\u001b[0m     \u001b[0;31m# batched output is \"un-batched\"\u001b[0m\u001b[0;34m\u001b[0m\u001b[0;34m\u001b[0m\u001b[0;34m\u001b[0m\u001b[0m\n\u001b[1;32m      5\u001b[0m     \u001b[0mbatch\u001b[0m\u001b[0;34m[\u001b[0m\u001b[0;34m\"input_values\"\u001b[0m\u001b[0;34m]\u001b[0m \u001b[0;34m=\u001b[0m \u001b[0mprocessor\u001b[0m\u001b[0;34m(\u001b[0m\u001b[0maudio\u001b[0m\u001b[0;34m[\u001b[0m\u001b[0;34m\"array\"\u001b[0m\u001b[0;34m]\u001b[0m\u001b[0;34m,\u001b[0m \u001b[0msampling_rate\u001b[0m\u001b[0;34m=\u001b[0m\u001b[0maudio\u001b[0m\u001b[0;34m[\u001b[0m\u001b[0;34m\"sampling_rate\"\u001b[0m\u001b[0;34m]\u001b[0m\u001b[0;34m)\u001b[0m\u001b[0;34m.\u001b[0m\u001b[0minput_values\u001b[0m\u001b[0;34m[\u001b[0m\u001b[0;36m0\u001b[0m\u001b[0;34m]\u001b[0m\u001b[0;34m\u001b[0m\u001b[0;34m\u001b[0m\u001b[0m\n",
            "\u001b[0;32m/usr/local/lib/python3.7/dist-packages/datasets/arrow_dataset.py\u001b[0m in \u001b[0;36m__getitem__\u001b[0;34m(self, key)\u001b[0m\n\u001b[1;32m    111\u001b[0m \u001b[0;32mclass\u001b[0m \u001b[0mExample\u001b[0m\u001b[0;34m(\u001b[0m\u001b[0mLazyDict\u001b[0m\u001b[0;34m)\u001b[0m\u001b[0;34m:\u001b[0m\u001b[0;34m\u001b[0m\u001b[0;34m\u001b[0m\u001b[0m\n\u001b[1;32m    112\u001b[0m     \u001b[0;32mdef\u001b[0m \u001b[0m__getitem__\u001b[0m\u001b[0;34m(\u001b[0m\u001b[0mself\u001b[0m\u001b[0;34m,\u001b[0m \u001b[0mkey\u001b[0m\u001b[0;34m)\u001b[0m\u001b[0;34m:\u001b[0m\u001b[0;34m\u001b[0m\u001b[0;34m\u001b[0m\u001b[0m\n\u001b[0;32m--> 113\u001b[0;31m         \u001b[0mvalue\u001b[0m \u001b[0;34m=\u001b[0m \u001b[0msuper\u001b[0m\u001b[0;34m(\u001b[0m\u001b[0;34m)\u001b[0m\u001b[0;34m.\u001b[0m\u001b[0m__getitem__\u001b[0m\u001b[0;34m(\u001b[0m\u001b[0mkey\u001b[0m\u001b[0;34m)\u001b[0m\u001b[0;34m\u001b[0m\u001b[0;34m\u001b[0m\u001b[0m\n\u001b[0m\u001b[1;32m    114\u001b[0m         \u001b[0;32mif\u001b[0m \u001b[0mself\u001b[0m\u001b[0;34m.\u001b[0m\u001b[0mfeatures\u001b[0m \u001b[0;32mand\u001b[0m \u001b[0mkey\u001b[0m \u001b[0;32min\u001b[0m \u001b[0mself\u001b[0m\u001b[0;34m.\u001b[0m\u001b[0mfeatures\u001b[0m\u001b[0;34m:\u001b[0m\u001b[0;34m\u001b[0m\u001b[0;34m\u001b[0m\u001b[0m\n\u001b[1;32m    115\u001b[0m             \u001b[0mvalue\u001b[0m \u001b[0;34m=\u001b[0m \u001b[0mdecode_nested_example\u001b[0m\u001b[0;34m(\u001b[0m\u001b[0mself\u001b[0m\u001b[0;34m.\u001b[0m\u001b[0mfeatures\u001b[0m\u001b[0;34m[\u001b[0m\u001b[0mkey\u001b[0m\u001b[0;34m]\u001b[0m\u001b[0;34m,\u001b[0m \u001b[0mvalue\u001b[0m\u001b[0;34m)\u001b[0m \u001b[0;32mif\u001b[0m \u001b[0mvalue\u001b[0m \u001b[0;32mis\u001b[0m \u001b[0;32mnot\u001b[0m \u001b[0;32mNone\u001b[0m \u001b[0;32melse\u001b[0m \u001b[0;32mNone\u001b[0m\u001b[0;34m\u001b[0m\u001b[0;34m\u001b[0m\u001b[0m\n",
            "\u001b[0;32m/usr/lib/python3.7/collections/__init__.py\u001b[0m in \u001b[0;36m__getitem__\u001b[0;34m(self, key)\u001b[0m\n\u001b[1;32m   1025\u001b[0m         \u001b[0;32mif\u001b[0m \u001b[0mhasattr\u001b[0m\u001b[0;34m(\u001b[0m\u001b[0mself\u001b[0m\u001b[0;34m.\u001b[0m\u001b[0m__class__\u001b[0m\u001b[0;34m,\u001b[0m \u001b[0;34m\"__missing__\"\u001b[0m\u001b[0;34m)\u001b[0m\u001b[0;34m:\u001b[0m\u001b[0;34m\u001b[0m\u001b[0;34m\u001b[0m\u001b[0m\n\u001b[1;32m   1026\u001b[0m             \u001b[0;32mreturn\u001b[0m \u001b[0mself\u001b[0m\u001b[0;34m.\u001b[0m\u001b[0m__class__\u001b[0m\u001b[0;34m.\u001b[0m\u001b[0m__missing__\u001b[0m\u001b[0;34m(\u001b[0m\u001b[0mself\u001b[0m\u001b[0;34m,\u001b[0m \u001b[0mkey\u001b[0m\u001b[0;34m)\u001b[0m\u001b[0;34m\u001b[0m\u001b[0;34m\u001b[0m\u001b[0m\n\u001b[0;32m-> 1027\u001b[0;31m         \u001b[0;32mraise\u001b[0m \u001b[0mKeyError\u001b[0m\u001b[0;34m(\u001b[0m\u001b[0mkey\u001b[0m\u001b[0;34m)\u001b[0m\u001b[0;34m\u001b[0m\u001b[0;34m\u001b[0m\u001b[0m\n\u001b[0m\u001b[1;32m   1028\u001b[0m     \u001b[0;32mdef\u001b[0m \u001b[0m__setitem__\u001b[0m\u001b[0;34m(\u001b[0m\u001b[0mself\u001b[0m\u001b[0;34m,\u001b[0m \u001b[0mkey\u001b[0m\u001b[0;34m,\u001b[0m \u001b[0mitem\u001b[0m\u001b[0;34m)\u001b[0m\u001b[0;34m:\u001b[0m \u001b[0mself\u001b[0m\u001b[0;34m.\u001b[0m\u001b[0mdata\u001b[0m\u001b[0;34m[\u001b[0m\u001b[0mkey\u001b[0m\u001b[0;34m]\u001b[0m \u001b[0;34m=\u001b[0m \u001b[0mitem\u001b[0m\u001b[0;34m\u001b[0m\u001b[0;34m\u001b[0m\u001b[0m\n\u001b[1;32m   1029\u001b[0m     \u001b[0;32mdef\u001b[0m \u001b[0m__delitem__\u001b[0m\u001b[0;34m(\u001b[0m\u001b[0mself\u001b[0m\u001b[0;34m,\u001b[0m \u001b[0mkey\u001b[0m\u001b[0;34m)\u001b[0m\u001b[0;34m:\u001b[0m \u001b[0;32mdel\u001b[0m \u001b[0mself\u001b[0m\u001b[0;34m.\u001b[0m\u001b[0mdata\u001b[0m\u001b[0;34m[\u001b[0m\u001b[0mkey\u001b[0m\u001b[0;34m]\u001b[0m\u001b[0;34m\u001b[0m\u001b[0;34m\u001b[0m\u001b[0m\n",
            "\u001b[0;31mKeyError\u001b[0m: 'audio'"
          ]
        }
      ]
    },
    {
      "cell_type": "markdown",
      "metadata": {
        "id": "nKcEWHvKI1by"
      },
      "source": [
        "**Note**: Currently `datasets` make use of [`torchaudio`](https://pytorch.org/audio/stable/index.html) and [`librosa`](https://librosa.org/doc/latest/index.html) for audio loading and resampling. If you wish to implement your own costumized data loading/sampling, feel free to just make use of the `\"path\"` column instead and disregard the `\"audio\"` column."
      ]
    },
    {
      "cell_type": "markdown",
      "metadata": {
        "id": "24CxHd5ewI4T"
      },
      "source": [
        "Long input sequences require a lot of memory. XLS-R is based on `self-attention` the memory requirement scales quadratically with the input length for long input sequences (*cf.* with [this](https://www.reddit.com/r/MachineLearning/comments/genjvb/d_why_is_the_maximum_input_sequence_length_of/) reddit post). In case this demo crashes with an \"Out-of-memory\" error for you, you might want to uncomment the following lines to filter all sequences that are longer than 5 seconds for training."
      ]
    },
    {
      "cell_type": "code",
      "metadata": {
        "id": "tdHfbUJ_09iA"
      },
      "source": [
        "#max_input_length_in_sec = 5.0\n",
        "#common_voice_train = common_voice_train.filter(lambda x: x < max_input_length_in_sec * processor.feature_extractor.sampling_rate, input_columns=[\"input_length\"])"
      ],
      "execution_count": null,
      "outputs": []
    },
    {
      "cell_type": "markdown",
      "metadata": {
        "id": "1ZWDCCKqwcfS"
      },
      "source": [
        "Awesome, now we are ready to start training!"
      ]
    },
    {
      "cell_type": "markdown",
      "metadata": {
        "id": "gYlQkKVoRUos"
      },
      "source": [
        "## Training\n",
        "\n",
        "The data is processed so that we are ready to start setting up the training pipeline. We will make use of 🤗's [Trainer](https://huggingface.co/transformers/master/main_classes/trainer.html?highlight=trainer) for which we essentially need to do the following:\n",
        "\n",
        "- Define a data collator. In contrast to most NLP models, XLS-R has a much larger input length than output length. *E.g.*, a sample of input length 50000 has an output length of no more than 100. Given the large input sizes, it is much more efficient to pad the training batches dynamically meaning that all training samples should only be padded to the longest sample in their batch and not the overall longest sample. Therefore, fine-tuning XLS-R requires a special padding data collator, which we will define below\n",
        "\n",
        "- Evaluation metric. During training, the model should be evaluated on the word error rate. We should define a `compute_metrics` function accordingly\n",
        "\n",
        "- Load a pretrained checkpoint. We need to load a pretrained checkpoint and configure it correctly for training.\n",
        "\n",
        "- Define the training configuration.\n",
        "\n",
        "After having fine-tuned the model, we will correctly evaluate it on the test data and verify that it has indeed learned to correctly transcribe speech."
      ]
    },
    {
      "cell_type": "markdown",
      "metadata": {
        "id": "Slk403unUS91"
      },
      "source": [
        "### Set-up Trainer\n",
        "\n",
        "Let's start by defining the data collator. The code for the data collator was copied from [this example](https://github.com/huggingface/transformers/blob/7e61d56a45c19284cfda0cee8995fb552f6b1f4e/examples/pytorch/speech-recognition/run_speech_recognition_ctc.py#L219).\n",
        "\n",
        "Without going into too many details, in contrast to the common data collators, this data collator treats the `input_values` and `labels` differently and thus applies to separate padding functions on them (again making use of XLS-R processor's context manager). This is necessary because in speech input and output are of different modalities meaning that they should not be treated by the same padding function.\n",
        "Analogous to the common data collators, the padding tokens in the labels with `-100` so that those tokens are **not** taken into account when computing the loss."
      ]
    },
    {
      "cell_type": "code",
      "metadata": {
        "id": "tborvC9hx88e"
      },
      "source": [
        "import torch\n",
        "\n",
        "from dataclasses import dataclass, field\n",
        "from typing import Any, Dict, List, Optional, Union\n",
        "\n",
        "@dataclass\n",
        "class DataCollatorCTCWithPadding:\n",
        "    \"\"\"\n",
        "    Data collator that will dynamically pad the inputs received.\n",
        "    Args:\n",
        "        processor (:class:`~transformers.Wav2Vec2Processor`)\n",
        "            The processor used for proccessing the data.\n",
        "        padding (:obj:`bool`, :obj:`str` or :class:`~transformers.tokenization_utils_base.PaddingStrategy`, `optional`, defaults to :obj:`True`):\n",
        "            Select a strategy to pad the returned sequences (according to the model's padding side and padding index)\n",
        "            among:\n",
        "            * :obj:`True` or :obj:`'longest'`: Pad to the longest sequence in the batch (or no padding if only a single\n",
        "              sequence if provided).\n",
        "            * :obj:`'max_length'`: Pad to a maximum length specified with the argument :obj:`max_length` or to the\n",
        "              maximum acceptable input length for the model if that argument is not provided.\n",
        "            * :obj:`False` or :obj:`'do_not_pad'` (default): No padding (i.e., can output a batch with sequences of\n",
        "              different lengths).\n",
        "    \"\"\"\n",
        "\n",
        "    processor: Wav2Vec2Processor\n",
        "    padding: Union[bool, str] = True\n",
        "\n",
        "    def __call__(self, features: List[Dict[str, Union[List[int], torch.Tensor]]]) -> Dict[str, torch.Tensor]:\n",
        "        # split inputs and labels since they have to be of different lenghts and need\n",
        "        # different padding methods\n",
        "        input_features = [{\"input_values\": feature[\"input_values\"]} for feature in features]\n",
        "        label_features = [{\"input_ids\": feature[\"labels\"]} for feature in features]\n",
        "\n",
        "        batch = self.processor.pad(\n",
        "            input_features,\n",
        "            padding=self.padding,\n",
        "            return_tensors=\"pt\",\n",
        "        )\n",
        "        with self.processor.as_target_processor():\n",
        "            labels_batch = self.processor.pad(\n",
        "                label_features,\n",
        "                padding=self.padding,\n",
        "                return_tensors=\"pt\",\n",
        "            )\n",
        "\n",
        "        # replace padding with -100 to ignore loss correctly\n",
        "        labels = labels_batch[\"input_ids\"].masked_fill(labels_batch.attention_mask.ne(1), -100)\n",
        "\n",
        "        batch[\"labels\"] = labels\n",
        "\n",
        "        return batch"
      ],
      "execution_count": null,
      "outputs": []
    },
    {
      "cell_type": "code",
      "metadata": {
        "id": "lbQf5GuZyQ4_"
      },
      "source": [
        "data_collator = DataCollatorCTCWithPadding(processor=processor, padding=True)"
      ],
      "execution_count": null,
      "outputs": []
    },
    {
      "cell_type": "markdown",
      "metadata": {
        "id": "xO-Zdj-5cxXp"
      },
      "source": [
        "Next, the evaluation metric is defined. As mentioned earlier, the \n",
        "predominant metric in ASR is the word error rate (WER), hence we will use it in this notebook as well."
      ]
    },
    {
      "cell_type": "code",
      "metadata": {
        "colab": {
          "base_uri": "https://localhost:8080/",
          "height": 49,
          "referenced_widgets": [
            "522b8632db564e6e96638c2cb21399ca",
            "43fa56da8e4941cca61bbd5743edb7b6",
            "b2f02690200e41b88f460c7e8ecadf75",
            "f100809acba64ec9bc01ad0b7b424053",
            "84f1384a0b644602aba96bd23f928eea",
            "a8f6fd0be85644198c06348f083e4ffc",
            "c107ee2880dc4d54a5c31ffd77bb6bde",
            "97eabdd99d2348df889ea668d88a690d",
            "321de9c669c343adaf225af24520d655",
            "d124b74879cc4c9fa332f2916b4bbd65",
            "3ddfdd4cd53e49e289ec03670306c76e"
          ]
        },
        "id": "9Xsux2gmyXso",
        "outputId": "ff8ca6da-1a44-4fb4-d111-89909dbc2726"
      },
      "source": [
        "wer_metric = load_metric(\"wer\")"
      ],
      "execution_count": null,
      "outputs": [
        {
          "output_type": "display_data",
          "data": {
            "text/plain": [
              "Downloading:   0%|          | 0.00/1.90k [00:00<?, ?B/s]"
            ],
            "application/vnd.jupyter.widget-view+json": {
              "version_major": 2,
              "version_minor": 0,
              "model_id": "522b8632db564e6e96638c2cb21399ca"
            }
          },
          "metadata": {}
        }
      ]
    },
    {
      "cell_type": "markdown",
      "metadata": {
        "id": "E1qZU5p-deqB"
      },
      "source": [
        "The model will return a sequence of logit vectors:\n",
        "$\\mathbf{y}_1, \\ldots, \\mathbf{y}_m$ with $\\mathbf{y}_1 = f_{\\theta}(x_1, \\ldots, x_n)[0]$ and $n >> m$.\n",
        "\n",
        "A logit vector $\\mathbf{y}_1$ contains the log-odds for each word in the vocabulary we defined earlier, thus $\\text{len}(\\mathbf{y}_i) =$ `config.vocab_size`. We are interested in the most likely prediction of the model and thus take the `argmax(...)` of the logits. Also, we transform the encoded labels back to the original string by replacing `-100` with the `pad_token_id` and decoding the ids while making sure that consecutive tokens are **not** grouped to the same token in CTC style ${}^1$."
      ]
    },
    {
      "cell_type": "code",
      "metadata": {
        "id": "1XZ-kjweyTy_"
      },
      "source": [
        "def compute_metrics(pred):\n",
        "    pred_logits = pred.predictions\n",
        "    pred_ids = np.argmax(pred_logits, axis=-1)\n",
        "\n",
        "    pred.label_ids[pred.label_ids == -100] = processor.tokenizer.pad_token_id\n",
        "\n",
        "    pred_str = processor.batch_decode(pred_ids)\n",
        "    # we do not want to group tokens when computing the metrics\n",
        "    label_str = processor.batch_decode(pred.label_ids, group_tokens=False)\n",
        "\n",
        "    wer = wer_metric.compute(predictions=pred_str, references=label_str)\n",
        "\n",
        "    return {\"wer\": wer}"
      ],
      "execution_count": null,
      "outputs": []
    },
    {
      "cell_type": "markdown",
      "metadata": {
        "id": "Xmgrx4bRwLIH"
      },
      "source": [
        "Now, we can load the pretrained checkpoint of [Wav2Vec2-XLS-R-300M](https://huggingface.co/facebook/wav2vec2-xls-r-300m). The tokenizer's `pad_token_id` must be to define the model's `pad_token_id` or in the case of `Wav2Vec2ForCTC` also CTC's *blank token* ${}^2$. To save GPU memory, we enable PyTorch's [gradient checkpointing](https://pytorch.org/docs/stable/checkpoint.html) and also set the loss reduction to \"*mean*\".\n",
        "\n",
        "Because the dataset is quite small (~6h of training data) and because Common Voice is quite noisy, fine-tuning Facebook's [wav2vec2-xls-r-300m checkpoint](https://huggingface.co/facebook/wav2vec2-xls-r-300m) seems to require some hyper-parameter tuning. Therefore, I had to play around a bit with different values for dropout, [SpecAugment](https://arxiv.org/abs/1904.08779)'s masking dropout rate, layer dropout, and the learning rate until training seemed to be stable enough. \n",
        "\n",
        "**Note**: When using this notebook to train XLS-R on another language of Common Voice those hyper-parameter settings might not work very well. Feel free to adapt those depending on your use case. "
      ]
    },
    {
      "cell_type": "code",
      "metadata": {
        "colab": {
          "base_uri": "https://localhost:8080/",
          "height": 188,
          "referenced_widgets": [
            "98f496ce6beb47808ee0b61172f21e0a",
            "b85d5c65941e426eb3dac400f1200c90",
            "81afcf2d5e4e482f8e6ef71a88c7a83d",
            "0ec3b2ae5a3c4709a615c455b638a462",
            "27ac1c61a4eb480e93324aeeb340debf",
            "c9486672780e46c6abc695a157c2d0bb",
            "1917f6464f3d44bbb56cc8edcf443208",
            "1c8cf1f1c61843288f275cc87e4fc59c",
            "7097c79aa7f64f958bcf8726ecbbbc2c",
            "c197afe24439432dabc23d7f8f315dd6",
            "cd66ee6c13d440a8bb0ec655d3f5bdf5",
            "b9a879d96222485ea810a72e3c05592d",
            "cccce0b911934b2b9f9cec89878a93cb",
            "40e2cd14783545578badfd45b8167ae7",
            "e4b493ccc1934258948bbf35de87780d",
            "0388c150592842e6ae9d67780c8026ca",
            "938cc3b89eba43158d56bda31ed34fa5",
            "ac2fe811f8ff4421bdbcefdee369a7b4",
            "c59017aadf174d1398d0aa440b7842af",
            "be92d49c5fa04ead859ae7e87df20b90",
            "feee6f74d03f4739898c73f2db96bae2",
            "542ef34597e649e7a6f2030b4d1f4632"
          ]
        },
        "id": "e7cqAWIayn6w",
        "outputId": "fa3b9304-e3f3-4084-e89a-ca4bd8485e08"
      },
      "source": [
        "from transformers import Wav2Vec2ForCTC\n",
        "\n",
        "model = Wav2Vec2ForCTC.from_pretrained(\n",
        "    \"facebook/wav2vec2-xls-r-300m\", \n",
        "    attention_dropout=0.0,\n",
        "    hidden_dropout=0.0,\n",
        "    feat_proj_dropout=0.0,\n",
        "    mask_time_prob=0.05,\n",
        "    layerdrop=0.0,\n",
        "    ctc_loss_reduction=\"mean\", \n",
        "    pad_token_id=processor.tokenizer.pad_token_id,\n",
        "    vocab_size=len(processor.tokenizer),\n",
        ")"
      ],
      "execution_count": null,
      "outputs": [
        {
          "output_type": "display_data",
          "data": {
            "text/plain": [
              "Downloading:   0%|          | 0.00/1.53k [00:00<?, ?B/s]"
            ],
            "application/vnd.jupyter.widget-view+json": {
              "version_major": 2,
              "version_minor": 0,
              "model_id": "98f496ce6beb47808ee0b61172f21e0a"
            }
          },
          "metadata": {}
        },
        {
          "output_type": "display_data",
          "data": {
            "text/plain": [
              "Downloading:   0%|          | 0.00/1.18G [00:00<?, ?B/s]"
            ],
            "application/vnd.jupyter.widget-view+json": {
              "version_major": 2,
              "version_minor": 0,
              "model_id": "b9a879d96222485ea810a72e3c05592d"
            }
          },
          "metadata": {}
        },
        {
          "output_type": "stream",
          "name": "stderr",
          "text": [
            "Some weights of the model checkpoint at facebook/wav2vec2-xls-r-300m were not used when initializing Wav2Vec2ForCTC: ['quantizer.weight_proj.bias', 'project_q.bias', 'quantizer.codevectors', 'project_q.weight', 'project_hid.weight', 'quantizer.weight_proj.weight', 'project_hid.bias']\n",
            "- This IS expected if you are initializing Wav2Vec2ForCTC from the checkpoint of a model trained on another task or with another architecture (e.g. initializing a BertForSequenceClassification model from a BertForPreTraining model).\n",
            "- This IS NOT expected if you are initializing Wav2Vec2ForCTC from the checkpoint of a model that you expect to be exactly identical (initializing a BertForSequenceClassification model from a BertForSequenceClassification model).\n",
            "Some weights of Wav2Vec2ForCTC were not initialized from the model checkpoint at facebook/wav2vec2-xls-r-300m and are newly initialized: ['lm_head.weight', 'lm_head.bias']\n",
            "You should probably TRAIN this model on a down-stream task to be able to use it for predictions and inference.\n"
          ]
        }
      ]
    },
    {
      "cell_type": "markdown",
      "metadata": {
        "id": "1DwR3XLSzGDD"
      },
      "source": [
        "The first component of XLS-R consists of a stack of CNN layers that are used to extract acoustically meaningful - but contextually independent - features from the raw speech signal. This part of the model has already been sufficiently trained during pretraining and as stated in the [paper](https://arxiv.org/pdf/2006.13979.pdf) does not need to be fine-tuned anymore. \n",
        "Thus, we can set the `requires_grad` to `False` for all parameters of the *feature extraction* part."
      ]
    },
    {
      "cell_type": "code",
      "metadata": {
        "id": "oGI8zObtZ3V0"
      },
      "source": [
        "model.freeze_feature_extractor()"
      ],
      "execution_count": null,
      "outputs": []
    },
    {
      "cell_type": "markdown",
      "metadata": {
        "id": "lD4aGhQM0K-D"
      },
      "source": [
        "In a final step, we define all parameters related to training. \n",
        "To give more explanation on some of the parameters:\n",
        "- `group_by_length` makes training more efficient by grouping training samples of similar input length into one batch. This can significantly speed up training time by heavily reducing the overall number of useless padding tokens that are passed through the model\n",
        "- `learning_rate` and `weight_decay` were heuristically tuned until fine-tuning has become stable. Note that those parameters strongly depend on the Common Voice dataset and might be suboptimal for other speech datasets.\n",
        "\n",
        "For more explanations on other parameters, one can take a look at the [docs](https://huggingface.co/transformers/master/main_classes/trainer.html?highlight=trainer#trainingarguments).\n",
        "\n",
        "During training, a checkpoint will be uploaded asynchronously to the hub every 400 training steps. It allows you to also play around with the demo widget even while your model is still training.\n",
        "\n",
        "**Note**: If one does not want to upload the model checkpoints to the hub, simply set `push_to_hub=False`."
      ]
    },
    {
      "cell_type": "code",
      "metadata": {
        "id": "KbeKSV7uzGPP"
      },
      "source": [
        "from transformers import TrainingArguments\n",
        "\n",
        "training_args = TrainingArguments(\n",
        "  output_dir=repo_name,\n",
        "  group_by_length=True,\n",
        "  per_device_train_batch_size=16,\n",
        "  gradient_accumulation_steps=2,\n",
        "  evaluation_strategy=\"steps\",\n",
        "  num_train_epochs=30,\n",
        "  gradient_checkpointing=True,\n",
        "  fp16=True,\n",
        "  save_steps=400,\n",
        "  eval_steps=400,\n",
        "  logging_steps=400,\n",
        "  learning_rate=3e-4,\n",
        "  warmup_steps=500,\n",
        "  save_total_limit=2,\n",
        "  push_to_hub=True,\n",
        ")"
      ],
      "execution_count": null,
      "outputs": []
    },
    {
      "cell_type": "markdown",
      "metadata": {
        "id": "OsW-WZcL1ZtN"
      },
      "source": [
        "Now, all instances can be passed to Trainer and we are ready to start training!"
      ]
    },
    {
      "cell_type": "code",
      "metadata": {
        "colab": {
          "base_uri": "https://localhost:8080/"
        },
        "id": "rY7vBmFCPFgC",
        "outputId": "87188b35-32de-4338-92e5-cda70c497949"
      },
      "source": [
        "from transformers import Trainer\n",
        "\n",
        "trainer = Trainer(\n",
        "    model=model,\n",
        "    data_collator=data_collator,\n",
        "    args=training_args,\n",
        "    compute_metrics=compute_metrics,\n",
        "    train_dataset=common_voice_train,\n",
        "    eval_dataset=common_voice_test,\n",
        "    tokenizer=processor.feature_extractor,\n",
        ")"
      ],
      "execution_count": 83,
      "outputs": [
        {
          "output_type": "stream",
          "name": "stderr",
          "text": [
            "/content/wav2vec2-large-xls-r-300m-turkish-colab is already a clone of https://huggingface.co/Sohaibsyed/wav2vec2-large-xls-r-300m-turkish-colab. Make sure you pull the latest changes with `repo.git_pull()`.\n",
            "Using amp fp16 backend\n"
          ]
        }
      ]
    },
    {
      "cell_type": "markdown",
      "metadata": {
        "id": "UoXBx1JAA0DX"
      },
      "source": [
        "\n",
        "\n",
        "---\n",
        "\n",
        "${}^1$ To allow models to become independent of the speaker rate, in CTC, consecutive tokens that are identical are simply grouped as a single token. However, the encoded labels should not be grouped when decoding since they don't correspond to the predicted tokens of the model, which is why the `group_tokens=False` parameter has to be passed. If we wouldn't pass this parameter a word like `\"hello\"` would incorrectly be encoded, and decoded as `\"helo\"`.\n",
        "\n",
        "${}^2$ The blank token allows the model to predict a word, such as `\"hello\"` by forcing it to insert the blank token between the two l's. A CTC-conform prediction of `\"hello\"` of our model would be `[PAD] [PAD] \"h\" \"e\" \"e\" \"l\" \"l\" [PAD] \"l\" \"o\" \"o\" [PAD]`."
      ]
    },
    {
      "cell_type": "markdown",
      "metadata": {
        "id": "rpvZHM1xReIW"
      },
      "source": [
        "### Training"
      ]
    },
    {
      "cell_type": "markdown",
      "metadata": {
        "id": "j-3oKSzZ1hGq"
      },
      "source": [
        "Training will take multiple hours depending on the GPU allocated to this notebook. While the trained model yields somewhat satisfying results on *Common Voice*'s test data of Turkish, it is by no means an optimally fine-tuned model. The purpose of this notebook is just to demonstrate how to fine-tune XLS-R on an ASR dataset.\n",
        "\n",
        "In case you want to use this google colab to fine-tune your model, you should make sure that your training doesn't stop due to inactivity. A simple hack to prevent this is to paste the following code into the console of this tab (*right mouse click -> inspect -> Console tab and insert code*)."
      ]
    },
    {
      "cell_type": "markdown",
      "metadata": {
        "id": "VYYAvgkW4P0m"
      },
      "source": [
        "```javascript\n",
        "function ConnectButton(){\n",
        "    console.log(\"Connect pushed\"); \n",
        "    document.querySelector(\"#top-toolbar > colab-connect-button\").shadowRoot.querySelector(\"#connect\").click() \n",
        "}\n",
        "setInterval(ConnectButton,60000);\n",
        "```"
      ]
    },
    {
      "cell_type": "markdown",
      "metadata": {
        "id": "7bGgLV2r0yvZ"
      },
      "source": [
        "Depending on what GPU was allocated to your google colab it might be possible that you are seeing an `\"out-of-memory\"` error here. In this case, it's probably best to reduce `per_device_train_batch_size` to 8 or even less and increase [`gradient_accumulation`](https://huggingface.co/transformers/master/main_classes/trainer.html#trainingarguments)."
      ]
    },
    {
      "cell_type": "code",
      "metadata": {
        "colab": {
          "base_uri": "https://localhost:8080/",
          "height": 350
        },
        "id": "9fRr9TG5pGBl",
        "outputId": "d43406ca-6675-4029-8e8e-d3915c83b3b2"
      },
      "source": [
        "trainer.train()"
      ],
      "execution_count": null,
      "outputs": [
        {
          "output_type": "stream",
          "name": "stderr",
          "text": [
            "The following columns in the training set  don't have a corresponding argument in `Wav2Vec2ForCTC.forward` and have been ignored: input_length.\n"
          ]
        },
        {
          "output_type": "error",
          "ename": "KeyboardInterrupt",
          "evalue": "ignored",
          "traceback": [
            "\u001b[0;31m---------------------------------------------------------------------------\u001b[0m",
            "\u001b[0;31mKeyboardInterrupt\u001b[0m                         Traceback (most recent call last)",
            "\u001b[0;32m<ipython-input-81-3435b262f1ae>\u001b[0m in \u001b[0;36m<module>\u001b[0;34m()\u001b[0m\n\u001b[0;32m----> 1\u001b[0;31m \u001b[0mtrainer\u001b[0m\u001b[0;34m.\u001b[0m\u001b[0mtrain\u001b[0m\u001b[0;34m(\u001b[0m\u001b[0;34m)\u001b[0m\u001b[0;34m\u001b[0m\u001b[0;34m\u001b[0m\u001b[0m\n\u001b[0m",
            "\u001b[0;32m/usr/local/lib/python3.7/dist-packages/transformers/trainer.py\u001b[0m in \u001b[0;36mtrain\u001b[0;34m(self, resume_from_checkpoint, trial, ignore_keys_for_eval, **kwargs)\u001b[0m\n\u001b[1;32m   1113\u001b[0m \u001b[0;34m\u001b[0m\u001b[0m\n\u001b[1;32m   1114\u001b[0m         \u001b[0;31m# Data loader and number of training steps\u001b[0m\u001b[0;34m\u001b[0m\u001b[0;34m\u001b[0m\u001b[0;34m\u001b[0m\u001b[0m\n\u001b[0;32m-> 1115\u001b[0;31m         \u001b[0mtrain_dataloader\u001b[0m \u001b[0;34m=\u001b[0m \u001b[0mself\u001b[0m\u001b[0;34m.\u001b[0m\u001b[0mget_train_dataloader\u001b[0m\u001b[0;34m(\u001b[0m\u001b[0;34m)\u001b[0m\u001b[0;34m\u001b[0m\u001b[0;34m\u001b[0m\u001b[0m\n\u001b[0m\u001b[1;32m   1116\u001b[0m \u001b[0;34m\u001b[0m\u001b[0m\n\u001b[1;32m   1117\u001b[0m         \u001b[0;31m# Setting up training control variables:\u001b[0m\u001b[0;34m\u001b[0m\u001b[0;34m\u001b[0m\u001b[0;34m\u001b[0m\u001b[0m\n",
            "\u001b[0;32m/usr/local/lib/python3.7/dist-packages/transformers/trainer.py\u001b[0m in \u001b[0;36mget_train_dataloader\u001b[0;34m(self)\u001b[0m\n\u001b[1;32m    649\u001b[0m             )\n\u001b[1;32m    650\u001b[0m \u001b[0;34m\u001b[0m\u001b[0m\n\u001b[0;32m--> 651\u001b[0;31m         \u001b[0mtrain_sampler\u001b[0m \u001b[0;34m=\u001b[0m \u001b[0mself\u001b[0m\u001b[0;34m.\u001b[0m\u001b[0m_get_train_sampler\u001b[0m\u001b[0;34m(\u001b[0m\u001b[0;34m)\u001b[0m\u001b[0;34m\u001b[0m\u001b[0;34m\u001b[0m\u001b[0m\n\u001b[0m\u001b[1;32m    652\u001b[0m \u001b[0;34m\u001b[0m\u001b[0m\n\u001b[1;32m    653\u001b[0m         return DataLoader(\n",
            "\u001b[0;32m/usr/local/lib/python3.7/dist-packages/transformers/trainer.py\u001b[0m in \u001b[0;36m_get_train_sampler\u001b[0;34m(self)\u001b[0m\n\u001b[1;32m    577\u001b[0m                     \u001b[0mlengths\u001b[0m\u001b[0;34m=\u001b[0m\u001b[0mlengths\u001b[0m\u001b[0;34m,\u001b[0m\u001b[0;34m\u001b[0m\u001b[0;34m\u001b[0m\u001b[0m\n\u001b[1;32m    578\u001b[0m                     \u001b[0mmodel_input_name\u001b[0m\u001b[0;34m=\u001b[0m\u001b[0mmodel_input_name\u001b[0m\u001b[0;34m,\u001b[0m\u001b[0;34m\u001b[0m\u001b[0;34m\u001b[0m\u001b[0m\n\u001b[0;32m--> 579\u001b[0;31m                     \u001b[0mgenerator\u001b[0m\u001b[0;34m=\u001b[0m\u001b[0mgenerator\u001b[0m\u001b[0;34m,\u001b[0m\u001b[0;34m\u001b[0m\u001b[0;34m\u001b[0m\u001b[0m\n\u001b[0m\u001b[1;32m    580\u001b[0m                 )\n\u001b[1;32m    581\u001b[0m             \u001b[0;32melse\u001b[0m\u001b[0;34m:\u001b[0m\u001b[0;34m\u001b[0m\u001b[0;34m\u001b[0m\u001b[0m\n",
            "\u001b[0;32m/usr/local/lib/python3.7/dist-packages/transformers/trainer_pt_utils.py\u001b[0m in \u001b[0;36m__init__\u001b[0;34m(self, dataset, batch_size, lengths, model_input_name, generator)\u001b[0m\n\u001b[1;32m    539\u001b[0m                     \u001b[0;34mf\"'{self.model_input_name}' key.\"\u001b[0m\u001b[0;34m\u001b[0m\u001b[0;34m\u001b[0m\u001b[0m\n\u001b[1;32m    540\u001b[0m                 )\n\u001b[0;32m--> 541\u001b[0;31m             \u001b[0mlengths\u001b[0m \u001b[0;34m=\u001b[0m \u001b[0;34m[\u001b[0m\u001b[0mlen\u001b[0m\u001b[0;34m(\u001b[0m\u001b[0mfeature\u001b[0m\u001b[0;34m[\u001b[0m\u001b[0mself\u001b[0m\u001b[0;34m.\u001b[0m\u001b[0mmodel_input_name\u001b[0m\u001b[0;34m]\u001b[0m\u001b[0;34m)\u001b[0m \u001b[0;32mfor\u001b[0m \u001b[0mfeature\u001b[0m \u001b[0;32min\u001b[0m \u001b[0mdataset\u001b[0m\u001b[0;34m]\u001b[0m\u001b[0;34m\u001b[0m\u001b[0;34m\u001b[0m\u001b[0m\n\u001b[0m\u001b[1;32m    542\u001b[0m         \u001b[0mself\u001b[0m\u001b[0;34m.\u001b[0m\u001b[0mlengths\u001b[0m \u001b[0;34m=\u001b[0m \u001b[0mlengths\u001b[0m\u001b[0;34m\u001b[0m\u001b[0;34m\u001b[0m\u001b[0m\n\u001b[1;32m    543\u001b[0m         \u001b[0mself\u001b[0m\u001b[0;34m.\u001b[0m\u001b[0mgenerator\u001b[0m \u001b[0;34m=\u001b[0m \u001b[0mgenerator\u001b[0m\u001b[0;34m\u001b[0m\u001b[0;34m\u001b[0m\u001b[0m\n",
            "\u001b[0;32m/usr/local/lib/python3.7/dist-packages/transformers/trainer_pt_utils.py\u001b[0m in \u001b[0;36m<listcomp>\u001b[0;34m(.0)\u001b[0m\n\u001b[1;32m    539\u001b[0m                     \u001b[0;34mf\"'{self.model_input_name}' key.\"\u001b[0m\u001b[0;34m\u001b[0m\u001b[0;34m\u001b[0m\u001b[0m\n\u001b[1;32m    540\u001b[0m                 )\n\u001b[0;32m--> 541\u001b[0;31m             \u001b[0mlengths\u001b[0m \u001b[0;34m=\u001b[0m \u001b[0;34m[\u001b[0m\u001b[0mlen\u001b[0m\u001b[0;34m(\u001b[0m\u001b[0mfeature\u001b[0m\u001b[0;34m[\u001b[0m\u001b[0mself\u001b[0m\u001b[0;34m.\u001b[0m\u001b[0mmodel_input_name\u001b[0m\u001b[0;34m]\u001b[0m\u001b[0;34m)\u001b[0m \u001b[0;32mfor\u001b[0m \u001b[0mfeature\u001b[0m \u001b[0;32min\u001b[0m \u001b[0mdataset\u001b[0m\u001b[0;34m]\u001b[0m\u001b[0;34m\u001b[0m\u001b[0;34m\u001b[0m\u001b[0m\n\u001b[0m\u001b[1;32m    542\u001b[0m         \u001b[0mself\u001b[0m\u001b[0;34m.\u001b[0m\u001b[0mlengths\u001b[0m \u001b[0;34m=\u001b[0m \u001b[0mlengths\u001b[0m\u001b[0;34m\u001b[0m\u001b[0;34m\u001b[0m\u001b[0m\n\u001b[1;32m    543\u001b[0m         \u001b[0mself\u001b[0m\u001b[0;34m.\u001b[0m\u001b[0mgenerator\u001b[0m \u001b[0;34m=\u001b[0m \u001b[0mgenerator\u001b[0m\u001b[0;34m\u001b[0m\u001b[0;34m\u001b[0m\u001b[0m\n",
            "\u001b[0;32m/usr/local/lib/python3.7/dist-packages/datasets/arrow_dataset.py\u001b[0m in \u001b[0;36m_iter\u001b[0;34m(self, decoded)\u001b[0m\n\u001b[1;32m   1659\u001b[0m             yield self._getitem(\n\u001b[1;32m   1660\u001b[0m                 \u001b[0mindex\u001b[0m\u001b[0;34m,\u001b[0m\u001b[0;34m\u001b[0m\u001b[0;34m\u001b[0m\u001b[0m\n\u001b[0;32m-> 1661\u001b[0;31m                 \u001b[0mdecoded\u001b[0m\u001b[0;34m=\u001b[0m\u001b[0mdecoded\u001b[0m\u001b[0;34m,\u001b[0m\u001b[0;34m\u001b[0m\u001b[0;34m\u001b[0m\u001b[0m\n\u001b[0m\u001b[1;32m   1662\u001b[0m             )\n\u001b[1;32m   1663\u001b[0m \u001b[0;34m\u001b[0m\u001b[0m\n",
            "\u001b[0;32m/usr/local/lib/python3.7/dist-packages/datasets/arrow_dataset.py\u001b[0m in \u001b[0;36m_getitem\u001b[0;34m(self, key, decoded, **kwargs)\u001b[0m\n\u001b[1;32m   1909\u001b[0m         \u001b[0mpa_subtable\u001b[0m \u001b[0;34m=\u001b[0m \u001b[0mquery_table\u001b[0m\u001b[0;34m(\u001b[0m\u001b[0mself\u001b[0m\u001b[0;34m.\u001b[0m\u001b[0m_data\u001b[0m\u001b[0;34m,\u001b[0m \u001b[0mkey\u001b[0m\u001b[0;34m,\u001b[0m \u001b[0mindices\u001b[0m\u001b[0;34m=\u001b[0m\u001b[0mself\u001b[0m\u001b[0;34m.\u001b[0m\u001b[0m_indices\u001b[0m \u001b[0;32mif\u001b[0m \u001b[0mself\u001b[0m\u001b[0;34m.\u001b[0m\u001b[0m_indices\u001b[0m \u001b[0;32mis\u001b[0m \u001b[0;32mnot\u001b[0m \u001b[0;32mNone\u001b[0m \u001b[0;32melse\u001b[0m \u001b[0;32mNone\u001b[0m\u001b[0;34m)\u001b[0m\u001b[0;34m\u001b[0m\u001b[0;34m\u001b[0m\u001b[0m\n\u001b[1;32m   1910\u001b[0m         formatted_output = format_table(\n\u001b[0;32m-> 1911\u001b[0;31m             \u001b[0mpa_subtable\u001b[0m\u001b[0;34m,\u001b[0m \u001b[0mkey\u001b[0m\u001b[0;34m,\u001b[0m \u001b[0mformatter\u001b[0m\u001b[0;34m=\u001b[0m\u001b[0mformatter\u001b[0m\u001b[0;34m,\u001b[0m \u001b[0mformat_columns\u001b[0m\u001b[0;34m=\u001b[0m\u001b[0mformat_columns\u001b[0m\u001b[0;34m,\u001b[0m \u001b[0moutput_all_columns\u001b[0m\u001b[0;34m=\u001b[0m\u001b[0moutput_all_columns\u001b[0m\u001b[0;34m\u001b[0m\u001b[0;34m\u001b[0m\u001b[0m\n\u001b[0m\u001b[1;32m   1912\u001b[0m         )\n\u001b[1;32m   1913\u001b[0m         \u001b[0;32mreturn\u001b[0m \u001b[0mformatted_output\u001b[0m\u001b[0;34m\u001b[0m\u001b[0;34m\u001b[0m\u001b[0m\n",
            "\u001b[0;32m/usr/local/lib/python3.7/dist-packages/datasets/formatting/formatting.py\u001b[0m in \u001b[0;36mformat_table\u001b[0;34m(table, key, formatter, format_columns, output_all_columns)\u001b[0m\n\u001b[1;32m    530\u001b[0m     \u001b[0mpython_formatter\u001b[0m \u001b[0;34m=\u001b[0m \u001b[0mPythonFormatter\u001b[0m\u001b[0;34m(\u001b[0m\u001b[0mfeatures\u001b[0m\u001b[0;34m=\u001b[0m\u001b[0;32mNone\u001b[0m\u001b[0;34m)\u001b[0m\u001b[0;34m\u001b[0m\u001b[0;34m\u001b[0m\u001b[0m\n\u001b[1;32m    531\u001b[0m     \u001b[0;32mif\u001b[0m \u001b[0mformat_columns\u001b[0m \u001b[0;32mis\u001b[0m \u001b[0;32mNone\u001b[0m\u001b[0;34m:\u001b[0m\u001b[0;34m\u001b[0m\u001b[0;34m\u001b[0m\u001b[0m\n\u001b[0;32m--> 532\u001b[0;31m         \u001b[0;32mreturn\u001b[0m \u001b[0mformatter\u001b[0m\u001b[0;34m(\u001b[0m\u001b[0mpa_table\u001b[0m\u001b[0;34m,\u001b[0m \u001b[0mquery_type\u001b[0m\u001b[0;34m=\u001b[0m\u001b[0mquery_type\u001b[0m\u001b[0;34m)\u001b[0m\u001b[0;34m\u001b[0m\u001b[0;34m\u001b[0m\u001b[0m\n\u001b[0m\u001b[1;32m    533\u001b[0m     \u001b[0;32melif\u001b[0m \u001b[0mquery_type\u001b[0m \u001b[0;34m==\u001b[0m \u001b[0;34m\"column\"\u001b[0m\u001b[0;34m:\u001b[0m\u001b[0;34m\u001b[0m\u001b[0;34m\u001b[0m\u001b[0m\n\u001b[1;32m    534\u001b[0m         \u001b[0;32mif\u001b[0m \u001b[0mkey\u001b[0m \u001b[0;32min\u001b[0m \u001b[0mformat_columns\u001b[0m\u001b[0;34m:\u001b[0m\u001b[0;34m\u001b[0m\u001b[0;34m\u001b[0m\u001b[0m\n",
            "\u001b[0;32m/usr/local/lib/python3.7/dist-packages/datasets/formatting/formatting.py\u001b[0m in \u001b[0;36m__call__\u001b[0;34m(self, pa_table, query_type)\u001b[0m\n\u001b[1;32m    279\u001b[0m     \u001b[0;32mdef\u001b[0m \u001b[0m__call__\u001b[0m\u001b[0;34m(\u001b[0m\u001b[0mself\u001b[0m\u001b[0;34m,\u001b[0m \u001b[0mpa_table\u001b[0m\u001b[0;34m:\u001b[0m \u001b[0mpa\u001b[0m\u001b[0;34m.\u001b[0m\u001b[0mTable\u001b[0m\u001b[0;34m,\u001b[0m \u001b[0mquery_type\u001b[0m\u001b[0;34m:\u001b[0m \u001b[0mstr\u001b[0m\u001b[0;34m)\u001b[0m \u001b[0;34m->\u001b[0m \u001b[0mUnion\u001b[0m\u001b[0;34m[\u001b[0m\u001b[0mRowFormat\u001b[0m\u001b[0;34m,\u001b[0m \u001b[0mColumnFormat\u001b[0m\u001b[0;34m,\u001b[0m \u001b[0mBatchFormat\u001b[0m\u001b[0;34m]\u001b[0m\u001b[0;34m:\u001b[0m\u001b[0;34m\u001b[0m\u001b[0;34m\u001b[0m\u001b[0m\n\u001b[1;32m    280\u001b[0m         \u001b[0;32mif\u001b[0m \u001b[0mquery_type\u001b[0m \u001b[0;34m==\u001b[0m \u001b[0;34m\"row\"\u001b[0m\u001b[0;34m:\u001b[0m\u001b[0;34m\u001b[0m\u001b[0;34m\u001b[0m\u001b[0m\n\u001b[0;32m--> 281\u001b[0;31m             \u001b[0;32mreturn\u001b[0m \u001b[0mself\u001b[0m\u001b[0;34m.\u001b[0m\u001b[0mformat_row\u001b[0m\u001b[0;34m(\u001b[0m\u001b[0mpa_table\u001b[0m\u001b[0;34m)\u001b[0m\u001b[0;34m\u001b[0m\u001b[0;34m\u001b[0m\u001b[0m\n\u001b[0m\u001b[1;32m    282\u001b[0m         \u001b[0;32melif\u001b[0m \u001b[0mquery_type\u001b[0m \u001b[0;34m==\u001b[0m \u001b[0;34m\"column\"\u001b[0m\u001b[0;34m:\u001b[0m\u001b[0;34m\u001b[0m\u001b[0;34m\u001b[0m\u001b[0m\n\u001b[1;32m    283\u001b[0m             \u001b[0;32mreturn\u001b[0m \u001b[0mself\u001b[0m\u001b[0;34m.\u001b[0m\u001b[0mformat_column\u001b[0m\u001b[0;34m(\u001b[0m\u001b[0mpa_table\u001b[0m\u001b[0;34m)\u001b[0m\u001b[0;34m\u001b[0m\u001b[0;34m\u001b[0m\u001b[0m\n",
            "\u001b[0;32m/usr/local/lib/python3.7/dist-packages/datasets/formatting/formatting.py\u001b[0m in \u001b[0;36mformat_row\u001b[0;34m(self, pa_table)\u001b[0m\n\u001b[1;32m    308\u001b[0m \u001b[0;32mclass\u001b[0m \u001b[0mPythonFormatter\u001b[0m\u001b[0;34m(\u001b[0m\u001b[0mFormatter\u001b[0m\u001b[0;34m[\u001b[0m\u001b[0mdict\u001b[0m\u001b[0;34m,\u001b[0m \u001b[0mlist\u001b[0m\u001b[0;34m,\u001b[0m \u001b[0mdict\u001b[0m\u001b[0;34m]\u001b[0m\u001b[0;34m)\u001b[0m\u001b[0;34m:\u001b[0m\u001b[0;34m\u001b[0m\u001b[0;34m\u001b[0m\u001b[0m\n\u001b[1;32m    309\u001b[0m     \u001b[0;32mdef\u001b[0m \u001b[0mformat_row\u001b[0m\u001b[0;34m(\u001b[0m\u001b[0mself\u001b[0m\u001b[0;34m,\u001b[0m \u001b[0mpa_table\u001b[0m\u001b[0;34m:\u001b[0m \u001b[0mpa\u001b[0m\u001b[0;34m.\u001b[0m\u001b[0mTable\u001b[0m\u001b[0;34m)\u001b[0m \u001b[0;34m->\u001b[0m \u001b[0mdict\u001b[0m\u001b[0;34m:\u001b[0m\u001b[0;34m\u001b[0m\u001b[0;34m\u001b[0m\u001b[0m\n\u001b[0;32m--> 310\u001b[0;31m         \u001b[0mrow\u001b[0m \u001b[0;34m=\u001b[0m \u001b[0mself\u001b[0m\u001b[0;34m.\u001b[0m\u001b[0mpython_arrow_extractor\u001b[0m\u001b[0;34m(\u001b[0m\u001b[0;34m)\u001b[0m\u001b[0;34m.\u001b[0m\u001b[0mextract_row\u001b[0m\u001b[0;34m(\u001b[0m\u001b[0mpa_table\u001b[0m\u001b[0;34m)\u001b[0m\u001b[0;34m\u001b[0m\u001b[0;34m\u001b[0m\u001b[0m\n\u001b[0m\u001b[1;32m    311\u001b[0m         \u001b[0;32mif\u001b[0m \u001b[0mself\u001b[0m\u001b[0;34m.\u001b[0m\u001b[0mdecoded\u001b[0m\u001b[0;34m:\u001b[0m\u001b[0;34m\u001b[0m\u001b[0;34m\u001b[0m\u001b[0m\n\u001b[1;32m    312\u001b[0m             \u001b[0mrow\u001b[0m \u001b[0;34m=\u001b[0m \u001b[0mself\u001b[0m\u001b[0;34m.\u001b[0m\u001b[0mpython_features_decoder\u001b[0m\u001b[0;34m.\u001b[0m\u001b[0mdecode_row\u001b[0m\u001b[0;34m(\u001b[0m\u001b[0mrow\u001b[0m\u001b[0;34m)\u001b[0m\u001b[0;34m\u001b[0m\u001b[0;34m\u001b[0m\u001b[0m\n",
            "\u001b[0;32m/usr/local/lib/python3.7/dist-packages/datasets/formatting/formatting.py\u001b[0m in \u001b[0;36mextract_row\u001b[0;34m(self, pa_table)\u001b[0m\n\u001b[1;32m    138\u001b[0m \u001b[0;32mclass\u001b[0m \u001b[0mPythonArrowExtractor\u001b[0m\u001b[0;34m(\u001b[0m\u001b[0mBaseArrowExtractor\u001b[0m\u001b[0;34m[\u001b[0m\u001b[0mdict\u001b[0m\u001b[0;34m,\u001b[0m \u001b[0mlist\u001b[0m\u001b[0;34m,\u001b[0m \u001b[0mdict\u001b[0m\u001b[0;34m]\u001b[0m\u001b[0;34m)\u001b[0m\u001b[0;34m:\u001b[0m\u001b[0;34m\u001b[0m\u001b[0;34m\u001b[0m\u001b[0m\n\u001b[1;32m    139\u001b[0m     \u001b[0;32mdef\u001b[0m \u001b[0mextract_row\u001b[0m\u001b[0;34m(\u001b[0m\u001b[0mself\u001b[0m\u001b[0;34m,\u001b[0m \u001b[0mpa_table\u001b[0m\u001b[0;34m:\u001b[0m \u001b[0mpa\u001b[0m\u001b[0;34m.\u001b[0m\u001b[0mTable\u001b[0m\u001b[0;34m)\u001b[0m \u001b[0;34m->\u001b[0m \u001b[0mdict\u001b[0m\u001b[0;34m:\u001b[0m\u001b[0;34m\u001b[0m\u001b[0;34m\u001b[0m\u001b[0m\n\u001b[0;32m--> 140\u001b[0;31m         \u001b[0;32mreturn\u001b[0m \u001b[0m_unnest\u001b[0m\u001b[0;34m(\u001b[0m\u001b[0mpa_table\u001b[0m\u001b[0;34m.\u001b[0m\u001b[0mto_pydict\u001b[0m\u001b[0;34m(\u001b[0m\u001b[0;34m)\u001b[0m\u001b[0;34m)\u001b[0m\u001b[0;34m\u001b[0m\u001b[0;34m\u001b[0m\u001b[0m\n\u001b[0m\u001b[1;32m    141\u001b[0m \u001b[0;34m\u001b[0m\u001b[0m\n\u001b[1;32m    142\u001b[0m     \u001b[0;32mdef\u001b[0m \u001b[0mextract_column\u001b[0m\u001b[0;34m(\u001b[0m\u001b[0mself\u001b[0m\u001b[0;34m,\u001b[0m \u001b[0mpa_table\u001b[0m\u001b[0;34m:\u001b[0m \u001b[0mpa\u001b[0m\u001b[0;34m.\u001b[0m\u001b[0mTable\u001b[0m\u001b[0;34m)\u001b[0m \u001b[0;34m->\u001b[0m \u001b[0mlist\u001b[0m\u001b[0;34m:\u001b[0m\u001b[0;34m\u001b[0m\u001b[0;34m\u001b[0m\u001b[0m\n",
            "\u001b[0;31mKeyboardInterrupt\u001b[0m: "
          ]
        }
      ]
    },
    {
      "cell_type": "markdown",
      "metadata": {
        "id": "a9q4mgMZplr_"
      },
      "source": [
        "The training loss and validation WER go down nicely."
      ]
    },
    {
      "cell_type": "markdown",
      "metadata": {
        "id": "4Ya7WEy0pd13"
      },
      "source": [
        "You can now upload the result of the training to the 🤗 Hub, just execute this instruction:"
      ]
    },
    {
      "cell_type": "code",
      "metadata": {
        "colab": {
          "background_save": true,
          "referenced_widgets": [
            "2d2f71d2c70d466cb9a0d3317fb3095e",
            "2e894a5b95cb489db8b27c6617fd9533"
          ]
        },
        "id": "ArG1Thf6NBWm",
        "outputId": "62ef1c3d-786c-4e25-f9c5-4020e71aa298"
      },
      "source": [
        "trainer.push_to_hub()"
      ],
      "execution_count": null,
      "outputs": [
        {
          "name": "stderr",
          "output_type": "stream",
          "text": [
            "Saving model checkpoint to wav2vec2-large-xls-r-300m-turkish-colab\n",
            "Configuration saved in wav2vec2-large-xls-r-300m-turkish-colab/config.json\n",
            "Model weights saved in wav2vec2-large-xls-r-300m-turkish-colab/pytorch_model.bin\n",
            "Configuration saved in wav2vec2-large-xls-r-300m-turkish-colab/preprocessor_config.json\n",
            "Several commits (2) will be pushed upstream.\n",
            "The progress bars may be unreliable.\n"
          ]
        },
        {
          "data": {
            "application/vnd.jupyter.widget-view+json": {
              "model_id": "2d2f71d2c70d466cb9a0d3317fb3095e",
              "version_major": 2,
              "version_minor": 0
            },
            "text/plain": [
              "Upload file pytorch_model.bin:   0%|          | 3.35k/1.18G [00:00<?, ?B/s]"
            ]
          },
          "metadata": {},
          "output_type": "display_data"
        },
        {
          "data": {
            "application/vnd.jupyter.widget-view+json": {
              "model_id": "2e894a5b95cb489db8b27c6617fd9533",
              "version_major": 2,
              "version_minor": 0
            },
            "text/plain": [
              "Upload file runs/Nov12_14-33-48_c2d4142f9305/events.out.tfevents.1636727730.c2d4142f9305.1468.0:  41%|####1   …"
            ]
          },
          "metadata": {},
          "output_type": "display_data"
        },
        {
          "name": "stderr",
          "output_type": "stream",
          "text": [
            "To https://huggingface.co/patrickvonplaten/wav2vec2-large-xls-r-300m-turkish-colab\n",
            "   56ebe74..fe76946  main -> main\n",
            "\n",
            "Dropping the following result as it does not have all the necessary field:\n",
            "{'dataset': {'name': 'common_voice', 'type': 'common_voice', 'args': 'tr'}}\n",
            "To https://huggingface.co/patrickvonplaten/wav2vec2-large-xls-r-300m-turkish-colab\n",
            "   fe76946..5f0d67b  main -> main\n",
            "\n"
          ]
        },
        {
          "data": {
            "application/vnd.google.colaboratory.intrinsic+json": {
              "type": "string"
            },
            "text/plain": [
              "'https://huggingface.co/patrickvonplaten/wav2vec2-large-xls-r-300m-turkish-colab/commit/fe769461e4e2fb9534740e6c278a0cfabf268474'"
            ]
          },
          "execution_count": null,
          "metadata": {},
          "output_type": "execute_result"
        }
      ]
    },
    {
      "cell_type": "markdown",
      "metadata": {
        "id": "RHIVc44_fY2N"
      },
      "source": [
        "You can now share this model with all your friends, family, favorite pets: they can all load it with the identifier \"your-username/the-name-you-picked\" so for instance:"
      ]
    },
    {
      "cell_type": "markdown",
      "metadata": {
        "id": "5lWWIKyBpx1h"
      },
      "source": [
        "```python\n",
        "from transformers import AutoModelForCTC, Wav2Vec2Processor\n",
        "\n",
        "model = AutoModelForCTC.from_pretrained(\"patrickvonplaten/wav2vec2-large-xls-r-300m-tr-colab\")\n",
        "processor = Wav2Vec2Processor.from_pretrained(\"patrickvonplaten/wav2vec2-large-xls-r-300m-tr-colab\")\n",
        "```"
      ]
    },
    {
      "cell_type": "markdown",
      "metadata": {
        "id": "pmi1cX0fRBit"
      },
      "source": [
        "For more examples of how XLS-R can be fine-tuned, please take a look at the [official speech recognition examples](https://github.com/huggingface/transformers/tree/master/examples/pytorch/speech-recognition#examples)."
      ]
    },
    {
      "cell_type": "markdown",
      "metadata": {
        "id": "L8b8Qkoy3KyS"
      },
      "source": [
        "### Evaluation\n",
        "\n",
        "As a final check, let's load the model and verify that it indeed has learned to transcribe Turkish speech.\n",
        "\n",
        "Let's first load the pretrained checkpoint."
      ]
    },
    {
      "cell_type": "code",
      "metadata": {
        "colab": {
          "background_save": true
        },
        "id": "R351I9IQp_9D",
        "outputId": "f2a2ee99-7db6-4962-e140-0107054102d3"
      },
      "source": [
        "model = Wav2Vec2ForCTC.from_pretrained(repo_name).to(\"cuda\")\n",
        "processor = Wav2Vec2Processor.from_pretrained(repo_name)"
      ],
      "execution_count": null,
      "outputs": [
        {
          "name": "stderr",
          "output_type": "stream",
          "text": [
            "loading configuration file wav2vec2-large-xls-r-300m-turkish-colab/config.json\n",
            "Model config Wav2Vec2Config {\n",
            "  \"_name_or_path\": \"facebook/wav2vec2-xls-r-300m\",\n",
            "  \"activation_dropout\": 0.0,\n",
            "  \"apply_spec_augment\": true,\n",
            "  \"architectures\": [\n",
            "    \"Wav2Vec2ForCTC\"\n",
            "  ],\n",
            "  \"attention_dropout\": 0.0,\n",
            "  \"bos_token_id\": 1,\n",
            "  \"classifier_proj_size\": 256,\n",
            "  \"codevector_dim\": 768,\n",
            "  \"contrastive_logits_temperature\": 0.1,\n",
            "  \"conv_bias\": true,\n",
            "  \"conv_dim\": [\n",
            "    512,\n",
            "    512,\n",
            "    512,\n",
            "    512,\n",
            "    512,\n",
            "    512,\n",
            "    512\n",
            "  ],\n",
            "  \"conv_kernel\": [\n",
            "    10,\n",
            "    3,\n",
            "    3,\n",
            "    3,\n",
            "    3,\n",
            "    2,\n",
            "    2\n",
            "  ],\n",
            "  \"conv_stride\": [\n",
            "    5,\n",
            "    2,\n",
            "    2,\n",
            "    2,\n",
            "    2,\n",
            "    2,\n",
            "    2\n",
            "  ],\n",
            "  \"ctc_loss_reduction\": \"mean\",\n",
            "  \"ctc_zero_infinity\": false,\n",
            "  \"diversity_loss_weight\": 0.1,\n",
            "  \"do_stable_layer_norm\": true,\n",
            "  \"eos_token_id\": 2,\n",
            "  \"feat_extract_activation\": \"gelu\",\n",
            "  \"feat_extract_dropout\": 0.0,\n",
            "  \"feat_extract_norm\": \"layer\",\n",
            "  \"feat_proj_dropout\": 0.0,\n",
            "  \"feat_quantizer_dropout\": 0.0,\n",
            "  \"final_dropout\": 0.0,\n",
            "  \"gradient_checkpointing\": false,\n",
            "  \"hidden_act\": \"gelu\",\n",
            "  \"hidden_dropout\": 0.0,\n",
            "  \"hidden_size\": 1024,\n",
            "  \"initializer_range\": 0.02,\n",
            "  \"intermediate_size\": 4096,\n",
            "  \"layer_norm_eps\": 1e-05,\n",
            "  \"layerdrop\": 0.0,\n",
            "  \"mask_feature_length\": 10,\n",
            "  \"mask_feature_prob\": 0.0,\n",
            "  \"mask_time_length\": 10,\n",
            "  \"mask_time_prob\": 0.05,\n",
            "  \"model_type\": \"wav2vec2\",\n",
            "  \"num_attention_heads\": 16,\n",
            "  \"num_codevector_groups\": 2,\n",
            "  \"num_codevectors_per_group\": 320,\n",
            "  \"num_conv_pos_embedding_groups\": 16,\n",
            "  \"num_conv_pos_embeddings\": 128,\n",
            "  \"num_feat_extract_layers\": 7,\n",
            "  \"num_hidden_layers\": 24,\n",
            "  \"num_negatives\": 100,\n",
            "  \"pad_token_id\": 36,\n",
            "  \"proj_codevector_dim\": 768,\n",
            "  \"torch_dtype\": \"float32\",\n",
            "  \"transformers_version\": \"4.11.3\",\n",
            "  \"use_weighted_layer_sum\": false,\n",
            "  \"vocab_size\": 39\n",
            "}\n",
            "\n",
            "loading weights file wav2vec2-large-xls-r-300m-turkish-colab/pytorch_model.bin\n",
            "All model checkpoint weights were used when initializing Wav2Vec2ForCTC.\n",
            "\n",
            "All the weights of Wav2Vec2ForCTC were initialized from the model checkpoint at wav2vec2-large-xls-r-300m-turkish-colab.\n",
            "If your task is similar to the task the model of the checkpoint was trained on, you can already use Wav2Vec2ForCTC for predictions without further training.\n",
            "loading feature extractor configuration file wav2vec2-large-xls-r-300m-turkish-colab/preprocessor_config.json\n",
            "Feature extractor Wav2Vec2FeatureExtractor {\n",
            "  \"do_normalize\": true,\n",
            "  \"feature_extractor_type\": \"Wav2Vec2FeatureExtractor\",\n",
            "  \"feature_size\": 1,\n",
            "  \"padding_side\": \"right\",\n",
            "  \"padding_value\": 0.0,\n",
            "  \"return_attention_mask\": true,\n",
            "  \"sampling_rate\": 16000\n",
            "}\n",
            "\n",
            "Didn't find file wav2vec2-large-xls-r-300m-turkish-colab/tokenizer.json. We won't load it.\n",
            "loading file wav2vec2-large-xls-r-300m-turkish-colab/vocab.json\n",
            "loading file wav2vec2-large-xls-r-300m-turkish-colab/tokenizer_config.json\n",
            "loading file wav2vec2-large-xls-r-300m-turkish-colab/added_tokens.json\n",
            "loading file wav2vec2-large-xls-r-300m-turkish-colab/special_tokens_map.json\n",
            "loading file None\n",
            "Adding <s> to the vocabulary\n",
            "Adding </s> to the vocabulary\n"
          ]
        }
      ]
    },
    {
      "cell_type": "markdown",
      "metadata": {
        "id": "jD7TZ1YS3S_K"
      },
      "source": [
        "\n",
        "Now, we will just take the first example of the test set, run it through the model and take the `argmax(...)` of the logits to retrieve the predicted token ids."
      ]
    },
    {
      "cell_type": "code",
      "metadata": {
        "colab": {
          "background_save": true
        },
        "id": "pax07TnL3WZn",
        "outputId": "867787ff-0cb7-41e9-f926-96f7b53e7134"
      },
      "source": [
        "input_dict = processor(common_voice_test[0][\"input_values\"], return_tensors=\"pt\", padding=True)\n",
        "\n",
        "logits = model(input_dict.input_values.to(\"cuda\")).logits\n",
        "\n",
        "pred_ids = torch.argmax(logits, dim=-1)[0]"
      ],
      "execution_count": null,
      "outputs": [
        {
          "name": "stderr",
          "output_type": "stream",
          "text": [
            "It is strongly recommended to pass the ``sampling_rate`` argument to this function.Failing to do so can result in silent errors that might be hard to debug.\n"
          ]
        }
      ]
    },
    {
      "cell_type": "markdown",
      "metadata": {
        "id": "7nkzSQu53Zs2"
      },
      "source": [
        "We adapted `common_voice_test` quite a bit so that the dataset instance does not contain the original sentence label anymore. Thus, we re-use the original dataset to get the label of the first example."
      ]
    },
    {
      "cell_type": "code",
      "metadata": {
        "colab": {
          "background_save": true,
          "referenced_widgets": [
            "54097a6c744849128d7cc3da8aad6609",
            "b8827ecbec9e44f09216f62c1ee12840",
            "8728bb32478240b7abe576375b01e640",
            "19b8a530352a423794395979e6415bea",
            "5fc8ec04870e4bb7b63b20844c355ab6"
          ]
        },
        "id": "fe2AE-2xqKHx",
        "outputId": "1d8321b3-4f41-4d71-e74e-f33f32a7b261"
      },
      "source": [
        "common_voice_test_transcription = load_dataset(\"common_voice\", \"tr\", data_dir=\"./cv-corpus-6.1-2020-12-11\", split=\"test\")"
      ],
      "execution_count": null,
      "outputs": [
        {
          "name": "stderr",
          "output_type": "stream",
          "text": [
            "Using custom data configuration tr-ad9f7b76efa9f3a0\n"
          ]
        },
        {
          "name": "stdout",
          "output_type": "stream",
          "text": [
            "Downloading and preparing dataset common_voice/tr (download: 592.09 MiB, generated: 2.89 MiB, post-processed: Unknown size, total: 594.98 MiB) to /root/.cache/huggingface/datasets/common_voice/tr-ad9f7b76efa9f3a0/6.1.0/f7a9d973839b7706e9e281c19b7e512f31badf3c0fdbd21c671f3c4bf9acf3b9...\n"
          ]
        },
        {
          "data": {
            "application/vnd.jupyter.widget-view+json": {
              "model_id": "54097a6c744849128d7cc3da8aad6609",
              "version_major": 2,
              "version_minor": 0
            },
            "text/plain": [
              "0 examples [00:00, ? examples/s]"
            ]
          },
          "metadata": {},
          "output_type": "display_data"
        },
        {
          "data": {
            "application/vnd.jupyter.widget-view+json": {
              "model_id": "b8827ecbec9e44f09216f62c1ee12840",
              "version_major": 2,
              "version_minor": 0
            },
            "text/plain": [
              "0 examples [00:00, ? examples/s]"
            ]
          },
          "metadata": {},
          "output_type": "display_data"
        },
        {
          "data": {
            "application/vnd.jupyter.widget-view+json": {
              "model_id": "8728bb32478240b7abe576375b01e640",
              "version_major": 2,
              "version_minor": 0
            },
            "text/plain": [
              "0 examples [00:00, ? examples/s]"
            ]
          },
          "metadata": {},
          "output_type": "display_data"
        },
        {
          "data": {
            "application/vnd.jupyter.widget-view+json": {
              "model_id": "19b8a530352a423794395979e6415bea",
              "version_major": 2,
              "version_minor": 0
            },
            "text/plain": [
              "0 examples [00:00, ? examples/s]"
            ]
          },
          "metadata": {},
          "output_type": "display_data"
        },
        {
          "data": {
            "application/vnd.jupyter.widget-view+json": {
              "model_id": "5fc8ec04870e4bb7b63b20844c355ab6",
              "version_major": 2,
              "version_minor": 0
            },
            "text/plain": [
              "0 examples [00:00, ? examples/s]"
            ]
          },
          "metadata": {},
          "output_type": "display_data"
        },
        {
          "name": "stdout",
          "output_type": "stream",
          "text": [
            "Dataset common_voice downloaded and prepared to /root/.cache/huggingface/datasets/common_voice/tr-ad9f7b76efa9f3a0/6.1.0/f7a9d973839b7706e9e281c19b7e512f31badf3c0fdbd21c671f3c4bf9acf3b9. Subsequent calls will reuse this data.\n"
          ]
        }
      ]
    },
    {
      "cell_type": "markdown",
      "metadata": {
        "id": "epu8kCQZ3h70"
      },
      "source": [
        "\n",
        "Finally, we can decode the example."
      ]
    },
    {
      "cell_type": "code",
      "metadata": {
        "colab": {
          "background_save": true
        },
        "id": "K4xWqmk_qMn0",
        "outputId": "d9e40b3c-f02a-48a1-d081-6d7e8b37dcaf"
      },
      "source": [
        "print(\"Prediction:\")\n",
        "print(processor.decode(pred_ids))\n",
        "\n",
        "print(\"\\nReference:\")\n",
        "print(common_voice_test_transcription[0][\"sentence\"].lower())"
      ],
      "execution_count": null,
      "outputs": [
        {
          "name": "stdout",
          "output_type": "stream",
          "text": [
            "Prediction:\n",
            "ha ta küçük şeyleri için bir büyük biş şeylir koğoluyor ve yeneküçük şeyler için bir birmizi incilkiyoruz\n",
            "\n",
            "Reference:\n",
            "hayatta küçük şeyleri kovalıyor ve yine küçük şeyler için birbirimizi incitiyoruz.\n"
          ]
        }
      ]
    },
    {
      "cell_type": "markdown",
      "metadata": {
        "id": "HwhyoMml3oOT"
      },
      "source": [
        "Alright! The transcription can definitely be recognized from our prediction, but it is not perfect yet. Training the model a bit longer, spending more time on the data preprocessing, and especially using a language model for decoding would certainly improve the model's overall performance.\n",
        "\n",
        "For a demonstration model on a low-resource language, the results are quite acceptable however 🤗."
      ]
    }
  ]
}